{
 "cells": [
  {
   "cell_type": "markdown",
   "metadata": {
    "id": "CDnayQkt-Vw5"
   },
   "source": [
    "# Homework 2: Linear Regression\n",
    "by Yousif Khaireddin and Sadie Allen\n",
    "\n",
    "**Due date**: February 17, Wednesday by 11:59pm\n"
   ]
  },
  {
   "cell_type": "markdown",
   "metadata": {
    "id": "DbDOBnxLIf4N"
   },
   "source": [
    "## **Question 1:** Ridge regression derivation"
   ]
  },
  {
   "cell_type": "markdown",
   "metadata": {
    "id": "74JIPHp5JiGb"
   },
   "source": [
    "**Throughout the following, please adhere to the following definitions**\n",
    "\n",
    "$\n",
    "n = number\\ of\\ samples \\\\\n",
    "d = number\\ of\\ features \\\\\n",
    "$\n",
    "\n",
    "$\n",
    "X = samples \\in \\mathcal{R}^{n x d}\\\\\n",
    "y = labels \\in \\mathcal{R}^n \\\\\n",
    "w = weight\\ matrix \\in \\mathcal{R}^d\n",
    "$"
   ]
  },
  {
   "cell_type": "markdown",
   "metadata": {
    "id": "-IzsMMniH2z4"
   },
   "source": [
    "In class, we have derived the closed form solution for OLS Regression. \n",
    "\n",
    "$\n",
    "loss = \\sum_{i=0}^{n}||y_i - \\sum_{j=0}^{d}x_{ij}w_j||^2 = (\\textbf{y} - \\textbf{Xw})^T (\\textbf{y} - \\textbf{Xw})\n",
    "$\n",
    "<br>\n",
    "\n",
    "\n",
    "The optimal value for the parameter $\\textbf{w}$ is given by\n",
    "\n",
    "$\n",
    "\\textbf{w*} = (\\textbf{X}^T \\textbf{X})^{-1}\\ \\textbf{X}^T \\textbf{y} \\\\\n",
    "$\n",
    "\n",
    "To control the variance of the parameters and avoid them growing to infinity and help with overfitting, ridge regression tries to regularize the loss fuction using w, shown below:\n",
    "<br><br>\n",
    "\n",
    "\n",
    "$\n",
    "loss = (\\textbf{y} - \\textbf{Xw})^T (\\textbf{y} - \\textbf{Xw} ) + \\lambda ||\\textbf{w}||^2_2\n",
    "$\n",
    "<br><br>\n",
    "\n",
    "\n",
    "The degree to which this regularization impacts the loss function is controlled by the $\\lambda$ parameter. This is a hyper-parameter which must be tuned using a validation set.\n",
    "\n",
    "<br>\n",
    "\n",
    "\n",
    "Derive the closed form solution of ridge regression using the same workflow used in class to derive OLS.\n",
    "\n",
    "**Hint:** You are trying to minimize the loss w.r.t. to $w$   \n"
   ]
  },
  {
   "cell_type": "markdown",
   "metadata": {
    "id": "20PBq4H_Anp9"
   },
   "source": [
    "**Answer:**\n",
    "L=$\\sum_{i=1}^{n}((Yi-w^tX)^2+\\lambda w^tw)$\n",
    "\n",
    "$\\nabla L = \\sum_{i=1}^{n} \\nabla((Yi-w^tX)^2+\\lambda w^tw) $\n",
    "\n",
    "$0 =\\sum_{i=1}^{n}[ 2(Yi-w^tX)X^T + 2\\lambda w^t]$\n",
    "\n",
    "$0 =2\\sum_{i=1}^{n} [(Yi-w^tX)X^T + \\lambda w^t]$\n",
    "\n",
    "$0 =\\sum_{i=1}^{n} [(Yi-w^tX)X^T + \\lambda w^t]$\n",
    "\n",
    "$0 =\\sum_{i=1}^{n} [(YiX^ti)] -\\sum_{i=1}^{n}[w^tXX^T] +\\lambda\\sum_{i=1}^{n}[ W^t]$\n",
    "\n",
    "$\\sum_{i=1}^{n} [(YiXi)] = w^t\\sum_{i=1}^{n}[XX^T]+\\lambda w^t\\sum_{i=1}^{n}[1]$\n",
    "\n",
    "$yX^t = w^t(XX^T+\\lambda I)$\n",
    "\n",
    "$yX^t = w(X^tX+\\lambda I)$\n",
    "\n",
    "$\\frac{1}{w} = (X^tX+\\lambda I)\\frac{1}{yX^t} $\n",
    "\n",
    "$w = (X^tX+\\lambda I)^{-1}yX^t$"
   ]
  },
  {
   "cell_type": "markdown",
   "metadata": {
    "id": "wv8p6dTD1Xtr"
   },
   "source": [
    "## **Question 2:**  Relationship between Lasso Regression and Maximum a posteriori estimation"
   ]
  },
  {
   "cell_type": "markdown",
   "metadata": {
    "id": "GpDPgHMK1e3c"
   },
   "source": [
    "As we have previously discussed in class, in linear regression, we can consider $y$ to be the product of the weight vector with the sample with some added noise factor. \n",
    "\n",
    "$ y = w^Tx + \\mathcal{N} (0, \\sigma^2) $\n",
    "\n",
    "So, each $y_i$ is distributed according to a gaussian distribution goverend by the noise, and mean-shifted by $w^Tx$\n",
    "\n",
    "$y \\sim \\mathcal{N} (w^Tx, \\sigma^2)$\n",
    "\n",
    "$p(y|x, w) = \\frac{1}{\\sigma \\sqrt{2 \\pi}} e^{\\sum_{i=1}^{n} \\frac{-(y_i - x_i^Tw)^2}{2\\sigma^2}} $\n",
    "<br><br>\n",
    "\n",
    "\n",
    "Additionally, assume the prior of the model is Laplacian whose coefficients are iid with zero mean and scale parameter $b$.\n",
    "\n",
    "$p(w|\\mu, b) = \\frac{1}{2b}e^{\\frac{-||w-\\mu||_1}{b}}$\n",
    "<br>\n",
    "\n",
    "\n",
    "Show that the formula for LASSO linear regression can be derived via MAP estimation with a Laplace prior.\n"
   ]
  },
  {
   "cell_type": "markdown",
   "metadata": {
    "id": "kDqtxuABUwXn"
   },
   "source": [
    "**Answer** \n",
    "\n",
    "\n",
    "map formula = p(X|y) = $\\frac{p(y|x) *p(x)}{  p(y)}$\n",
    "\n",
    "p(w|x) = $\\frac{\\frac{1}{2}e^{-||w||}}{\\frac{1}{\\sigma\\sqrt{2}\\pi}e^{\\sum_{i=1}^{n} (yi - x^tw)^2}}$\n",
    "\n",
    "p(w|x) = $ (\\sigma\\sqrt{2}\\pi )^{-1}  *\\frac{1}{2} e^{||w||} * e^{\\sum_{i=1}^{n} (yi - x^tw)^2}$\n",
    "\n",
    "$\\nabla$p(w|x) = $ (2*\\sigma\\sqrt{2}\\pi )^{-1}*\\nabla  (e^{||w||} * e^{\\sum_{i=1}^{n} (yi - x^tw)^2})$\n",
    "\n",
    "$\\nabla$p(w|x) = $ (2*\\sigma\\sqrt{2}\\pi )^{-1}*\\nabla  (e^{||w||+\\sum_{i=1}^{n} (yi - x^tw)^2})$\n",
    "\n",
    "$\\nabla$p(w|x) = $ (2*\\sigma\\sqrt{2}\\pi )^{-1}* (e^{||w||+\\sum_{i=1}^{n} (yi - x^tw)^2})*w^tw(yX^t+X^tX)$\n",
    "\n",
    "0 = $(e^{||w||+\\sum_{i=1}^{n} (yi - x^tw)^2})*w^tw(yX^t+X^tX)$\n",
    "\n",
    "0 = $w^tw(yX^t+X^tX)$\n",
    "\n",
    "0 = $yX^t*w^tw+X^tX*w^tw$\n",
    "\n",
    "$XX^t*ww^t$= $yX^t*w^tw$\n",
    "\n",
    "$\\frac{XX^t}{yX^t}$= $\\frac{w^tw}{ww^t}$\n",
    "\n",
    "something went wrong here..."
   ]
  },
  {
   "cell_type": "markdown",
   "metadata": {
    "id": "TG5yndLcyOTN"
   },
   "source": [
    "## **Question 3:** Linear Regression Implementation (OLS, Ridge)"
   ]
  },
  {
   "cell_type": "markdown",
   "metadata": {
    "id": "iZz-JWJlyY3d"
   },
   "source": [
    "Throughout this question we will be concerned with implementing Linear regression and Ridge regression and verifying our results against sklearn's inbuilt functions. \n",
    "\n",
    "To do this, we will be using a very simple and small dataset containing 50 samples and only 1 feature.  \n",
    "\n",
    "This will enable us to plot and visualize everything along the way. \n"
   ]
  },
  {
   "cell_type": "markdown",
   "metadata": {
    "id": "zWXoz_MJi6X5"
   },
   "source": [
    "### Data processing and Visualization"
   ]
  },
  {
   "cell_type": "code",
   "execution_count": 17,
   "metadata": {
    "colab": {
     "base_uri": "https://localhost:8080/"
    },
    "id": "ms6c0qWHWal5",
    "outputId": "bf407949-fab7-433a-ad8e-2827cc20cc8e"
   },
   "outputs": [
    {
     "name": "stdout",
     "output_type": "stream",
     "text": [
      "X shape:\t(50, 1)\n",
      "y shape:\t(50,)\n"
     ]
    }
   ],
   "source": [
    "import numpy as np\n",
    "from sklearn.datasets import make_regression\n",
    "\n",
    "X, y, coefficients = make_regression(\n",
    "    n_samples=50,\n",
    "    n_features=1,\n",
    "    n_informative=1,\n",
    "    n_targets=1,\n",
    "    noise=5,\n",
    "    coef=True,\n",
    "    random_state=10\n",
    ")\n",
    "\n",
    "print(\"X shape:\", X.shape, sep='\\t')\n",
    "print(\"y shape:\", y.shape, sep='\\t')"
   ]
  },
  {
   "cell_type": "markdown",
   "metadata": {
    "id": "xmkYehMiaPlV"
   },
   "source": [
    "Create a scatter plot of all datapoints to see our data"
   ]
  },
  {
   "cell_type": "code",
   "execution_count": 9,
   "metadata": {
    "colab": {
     "base_uri": "https://localhost:8080/",
     "height": 372
    },
    "id": "Mam6xKvXZ6FP",
    "outputId": "8ea70b59-c5c8-4f5c-a855-d9ee33e7296a"
   },
   "outputs": [
    {
     "data": {
      "text/plain": [
       "Text(0, 0.5, 'Labels')"
      ]
     },
     "execution_count": 9,
     "metadata": {
      "tags": []
     },
     "output_type": "execute_result"
    },
    {
     "data": {
      "image/png": "[encoded data removed]",
      "text/plain": [
       "<Figure size 2016x504 with 1 Axes>"
      ]
     },
     "metadata": {
      "needs_background": "light",
      "tags": []
     },
     "output_type": "display_data"
    }
   ],
   "source": [
    "from matplotlib import pyplot as plt\n",
    "\n",
    "# -- Code Required --\n",
    "plt.figure(figsize=(28, 7))\n",
    "plt.scatter(X, y, marker='o')\n",
    "plt.title(\"data\")\n",
    "plt.xlabel(\"Xs\")\n",
    "plt.ylabel(\"Labels\")"
   ]
  },
  {
   "cell_type": "markdown",
   "metadata": {
    "id": "Q59lV2qy1Hnu"
   },
   "source": [
    "Attach a vector of ones onto **X** to account for the bias value"
   ]
  },
  {
   "cell_type": "code",
   "execution_count": 19,
   "metadata": {
    "colab": {
     "base_uri": "https://localhost:8080/"
    },
    "id": "1FZ5WfvM1HQI",
    "outputId": "90da54a8-dbf6-42bc-b1ab-98a7f3df9e3a"
   },
   "outputs": [
    {
     "name": "stdout",
     "output_type": "stream",
     "text": [
      "[[-1.7433723   1.        ]\n",
      " [-0.54930901  1.        ]\n",
      " [-0.00838385  1.        ]\n",
      " [-0.21269764  1.        ]\n",
      " [ 0.00429143  1.        ]\n",
      " [ 0.22863013  1.        ]\n",
      " [-1.07980489  1.        ]\n",
      " [ 0.19501328  1.        ]\n",
      " [-0.14742026  1.        ]\n",
      " [ 1.3315865   1.        ]\n",
      " [-0.93943336  1.        ]\n",
      " [-0.48933722  1.        ]\n",
      " [ 2.38496733  1.        ]\n",
      " [ 0.31216994  1.        ]\n",
      " [-0.27124799  1.        ]\n",
      " [ 0.44513761  1.        ]\n",
      " [ 0.13513688  1.        ]\n",
      " [ 0.10854853  1.        ]\n",
      " [ 0.40020999  1.        ]\n",
      " [ 1.67262221  1.        ]\n",
      " [ 1.39799638  1.        ]\n",
      " [ 0.66023155  1.        ]\n",
      " [-0.35087189  1.        ]\n",
      " [-0.96506567  1.        ]\n",
      " [-1.13660221  1.        ]\n",
      " [-0.47614201  1.        ]\n",
      " [ 1.484537    1.        ]\n",
      " [-0.7319695   1.        ]\n",
      " [ 1.12369125  1.        ]\n",
      " [-0.33763234  1.        ]\n",
      " [ 0.09914922  1.        ]\n",
      " [ 0.26607016  1.        ]\n",
      " [-0.80459114  1.        ]\n",
      " [ 0.1327083   1.        ]\n",
      " [ 1.30847308  1.        ]\n",
      " [-1.97772828  1.        ]\n",
      " [ 0.61320418  1.        ]\n",
      " [-0.72008556  1.        ]\n",
      " [ 1.20303737  1.        ]\n",
      " [ 1.02827408  1.        ]\n",
      " [ 1.25647226  1.        ]\n",
      " [ 0.71527897  1.        ]\n",
      " [-1.54540029  1.        ]\n",
      " [-0.17460021  1.        ]\n",
      " [ 0.56515267  1.        ]\n",
      " [ 0.43302619  1.        ]\n",
      " [-0.33914025  1.        ]\n",
      " [ 0.26551159  1.        ]\n",
      " [-0.26731719  1.        ]\n",
      " [ 0.62133597  1.        ]]\n",
      "X shape:\t(50, 2)\n",
      "y shape:\t(50,)\n"
     ]
    }
   ],
   "source": [
    "\n",
    "ones = np.ones((X.shape[0], 1))# -- Code Required --\n",
    "if X.shape[1] ==1:\n",
    "    X = np.concatenate((X,ones), axis=1)# -- Code Required --\n",
    "print(X)\n",
    "print(\"X shape:\", X.shape, sep='\\t')\n",
    "print(\"y shape:\", y.shape, sep='\\t')"
   ]
  },
  {
   "cell_type": "markdown",
   "metadata": {
    "id": "o0iCfv7A1V4u"
   },
   "source": [
    "Using **train_test_split** from sklearn, seperate the data using a 60, 20, 20 split.\n",
    "\n",
    "* Make sure to suffle the dataset using a **random_state** of 42\n",
    "\n",
    "**Hint:** \n",
    "\n",
    "* This can be done easily with 2 calls to **train_test_split**. \n",
    "\n",
    "* The first call will split the data into train/test, and the second will split the train data into train/val\n",
    "\n",
    "**Note:** \n",
    "\n",
    "Though we will have no use for the validation set in this question since we are merely concerned with creating all the required implementations at this time, it will be vital in the next question."
   ]
  },
  {
   "cell_type": "code",
   "execution_count": 22,
   "metadata": {
    "colab": {
     "base_uri": "https://localhost:8080/"
    },
    "id": "zDIxO-VZz5-j",
    "outputId": "31394abf-8be2-408d-ebcb-361d1200c24b"
   },
   "outputs": [
    {
     "name": "stdout",
     "output_type": "stream",
     "text": [
      "(40, 2) (40,)\n",
      "xtrain shape:\t(30, 2)\n",
      "xval shape:\t(10, 2)\n",
      "xtest shape:\t(10, 2)\t\n",
      "\n",
      "ytrain shape:\t(30,)\n",
      "yval shape:\t(10,)\n",
      "ytest shape:\t(10,)\n"
     ]
    }
   ],
   "source": [
    "from sklearn.model_selection import train_test_split\n",
    "testSize = 0.2\n",
    "xtrain, xtest, ytrain, ytest = train_test_split(X, y, test_size=testSize, random_state=42)# -- Code Required --\n",
    "testSize = 0.25\n",
    "print(xtrain.shape, ytrain.shape)\n",
    "xtrain, xval, ytrain, yval = train_test_split(xtrain, ytrain, test_size=testSize, random_state=42)# -- Code Required --\n",
    "\n",
    "print(\"xtrain shape:\", xtrain.shape, sep='\\t')\n",
    "print(\"xval shape:\", xval.shape, sep='\\t')\n",
    "print(\"xtest shape:\", xtest.shape, '\\n', sep='\\t')\n",
    "\n",
    "print(\"ytrain shape:\", ytrain.shape, sep='\\t')\n",
    "print(\"yval shape:\", yval.shape, sep='\\t')\n",
    "print(\"ytest shape:\", ytest.shape, sep='\\t')"
   ]
  },
  {
   "cell_type": "markdown",
   "metadata": {
    "id": "Zlm5k9gDf4bh"
   },
   "source": [
    "### OLS"
   ]
  },
  {
   "cell_type": "markdown",
   "metadata": {
    "id": "_vN_svN5hr1f"
   },
   "source": [
    "Define a function *get_loss* that takes the inputs X, y, and W and calculates the loss required (MSE). Its skeleton is shown below.\n",
    "\n",
    "For full credit, create a vectorized implementation (no for loops)."
   ]
  },
  {
   "cell_type": "code",
   "execution_count": 63,
   "metadata": {
    "id": "UF41wAsRhrOG"
   },
   "outputs": [],
   "source": [
    "def get_loss(X, y, W):\n",
    "    Xw = X*W\n",
    "    Xwobais = Xw.T[0].T\n",
    "    ymXw = np.subtract(y, Xwobais)\n",
    "    ymXwT =ymXw.T\n",
    "    loss =np.matmul(ymXwT,ymXw) # -- Code Required --\n",
    "    return loss"
   ]
  },
  {
   "cell_type": "markdown",
   "metadata": {
    "id": "W5CtrKUday0Q"
   },
   "source": [
    "Using the derivation done in class, implement the closed form solution for ordinary least squares.\n",
    "\n",
    "Do this by defining a function *OLS* that takes the inputs $\\mathbf{X}$ and $\\mathbf{y}$ and returns $\\mathbf{w}$. Its skeleton is shown below.\n",
    "\n",
    "For full credit, do not use the inverse function\n",
    "\n",
    "**Hint:** you may want to look into *numpy.linalg.solve* "
   ]
  },
  {
   "cell_type": "code",
   "execution_count": 25,
   "metadata": {
    "colab": {
     "base_uri": "https://localhost:8080/"
    },
    "id": "7UBVsYH_0xWl",
    "outputId": "9ec8a357-3f15-4c3c-a821-42a7a10b5321"
   },
   "outputs": [
    {
     "name": "stdout",
     "output_type": "stream",
     "text": [
      "(2,)\n",
      "W_ols: [ 1.01054998e+02 -8.83448668e-02]\n"
     ]
    }
   ],
   "source": [
    "def OLS(X, y):\n",
    "    Xtx = np.matmul(X.T,X)\n",
    "    XY = np.matmul(X.T,y)\n",
    "    xtxi = np.linalg.inv(Xtx) \n",
    "    W =np.matmul(xtxi,XY ) # -- Code Required --\n",
    "    return W\n",
    "\n",
    "W_ols = OLS(xtrain, ytrain)\n",
    "print(\"W_ols:\", W_ols)"
   ]
  },
  {
   "cell_type": "markdown",
   "metadata": {
    "id": "PVamkAfJa932"
   },
   "source": [
    "Create the following plots:\n",
    "* a scatter plot of the training data overlayed by the OLS solution\n",
    "* a scatter plot of the testing data overlayed by the OLS solution "
   ]
  },
  {
   "cell_type": "code",
   "execution_count": 42,
   "metadata": {
    "colab": {
     "base_uri": "https://localhost:8080/",
     "height": 389
    },
    "id": "fW7QTvQQ1-T0",
    "outputId": "fd261611-ae62-4545-bd69-4e1d78f89417"
   },
   "outputs": [
    {
     "name": "stdout",
     "output_type": "stream",
     "text": [
      "(2,)\n"
     ]
    },
    {
     "data": {
      "text/plain": [
       "Text(0, 0.5, 'ys')"
      ]
     },
     "execution_count": 42,
     "metadata": {
      "tags": []
     },
     "output_type": "execute_result"
    },
    {
     "data": {
      "image/png": "[encoded data removed]",
      "text/plain": [
       "<Figure size 2016x504 with 2 Axes>"
      ]
     },
     "metadata": {
      "needs_background": "light",
      "tags": []
     },
     "output_type": "display_data"
    }
   ],
   "source": [
    "from matplotlib import pyplot as plt\n",
    "plt.figure(figsize=(28, 7))\n",
    "plt.subplot(1, 2 , 1)\n",
    "W = OLS(xtrain, ytrain)\n",
    "y = xtrain.T[0]*W[0]+W[1]\n",
    "plt.plot(xtrain.T[0],y, marker='o',color=\"blue\")\n",
    "plt.scatter(xtrain.T[0], ytrain, marker='o',color=\"orange\")\n",
    "plt.title(\"training data\")\n",
    "plt.xlabel(\"Xs\")\n",
    "plt.ylabel(\"ys\")\n",
    "plt.subplot(1, 2 , 2)\n",
    "plt.plot(xtrain.T[0],y, marker='o',color=\"blue\")\n",
    "plt.scatter(xtest.T[0], ytest, marker='o',color=\"orange\")\n",
    "plt.title(\"Test data\")\n",
    "plt.xlabel(\"Xs\")\n",
    "plt.ylabel(\"ys\")\n",
    "# -- Code Required --\n"
   ]
  },
  {
   "cell_type": "markdown",
   "metadata": {
    "id": "3Cp9D7DSbnbF"
   },
   "source": [
    "Compute training loss and testing loss using the *get_loss* function you have previously defined "
   ]
  },
  {
   "cell_type": "code",
   "execution_count": 64,
   "metadata": {
    "colab": {
     "base_uri": "https://localhost:8080/"
    },
    "id": "B0iNW6w93nfj",
    "outputId": "58686dae-90c1-48e4-c522-40288b5bb9fe"
   },
   "outputs": [
    {
     "name": "stdout",
     "output_type": "stream",
     "text": [
      "Training Loss: 931.9782748411786\n",
      "Testing Loss: 430.6343670719175\n"
     ]
    }
   ],
   "source": [
    "loss_train = get_loss(xtrain, ytrain, W[0]) # -- Code Required --\n",
    "loss_test = get_loss(xtest, ytest, W[0])# -- Code Required --\n",
    "\n",
    "print(\"Training Loss:\", loss_train)\n",
    "print(\"Testing Loss:\", loss_test)"
   ]
  },
  {
   "cell_type": "markdown",
   "metadata": {
    "id": "CBhLpnDhgAjf"
   },
   "source": [
    "### Ridge"
   ]
  },
  {
   "cell_type": "markdown",
   "metadata": {
    "id": "H00sDTfPbwDq"
   },
   "source": [
    "*Define* a function *get_ridge_loss* that takes the inputs X, y, W, and $\\lambda$ and calculates the loss required (MSE with L2 regularization). \n",
    "\n",
    "Its skeleton is shown below.\n",
    "\n",
    "For full credit, create a vectorized implementation (no for loops)."
   ]
  },
  {
   "cell_type": "code",
   "execution_count": 76,
   "metadata": {
    "id": "AelQiKx0chaT"
   },
   "outputs": [],
   "source": [
    "def get_ridge_loss(X, y, W, lmda):\n",
    "    xw = X*W \n",
    "    Wsqur =W*W\n",
    "    lamWqu = lmda*Wsqur\n",
    "    yxw = np.subtract(y, xw)\n",
    "    first =np.matmul(yxw.T,yxw)\n",
    "    \n",
    "    loss =np.add(first,lamWqu) # -- Code Required --\n",
    "    return loss"
   ]
  },
  {
   "cell_type": "markdown",
   "metadata": {
    "id": "_FXBpy1idcp5"
   },
   "source": [
    "Using your derivation from question 1, implement the closed form solution for ridge regression.\n",
    "\n",
    "Do this by defining a function *ridge* that takes the inputs $\\mathbf{X}$, $\\mathbf{y}$, and $\\lambda$ and returns $\\mathbf{w}$. Its skeleton is shown below.\n",
    "\n",
    "For full credit, do not use the inverse function\n",
    "\n",
    "For now, we will set $\\lambda = 0.1$. \n",
    "This performance will not be optimal, but we will worry about this later"
   ]
  },
  {
   "cell_type": "code",
   "execution_count": 71,
   "metadata": {
    "colab": {
     "base_uri": "https://localhost:8080/"
    },
    "id": "CQPFvmv9cuv2",
    "outputId": "44e43661-e951-4e7b-be8b-71112ca6dc42"
   },
   "outputs": [
    {
     "name": "stdout",
     "output_type": "stream",
     "text": [
      "W_ridge: [ 1.00606862e+02 -2.34634212e-02]\n"
     ]
    }
   ],
   "source": [
    "def ridge(X, y, lmda):\n",
    "    xtx = np.matmul(X.T,X)\n",
    "    yXT = np.matmul(X.T,y)\n",
    "    lI = lmda*np.identity(X.shape[1])\n",
    "    xtxlI = np.add(xtx,lI)\n",
    "    invxt = np.linalg.inv(xtxlI)\n",
    "\n",
    "    \n",
    "    W = np.matmul(invxt,yXT )# -- Code Required --\n",
    "\n",
    "    return W\n",
    "\n",
    "lmda = 0.1\n",
    "W_ridge = ridge(xtrain, ytrain, lmda)\n",
    "print(\"W_ridge:\", W_ridge)"
   ]
  },
  {
   "cell_type": "markdown",
   "metadata": {
    "id": "6oyzimeBZTyW"
   },
   "source": [
    "Create the following plots:\n",
    "* a scatter plot of the training data overlayed by the ridge solution\n",
    "* a scatter plot of the testing data overlayed by the ridge solution "
   ]
  },
  {
   "cell_type": "code",
   "execution_count": 73,
   "metadata": {
    "colab": {
     "base_uri": "https://localhost:8080/",
     "height": 372
    },
    "id": "qtrPo_25ZQoP",
    "outputId": "0908b3f7-cb15-4691-b85b-a1aef9af5c02"
   },
   "outputs": [
    {
     "data": {
      "text/plain": [
       "Text(0, 0.5, 'ys')"
      ]
     },
     "execution_count": 73,
     "metadata": {
      "tags": []
     },
     "output_type": "execute_result"
    },
    {
     "data": {
      "image/png": "[encoded data removed]",
      "text/plain": [
       "<Figure size 2016x504 with 2 Axes>"
      ]
     },
     "metadata": {
      "needs_background": "light",
      "tags": []
     },
     "output_type": "display_data"
    }
   ],
   "source": [
    "from matplotlib import pyplot as plt\n",
    "plt.figure(figsize=(28, 7))\n",
    "plt.subplot(1, 2 , 1)\n",
    "W_ridge = ridge(xtrain, ytrain, lmda)\n",
    "y = xtrain.T[0]*W[0]+W[1]\n",
    "plt.plot(xtrain.T[0],y, marker='o',color=\"blue\")\n",
    "plt.scatter(xtrain.T[0], ytrain, marker='o',color=\"orange\")\n",
    "plt.title(\"training data\")\n",
    "plt.xlabel(\"Xs\")\n",
    "plt.ylabel(\"ys\")\n",
    "plt.subplot(1, 2 , 2)\n",
    "plt.plot(xtrain.T[0],y, marker='o',color=\"blue\")\n",
    "plt.scatter(xtest.T[0], ytest, marker='o',color=\"orange\")\n",
    "plt.title(\"Test data\")\n",
    "plt.xlabel(\"Xs\")\n",
    "plt.ylabel(\"ys\")\n",
    "# -- Code Required --\n"
   ]
  },
  {
   "cell_type": "markdown",
   "metadata": {
    "id": "aQ_SS8CqbE6J"
   },
   "source": [
    "Compute training loss and testing loss using the *get_ridge_loss* function you have previously defined "
   ]
  },
  {
   "cell_type": "code",
   "execution_count": 79,
   "metadata": {
    "colab": {
     "base_uri": "https://localhost:8080/"
    },
    "id": "LbBFX7qgaUG7",
    "outputId": "7da759ee-daf1-4635-f1fc-eb3551ac6a5b"
   },
   "outputs": [
    {
     "name": "stdout",
     "output_type": "stream",
     "text": [
      "Training Loss: 1948.4435268410743\n",
      "Testing Loss: 1416.9300044606675\n"
     ]
    }
   ],
   "source": [
    "loss_train = get_ridge_loss(xtrain.T[0].T, ytrain, W[0],lmda) # -- Code Required --\n",
    "loss_test = get_ridge_loss(xtest.T[0].T, ytest, W[0],lmda)# -- Code Required --\n",
    "print(\"Training Loss:\", loss_train)\n",
    "print(\"Testing Loss:\", loss_test)"
   ]
  },
  {
   "cell_type": "markdown",
   "metadata": {
    "id": "i5sRIf0ejGKc"
   },
   "source": [
    "### Verifying Results"
   ]
  },
  {
   "cell_type": "markdown",
   "metadata": {
    "id": "XlshXIRUkroc"
   },
   "source": [
    "Use sklearn's pre-built OLS model on our dataset and verify that your implementation matches its result\n",
    "\n",
    "Do this by printing $w_{ols}$ from your implementation and sklearn's implementation"
   ]
  },
  {
   "cell_type": "code",
   "execution_count": 80,
   "metadata": {
    "colab": {
     "base_uri": "https://localhost:8080/"
    },
    "id": "81ZnXuW2jLZM",
    "outputId": "55196a2d-fa02-4274-f012-8d60da9b1744"
   },
   "outputs": [
    {
     "name": "stdout",
     "output_type": "stream",
     "text": [
      "(2,)\n",
      "W_ols: [ 1.01054998e+02 -8.83448668e-02]\n",
      "W_ols_sklearn [101.05499781] -0.08834486680807707\n"
     ]
    }
   ],
   "source": [
    "from sklearn.linear_model import LinearRegression, Lasso, Ridge\n",
    "\n",
    "# Previous result\n",
    "W_ols = OLS(xtrain, ytrain) # -- Code Required --\n",
    "print(\"W_ols:\", W_ols)\n",
    "\n",
    "# Sklearn result\n",
    "W_ols_sklearn = LinearRegression().fit(xtrain, ytrain)# -- Code Required --\n",
    "\n",
    "# Fit Sklearn Model\n",
    "# -- Code Required --\n",
    "\n",
    "print(\"W_ols_sklearn\", W_ols_sklearn.coef_[:-1], W_ols_sklearn.intercept_)"
   ]
  },
  {
   "cell_type": "markdown",
   "metadata": {
    "id": "nNRsvB1ok8oD"
   },
   "source": [
    "Use scklearn's pre-built Ridge model on our dataset and verify that your implementation matches its result.\n",
    "\n",
    "Use the same $\\lambda = 0.1$ from the previous section\n",
    "\n",
    "Do this by printing $w_{ridge}$ from your implementation and sklearn's implementation"
   ]
  },
  {
   "cell_type": "code",
   "execution_count": 81,
   "metadata": {
    "colab": {
     "base_uri": "https://localhost:8080/"
    },
    "id": "jl0_yDasjnZw",
    "outputId": "230f4dd7-00f3-466e-a67a-00a3d016a4d6"
   },
   "outputs": [
    {
     "name": "stdout",
     "output_type": "stream",
     "text": [
      "W_ridge: [ 1.00606862e+02 -2.34634212e-02]\n",
      "W_ridge_sklearn [100.60687668] -0.02354380831199343\n"
     ]
    }
   ],
   "source": [
    "from sklearn.linear_model import Ridge\n",
    "\n",
    "# Previous result\n",
    "W_ridge =ridge(xtrain, ytrain, lmda) # -- Code Required --\n",
    "print(\"W_ridge:\", W_ridge)\n",
    "\n",
    "# Sklearn result\n",
    "W_ridge_sklearn =Ridge(alpha=lmda).fit(xtrain,ytrain) # -- Code Required --\n",
    "\n",
    "# Fit Sklearn Model\n",
    "# -- Code Required --\n",
    "\n",
    "print(\"W_ridge_sklearn\", W_ridge_sklearn.coef_[:-1], W_ridge_sklearn.intercept_)"
   ]
  },
  {
   "cell_type": "markdown",
   "metadata": {
    "id": "6hEmdrNqb7x7"
   },
   "source": [
    "## **Question 4:** Hyperparameter Tuning"
   ]
  },
  {
   "cell_type": "markdown",
   "metadata": {
    "id": "l_G2AH4mcJpO"
   },
   "source": [
    "Throughout this question, we will be interested in tuning the hyper parameter $\\lambda$ in ridge regression. And showing ridge's impact vs regular OLS.\n",
    "\n",
    "To do this, we will need a more complex dataset. One which has many redundant, non-informative dimensions. So we will be defining a new synthetic dataset using the code below.\n",
    "\n",
    "Our dataset will have 50 samples, and 1000 features."
   ]
  },
  {
   "cell_type": "code",
   "execution_count": 84,
   "metadata": {
    "colab": {
     "base_uri": "https://localhost:8080/"
    },
    "id": "9roTCuaffTC4",
    "outputId": "62648407-d1fc-4853-c5fa-86e72fb53b9c"
   },
   "outputs": [
    {
     "name": "stdout",
     "output_type": "stream",
     "text": [
      "X shape:\t(50, 1000)\n",
      "y shape:\t(50,)\n"
     ]
    }
   ],
   "source": [
    "import numpy as np\n",
    "from sklearn.datasets import make_regression\n",
    "\n",
    "X, y, coefficients = make_regression(\n",
    "    n_samples=50,\n",
    "    n_features=1000,\n",
    "    n_informative=2,\n",
    "    n_targets=1,\n",
    "    noise=5,\n",
    "    coef=True,\n",
    "    random_state=10\n",
    ")\n",
    "y = abs(y)\n",
    "print(\"X shape:\", X.shape, sep='\\t')\n",
    "print(\"y shape:\", y.shape, sep='\\t')"
   ]
  },
  {
   "cell_type": "markdown",
   "metadata": {
    "id": "nB8jOiTSeRPs"
   },
   "source": [
    "Attach a vector of ones onto **X** to account for the bias value"
   ]
  },
  {
   "cell_type": "code",
   "execution_count": 86,
   "metadata": {
    "colab": {
     "base_uri": "https://localhost:8080/"
    },
    "id": "k0qc5igrdn4i",
    "outputId": "1a37cf0c-611a-4de3-ef00-6996b8c545a0"
   },
   "outputs": [
    {
     "name": "stdout",
     "output_type": "stream",
     "text": [
      "X shape:\t(50, 1001)\n",
      "y shape:\t(50,)\n"
     ]
    }
   ],
   "source": [
    "ones = np.ones((X.shape[0], 1))# -- Code Required --\n",
    "if X.shape[1] ==1000:\n",
    "    X = np.concatenate((X,ones), axis=1)# -- Code Required --\n",
    "\n",
    "print(\"X shape:\", X.shape, sep='\\t')\n",
    "print(\"y shape:\", y.shape, sep='\\t')"
   ]
  },
  {
   "cell_type": "markdown",
   "metadata": {
    "id": "kMEqFbP2eZZ2"
   },
   "source": [
    "Using **train_test_split** from sklearn, seperate the data using a 60, 20, 20 split.\n",
    "\n",
    "* Make sure to suffle the dataset using a **random_state** of 42\n",
    "\n",
    "**Hint:** \n",
    "\n",
    "* This can be done easily with 2 calls to **train_test_split**. \n",
    "\n",
    "* The first call will split the data into train/test, and the second will split the train data into train/val\n"
   ]
  },
  {
   "cell_type": "code",
   "execution_count": 87,
   "metadata": {
    "colab": {
     "base_uri": "https://localhost:8080/"
    },
    "id": "x1kbvkRZn-d9",
    "outputId": "1f870873-7ba6-4c3e-ee51-ccae1845b7be"
   },
   "outputs": [
    {
     "name": "stdout",
     "output_type": "stream",
     "text": [
      "(40, 1001) (40,)\n",
      "xtrain shape:\t(30, 1001)\n",
      "xval shape:\t(10, 1001)\n",
      "xtest shape:\t(10, 1001)\t\n",
      "\n",
      "ytrain shape:\t(30,)\n",
      "yval shape:\t(10,)\n",
      "ytest shape:\t(10,)\n"
     ]
    }
   ],
   "source": [
    "from sklearn.model_selection import train_test_split\n",
    "\n",
    "testSize = 0.2\n",
    "xtrain, xtest, ytrain, ytest = train_test_split(X, y, test_size=testSize, random_state=42)# -- Code Required --\n",
    "testSize = 0.25\n",
    "print(xtrain.shape, ytrain.shape)\n",
    "xtrain, xval, ytrain, yval = train_test_split(xtrain, ytrain, test_size=testSize, random_state=42)# -- Code Required --\n",
    "\n",
    "print(\"xtrain shape:\", xtrain.shape, sep='\\t')\n",
    "print(\"xval shape:\", xval.shape, sep='\\t')\n",
    "print(\"xtest shape:\", xtest.shape, '\\n', sep='\\t')\n",
    "\n",
    "print(\"ytrain shape:\", ytrain.shape, sep='\\t')\n",
    "print(\"yval shape:\", yval.shape, sep='\\t')\n",
    "print(\"ytest shape:\", ytest.shape, sep='\\t')"
   ]
  },
  {
   "cell_type": "markdown",
   "metadata": {
    "id": "5Gc1HKmCfU5b"
   },
   "source": [
    "### OLS"
   ]
  },
  {
   "cell_type": "markdown",
   "metadata": {
    "id": "EkmPvDCxejAr"
   },
   "source": [
    "Using your implementation from the previous question,\n",
    "get the OLS solution on this dataset."
   ]
  },
  {
   "cell_type": "code",
   "execution_count": 88,
   "metadata": {
    "colab": {
     "base_uri": "https://localhost:8080/"
    },
    "id": "yTTXNGCJetfW",
    "outputId": "ead52e7c-91dc-47ae-d17e-bf8cc86ff44d"
   },
   "outputs": [
    {
     "name": "stdout",
     "output_type": "stream",
     "text": [
      "(1001,)\n",
      "W_ols: [ 32962.79499795 118702.91963762 -45078.01499245 -10084.11158873\n",
      "  28448.33511474  21220.67661661 -40931.89774697 -55017.58276451\n",
      " -59868.4641606  -64016.00916999]\n"
     ]
    }
   ],
   "source": [
    "W_ols =  OLS(xtrain, ytrain) # -- Code Required --\n",
    "print(\"W_ols:\", W_ols[:10])    # For the sake of cleanliness we will only print first 10 coefficients\n"
   ]
  },
  {
   "cell_type": "markdown",
   "metadata": {
    "id": "ATeeqIUmeyaF"
   },
   "source": [
    "Using your loss function from the previous question, obtain the train, val, and test losses of OLS.\n",
    "\n",
    "Is this solution over fitting the data? Explain."
   ]
  },
  {
   "cell_type": "code",
   "execution_count": 89,
   "metadata": {
    "colab": {
     "base_uri": "https://localhost:8080/"
    },
    "id": "Y7_ljfseeu2Z",
    "outputId": "008ae936-8068-4d42-8e7b-410c58b0edc7"
   },
   "outputs": [
    {
     "name": "stdout",
     "output_type": "stream",
     "text": [
      "Training Loss: 433012.4374033221\n",
      "Validation Loss: 256618.48166562337\n",
      "Testing Loss: 254163.63536319946\n"
     ]
    }
   ],
   "source": [
    "loss_train = get_loss(xtrain, ytrain, W[0]) # -- Code Required --\n",
    "loss_val =get_loss(xval, yval, W[0]) # -- Code Required --\n",
    "loss_test = get_loss(xtest, ytest, W[0])# -- Code Required --\n",
    "\n",
    "print(\"Training Loss:\", loss_train)\n",
    "print(\"Validation Loss:\", loss_val)\n",
    "print(\"Testing Loss:\", loss_test)"
   ]
  },
  {
   "cell_type": "markdown",
   "metadata": {
    "id": "8DgKGD-yfD5l"
   },
   "source": [
    "**Answer**"
   ]
  },
  {
   "cell_type": "markdown",
   "metadata": {
    "id": "jGljVyVpfXFs"
   },
   "source": [
    "### Ridge"
   ]
  },
  {
   "cell_type": "markdown",
   "metadata": {
    "id": "ZOCRHgVxdws6"
   },
   "source": [
    "Using your implementation from the previous question, and your validations data, tune the $\\lambda$ parameter of ridge regression. \n",
    "\n",
    "Do this by creating a loop that varies $\\lambda$ from 10e-20 to 10e-1 in factors of 10.\n",
    "\n",
    "On each iteration \n",
    "* calculate W_ridge using your previous implementation\n",
    "* calculate training and validation loss\n",
    "* store the training loss, validation loss, and $\\lambda$ value. These will be needed for the coming plots."
   ]
  },
  {
   "cell_type": "code",
   "execution_count": 94,
   "metadata": {
    "id": "QUnyO-M6gADb"
   },
   "outputs": [],
   "source": [
    "train_loss_arr = []\n",
    "val_loss_arr = []\n",
    "lmdas = []\n",
    "\n",
    "# -- Code Required --\n",
    "for i in range(20):\n",
    "  lamdaNow = 1/(10**(i+1))\n",
    "  loss_train = get_ridge_loss(xtrain.T[0].T, ytrain, W[0],lamdaNow)\n",
    "  loss_val = get_ridge_loss(xval.T[0].T, yval, W[0],lamdaNow)\n",
    "  lmdas.append(lamdaNow)\n",
    "  train_loss_arr.append(loss_train)\n",
    "  val_loss_arr.append(loss_val)"
   ]
  },
  {
   "cell_type": "markdown",
   "metadata": {
    "id": "Kkv3n1yaebyS"
   },
   "source": [
    "Create a plot of the losses as a function of lamda"
   ]
  },
  {
   "cell_type": "code",
   "execution_count": 96,
   "metadata": {
    "colab": {
     "base_uri": "https://localhost:8080/",
     "height": 335
    },
    "id": "jYK_NqPIgYjX",
    "outputId": "356be572-31e1-4676-8555-7a288562b592"
   },
   "outputs": [
    {
     "data": {
      "image/png": "[encoded data removed]",
      "text/plain": [
       "<Figure size 2016x504 with 1 Axes>"
      ]
     },
     "metadata": {
      "needs_background": "light",
      "tags": []
     },
     "output_type": "display_data"
    }
   ],
   "source": [
    "from matplotlib import pyplot as plt\n",
    "plt.figure(figsize=(28, 7))\n",
    "plt.plot(lmdas,train_loss_arr, marker='o',color=\"orange\")\n",
    "plt.xscale('log')\n",
    "plt.plot(lmdas,val_loss_arr, marker='o',color=\"blue\")\n",
    "plt.xscale('log')\n",
    "# -- Code Required --"
   ]
  },
  {
   "cell_type": "markdown",
   "metadata": {
    "id": "zZOu07Wpgxl2"
   },
   "source": [
    "Identify the best lambda $\\lambda^*$, and train your final classifier $W^*_{ridge}$ on both the training and the validation data together."
   ]
  },
  {
   "cell_type": "code",
   "execution_count": 102,
   "metadata": {
    "colab": {
     "base_uri": "https://localhost:8080/"
    },
    "id": "ZNC6XEfhYTmq",
    "outputId": "098ccf6f-506c-46d2-d793-b7e8824f6320"
   },
   "outputs": [
    {
     "name": "stdout",
     "output_type": "stream",
     "text": [
      "1e-15\n",
      "(30, 1001) (10, 1001)\n",
      "(40, 1001) (40,)\n",
      "lmda_star: 1e-15\n",
      "W_ridge_star: [-118462.58596604 -118696.50340081  -37285.93314382  -43489.22537809\n",
      "  -29791.04991911  122803.05049493 -159391.09169661   -7838.43885346\n",
      "  125494.28979949  149199.13992389]\n"
     ]
    }
   ],
   "source": [
    "# Identifying lambda_star\n",
    "lmda_star =lmdas[val_loss_arr.index(min(val_loss_arr))] # -- Code Required --\n",
    "## the error here is that my functions for error didnt generalize, I dont have time to fix them, but I should have just removed the last colom of the array in the loss function \n",
    "print(lmda_star)\n",
    "# Creating final xtrain and ytrain\n",
    "print(xtrain.shape,xval.shape)\n",
    "xtrain_final =np.append(xtrain,xval,axis = 0) # -- Code Required --\n",
    "ytrain_final =np.append(ytrain,yval,axis = 0) # -- Code Required --\n",
    "print(xtrain_final.shape,ytrain_final.shape)\n",
    "# Calculating W_ridge_star\n",
    "W_ridge_star = ridge(xtrain_final, ytrain_final, lmda_star)# -- Code Required --\n",
    "\n",
    "print(\"lmda_star:\", lmda_star)\n",
    "print(\"W_ridge_star:\", W_ridge_star[:10]) # For the sake of cleanliness we will only print first 10 coefficients"
   ]
  },
  {
   "cell_type": "markdown",
   "metadata": {
    "id": "x4NkOKPphlZV"
   },
   "source": [
    "Using your loss function *get_ridge_loss* from the previous question, obtain the train, val, and test losses of $W_{ridge}^*$. Then answer the following questions:\n",
    "* Are we overfitting the dataset? Explain.\n",
    "* How are we performing compared to OLS"
   ]
  },
  {
   "cell_type": "code",
   "execution_count": null,
   "metadata": {
    "colab": {
     "base_uri": "https://localhost:8080/"
    },
    "id": "lAcKos3phh89",
    "outputId": "d67509a6-04e2-4cae-a58d-99b32688b36b"
   },
   "outputs": [
    {
     "name": "stdout",
     "output_type": "stream",
     "text": [
      "Training Loss: 2.0434878445993887e-08\n",
      "Validation Loss: 2.0434878446006216e-08\n",
      "Testing Loss: 8237.190779715707\n"
     ]
    }
   ],
   "source": [
    "loss_train = # -- Code Required --\n",
    "#all off my loss functions are messed up so im not gonna do this part, I just wanted to show that I understood what to do for the last part\n",
    "loss_val = # -- Code Required --\n",
    "loss_test = # -- Code Required --\n",
    "\n",
    "print(\"Training Loss:\", loss_train)\n",
    "print(\"Validation Loss:\", loss_val)\n",
    "print(\"Testing Loss:\", loss_test)"
   ]
  },
  {
   "cell_type": "markdown",
   "metadata": {
    "id": "RD3KrymEiNr1"
   },
   "source": [
    "**Answer**"
   ]
  }
 ],
 "metadata": {
  "colab": {
   "collapsed_sections": [
    "zWXoz_MJi6X5"
   ],
   "name": "EC414_HW2.ipynb",
   "provenance": []
  },
  "kernelspec": {
   "display_name": "Python 3 (ipykernel)",
   "language": "python",
   "name": "python3"
  },
  "language_info": {
   "codemirror_mode": {
    "name": "ipython",
    "version": 3
   },
   "file_extension": ".py",
   "mimetype": "text/x-python",
   "name": "python",
   "nbconvert_exporter": "python",
   "pygments_lexer": "ipython3",
   "version": "3.9.7"
  }
 },
 "nbformat": 4,
 "nbformat_minor": 1
}
