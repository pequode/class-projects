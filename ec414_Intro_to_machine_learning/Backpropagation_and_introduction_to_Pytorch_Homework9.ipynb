{
 "cells": [
  {
   "cell_type": "markdown",
   "metadata": {
    "id": "O4fyFskoK4Ub"
   },
   "source": [
    "# Homework 9 Backpropagation and introduction to Pytorch\n",
    "Due on April 21th"
   ]
  },
  {
   "cell_type": "markdown",
   "metadata": {
    "id": "I9xF7q68KE7j"
   },
   "source": [
    "## Problem 1: Backprop in a simple MLP\n",
    "Here, we ask you to derive all the steps of the backpropagation algorithm for a simple classification network. Consider a fully-connected neural network, also known as a multi-layer perceptron (MLP), with a single hidden layer and a one-node output layer. The hidden and output nodes use an elementwise sigmoid activation function and the loss layer uses cross-entropy loss:\n",
    "<p>\n",
    "$f(z)=\\frac{1}{1+exp(-z))}$\n",
    "<br>\n",
    "$L(\\hat{y},y)=-yln(\\hat{y}) - (1-y)ln(1-\\hat{y})$\n",
    "</p>\n",
    "<p>\n",
    "The computation graph for an example network is shown below. Note that it has an equal number of nodes in the input and hidden layer (3 each), but, in general, they need not be equal. Also, to make the application of backprop easier, we show the <i>computation graph</i> which shows the dot product and activation functions as their own nodes, rather than the usual graph showing a single node for both.\n",
    "\n",
    "</p>\n",
    "\n",
    "<img src=\"https://raw.githubusercontent.com/ruizhaoz/EC414/master/mlpgraph.png\" style=\"height:200px;\">\n",
    "\n",
    "The backpropagation algorithm for an MLP is displayed below. For simplicity, we will assume no regularization on the weights, so you can ignore the terms involving $\\Omega$. The forward step is: \n",
    "\n",
    "<img src=\"https://raw.githubusercontent.com/ruizhaoz/EC414/master/forward.png\" style=\"width:200px;\">\n",
    "\n",
    "and the backward step is:\n",
    "\n",
    "<img src=\"https://raw.githubusercontent.com/ruizhaoz/EC414/master/backward.png\" style=\"width:200px;\">"
   ]
  },
  {
   "cell_type": "markdown",
   "metadata": {
    "id": "VENM1O51Lm3u"
   },
   "source": [
    "Write down each step of the backward pass explicitly for all layers, i.e. for the loss and $k=2,1$, compute all gradients above, expressing them as a function of variables $x, y, h, W, b$. <i>Hint: you should substitute the updated values for the gradient $g$ in each step and simplify as much as possible.</i>  Specifically, compute the following (we have replaced the superscript notation $u^{(i)}$ with $u^i$):\n",
    "\n",
    "**Q1.1**: $\\nabla_{\\hat{y}}L(\\hat{y},y)$"
   ]
  },
  {
   "cell_type": "markdown",
   "metadata": {
    "id": "BbpAW-DlLoPp"
   },
   "source": [
    "\n",
    "\n",
    "**Solution:**\n",
    "- $L = (−y)ln(\\hat{y})$\n",
    "- $\\nabla L_\\hat{y} = \\frac{(−y)}{\\hat{y}}$\n",
    "-(dL/da)\n"
   ]
  },
  {
   "cell_type": "markdown",
   "metadata": {
    "id": "j1fJZBj3dcYG"
   },
   "source": [
    "**Q1.2**: $\\nabla_{a^{(2)}}J$"
   ]
  },
  {
   "cell_type": "markdown",
   "metadata": {
    "id": "jXfklfb7diX1"
   },
   "source": [
    "**Solution:**\n",
    "\n",
    "-$\\nabla_{a^{(2)}}J =\\nabla_{a^{(2)}}\\sigma(z^{(2)})$\n",
    "\n",
    "-$\\nabla_{a^{(2)}}J = \\sigma(z^{(2)})*(1-\\sigma(z^{(2)}))$\n",
    "\n",
    "-$(da/dz)J = \\sigma(WXB)*(1-\\sigma(WXB)$\n",
    "\n",
    "-$(dL/dz)J/g = \\sigma(WXB)*(1-\\sigma(WXB)*-y/\\hat{y}$"
   ]
  },
  {
   "cell_type": "markdown",
   "metadata": {
    "id": "xYh1E8CTiN2C"
   },
   "source": [
    "**Q1.3**: $\\nabla_{b^{(2)}}J$"
   ]
  },
  {
   "cell_type": "markdown",
   "metadata": {
    "id": "o7pIlEcqiSjP"
   },
   "source": [
    "**Solution:**\n",
    "\n",
    "-$\\nabla_{b_2} = g+\\nabla_{b_2}$"
   ]
  },
  {
   "cell_type": "markdown",
   "metadata": {
    "id": "Gp6SkxGwio3n"
   },
   "source": [
    "** Q1.4**: $\\nabla_{W^{(2)}}J$"
   ]
  },
  {
   "cell_type": "markdown",
   "metadata": {
    "id": "zYEhB8SYix5-"
   },
   "source": [
    "**Solution:**\n",
    "\n",
    "-$\\nabla_{W_2} = g*h_{1}+\\nabla_{W_2}$\n"
   ]
  },
  {
   "cell_type": "markdown",
   "metadata": {
    "id": "EGdFV93qkAni"
   },
   "source": [
    "**Q1.5**: \n",
    "\n",
    "-$\\nabla_{h^{(1)}}J$ \n",
    "\n",
    "-$\\nabla_{h^{(1)}}J = W_2*g$ \n",
    "\n",
    "-$\\nabla_{h^{(1)}}J = W_2*\\sigma(W_2*B_2)*(1-\\sigma(W_2*B_211))$"
   ]
  },
  {
   "cell_type": "markdown",
   "metadata": {
    "id": "IWCCJapRkTZk"
   },
   "source": [
    "**Solution:**\n"
   ]
  },
  {
   "cell_type": "markdown",
   "metadata": {
    "id": "IUcN5zqukgps"
   },
   "source": [
    "**Q1.6**: $\\nabla_{b^{(1)}}J$, $\\nabla_{W^{(1)}}J$"
   ]
  },
  {
   "cell_type": "markdown",
   "metadata": {
    "id": "0q0REkiokwHg"
   },
   "source": [
    "**Solution:**\n",
    "\n",
    "-∇W1 = g∗h0+∇W1\n",
    "- ∇b1= g+∇b1"
   ]
  },
  {
   "cell_type": "markdown",
   "metadata": {
    "id": "aQppboJql-s4"
   },
   "source": [
    "**Q1.7** Briefly, explain how would the computational speed of backpropagation be affected if it did not save results in the forward pass?"
   ]
  },
  {
   "cell_type": "markdown",
   "metadata": {
    "id": "LD_17D3QmAqK"
   },
   "source": [
    "**Solution:**\n",
    "It would be slowed by a factor of a half because you would need to recompute the forward propigation step todo the backward pass."
   ]
  },
  {
   "cell_type": "markdown",
   "metadata": {
    "id": "MXTrAN89nkJd"
   },
   "source": [
    "# Problem 2: Pytorch Intro\n",
    "## **Q2.0**: Pytorch tutorials\n",
    "This homework will introduce you to [PyTorch](https://pytorch.org), currently the fastest growing deep learning library, and the one we will use in this course.\n",
    "\n",
    "Before starting the homework, please go over these introductory tutorials on the PyTorch webpage:\n",
    "\n",
    "*   [60-minute Blitz](https://pytorch.org/tutorials/beginner/deep_learning_60min_blitz.html)"
   ]
  },
  {
   "cell_type": "code",
   "execution_count": 2,
   "metadata": {
    "id": "NrFPTKJYdaeY"
   },
   "outputs": [],
   "source": [
    "import torch"
   ]
  },
  {
   "cell_type": "markdown",
   "metadata": {
    "id": "i0Z5zMSRqPEG"
   },
   "source": [
    "The `torch.Tensor` class is the basic building block in PyTorch and is used to hold data and parameters. The `autograd` package provides automatic differentiation for all operations on Tensors. After reading about Autograd in the tutorials above,  we will implement a few simple examples of what Autograd can do."
   ]
  },
  {
   "cell_type": "markdown",
   "metadata": {
    "id": "MTYYQoSlqbb0"
   },
   "source": [
    "## **Q2.1**. Simple function\n",
    " Use `autograd` to do backpropagation on the simple function, $f=(x+y)*z$. \n",
    "\n",
    "**Q2.1.1** Create the three input tensors with values $x=-2$, $y=5$ and $z=-4$ as tensors and set `requires_grad=True` to track computation on them.\n",
    "\n"
   ]
  },
  {
   "cell_type": "code",
   "execution_count": 3,
   "metadata": {
    "colab": {
     "base_uri": "https://localhost:8080/"
    },
    "id": "bhABwVlxqNJp",
    "outputId": "c18cfc47-1db6-4135-be1e-6102d51f90ef"
   },
   "outputs": [
    {
     "name": "stdout",
     "output_type": "stream",
     "text": [
      "tensor(-2., requires_grad=True) tensor(5., requires_grad=True) tensor(-4., requires_grad=True)\n"
     ]
    }
   ],
   "source": [
    "# solution here\n",
    "x = torch.tensor(-2.0,requires_grad=True)\n",
    "y = torch.tensor(5.0,requires_grad=True)\n",
    "z = torch.tensor(-4.0,requires_grad=True)\n",
    "print(x, y, z)"
   ]
  },
  {
   "cell_type": "markdown",
   "metadata": {
    "id": "QVIMV4oUqoDD"
   },
   "source": [
    "**Q2.1.2** Compute the $q=x+y$ and $f=q \\times z$ functions, creating tensors for them in the process. Print out $q,f$, then run `f.backward(retain_graph=True)`, to compute the gradients w.r.t. $x,y,z$. The `retain_graph` attribute tells autograd to keep the computation graph around after backward pass as opposed deleting it (freeing some memory). Print the gradients. Note that the gradient for $q$ will be `None` since it is an intermediate node, even though `requires_grad` for it is automatically set to `True`. To access gradients for intermediate nodes in PyTorch you can use hooks as mentioned in [this answer](https://discuss.pytorch.org/t/why-cant-i-see-grad-of-an-intermediate-variable/94/2). Compute the values by hand (or check the slides) to verify your solution."
   ]
  },
  {
   "cell_type": "code",
   "execution_count": 4,
   "metadata": {
    "colab": {
     "base_uri": "https://localhost:8080/"
    },
    "id": "PTON_Ch6q0zX",
    "outputId": "7e026092-bee6-431d-9ead-1fc6c4bf7001"
   },
   "outputs": [
    {
     "name": "stdout",
     "output_type": "stream",
     "text": [
      "tensor(3., grad_fn=<AddBackward0>) tensor(-12., grad_fn=<MulBackward0>) done qf\n",
      "tensor(-4.)\n",
      "starting grads tensor(-4.) tensor(-4.) tensor(3.) -4\n",
      "tensor(-4.)\n",
      "tensor(-4.)\n",
      "tensor(-4.)\n",
      "tensor(-4.)\n",
      "tensor(-4.)\n",
      "tensor(-4.)\n",
      "starting grads tensor(-16.) tensor(-16.) tensor(12.) -4\n"
     ]
    }
   ],
   "source": [
    "# solution here\n",
    "q = x+y\n",
    "f = q*z\n",
    "print(q, f,\"done qf\")\n",
    "q.register_hook(print)\n",
    "f.backward(retain_graph=True)\n",
    "\n",
    "# compute the gradient\n",
    "print(\"starting grads\",x.grad, y.grad, z.grad, -4)\n",
    "\n",
    "q.register_hook(print)\n",
    "f.backward(retain_graph=True)\n",
    "f.backward(retain_graph=True)\n",
    "f.backward(retain_graph=True)\n",
    "# compute the gradient\n",
    "print(\"starting grads\",x.grad, y.grad, z.grad, -4)"
   ]
  },
  {
   "cell_type": "markdown",
   "metadata": {
    "id": "2pfwkA3yq3Mz"
   },
   "source": [
    "**Q2.1.3** If we now run `backward()` again, it will add the gradients to their previous values. Try it by running the above cell multiple times. This is useful in some cases, but if we just wanted to re-compute the gradients again, we need to zero them first, then run `backward()`. Add this step, then try running the  backward function multiple times to make sure the answer is the same each time!"
   ]
  },
  {
   "cell_type": "code",
   "execution_count": 5,
   "metadata": {
    "colab": {
     "base_uri": "https://localhost:8080/"
    },
    "id": "6FKH2O14q8uL",
    "outputId": "b8e9e78f-38ee-44fa-d64a-37077564e825"
   },
   "outputs": [
    {
     "name": "stdout",
     "output_type": "stream",
     "text": [
      "tensor(-4.)\n",
      "tensor(-4.)\n",
      "tensor(-4.) tensor(-4.) tensor(3.) None\n",
      "tensor(-4.)\n",
      "tensor(-4.)\n",
      "tensor(-4.) tensor(-4.) tensor(3.) None\n"
     ]
    },
    {
     "name": "stderr",
     "output_type": "stream",
     "text": [
      "/usr/local/lib/python3.7/dist-packages/ipykernel_launcher.py:8: UserWarning: The .grad attribute of a Tensor that is not a leaf Tensor is being accessed. Its .grad attribute won't be populated during autograd.backward(). If you indeed want the gradient for a non-leaf Tensor, use .retain_grad() on the non-leaf Tensor. If you access the non-leaf Tensor by mistake, make sure you access the leaf Tensor instead. See github.com/pytorch/pytorch/pull/30531 for more informations.\n",
      "  \n",
      "/usr/local/lib/python3.7/dist-packages/ipykernel_launcher.py:15: UserWarning: The .grad attribute of a Tensor that is not a leaf Tensor is being accessed. Its .grad attribute won't be populated during autograd.backward(). If you indeed want the gradient for a non-leaf Tensor, use .retain_grad() on the non-leaf Tensor. If you access the non-leaf Tensor by mistake, make sure you access the leaf Tensor instead. See github.com/pytorch/pytorch/pull/30531 for more informations.\n",
      "  from ipykernel import kernelapp as app\n"
     ]
    }
   ],
   "source": [
    "# solution here\n",
    "# zero the gradient\n",
    "x.grad = None  \n",
    "y.grad =None \n",
    "z.grad = None\n",
    "q.grad = None\n",
    "f.backward(retain_graph=True)\n",
    "print(x.grad, y.grad, z.grad, q.grad)\n",
    "# compute the gradient again\n",
    "x.grad = None  \n",
    "y.grad =None \n",
    "z.grad = None\n",
    "q.grad = None\n",
    "f.backward(retain_graph=True)\n",
    "print(x.grad, y.grad, z.grad, q.grad)\n"
   ]
  },
  {
   "cell_type": "markdown",
   "metadata": {
    "id": "nX01mssrrJnk"
   },
   "source": [
    "## **Q2.2** Neuron \n",
    "### 2.2.1 \n",
    "Implement the function corresponding to one neuron (logistic regression unit) that we saw in the lecture and compute the gradient w.r.t. $x$ and $w$. The function is $f=\\sigma(w^Tx)$ where $\\sigma()$ is the sigmoid function. Initialize $x=[-1, -2, 1]$ and the weights to $w=[2, -3, -3]$ where $w_3$ is the bias. Print out the gradients."
   ]
  },
  {
   "cell_type": "code",
   "execution_count": 6,
   "metadata": {
    "colab": {
     "base_uri": "https://localhost:8080/"
    },
    "id": "_qOeEIubrAn1",
    "outputId": "1bf9e5c7-12b2-43fa-bdb5-fdc513a3a083"
   },
   "outputs": [
    {
     "name": "stdout",
     "output_type": "stream",
     "text": [
      "tensor(1., grad_fn=<DotBackward>)\n",
      "\n",
      "x= tensor([-1., -2.,  1.], requires_grad=True) \n",
      "w= tensor([ 2., -3., -3.], requires_grad=True) \n",
      "f(x,w)= tensor(0.7311, grad_fn=<SigmoidBackward>)\n",
      "The gradient of f() w.r.t. x is tensor([ 0.3932, -0.5898, -0.5898])\n",
      "The gradient of f() w.r.t. w is tensor([-0.1966, -0.3932,  0.1966])\n"
     ]
    }
   ],
   "source": [
    "# solution here\n",
    "import numpy as np\n",
    "\n",
    "X = [-1.0,-2.0,1.0]\n",
    "x = torch.tensor(X,requires_grad=True)\n",
    "W = [2.0,-3.0,-3.0]\n",
    "w =  torch.tensor(W,requires_grad=True)\n",
    "\n",
    "wtx = torch.matmul(w, x)\n",
    "print (wtx)\n",
    "f = torch.sigmoid(wtx)\n",
    "x.grad = None  \n",
    "w.grad =None \n",
    "f.grad = None\n",
    "print(\"\\nx=\", x, \"\\nw=\", w, \"\\nf(x,w)=\", f)\n",
    "# compute the gradient calling backward()\n",
    "f.backward(retain_graph=True)\n",
    "print(\"The gradient of f() w.r.t. x is\", x.grad)\n",
    "print(\"The gradient of f() w.r.t. w is\", w.grad)"
   ]
  },
  {
   "cell_type": "markdown",
   "metadata": {
    "id": "b9Zdn-SmS-dW"
   },
   "source": [
    "### 2.2.2 \n",
    "Derive the gradient $\\nabla_x f$ and  $\\nabla_\\omega f$ by hand to verify your results in 2.2.1. (Write out necessary steps i.e. chain rule, final computation results)"
   ]
  },
  {
   "cell_type": "markdown",
   "metadata": {
    "id": "8mRG8qCDTtZA"
   },
   "source": [
    "**Solution**:\n",
    "\n",
    "-$W.T @ X -> h1 -> \\sigma -> f $ \n",
    "\n",
    "- $\\left( \\begin{array}{cc}\n",
    "2.0\\\\-3.0\\\\-3.0\n",
    "\\end{array} \\right)\n",
    "%\n",
    "\\left( \\begin{array}{cc}\n",
    "-1.0&-2.0&1.0\n",
    "\\end{array}\\right)\n",
    "\\left |= 1\\right| ->\\sigma(1) -> 0.731\n",
    "$\n",
    "\n",
    "- $\\frac{ds}{dh1} = (\\sigma(z)*(1 - \\sigma(z)) = 0.731 * 0.279 = 0.204$  \n",
    "\n",
    "- $\\frac{dh1}{w.t@x} = W_1*X_1 + W_2*X_2 + W_3*X_3 $\n",
    "\n",
    "- $\\frac{dh1}{w} = X_1 , X_2 , X_3 $\n",
    "\n",
    "- $\\frac{dh1}{x} = W_1 , W_2 , W_3 $\n",
    "\n",
    "- $\\frac{w.t@x}{x} =\\frac{dh1}{x}*\\frac{ds}{dh1} = <W_1 , W_2 , W_3 >*0.204$\n",
    "\n",
    "- $\\frac{w.t@x}{w} =\\frac{dh1}{w}*\\frac{ds}{dh1} = <X_1 , X_2 , X_3 >*0.204$\n",
    "\n",
    "-$w.t.r_x = 0.204*\\left( \\begin{array}{cc}\n",
    "2.0\\\\-3.0\\\\-3.0\n",
    "\\end{array} \\right) = %\n",
    "\\left( \\begin{array}{cc}\n",
    "0.406\\\\-0.609\\\\-0.609\n",
    "\\end{array}\\right) $ \n",
    "\n",
    "-$w.t.r_w = 0.204*\\left( \\begin{array}{cc}\n",
    "-1.0\\\\-2.0\\\\1.0\n",
    "\\end{array} \\right) = %\n",
    "\\left( \\begin{array}{cc}\n",
    "-0.204\\\\-0.408\\\\0.204\n",
    "\\end{array}\\right) $ \n"
   ]
  },
  {
   "cell_type": "markdown",
   "metadata": {
    "id": "9f6vmhMQr2EK"
   },
   "source": [
    "## **Q2.3**. torch.nn\n",
    "\n",
    " Implement the function corresponding to one neuron (logistic regression unit) that we saw in the lecture and compute the gradient w.r.t. $x$ and $w$. The function is $f=\\sigma(w^Tx+b)$ where $\\sigma()$ is the sigmoid function. Initialize $x=[-1, -2]$ and the weights to $w=[2, -3]$ bias $b=-3$. Now we are using but using the `Linear` class from `torch.nn`, followed by the [Sigmoid](https://pytorch.org/docs/stable/nn.html#torch.nn.Sigmoid) class. \n",
    "\n",
    "In general, many useful functions are already implemented for us in this package. Compute the gradients $\\partial f/\\partial w$ by running `backward()` and print them out (they will be stored in the Linear variable, e.g. in `.weight.grad`.) "
   ]
  },
  {
   "cell_type": "code",
   "execution_count": 23,
   "metadata": {
    "colab": {
     "base_uri": "https://localhost:8080/"
    },
    "id": "HTBMhenyr4uj",
    "outputId": "fd2f1b9c-4b2b-42fe-c42c-127608340d50"
   },
   "outputs": [
    {
     "name": "stdout",
     "output_type": "stream",
     "text": [
      "\n",
      "weights: Parameter containing:\n",
      "tensor([[ 2., -3.]], requires_grad=True)\n",
      "\n",
      "bias: Parameter containing:\n",
      "tensor([[2.]], requires_grad=True)\n",
      "\n",
      "x: torch.Size([1, 2])\n",
      "\n",
      "lin aprox =  tensor([[6.]], grad_fn=<AddmmBackward>)\n",
      "\n",
      "f: tensor([[0.9975]], grad_fn=<SigmoidBackward>)\n",
      "The gradient of f() w.r.t. w is tensor([[-0.0025, -0.0049]]) |b is: tensor([[0.0025]])\n"
     ]
    }
   ],
   "source": [
    "# solution here\n",
    "import torch.nn as nn\n",
    "x.grad = None  \n",
    "w.grad =None \n",
    "\n",
    "\n",
    "\n",
    "w = torch.tensor([[2.], [-3.]])\n",
    "b =  torch.tensor( [[2.0]],requires_grad=True)\n",
    "# initilize a linear layer\n",
    "linear_f = nn.Linear(2, 1)\n",
    "# initilize weight and bias\n",
    "linear_f.weight.data = torch.transpose(w, 0, 1)\n",
    "linear_f.bias.data = b\n",
    "\n",
    "print(\"\\nweights:\", linear_f.weight)\n",
    "print(\"\\nbias:\",linear_f.bias)\n",
    "\n",
    "# initilize x and compute f\n",
    "X = [[-1.0,-2.0]]\n",
    "x =  torch.tensor([[-1.0,-2.0]],requires_grad=True)\n",
    "print(\"\\nx:\",x.shape)\n",
    "\n",
    "forSig = linear_f(x)\n",
    "\n",
    "print(\"\\nlin aprox = \",forSig)\n",
    "\n",
    "m =nn.Sigmoid()\n",
    "f = m(forSig)\n",
    "\n",
    "\n",
    "print(\"\\nf:\", f)\n",
    "\n",
    "# do backprop\n",
    "f.backward(retain_graph=True)\n",
    "\n",
    "print(\"The gradient of f() w.r.t. w is\", linear_f.weight.grad,\"|b is:\" ,linear_f.bias.grad)"
   ]
  },
  {
   "cell_type": "markdown",
   "metadata": {
    "id": "YmTyL4tAtWZC"
   },
   "source": [
    "## **Q2.4** Module\n",
    " Now lets put these two functions (Linear and Sigmoid) together into a \"module\". Read the [Neural Networks tutorial](https://pytorch.org/tutorials/beginner/blitz/neural_networks_tutorial.html) if you have not already.\n",
    "\n",
    "**Q2.4.1** Make a subclass of the `Module` class, called `Neuron`. Set variables to the same values as above. You will need to fill out the `__init__` and the `forward` is already given."
   ]
  },
  {
   "cell_type": "code",
   "execution_count": 8,
   "metadata": {
    "id": "4Oy9NG-gr81q"
   },
   "outputs": [],
   "source": [
    "# solution here\n",
    "import torch.nn as nn\n",
    "\n",
    "class Neuron(nn.Module):\n",
    "\n",
    "    def __init__(self):\n",
    "        super(Neuron, self).__init__()\n",
    "        # an affine operation: y = weight*x + bias, with fixed parameters\n",
    "        self.linear = nn.Linear(2, 1)\n",
    "        self.linear.weight.data = torch.transpose(torch.tensor([[2.], [-3.]]),0,1);\n",
    "        self.linear.bias.data = torch.tensor([[2.0]])\n",
    "        # a sigmoid function\n",
    "        self.sigmoid = nn.Sigmoid()\n",
    "\n",
    "    def forward(self, x):\n",
    "        x = self.linear(x)\n",
    "        x = self.sigmoid(x)\n",
    "        return x\n"
   ]
  },
  {
   "cell_type": "markdown",
   "metadata": {
    "id": "xM13evB9tj0j"
   },
   "source": [
    "**Q2.4.2** Now create a  variable of your `Neuron` class called `my_neuron` and run backpropagation on it. Print out the gradients again. Make sure you zero out the gradients first, by calling `.zero_grad()` function of the parent class. Even if you will not re-compute the backprop, it is good practice to do this every time to avoid accumulating gradient!"
   ]
  },
  {
   "cell_type": "code",
   "execution_count": 9,
   "metadata": {
    "colab": {
     "base_uri": "https://localhost:8080/"
    },
    "id": "v-VKjnu7tfgP",
    "outputId": "b576db84-167d-4bbf-824b-3448d989b714"
   },
   "outputs": [
    {
     "name": "stdout",
     "output_type": "stream",
     "text": [
      "Neuron(\n",
      "  (linear): Linear(in_features=2, out_features=1, bias=True)\n",
      "  (sigmoid): Sigmoid()\n",
      ")\n",
      "The weights are: Parameter containing:\n",
      "tensor([[ 2., -3.]], requires_grad=True)\n",
      "\n",
      "f(x,w)= tensor([[0.9975]], grad_fn=<SigmoidBackward>)\n",
      "The gradient of f() w.r.t. w is tensor([[-0.0025, -0.0049]]) tensor([[0.0025]])\n"
     ]
    }
   ],
   "source": [
    "# solution here\n",
    "my_neuron = Neuron()\n",
    "print(my_neuron)\n",
    "params = list(my_neuron.parameters())\n",
    "\n",
    "print(\"The weights are:\", params[0])  # linear layer's .weight\n",
    "# initialize the input x same as in Q2.3 and compute the output of my_neuron\n",
    "x =  torch.tensor([[-1.0,-2.0]],requires_grad=True)\n",
    "out = my_neuron.forward(x)\n",
    "\n",
    "print(\"\\nf(x,w)=\", out)\n",
    "# zero the gradient of my_neuron and compute the gradient by calling backward.\n",
    "my_neuron.zero_grad()\n",
    "out.backward(retain_graph=True)\n",
    "print(\"The gradient of f() w.r.t. w is\", params[0].grad, params[1].grad)"
   ]
  },
  {
   "cell_type": "markdown",
   "metadata": {
    "id": "1ywjySyatv0l"
   },
   "source": [
    "## **Q2.5**. Loss and SGD\n",
    " Now, lets train our neuron on some data. The code below creates a toy dataset containing a few inputs $x$ and outputs $y$ (a binary 0/1 label), as well as a function that plots the data and current solution."
   ]
  },
  {
   "cell_type": "code",
   "execution_count": 26,
   "metadata": {
    "colab": {
     "base_uri": "https://localhost:8080/",
     "height": 286
    },
    "id": "s7fQKy56txsR",
    "outputId": "d338a7ab-b78d-492f-e6cb-6aac083edd17"
   },
   "outputs": [
    {
     "name": "stdout",
     "output_type": "stream",
     "text": [
      "w0 = 2.0 w1 = -3.0 bias = 2.0\n"
     ]
    },
    {
     "data": {
      "image/png": "[encoded data removed]",
      "text/plain": [
       "<Figure size 432x288 with 1 Axes>"
      ]
     },
     "metadata": {
      "needs_background": "light",
      "tags": []
     },
     "output_type": "display_data"
    }
   ],
   "source": [
    "import matplotlib.pyplot as plt\n",
    "\n",
    "# create some toy 2-D datapoints with binary (0/1) labels\n",
    "x = torch.tensor([[1.2, 1], [0.2, 1.4], [0.5, 0.5], \n",
    "                  [-1.5, -1.3], [0.2, -1.4], [-0.7, -0.5]])\n",
    "y = torch.tensor([0, 0, 0, 1, 1, 1 ])\n",
    "\n",
    "def plot_soln(x, y, params):\n",
    "  plt.plot(x[y==1,0], x[y==1,1], 'r+')\n",
    "  plt.plot(x[y==0,0], x[y==0,1], 'b.')\n",
    "  plt.grid(True)\n",
    "  plt.axis([-2, 2, -2, 2])\n",
    "  \n",
    "  # NOTE : This may depend on how you implement Neuron.\n",
    "  #   Change accordingly\n",
    "  w0 = params[0][0][0].item()\n",
    "  w1 = params[0][0][1].item()\n",
    "  bias = params[1][0].item()\n",
    "  \n",
    "  print(\"w0 =\", w0, \"w1 =\", w1, \"bias =\", bias)\n",
    "  dbx = torch.tensor([-2, 2])\n",
    "  dby = -(1/w1)*(w0*dbx + bias)  # plot the line corresponding to the weights and bias\n",
    "  plt.plot(dbx, dby)\n",
    "\n",
    "params = list(my_neuron.parameters())\n",
    "plot_soln(x, y, params)"
   ]
  },
  {
   "cell_type": "markdown",
   "metadata": {
    "id": "QpxhBtl8t6Th"
   },
   "source": [
    "**Q2.5.1** Declare an object `criterion` of type `nn.CrossEntropyLoss`. Note that this can be called as a function on two tensors, one representing the network outputs and the other, the targets that the network is being trained to predict, to return the loss. "
   ]
  },
  {
   "cell_type": "code",
   "execution_count": 76,
   "metadata": {
    "colab": {
     "base_uri": "https://localhost:8080/"
    },
    "id": "tEZiH8lLtnrT",
    "outputId": "2522a110-5783-417b-f3f6-cbbeda57ea8d"
   },
   "outputs": [
    {
     "name": "stdout",
     "output_type": "stream",
     "text": [
      "loss = 0.7994996905326843\n"
     ]
    }
   ],
   "source": [
    "# solution here\n",
    "criterion = nn.CrossEntropyLoss()\n",
    "\n",
    "# forward + backward + optimize\n",
    "\n",
    "outputs =my_neuron.forward((x))\n",
    "input = torch.transpose(torch.tensor([[1.0,1.0,1.0,1.0,1.0,1.0]]),0,1)\n",
    "\n",
    "outputs = torch.cat((outputs,input), 1)\n",
    "loss = criterion(outputs,y)\n",
    "print(\"loss =\", loss.item())"
   ]
  },
  {
   "cell_type": "markdown",
   "metadata": {
    "id": "eYv8hztvuLg1"
   },
   "source": [
    "\n",
    "**Q2.5.2** Print out the chain of `grad_fn` functions backwards starting from `loss.grad_fn`  to demonstrate what backpropagation will be run on. This part is already given to you."
   ]
  },
  {
   "cell_type": "code",
   "execution_count": 73,
   "metadata": {
    "colab": {
     "base_uri": "https://localhost:8080/"
    },
    "id": "zM6X4OIYuG8O",
    "outputId": "69b2d6ec-6d94-4330-92c6-76bc50d74ed2"
   },
   "outputs": [
    {
     "name": "stdout",
     "output_type": "stream",
     "text": [
      "<NllLossBackward object at 0x7f45e0bf6650>\n",
      "<LogSoftmaxBackward object at 0x7f45e0c0ecd0>\n",
      "<CatBackward object at 0x7f45e0c0e7d0>\n",
      "None\n"
     ]
    }
   ],
   "source": [
    "print(loss.grad_fn)  \n",
    "print(loss.grad_fn.next_functions[0][0])  \n",
    "print(loss.grad_fn.next_functions[0][0].next_functions[0][0])  \n",
    "print(loss.grad_fn.next_functions[0][0].next_functions[0][0].next_functions[0][0])  "
   ]
  },
  {
   "cell_type": "markdown",
   "metadata": {
    "id": "8jQb5oh5uWG-"
   },
   "source": [
    "**Q2.5.3** Run the Stochastic Gradient Descent (SGD) optimizer from the `torch.optim` package to train your classifier on the toy dataset. Use the entire dataset in each batch. Use a learning rate of $0.01$ (no other hyperparameters). You will need to write a training loop that uses the `.step()` function of the optimizer. Plot the solution and print the loss after 10000 iterations."
   ]
  },
  {
   "cell_type": "code",
   "execution_count": 84,
   "metadata": {
    "colab": {
     "base_uri": "https://localhost:8080/",
     "height": 303
    },
    "id": "vkm4xUHZuVQf",
    "outputId": "e427ba15-7fac-4b7c-932e-0de13a923e97"
   },
   "outputs": [
    {
     "name": "stdout",
     "output_type": "stream",
     "text": [
      "loss = 0.512342631816864\n",
      "w0 = 4.21055793762207 w1 = 2.4425106048583984 bias = 0.5773947238922119\n"
     ]
    },
    {
     "data": {
      "image/png": "[encoded data removed]",
      "text/plain": [
       "<Figure size 432x288 with 1 Axes>"
      ]
     },
     "metadata": {
      "needs_background": "light",
      "tags": []
     },
     "output_type": "display_data"
    }
   ],
   "source": [
    "# solution here\n",
    "import torch.optim as optim\n",
    "\n",
    "# create your optimizer\n",
    "optimizer = optim.SGD(params, lr=0.01)\n",
    "\n",
    "# training loop\n",
    "for i in range(10000):\n",
    "  # in your training loop:\n",
    "  # 1. zero the gradient buffers\n",
    "  optimizer.zero_grad()\n",
    "  # 2. compute the output by given the input x\n",
    "  out = my_neuron.forward(x)\n",
    "  my_neuron.zero_grad()\n",
    "  # 3. compute the loss\n",
    "  outputs = torch.cat((out,input), 1)\n",
    "  loss = criterion(outputs,y)\n",
    "  # 4. computing the gradient \n",
    "  loss.backward(retain_graph=True)\n",
    "  # 5. update the parameter by calling step on the optimizer\n",
    "  optimizer.step()\n",
    "\n",
    "print(\"loss =\", loss.item())\n",
    "params = list(my_neuron.parameters())\n",
    "plot_soln(x, y, params)"
   ]
  },
  {
   "cell_type": "code",
   "execution_count": null,
   "metadata": {
    "id": "sXQQ5Vxjue5D"
   },
   "outputs": [],
   "source": []
  }
 ],
 "metadata": {
  "colab": {
   "collapsed_sections": [],
   "name": "Homework9(1).ipynb",
   "provenance": [],
   "toc_visible": true
  },
  "kernelspec": {
   "display_name": "Python 3 (ipykernel)",
   "language": "python",
   "name": "python3"
  },
  "language_info": {
   "codemirror_mode": {
    "name": "ipython",
    "version": 3
   },
   "file_extension": ".py",
   "mimetype": "text/x-python",
   "name": "python",
   "nbconvert_exporter": "python",
   "pygments_lexer": "ipython3",
   "version": "3.9.7"
  }
 },
 "nbformat": 4,
 "nbformat_minor": 1
}
