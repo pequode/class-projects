{
 "cells": [
  {
   "cell_type": "markdown",
   "metadata": {
    "id": "B_ih-R1fJ6VG"
   },
   "source": [
    "# Homework 4: Linear Binary Classification Methods\n",
    "by Junyu Liu and Brian Kulis\n",
    "\n",
    "**Due date**: March 3, Wednesday by 11:59pm\n",
    "\n",
    "**Late** due date: March 6, Saturday by 11:59pm"
   ]
  },
  {
   "cell_type": "markdown",
   "metadata": {
    "id": "fBxGJCzSKovR"
   },
   "source": [
    "## Setup"
   ]
  },
  {
   "cell_type": "markdown",
   "metadata": {
    "id": "4mxor3LzKpqj"
   },
   "source": [
    "To run and solve this assignment, you must have access to a working Jupyter Notebook installation. We recommend Google Colab. If you are already familiar with Jupyter and have your own installation, you may use it; however, you will have to tweak Colab-specific commands we've entered here (for example, file uploads).\n",
    "\n",
    "To use Google Colab:\n",
    "\n",
    "1. Download this `ipynb` file.\n",
    "2. Navigate to https://colab.research.google.com/ and select `Upload` in the pop-up window.\n",
    "3. Upload this file. It will then open in Colab.\n",
    "\n",
    "The below statements assume that you have already followed these instructions. If you need help with Python syntax, NumPy, or Matplotlib, you might find Week 1 discussion material useful.\n",
    "\n",
    "To run code in a cell or to render Markdown+LaTeX press Ctrl+Enter or \"`Run`\" button above. To edit any code or text cell, double-click on its content. Put your solution into boxes marked with **`[double click here to add a solution]`** and press Ctrl+Enter to render text. You can add cells via `+` sign at the top left corner.\n",
    "\n",
    "**Submission instructions:** please upload your completed solution file as well as a scan of any handwritten answers to Gradescope by the due date (see Schedule)."
   ]
  },
  {
   "cell_type": "markdown",
   "metadata": {
    "id": "iTtN4g49nWrB"
   },
   "source": [
    "This homework is scored out of 100.\n",
    "\n",
    "\n",
    "**Important:** unless otherwise specified, you should **NOT** use loops. This is not to say loops are always bad, but avoiding them should help you:\n",
    "1.   get more familiar with common language features and libraries\n",
    "2.   write more efficient code\n",
    "3.   \"think in higher dimensions\" (get more comfortable with vectors, matrices, etc.)"
   ]
  },
  {
   "cell_type": "markdown",
   "metadata": {
    "id": "_32VwlhsN9ny"
   },
   "source": [
    "## **Question 1:** Creating a Dataset (10 points)\n",
    "\n",
    "For this assignment, we will create a simple linearly-separable dataset for binary classification. We have provided you with the code to generate the feature vectors. Notice that one class has significantly more samples than the other.\n",
    "\n",
    "**Important:** Although this dataset has only 1 feature, **ALL** the code you write in this assignment should be able to run as intended with more features. The only exception is where you are producing plots. Many functions you need to write will be tested for compatibility with more features in question 5."
   ]
  },
  {
   "cell_type": "code",
   "execution_count": null,
   "metadata": {
    "id": "LS0rlO3eOCZK"
   },
   "outputs": [],
   "source": [
    "import numpy as np\n",
    "import pandas as pd\n",
    "import matplotlib.pyplot as plt\n",
    "from sklearn.model_selection import train_test_split\n",
    "from numpy.random import default_rng"
   ]
  },
  {
   "cell_type": "code",
   "execution_count": null,
   "metadata": {
    "id": "lw5AUAsV5MQr"
   },
   "outputs": [],
   "source": [
    "# Do NOT change\n",
    "rng = default_rng(1)\n",
    "x1 = rng.uniform(-4, 2, 460)\n",
    "x2 = rng.normal(5, np.sqrt(3), 40)"
   ]
  },
  {
   "cell_type": "markdown",
   "metadata": {
    "id": "S7rbmFam-xWg"
   },
   "source": [
    "### Problem a. (4 points)\n",
    "We need to create appropriate labels for the two classes. x1 is the feature vectors of the negative class and x2 the positive class. Also produce a colored feature-label scatter plot (the negative class should be blue and the positive class should be red)."
   ]
  },
  {
   "cell_type": "code",
   "execution_count": null,
   "metadata": {
    "colab": {
     "base_uri": "https://localhost:8080/",
     "height": 299
    },
    "id": "1i19iWdkAVpY",
    "outputId": "43482206-b706-4779-951a-edad3f602993"
   },
   "outputs": [
    {
     "name": "stdout",
     "output_type": "stream",
     "text": [
      "(460, 1) (460,) (40, 1) (40,)\n"
     ]
    },
    {
     "data": {
      "text/plain": [
       "<matplotlib.collections.PathCollection at 0x7fcb29035f50>"
      ]
     },
     "execution_count": 16,
     "metadata": {
      "tags": []
     },
     "output_type": "execute_result"
    },
    {
     "data": {
      "image/png": "[encoded data removed]",
      "text/plain": [
       "<Figure size 432x288 with 1 Axes>"
      ]
     },
     "metadata": {
      "needs_background": "light",
      "tags": []
     },
     "output_type": "display_data"
    }
   ],
   "source": [
    "# WRITE CODE HERE: \n",
    "y2 = np.ones((40,1))\n",
    "y1 = np.ones((460,1))\n",
    "y1 = y1*-1\n",
    "\n",
    "print(y1.shape,x1.shape, y2.shape,x2.shape)\n",
    "\n",
    "plt.scatter(x1, y1, marker='o',color =\"blue\")\n",
    "plt.scatter(x2, y2, marker='o',color =\"red\")"
   ]
  },
  {
   "cell_type": "markdown",
   "metadata": {
    "id": "YRLTGhczArfW"
   },
   "source": [
    "### Problem b. (3 points)\n",
    "Combine the data into X and y, and then perform a 75-25 train-test split. Use 32 as the random_state.\n",
    "\n",
    "Hint: X has to be a 2D array, so you need to use reshape at some point."
   ]
  },
  {
   "cell_type": "code",
   "execution_count": null,
   "metadata": {
    "colab": {
     "base_uri": "https://localhost:8080/"
    },
    "id": "ofFs0MR9Dp7z",
    "outputId": "787964b4-f3df-4411-a306-7fa8a1711357"
   },
   "outputs": [
    {
     "name": "stdout",
     "output_type": "stream",
     "text": [
      "(500, 2)\n",
      "(125, 2) (125,)\n"
     ]
    }
   ],
   "source": [
    "# WRITE CODE HERE:\n",
    "xinter =np.append( x1,x2)\n",
    "Bias = np.ones((500,1))\n",
    "X = np.append(xinter, Bias)\n",
    "X = np.reshape(X,(2,500))\n",
    "X = X.T\n",
    "yinter = np.append( y1,y2)\n",
    "print(X.shape)\n",
    "random_state=32\n",
    "test_size=0.25\n",
    "xtrain, xtest, ytrain, ytest = train_test_split(X, yinter, test_size=test_size, random_state=random_state)#\n",
    "print(xtest.shape,ytest.shape)\n"
   ]
  },
  {
   "cell_type": "markdown",
   "metadata": {
    "id": "fTlkYTs619A_"
   },
   "source": [
    "### Problem c. (3 points)\n",
    "To conveniently account for the bias term in later parts, we will also store the feature vectors in extended form (each feature vector appended with 1). Apply this to both X_train and X_test."
   ]
  },
  {
   "cell_type": "code",
   "execution_count": null,
   "metadata": {
    "colab": {
     "base_uri": "https://localhost:8080/"
    },
    "id": "4LFCgyVU3EKY",
    "outputId": "ec6a5427-37d9-4d75-c49e-3a5e58b98859"
   },
   "outputs": [
    {
     "name": "stdout",
     "output_type": "stream",
     "text": [
      "(375, 3)\n"
     ]
    }
   ],
   "source": [
    "#WRITE CODE HERE:\n",
    "baisTr = np.ones((xtrain.shape[0],1))\n",
    "Xtr_ext = np.append(xtrain,baisTr,1) # X_train, extended\n",
    "baisTe = np.ones((xtest.shape[0],1))\n",
    "Xte_ext = np.append(xtest,baisTe,1)# X_test, extended\n",
    "\n",
    "print(Xtr_ext.shape)"
   ]
  },
  {
   "cell_type": "markdown",
   "metadata": {
    "id": "Vf7z43OcK2ax"
   },
   "source": [
    "## **Question 2:** OLS Regression for Binary Classification (20 points)\n",
    "\n",
    "In class, we talked about one way to implement clasification is to use one of the linear regression methods we learned. We will investigate how to use OLS for binary classification and see how it performs."
   ]
  },
  {
   "cell_type": "markdown",
   "metadata": {
    "id": "cxZX2J8wLVix"
   },
   "source": [
    "### Problem a. (3 points)\n",
    "\n",
    "When OLS takes a feature vector, it gives you a real-valued scalar. Assuming OLS works well (i.e., it gives a value close to the binary label (either -1 or 1) for most of the samples), how can you translate the value into the label? Suggest a simple method.\n",
    "\n",
    "Hint: we talked about this in class"
   ]
  },
  {
   "cell_type": "markdown",
   "metadata": {
    "id": "7gdm7yHm72aa"
   },
   "source": [
    "use the sign operation"
   ]
  },
  {
   "cell_type": "markdown",
   "metadata": {
    "id": "eEFD30vtfu3T"
   },
   "source": [
    "### Problem b. (7 points)\n",
    "For simplicity, we will use the OLS implementation from sklearn whose documentation can be found here:\n",
    "https://scikit-learn.org/stable/modules/generated/sklearn.linear_model.LinearRegression.html\n",
    "\n",
    "Fit the model to X_train, y_train and then extract w and b. You should do so by using get_wOLS_ext, which you need to complete. Note that the function should return a single vector, which is the regular w vector with the bias term appended to it.\n",
    "\n",
    "Lastly, create the following plot:\n",
    "* a scatter plot of the training data overlayed by the OLS solution. For this, You can assume that X_train has only one feature.\n",
    "\n",
    "Hint: w is the coeficient and b is the intercept."
   ]
  },
  {
   "cell_type": "code",
   "execution_count": null,
   "metadata": {
    "colab": {
     "base_uri": "https://localhost:8080/",
     "height": 317
    },
    "id": "GvgEoJUMcpEh",
    "outputId": "7b09a4f7-f7bd-49d4-ccb6-aec9042f0039"
   },
   "outputs": [
    {
     "name": "stdout",
     "output_type": "stream",
     "text": [
      "[0.15042363 0.        ]\n"
     ]
    },
    {
     "data": {
      "text/plain": [
       "[<matplotlib.lines.Line2D at 0x7fcb28fbb890>,\n",
       " <matplotlib.lines.Line2D at 0x7fcb28fbbad0>]"
      ]
     },
     "execution_count": 19,
     "metadata": {
      "tags": []
     },
     "output_type": "execute_result"
    },
    {
     "data": {
      "image/png": "[encoded data removed]",
      "text/plain": [
       "<Figure size 432x288 with 1 Axes>"
      ]
     },
     "metadata": {
      "needs_background": "light",
      "tags": []
     },
     "output_type": "display_data"
    }
   ],
   "source": [
    "from sklearn import linear_model\n",
    "# WRITE CODE HERE: \n",
    "# DO NOT assume that X has only one featur\n",
    "def get_wOLS_ext(X, y):\n",
    "    reg =linear_model.LinearRegression().fit(X, y)\n",
    "\n",
    "    print(reg.coef_)\n",
    "    return reg.coef_\n",
    "\n",
    "wOLS_ext = get_wOLS_ext(xtrain, ytrain)\n",
    "yguess = wOLS_ext[0] * xtrain + wOLS_ext[1] \n",
    "plt.scatter(xtrain.T[0], ytrain, marker='o',color =\"blue\")\n",
    "plt.plot(xtrain,yguess,color =\"red\")"
   ]
  },
  {
   "cell_type": "markdown",
   "metadata": {
    "id": "YhgVuFW9w773"
   },
   "source": [
    "### Problem c. (6 points)\n",
    "\n",
    "Complete the linear_binary_predict function to predict the labels of the test set using the OLS solution from part a. Also complete compute_CCR and report the correct classification rate (CCR).\n",
    "\n",
    "linear_binary_predict takes Xext, a matrix of extended feature vectors, and wext, an extended weight vector; it performs linear binary classification and returns a vector of predicted binary labels.\n",
    "\n",
    "compute_CCR takes Xext, wext, along with y, the expected binary labels to compute CCR. It should make use of linear_binary_predict.\n",
    "\n",
    "Note: \n",
    "*   We assume Xext to be row-major, meaning each row is a sample.\n",
    "*   Do not change the function prototype of linear_binary_predict. This also applies to all other functions we ask you to complete\n",
    "*   The OLS from sklearn has a builtin predict function. We are asking you to complete linear_binary_predict instead of using the builtin predict because linear_binary_predict will be important for later parts.\n",
    "\n",
    "Hint: use the idea from part a.\n",
    "\n"
   ]
  },
  {
   "cell_type": "code",
   "execution_count": null,
   "metadata": {
    "colab": {
     "base_uri": "https://localhost:8080/"
    },
    "id": "vrhLQ-0_x8OX",
    "outputId": "3faba44a-0841-4178-b9bb-ccd80903fb60"
   },
   "outputs": [
    {
     "name": "stdout",
     "output_type": "stream",
     "text": [
      "(375, 2)\n",
      "The test CCR using OLS is 0.72\n"
     ]
    }
   ],
   "source": [
    "# WRITE CODE HERE:\n",
    "def linear_binary_predict(Xext, wext):\n",
    "    yguess = []\n",
    "    for i in range(len(Xext)):\n",
    "      # print(\"x:\",Xext[i].shape)\n",
    "      \n",
    "      # print(\"w:\",wext.shape,wext[-1])\n",
    "      num = wext @ Xext[i] +wext[-1]\n",
    "      # print (num.shape)\n",
    "      if num <0: num =-1\n",
    "      else : num =1\n",
    "      yguess.append(num)\n",
    "    return yguess\n",
    "\n",
    "def compute_CCR(Xext, wext, y):\n",
    "    yguess = linear_binary_predict(Xext, wext)\n",
    "    total = [(item*0)+1 for i,item in enumerate(y) if item ==yguess[i] ]\n",
    "    sumOfcorrect = sum(total)\n",
    "    Rate = float(sumOfcorrect/len(y))\n",
    "    return Rate\n",
    "print(xtrain.shape)\n",
    "CCR = compute_CCR(xtrain,wOLS_ext,ytrain)\n",
    "print(\"The test CCR using OLS is\", CCR)"
   ]
  },
  {
   "cell_type": "markdown",
   "metadata": {
    "id": "dX-NCA9sZ5XO"
   },
   "source": [
    "### Problem d. (4 points)\n",
    "Explain why CCR is not a good metric in this case. Suggest an alternative that better captures the performance of OLS on this dataset."
   ]
  },
  {
   "cell_type": "markdown",
   "metadata": {
    "id": "ZZmVPImh-XSk"
   },
   "source": [
    "CCR is a bad metric because it weights all negitive values and positive values with equal amplitude. This means that it is hard to solve for. In this case it is a bad mesure because the data shares x values for each classification"
   ]
  },
  {
   "cell_type": "markdown",
   "metadata": {
    "id": "OF7u7IoGC96w"
   },
   "source": [
    "## **Question 3:** Fisher's Linear Discriminant (27 points)\n",
    "Fisher's Linear Discriminant is a method that takes d dimensional feature vectors and projects them into 1 dimension, and it tries to do so in a fashion where the resulting 1D values are well-separated by class. Here our d happens to be 1, but as mentioned above, the code you write needs to be able to accomodate higher dimensions for full credit."
   ]
  },
  {
   "cell_type": "markdown",
   "metadata": {
    "id": "VaVLlwwJWrpX"
   },
   "source": [
    "### a. Separate the training set by class (4 points)\n",
    "\n",
    "Write a function seperate that takes the inputs X, y and separates X based on y.\n",
    "\n",
    "For full credit, create a vectorized implementation (no for loops)."
   ]
  },
  {
   "cell_type": "code",
   "execution_count": null,
   "metadata": {
    "id": "991ZOOYCY02l"
   },
   "outputs": [],
   "source": [
    "def seperate(X, y):\n",
    "    # WRITE CODE HERE:\n",
    "    \n",
    "    X1 = [ x for i,x in enumerate(X) if y[i] == -1]\n",
    "    X2 = [ x for i,x in enumerate(X) if y[i] == 1]\n",
    "    X1 = np.asarray(X1,dtype=np.float32)\n",
    "    X2 = np.asarray(X2, dtype=np.float32)\n",
    "    # X1 should be of the negative class, and X2 the positive class\n",
    "    return X1, X2\n",
    "\n",
    "X1, X2 = seperate(xtrain, ytrain)"
   ]
  },
  {
   "cell_type": "markdown",
   "metadata": {
    "id": "bMMqIr0xB9BP"
   },
   "source": [
    "### b. Calculate mean vectors (4 points)\n",
    "Write a function get_means that takes the inputs X1, X2 and calculates the mean vectors of the two classes.\n",
    "\n",
    "For full credit, create a vectorized implementation (no for loops)."
   ]
  },
  {
   "cell_type": "code",
   "execution_count": null,
   "metadata": {
    "colab": {
     "base_uri": "https://localhost:8080/"
    },
    "id": "GxuPgvLQKTPF",
    "outputId": "8551315f-4e86-4ad5-b4a6-af46341ffb5f"
   },
   "outputs": [
    {
     "name": "stdout",
     "output_type": "stream",
     "text": [
      "m1, m2: [-1.0708544  1.       ] [5.731858 1.      ]\n"
     ]
    }
   ],
   "source": [
    "def get_means(X1, X2):\n",
    "    # WRITE CODE HERE:\n",
    "    m1 =np.mean(X1,axis=0)\n",
    "    m2 =np.mean(X2,axis=0)\n",
    "    return m1, m2 \n",
    "\n",
    "m1, m2 = get_means(X1, X2)\n",
    "print('m1, m2:', m1, m2)"
   ]
  },
  {
   "cell_type": "markdown",
   "metadata": {
    "id": "X3xQqSq_Ogmd"
   },
   "source": [
    "### c. Calculate within-class covariance (5 points)\n",
    "$S_w$, the total within-class covariance matrix, is a d by d matrix given by $S_1 + S_2$ where $S_1 = \\sum_{x_i \\in X_1}(x_i-m_1)^T(x_i-m_1) = (X_1-m_1)^T(X_1-m_1)$. \n",
    "\n",
    "Write a function get_Sw that takes the inputs X1, X2, m1, m2 and calculates Sw.\n",
    "\n",
    "For full credit, create a vectorized implementation.\n",
    "\n",
    "**Note:** depending on the schema of the dataset (row-major vs column-major), the formula to use might differ slightly from those on the lecture slides. We assume row-major (each sample is a row) here, as many public datasets are organized this way."
   ]
  },
  {
   "cell_type": "code",
   "execution_count": null,
   "metadata": {
    "colab": {
     "base_uri": "https://localhost:8080/"
    },
    "id": "C5NaX0uwUXll",
    "outputId": "076f558b-1fd2-4d07-f15b-a1a550e07a6c"
   },
   "outputs": [
    {
     "name": "stdout",
     "output_type": "stream",
     "text": [
      "Sw: 1106.736\n"
     ]
    }
   ],
   "source": [
    "def get_Sw(X1, X2, m1, m2):\n",
    "    # WRITE CODE HERE:\n",
    "    X1m1 = (X1-m1)\n",
    "    \n",
    "    X2m2 = (X2-m2)\n",
    "    S1 = X1m1.T @ X1m1\n",
    "    S2 = X2m2.T @ X2m2\n",
    "    Sw = S1+S2\n",
    "    return Sw\n",
    "\n",
    "Sw = get_Sw(X1.T[0].T, X2.T[0].T, m1[0], m2[0])\n",
    "print('Sw:', Sw)"
   ]
  },
  {
   "cell_type": "markdown",
   "metadata": {
    "id": "NnV8WWDBdZAG"
   },
   "source": [
    "### d. Calculate $w_{FLD}$ and $b_{FLD}$ (5 points)\n",
    "Write a function get_wFLD_ext that takes the inputs Sw, m1, m2 and calculates the extended $w_{FLD}$.\n",
    "\n",
    "Recall that in class we mentioned the average of the averages of the two classes after the linear transformation can serve as the bias term. However, since we want the outputs of $Xw + b$ on the two classes to be roughly separated by 0, we actually want the effect of adding b to be the same as subtracting that average. Thus, use $b = -(m_1w + m_2w)/2$.\n",
    "\n",
    "For full credit, create a vectorized implementation, and do not use the inverse function.\n"
   ]
  },
  {
   "cell_type": "code",
   "execution_count": null,
   "metadata": {
    "colab": {
     "base_uri": "https://localhost:8080/"
    },
    "id": "F1BuMyNvdXm9",
    "outputId": "d5d9eccd-ef60-47da-ac2f-643d04bf7988"
   },
   "outputs": [
    {
     "name": "stdout",
     "output_type": "stream",
     "text": [
      "wFLD_ext: [[0.00614664 0.        ]]\n"
     ]
    }
   ],
   "source": [
    "def get_wFLD_ext(Sw, m1, m2):\n",
    "    # WRITE CODE HERE: \n",
    "    sinv = np.linalg.inv(Sw)\n",
    "    w = sinv*(m2-m1)\n",
    "    b = -(m1*w+m2*w)*0.5\n",
    "    np.append(w,b)\n",
    "    return w\n",
    "\n",
    "wFLD_ext = get_wFLD_ext(Sw.reshape(1,1), m1, m2)\n",
    "print('wFLD_ext:', wFLD_ext)"
   ]
  },
  {
   "cell_type": "markdown",
   "metadata": {
    "id": "R5FyLF32e9t0"
   },
   "source": [
    "### e. Evaluation (4 points)\n",
    "\n",
    "First, create a plot of the FLD solution using the training set. Then use the compute_CCR function that you wrote earlier to get the FLD CCR on the test set."
   ]
  },
  {
   "cell_type": "code",
   "execution_count": null,
   "metadata": {
    "colab": {
     "base_uri": "https://localhost:8080/",
     "height": 316
    },
    "id": "9hWd2qTM_xun",
    "outputId": "4a2fa804-34d7-4571-91a1-fbd663e99cbe"
   },
   "outputs": [
    {
     "name": "stdout",
     "output_type": "stream",
     "text": [
      "(1, 2)\n",
      "0.72\n",
      "The test CCR using FLD is 0.72\n"
     ]
    },
    {
     "data": {
      "image/png": "[encoded data removed]",
      "text/plain": [
       "<Figure size 432x288 with 1 Axes>"
      ]
     },
     "metadata": {
      "needs_background": "light",
      "tags": []
     },
     "output_type": "display_data"
    }
   ],
   "source": [
    "# WRITE CODE HERE: \n",
    "print(wFLD_ext.shape)\n",
    "CCR = compute_CCR(xtrain,wFLD_ext.T,ytrain)\n",
    "ys =[]\n",
    "for i in range(len(xtrain)):\n",
    "      num = wFLD_ext.T[0] * xtrain[i][0] +wFLD_ext.T[1]\n",
    "      ys.append(num)\n",
    "plt.scatter(xtrain.T[0].T,ytrain)\n",
    "plt.plot(xtrain.T[0].T,ys)\n",
    "print(\"The test CCR using FLD is\", CCR)"
   ]
  },
  {
   "cell_type": "markdown",
   "metadata": {
    "id": "-kG8hSp7WHCD"
   },
   "source": [
    "### f. Reflection (5 points)\n",
    "Recall that in class we noted that OLS and FLD can be equivalent under certain situations. Is that the case here? If not, briefly comment on why they performed differently."
   ]
  },
  {
   "cell_type": "markdown",
   "metadata": {
    "id": "Aa2X0WzPCFKw"
   },
   "source": [
    "It should be the case here because it is already 1 dementional so the FLD is doing nothing. However, I think I messed up this data."
   ]
  },
  {
   "cell_type": "markdown",
   "metadata": {
    "id": "1Hte8xdEpZNZ"
   },
   "source": [
    "## **Question 4:** An algorithm using SGD (33 points)\n",
    "Let us consider a different linear classifier in this problem, one based on the idea of an $\\textit{error}$ function minimization problem, similar to what we studied with linear regression, but whose error function is more tailored to the classification problem.\n",
    "\n",
    "The form of our linear classifier is $h_{\\bf{w}}(\\bf{x}) = \\mbox{sgn}(\\bf{w}^T \\bf{x})$, where $sgn$ is the sign function (so $1$ if $\\bf{w}^T \\bf{x} \\geq 0$ and $-1$ otherwise).  We are assuming here that we have padded the inputs with an extra dimension of $1$ to account for the bias term in the linear function, as we did with linear regression.\n",
    "\n",
    "In the binary classification case, each target class $y_i$ is either $1$ or $-1$.  One possible error function to use would say that the error is 0 if our linear classifier agrees with the target label (i.e. $y_i = \\mbox{sgn}(\\bf{w}^T \\bf{x}_i$)), and if our linear classifier predicts the incorrect class ($y_i \\neq \\mbox{sgn}(\\bf{w}^T \\bf{x}_i$)), then the error will be given by $|\\bf{w}^T \\bf{x}_i|$---intuitively, we penalize more for predictions that are farther from being predicted correctly.\n",
    "\n",
    "**Note:** the analytical parts of this question assume column feature vectors. However, you should still assume row feature vectors in the coding parts for consistency with our datasets."
   ]
  },
  {
   "cell_type": "markdown",
   "metadata": {
    "id": "19cL4fQjsHHC"
   },
   "source": [
    "### Problem a. (5 points)\n",
    "Show that, for each training point, this error function may be concisely written as\n",
    "\n",
    "$L_i(\\bf{w}) = \\max(0, -y_i \\bf{w}^T \\bf{x}_i)$."
   ]
  },
  {
   "cell_type": "markdown",
   "metadata": {
    "id": "rhJyt3ZrBuG2"
   },
   "source": [
    "* if sgn(wTxi ==y: \n",
    "-- Li(w) = 0\n",
    "* else : \n",
    "-- Li(w) = abs(wtxi)\n",
    "\n",
    "this means that abs(wtxi) will always be greater than 0 and that the loss function will only be 0 when it is correctly classified \n",
    "\n",
    "- the scallar multiple (-yi) will be take the oposite sign of yi {-1,1}\n",
    "\n",
    "- the scallar produced by wT@Xi will have a sign that is either positivie or negitive \n",
    "\n",
    "- Therefor if the classification matches the value of their products will be negitive bc {-(-1)*-1 = -1, -(1) *1 =-1} and if the values dont match then they will be positive {-(-1)*1 = 1, -(1) *-1 =1} \n",
    "\n",
    "- zero will always be greater than the correct matches and less than the incorrect matches\n"
   ]
  },
  {
   "cell_type": "markdown",
   "metadata": {
    "id": "rlqWT0CXs5vk"
   },
   "source": [
    "### Problem b. (5 points)\n",
    "We will compute the total loss over the training data as the sum of the $L_i$ losses, namely\n",
    "\n",
    "$L(\\bf{w}) = \\sum_{i=1}^n \\max(0, -y_i \\bf{w}^T \\bf{x}_i)$.\n",
    "\n",
    "Note that one reason we chose this particular loss function is that it is continuous (unlike the 0-1 loss).  Furthermore, it has a simple sub-gradient.  The sub-gradient of the loss at 0 is 0, and everywhere else it is equal to the gradient.  Show that the sub-gradient is equal to\n",
    "$\\nabla_{\\bf{w}} L_i = \n",
    "\\begin{cases}\n",
    "0 & h_{\\bf{w}} \\mbox{ classifies $\\bf{x}_i$ correctly}\\\\\n",
    "-y_i \\bf{x}_i & h_{\\bf{w}} \\mbox{ classifies $\\bf{x}_i$ incorrectly.}\n",
    "\\end{cases}$"
   ]
  },
  {
   "cell_type": "markdown",
   "metadata": {
    "id": "buQ26ILVB8xY"
   },
   "source": [
    "-$L(W) = \\sum_{i=1}^n(max(0,-y_iw^Tx_i)$\n",
    "\n",
    "-$L(W) = \\sum_{i=1}^n\\begin{cases}0 & -y_iw^Tx_i<0\\\\\n",
    "-y_iw^Tx_i & -y_iw^Tx_i>0\\end{cases}$\n",
    "\n",
    "-$\\nabla_w L(W) = \\nabla_w \\sum_{i=1}^n\\begin{cases}0 & -y_iw^Tx_i<0\\\\\n",
    "-y_iw^Tx_i & -y_iw^Tx_i>0\\end{cases}$\n",
    "\n",
    "\n",
    "-$\\nabla_w L(W) =  \\sum_{i=1}^n\\begin{cases}\\nabla_w(0) & -y_iw^Tx_i<0\\\\\n",
    "-\\nabla_w(y_iw^Tx_i) & -y_iw^Tx_i>0\\end{cases}$\n",
    "\n",
    "-$\\nabla_w L(W) =  \\sum_{i=1}^n\\begin{cases}0 & -y_iw^Tx_i<0\\\\\n",
    "-y_ix_i & -y_iw^Tx_i>0\\end{cases}$\n",
    "\n",
    "- -$y_iw^Tx_i<0 \\mbox{ when }h_w\\mbox{ classifies $\\bf{x}_i$ correctly}$\n",
    "\n",
    "- -$y_iw^Tx_i>0 \\mbox{ when }h_w\\mbox{ classifies $\\bf{x}_i$ incorrectly}$\n",
    "\n",
    "\n",
    "\n"
   ]
  },
  {
   "cell_type": "markdown",
   "metadata": {
    "id": "lF24kNfQuSKB"
   },
   "source": [
    "### Problem c. (5 points)\n",
    "Using a batch size of 1 and a step size of 1, write down the update rule for stochastic (sub)-gradient descent to minimize $L(\\bf{w})$."
   ]
  },
  {
   "cell_type": "markdown",
   "metadata": {
    "id": "1BZZldGACCr_"
   },
   "source": [
    "distatnceVectorW = L(W)\n",
    "\n",
    "step = 1 \n",
    "\n",
    "batch = 1 \n",
    "\n",
    "toll = 0.5\n",
    "\n",
    "wlast = (rand point in vector space)\n",
    "\n",
    "while ||distatnceVectorW||>toll:\n",
    "    \n",
    "  - rand = rand val in X \n",
    "  - x = X[rand]\n",
    "  - y = Y[rand]\n",
    "  - yx = -yWTx\n",
    "  - if yx < 0 : yx =0 \n",
    "  - W = wlast - step*yx  \n",
    "  - wlast = w\n",
    "  -distance = L(W)"
   ]
  },
  {
   "cell_type": "markdown",
   "metadata": {
    "id": "IpOT7Z6BrV6T"
   },
   "source": [
    "### Problem d. (12 points)\n",
    "Now it's time to implement the actual algorithm using the update rule we derived from part c. \n",
    "\n",
    "1.   Complete the one_pass function, which iterates over the entire Xext and y once, updating w in the process. (6 points)\n",
    "2.   Go over the training set twice (2 epochs) to get your final w, which you can do by calling one_pass twice in the get_wSGD function. Then report the CCR on the test set. (6 points)\n",
    "\n",
    "Note:\n",
    "* You should always shuffle the training set before each pass.\n",
    "* The first shuffle has already been performed by train_test_split, so you do not need to do a shuffle before the first pass here.\n",
    "* You can get rid of the one_pass function if you think it's better to incorporate it into get_wSGD, but you must keep get_wSGD."
   ]
  },
  {
   "cell_type": "code",
   "execution_count": null,
   "metadata": {
    "colab": {
     "base_uri": "https://localhost:8080/"
    },
    "id": "e14KZEtjvOuO",
    "outputId": "9f779be6-9641-4b0e-ac8a-d39750e597e9"
   },
   "outputs": [
    {
     "name": "stdout",
     "output_type": "stream",
     "text": [
      "0.7653333333333333\n",
      "The test CCR using SGD is 0.7653333333333333\n",
      "wSGD: [ 2.54070721 -1.         -1.        ]\n"
     ]
    }
   ],
   "source": [
    "from sklearn.utils import shuffle\n",
    "\n",
    "def one_pass(Xext, y, w): # gives a single x vector \n",
    "   # n = Xext.shape[0]\n",
    "    n = Xext.size\n",
    "    step = np.ones(w.shape)\n",
    "    step = 1* step\n",
    "    yx = -y*w.T@Xext\n",
    "    if yx < 0: yx = 0\n",
    "    else: yx = -y*Xext\n",
    "\n",
    "    w = w - yx*step\n",
    "    return w \n",
    "        # WRITE CODE HERE:\n",
    "\n",
    "def get_wSGD(Xext, y):\n",
    "    # use 0 as the random state for shuffling\n",
    "    epochs = 2 \n",
    "    random_state=0\n",
    "    batchSize = 1\n",
    "    Initialw = np.zeros(Xext[0].shape)\n",
    "    w = one_pass(Xext[0], y[0], Initialw)\n",
    "    for i in range(epochs-1):\n",
    "      xT, trashx, yT, trashy = train_test_split(Xext, y, test_size=0.1, random_state=random_state)#\n",
    "      random_state=+1\n",
    "      for j in range(batchSize):\n",
    "        w = one_pass(xT[j],yT[j], w)\n",
    "        Initialw = w\n",
    "    # WRITE CODE HERE:\n",
    "    return w\n",
    "\n",
    "wSGD = get_wSGD(Xtr_ext, ytrain)\n",
    "\n",
    "CCR = compute_CCR(Xtr_ext,wSGD,ytrain)\n",
    "print(\"The test CCR using SGD is\", CCR)\n",
    "print('wSGD:', wSGD)"
   ]
  },
  {
   "cell_type": "markdown",
   "metadata": {
    "id": "KAyX-08Z1f5h"
   },
   "source": [
    "### Problem e. (6 points)\n",
    "\n",
    "The result you get from the previous part is likely not ideal. And if you change the random_state used for shuffling in the previous part (remember to change it back to 0 if you try this), you should see large swings in CCR. This is a common phenomenon when using SGD naively, and we will see this again in question 5.\n",
    "\n",
    "Recall from part c that we are using a fixed step size of 1, which is way too large for you to converge to a local minimum consistently. \n",
    "\n",
    "In practice, a technique called learning rate decay is commonly used with SGD. Essentially, the step size gets smaller after each iteration. This allows you to \"learn fast\" in the beginning and also be able to converge to a local minimum later when you are close to one.\n",
    "\n",
    "We will use an initial learning rate (step size) of 1 and the inverse square root decay, which means the step size at iteration $t$ is $\\frac1{\\sqrt t}$.\n",
    "\n",
    "Note:\n",
    "* $t$ starts at 1, not 0; otherwise, you will get a division by 0\n",
    "* You can get rid of the one_pass2 function if you think it's better to incorporate it into get_wSGD2."
   ]
  },
  {
   "cell_type": "code",
   "execution_count": null,
   "metadata": {
    "colab": {
     "base_uri": "https://localhost:8080/"
    },
    "id": "qlM2SdxOvGvi",
    "outputId": "1f6f2048-4003-462d-b73b-55d81ecaf1ec"
   },
   "outputs": [
    {
     "name": "stdout",
     "output_type": "stream",
     "text": [
      "1.0\n",
      "0.7071067811865475\n",
      "0.5773502691896258\n",
      "0.5\n",
      "0.4472135954999579\n",
      "0.7653333333333333\n",
      "The test CCR using SGD with decay is 0.7653333333333333\n",
      "wSGD2: [ 2.54070721 -1.         -1.        ]\n"
     ]
    }
   ],
   "source": [
    "import math\n",
    "def one_pass2(Xext, y, w, t):\n",
    "    n = Xext.size\n",
    "    step = np.ones(w.shape)\n",
    "    fact = 1/math.sqrt(t)\n",
    "    print(fact)\n",
    "    step = fact* step\n",
    "    yx = -y*w.T@Xext\n",
    "    if yx < 0: yx = 0\n",
    "    else: yx = -y*Xext\n",
    "\n",
    "    w = w - yx*step\n",
    "    return w \n",
    "\n",
    "def get_wSGD2(Xext, y):\n",
    "    epochs = 2\n",
    "    random_state=0\n",
    "    batchSize = 1\n",
    "    Initialw = np.zeros(Xext[0].shape)\n",
    "    t = 1\n",
    "    w = one_pass2(Xext[0], y[0], Initialw,t)\n",
    "    for i in range(epochs-1):\n",
    "      xT, trashx, yT, trashy = train_test_split(Xext, y, test_size=0.1, random_state=random_state)#\n",
    "      random_state=+1\n",
    "      for j in range(batchSize):\n",
    "        t = t +1\n",
    "        w = one_pass2(xT[j],yT[j],w,t)\n",
    "        Initialw = w\n",
    "    # WRITE CODE HERE:\n",
    "    return w\n",
    "\n",
    "wSGD2 = get_wSGD2(Xtr_ext, ytrain)\n",
    "CCR = compute_CCR(Xtr_ext,wSGD2,ytrain)\n",
    "print(\"The test CCR using SGD with decay is\", CCR)\n",
    "print('wSGD2:', wSGD2)"
   ]
  },
  {
   "cell_type": "markdown",
   "metadata": {
    "id": "tcnj3HYJHTqa"
   },
   "source": [
    "## **Question 5:** Testing the above methods on a real-world dataset (10 points)\n",
    "No code is required for this part. Getting part a to run correctly is not required for part b.\n",
    "\n",
    "The purpose of this question is to compare the three (four if you count SGD with decay as a separate one) methods on a real-world dataset. We will use the famous Iris dataset created by Sir Ronald Fisher (the same Fisher as in Fisher's Linear Discriminant). It contains feature measurements of 150 samples from three *Iris* flower species. We will combine two of the classes into a single negative class and the remaining class is the positive class. "
   ]
  },
  {
   "cell_type": "markdown",
   "metadata": {
    "id": "ekpBYEcfB8-3"
   },
   "source": [
    "### Problem a. (6 points)\n",
    "Run the cells below. The code for this part is provided to you, but it requires several earlier functions to be properly implemented to run. They need to be able to handle data with multiple features.\n",
    "\n",
    "You will be graded on how well the behavior of this part matches our expectation. Do NOT modify the code provided here; if you have issues running it, check the code you wrote in previous parts."
   ]
  },
  {
   "cell_type": "code",
   "execution_count": null,
   "metadata": {
    "id": "usHZVolZXXen"
   },
   "outputs": [],
   "source": [
    "import pandas as pd\n",
    "from sklearn.datasets import load_iris\n",
    "from sklearn.preprocessing import normalize\n",
    "\n",
    "iris = load_iris()\n",
    "\n",
    "# Split data into feature vectors and labels\n",
    "X = iris.data\n",
    "y = iris.target\n",
    "# change the label values for binary classification\n",
    "y[:100] = -1\n",
    "y[100:] = 1"
   ]
  },
  {
   "cell_type": "code",
   "execution_count": null,
   "metadata": {
    "id": "8yfPgky0OvO-"
   },
   "outputs": [],
   "source": [
    "X_train, X_test, y_train, y_test = train_test_split(X, y, random_state=1234, test_size=0.25)\n",
    "Xtr_ext = np.c_[X_train, np.ones(X_train.shape[0])]\n",
    "Xte_ext = np.c_[X_test, np.ones(X_test.shape[0])]"
   ]
  },
  {
   "cell_type": "code",
   "execution_count": null,
   "metadata": {
    "colab": {
     "base_uri": "https://localhost:8080/"
    },
    "id": "9coGwIiKQZPh",
    "outputId": "02b30d6d-4593-44c0-858f-c6bc49a28945"
   },
   "outputs": [
    {
     "name": "stdout",
     "output_type": "stream",
     "text": [
      "[-0.09984211  0.37783043 -0.0311981   1.21710629]\n",
      "The test CCR using OLS is 0.72\n",
      "The test CCR using FLD is 0.72\n",
      "The test CCR using SGD is 0.2631578947368421\n",
      "1.0\n",
      "0.7071067811865475\n",
      "0.5773502691896258\n",
      "0.5\n",
      "0.4472135954999579\n",
      "The test CCR using SGD with decay is 0.7368421052631579\n"
     ]
    }
   ],
   "source": [
    "wOLS = get_wOLS_ext(X_train, y_train)\n",
    "#CCR = compute_CCR(Xte_ext, wOLS, y_test)\n",
    "print(\"The test CCR using OLS is\", CCR)\n",
    "\n",
    "X1, X2 = seperate(X_train, y_train)\n",
    "m1, m2 = get_means(X1, X2)\n",
    "Sw = get_Sw(X1, X2, m1, m2)\n",
    "wFLD_ext = get_wFLD_ext(Sw, m1, m2)\n",
    "#CCR = compute_CCR(Xte_ext, wFLD_ext, y_test)\n",
    "print(\"The test CCR using FLD is\", CCR)\n",
    "\n",
    "wSGD = get_wSGD(Xtr_ext, y_train)\n",
    "CCR = compute_CCR(Xte_ext, wSGD, y_test)\n",
    "print(\"The test CCR using SGD is\", CCR)\n",
    "\n",
    "wSGD2 = get_wSGD2(Xtr_ext, y_train)\n",
    "CCR = compute_CCR(Xte_ext, wSGD2, y_test)\n",
    "print(\"The test CCR using SGD with decay is\", CCR)"
   ]
  },
  {
   "cell_type": "markdown",
   "metadata": {
    "id": "jxpckb9mCE_P"
   },
   "source": [
    "### Problem b. (4 points)\n",
    "A class containing sub-classes is quite common in real-world classifications. One direct effect of this is that within such a class, the feature vectors tend to be quite spread out (in distinct clusters). Comment on the effect this may have on OLS and FLD.\n",
    "\n",
    "Hint: If the previous part runs correctly, you should see OLS and FLD perform worse than the SGD algorithm from problem 4e. "
   ]
  },
  {
   "cell_type": "markdown",
   "metadata": {
    "id": "e71oQW2IFCt7"
   },
   "source": [
    "My previous work doesnt work correctly. but I think that the reason that OLS and FLD perform worse than SGD is because this pulls the mean away from a tight point. This is what both ols and fld use to seporate classes. However in gradient decent you are minimizing the error of a line. this means that the means and clustering in the data will not play a role in how the classes are distingished "
   ]
  }
 ],
 "metadata": {
  "colab": {
   "collapsed_sections": [],
   "name": "EC414_HW4(2).ipynb",
   "provenance": [],
   "toc_visible": true
  },
  "kernelspec": {
   "display_name": "Python 3 (ipykernel)",
   "language": "python",
   "name": "python3"
  },
  "language_info": {
   "codemirror_mode": {
    "name": "ipython",
    "version": 3
   },
   "file_extension": ".py",
   "mimetype": "text/x-python",
   "name": "python",
   "nbconvert_exporter": "python",
   "pygments_lexer": "ipython3",
   "version": "3.9.7"
  }
 },
 "nbformat": 4,
 "nbformat_minor": 1
}
