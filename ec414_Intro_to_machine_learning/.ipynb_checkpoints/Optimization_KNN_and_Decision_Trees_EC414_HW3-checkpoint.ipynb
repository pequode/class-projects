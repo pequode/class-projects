{
 "cells": [
  {
   "cell_type": "markdown",
   "metadata": {
    "id": "ndQNBUG-O___"
   },
   "source": [
    "# Homework 3: Optimization, KNN and Decision Trees\n",
    "by Rachel Manzelli and Brian Kulis"
   ]
  },
  {
   "cell_type": "markdown",
   "metadata": {
    "id": "hTV9mcpnPAAJ"
   },
   "source": [
    "## Setup"
   ]
  },
  {
   "cell_type": "markdown",
   "metadata": {
    "id": "AbqLsA-NPAAK"
   },
   "source": [
    "To run and solve this assignment, you must have access to a working Jupyter Notebook installation. We recommend Google Colab. If you are already familiar with Jupyter and have your own installation, you may use it; however, you will have to tweak Colab-specific commands we've entered here (for example, file uploads).\n",
    "\n",
    "To use Google Colab:\n",
    "\n",
    "1. Download this `ipynb` file.\n",
    "2. Navigate to https://colab.research.google.com/ and select `Upload` in the pop-up window.\n",
    "3. Upload this file. It will then open in Colab.\n",
    "\n",
    "The below statements assume that you have already followed these instructions. If you need help with Python syntax, NumPy, or Matplotlib, you might find Week 1 discussion material useful.\n",
    "\n",
    "To run code in a cell or to render Markdown+LaTeX press Ctrl+Enter or \"`Run`\" button above. To edit any code or text cell, double-click on its content. Put your solution into boxes marked with **`[double click here to add a solution]`** and press Ctrl+Enter to render text. You can add cells via `+` sign at the top left corner.\n",
    "\n",
    "**Submission instructions**: please upload your completed solution file as well as a scan of any handwritten answers to Gradescope by **February 24th at midnight**."
   ]
  },
  {
   "cell_type": "markdown",
   "metadata": {
    "id": "js5teW_jPAAM"
   },
   "source": [
    "### 1. Maximum Likelihood without a Closed-Form Solution"
   ]
  },
  {
   "cell_type": "markdown",
   "metadata": {
    "id": "G66uA3ldPAAM"
   },
   "source": [
    "Assume that we are given $n$ IID samples ${x_1,...x_n}$ from the following $P(X|\\theta)$:\n",
    "\n",
    "$$P(X|\\theta) = \\frac{1}{\\pi}\\bigg [\\frac{1}{(x-\\theta)^2+1}\\bigg ]$$\n",
    "\n",
    "#### 1.a. Try to compute the MLE via maximizing the log-likelihood function directly, and briefly explain why this won't work."
   ]
  },
  {
   "cell_type": "markdown",
   "metadata": {
    "id": "rSxfTav9PAAN"
   },
   "source": [
    "\n",
    "\n",
    "*   $p(X|\\theta) = \\frac{1}{\\pi}[\\frac{1}{(x-\\theta)^2+1}]$\n",
    "*   $ln(p(X|\\theta)) = ln(\\frac{1}{\\pi})+ln(\\frac{1}{(x-\\theta)^2+1})$\n",
    "*   $ln(p(X|\\theta)) = ln(\\frac{1}{\\pi})+ln(1) - ln([x-\\theta]^2+1)$\n",
    "*   $ln(p(X|\\theta)) =$~$-1.1 - ln([x-\\theta]^2+1)$\n",
    "*   $\\nabla ln(p(X|\\theta)) =\\nabla($~$-1.1 - ln([x-\\theta]^2+1))$\n",
    "*   $\\nabla ln(p(X|\\theta)) =(0- \\frac{1}{(x-\\theta)^2+1}(0+2(x-\\theta))$\n",
    "*   $0 = -\\frac{2(x-\\theta)}{[x-\\theta]^2+1} $\n",
    "*   $0 = \\frac{(x-\\theta)}{[x-\\theta]^2+1} $\n",
    "*   $0 = (x-\\theta)$\n",
    "*   $x = \\theta$\n",
    "\n",
    "The only place this is maximizeds is when x = theta and that wont work because the xs are IID (there may be stuff here about taking the seccond derivitive). "
   ]
  },
  {
   "cell_type": "markdown",
   "metadata": {
    "id": "Ksa2a1XEPAAO"
   },
   "source": [
    "#### 1.b. Convert the objective (log-likelihood) function into a cost function, $J(\\theta)$, that we can minimize using gradient descent."
   ]
  },
  {
   "cell_type": "markdown",
   "metadata": {
    "id": "8KlIt8F5PAAO"
   },
   "source": [
    "*    $J(\\theta) =  MSE = \\frac{1}{n}\\sum_{i=0}^{n}((f(xi|θ)−yi)^2)$\n",
    "*    $J(\\theta)= \\frac{1}{n}\\sum_{i=0}^{n}(($~$-1.144 - ln([x-\\theta]^2+1)−yi)^2)$\n",
    "*    $J(\\theta)= \\frac{1}{n}\\sum_{i=0}^{n}(ln(\\frac{1}{\\pi}) - ln([x-\\theta]^2+1)−yi)^2)$"
   ]
  },
  {
   "cell_type": "markdown",
   "metadata": {
    "id": "H3QXCiT0PAAP"
   },
   "source": [
    "#### 1.c. Compute the gradient descent update rule, where $\\theta_{n+1}=\\theta_n - \\alpha\\frac{d}{d\\theta_n}J(\\theta_n)$."
   ]
  },
  {
   "cell_type": "markdown",
   "metadata": {
    "id": "LkcD_lB_PAAP"
   },
   "source": [
    "\n",
    "\n",
    "---\n",
    "*    $J(\\theta)= \\frac{1}{n}\\sum_{i=0}^{n}(ln(\\frac{1}{\\pi}) - ln([x-\\theta]^2+1)−yi)^2)$\n",
    "*    $\\nabla J(\\theta)= \\nabla \\frac{1}{n}\\sum_{i=0}^{n}(ln(\\frac{1}{\\pi}) - ln([x-\\theta]^2+1)−yi)^2)$\n",
    "*    $\\nabla J(\\theta)=  \\frac{1}{n}\\sum_{i=0}^{n}\\nabla(ln(\\frac{1}{\\pi}) - ln([x-\\theta]^2+1)−yi)^2)$\n",
    "*    $\\nabla J(\\theta)=  \\frac{1}{n}\\sum_{i=0}^{n}2(ln(\\frac{1}{\\pi}) - ln([x-\\theta]^2+1)−yi)\\nabla(ln(\\frac{1}{\\pi}) - ln([x-\\theta]^2+1)−yi))$\n",
    "*    $\\nabla J(\\theta)=  \\frac{1}{n}\\sum_{i=0}^{n}2(ln(\\frac{1}{\\pi}) - ln([x-\\theta]^2+1)−yi)(0 - \\nabla ln([x-\\theta]^2+1)-0))$\n",
    "*    $\\nabla J(\\theta)=  \\frac{1}{n}\\sum_{i=0}^{n}2(ln(\\frac{1}{\\pi}) - ln([x-\\theta]^2+1)−yi)( -\\frac{1}{([x-\\theta]^2+1)} \\nabla ([x-\\theta]^2+1)))$\n",
    "*    $\\nabla J(\\theta)=\\frac{1}{n}\\sum_{i=0}^{n}2(ln(\\frac{1}{\\pi}) - ln([x-\\theta]^2+1)−yi)( -\\frac{1}{([x-\\theta]^2+1)} 2(x-\\theta)))$\n",
    "*    $\\nabla J(\\theta)=\\frac{1}{n}\\sum_{i=0}^{n}2(ln(\\frac{1}{\\pi}) - ln([x-\\theta]^2+1)−yi)( -\\frac{2(x-\\theta)}{([x-\\theta]^2+1)} ))$\n",
    "*    $\\nabla J(\\theta)=\\frac{2}{n}\\sum_{i=0}^{n}(ln(\\frac{1}{\\pi}) - ln([x-\\theta]^2+1−yi)( -\\frac{2(x-\\theta)}{([x-\\theta]^2+1)} ))$\n",
    "*    $\\theta_{n} = 0.5, \\alpha = 0.1$\n",
    "*    $\\theta_{n+1} = 0.5 + 0.1(\\frac{2}{n}\\sum_{i=0}^{n}(ln(\\frac{1}{\\pi}) - ln([x-0.5]^2+1−yi)( -\\frac{2(x-0.5)}{([x-0.5]^2+1)} ))$\n",
    "\n"
   ]
  },
  {
   "cell_type": "markdown",
   "metadata": {
    "id": "cziySqKlPAAQ"
   },
   "source": [
    "#### 1.d. Write the pseudocode for gradient descent with this update rule."
   ]
  },
  {
   "cell_type": "markdown",
   "metadata": {
    "id": "agcloTp0PAAQ"
   },
   "source": [
    "\n",
    "*   theta = guess\n",
    "*   alpha = learnrate\n",
    "*   for i in 1000:\n",
    "*    - sum:\n",
    "*   - for j in n:\n",
    "*   - - sum = sum+((-ln(pi)-ln((x[j]-theta)^2+1-y[j])(2(x[j]-theta)/((x[j]-theta)^2+1))):\n",
    "*   - sum = sum*2/n\n",
    "*   - changeamount = sum*alpha\n",
    "*   - if(changeamount<threshold):\n",
    "*   - - break loop\n",
    "*   - theta = theta + changeamount\n",
    "\n",
    "\n"
   ]
  },
  {
   "cell_type": "markdown",
   "metadata": {
    "id": "nh0IBSfEPAAR"
   },
   "source": [
    "#### 1.e. (Bonus) Compute the stochastic gradient descent (SGD) update rule, and write pseudocode for SGD with this update rule. (Assume a mini-batch size of 1.)"
   ]
  },
  {
   "cell_type": "markdown",
   "metadata": {
    "id": "LC1b7twKPAAR"
   },
   "source": [
    "\n",
    "*   theta = guess\n",
    "*   alpha = learnrate\n",
    "*   for i in 1000:\n",
    "*    - sum:\n",
    "*    - randInd = rand int in range (0-n)\n",
    "*   - - sum = sum+((-ln(pi)-ln((x[randInd]-theta)^2+1-y[randInd])(2(x[randInd]-theta)/((x[randInd]-theta)^2+1))):\n",
    "*   - sum = sum*2/n\n",
    "*   - changeamount = sum*alpha\n",
    "*   - if(changeamount<threshold):\n",
    "*   - - break loop\n",
    "*   - theta = theta + changeamount"
   ]
  },
  {
   "cell_type": "markdown",
   "metadata": {
    "id": "VLd_f7FSPAAR"
   },
   "source": [
    "### 2. Decision Trees\n",
    "\n",
    "The following dataset contains information about different weather attributes, along with whether the golf team decided to play. Each row represents the characteristics of one day.\n",
    "\n",
    "\n",
    "| Temp        | Humidity    | Wind        | Play?       |\n",
    "| ----------- | ----------- | ----------- | ----------- |\n",
    "| hot         | normal      | strong      | no          |\n",
    "| mild        | high        | strong      | yes         |\n",
    "| hot         | normal      | strong      | no          |\n",
    "| hot         | normal      | weak        | yes         |\n",
    "| mild        | normal      | strong      | yes         |\n",
    "\n",
    "\n",
    "We will construct a decision tree that predicts whether or not the current weather attributes are appropriate for playing golf."
   ]
  },
  {
   "cell_type": "markdown",
   "metadata": {
    "id": "NR2Jhgw3PAAS"
   },
   "source": [
    "#### 2.a. Choose a root node.\n",
    "Follow the method of using information gain to choose a root node for our decision tree, as described in class (and posted in the slides on Blackboard)."
   ]
  },
  {
   "cell_type": "markdown",
   "metadata": {
    "id": "EcMSncT9PAAS"
   },
   "source": [
    "\n",
    "\n",
    "*   Temp\n",
    "    - p1 = 4/5\n",
    "    - p0 = 1/5 \n",
    "  - - p1hot = 2/3\n",
    "  - - p0hot = 1/3\n",
    "  - - p1mild = 2/2\n",
    "  - - p0mild = 0/2\n",
    "  - hs(temp) = -p1log_2(p1)-p2log_2(p2)\n",
    "  - - hs(hot) = -p1hotlog_2(p1hot)-p2log_2(p2hot)\n",
    "  - - hs(mild) = -p1mildlog_2(p1mild)-p2log_2(p2mild)\n",
    "    - G = hs(temp) - 3/5*hs(hot)-2/5hs(mild)= 0.14739311883324124\n",
    "*   Humidity\n",
    "  - p1(normal)2/4\n",
    "  - p0(normal) 2/4\n",
    "  - p1(high) 0/1\n",
    "  - p0(high) 1/1\n",
    "  - ect\n",
    "  - G = 0.04217935649972371\n",
    "*   wind \n",
    "  - ect\n",
    "  - G = 0.12877123795494477\n",
    "\n",
    "  - p0(strong) 2/4\n",
    "  - p1(strong) 2/4\n",
    "  - p0 (weak) 0/1\n",
    "  - p1( weak) 1/1\n",
    "\n",
    "  ***Temp is the best node***\n"
   ]
  },
  {
   "cell_type": "code",
   "execution_count": 56,
   "metadata": {
    "colab": {
     "base_uri": "https://localhost:8080/"
    },
    "id": "KBy0Qx_W_iDr",
    "outputId": "ed70aece-fbf3-476d-b240-950e75762522"
   },
   "outputs": [
    {
     "name": "stdout",
     "output_type": "stream",
     "text": [
      "0.14739311883324124\n",
      "0.04217935649972371\n",
      "0.12877123795494477\n"
     ]
    }
   ],
   "source": [
    "import math\n",
    "def hs(pos, neg, total):\n",
    "  p1 = pos/total\n",
    "  p0 = neg/total\n",
    "  \n",
    "  if p0 == 0.0:\n",
    "    p0 = 0\n",
    "  else:\n",
    "    p0 = -p0*math.log(p0,2)\n",
    "  if p1 ==0.0:\n",
    "    p1 = 0\n",
    "  else:\n",
    "    -p1*math.log(p1,2)\n",
    "  return p1+p0\n",
    "def Gain(posb1,posb2,negb1,negb2):\n",
    "  total = float(posb1+posb2+negb1+negb2)\n",
    "  totalb1 = float(posb1+negb1)\n",
    "  totalb2 = float(posb2+negb2)\n",
    "  hsmain = hs(posb1+posb2,negb1+negb2,total)\n",
    "  hsb1 = hs(posb1,negb1,totalb1)\n",
    "  hsb2 = hs(posb2,negb2,totalb2)\n",
    "  G = hsmain - (totalb1/total)*hsb1 -(totalb2/total)*hsb2\n",
    "  return G\n",
    "tempG = Gain(2,2,1,0)\n",
    "print(tempG)\n",
    "humidG = Gain(2,0,2,1)\n",
    "print(humidG)\n",
    "windG = Gain(2,1,2,0)\n",
    "print(windG)"
   ]
  },
  {
   "cell_type": "markdown",
   "metadata": {
    "id": "oZdBe-FOPAAT"
   },
   "source": [
    "#### 2.b. Complete the tree.\n",
    "Repeat the method of using information gain to split on another feature, as described in class (and posted in the slides on Blackboard)."
   ]
  },
  {
   "cell_type": "markdown",
   "metadata": {
    "id": "pifRx3aHPAAT"
   },
   "source": [
    "**split on wind because it has the second highest gain**\n"
   ]
  },
  {
   "cell_type": "markdown",
   "metadata": {
    "id": "T1S22ijrPAAT"
   },
   "source": [
    "### 3. K-Nearest Neighbors on NIST\n",
    "\n",
    "We're going to build a K-nearest neighbors classifier from scratch, including validating for the best K, and test it out on NIST, a handwritten digits dataset.\n",
    "\n",
    "The 64 features of this dataset are the values of each pixel in the 8x8 image grid of one handwritten digit, where the digits are written in white (pixel value 255) and the surrounding space is black (pixel value 0). Each sample represents one image.\n",
    "\n",
    "#### First, install the latest release of `sklearn`."
   ]
  },
  {
   "cell_type": "code",
   "execution_count": 57,
   "metadata": {
    "colab": {
     "base_uri": "https://localhost:8080/",
     "height": 292
    },
    "id": "xTDIkpsGPAAU",
    "outputId": "d1eedb53-5af4-4d7b-e60f-d90afb538c1c"
   },
   "outputs": [
    {
     "name": "stdout",
     "output_type": "stream",
     "text": [
      "Uninstalling scikit-learn-0.24.1:\n",
      "  Successfully uninstalled scikit-learn-0.24.1\n",
      "Collecting scikit-learn==0.24.1\n",
      "  Using cached https://files.pythonhosted.org/packages/f3/74/eb899f41d55f957e2591cde5528e75871f817d9fb46d4732423ecaca736d/scikit_learn-0.24.1-cp37-cp37m-manylinux2010_x86_64.whl\n",
      "Requirement already satisfied: numpy>=1.13.3 in /usr/local/lib/python3.7/dist-packages (from scikit-learn==0.24.1) (1.19.5)\n",
      "Requirement already satisfied: scipy>=0.19.1 in /usr/local/lib/python3.7/dist-packages (from scikit-learn==0.24.1) (1.4.1)\n",
      "Requirement already satisfied: threadpoolctl>=2.0.0 in /usr/local/lib/python3.7/dist-packages (from scikit-learn==0.24.1) (2.1.0)\n",
      "Requirement already satisfied: joblib>=0.11 in /usr/local/lib/python3.7/dist-packages (from scikit-learn==0.24.1) (1.0.1)\n",
      "Installing collected packages: scikit-learn\n",
      "Successfully installed scikit-learn-0.24.1\n"
     ]
    },
    {
     "data": {
      "application/vnd.colab-display-data+json": {
       "pip_warning": {
        "packages": [
         "sklearn"
        ]
       }
      }
     },
     "metadata": {
      "tags": []
     },
     "output_type": "display_data"
    }
   ],
   "source": [
    "# These datasets require the latest release of sklearn (0.24.1).\n",
    "# We are going to uninstall the default Colab version (if you are using Colab) or your current version, and install version 0.24.1.\n",
    "# AFTER RUNNING THIS CELL, YOU MAY NEED TO RESTART THE RUNTIME. GO TO Runtime/Kernel -> Restart Runtime to do this. \n",
    "# (Or, in Colab, hit the RESTART RUNTIME button at the bottom if there is an error message when you run this cell.)\n",
    "# You only need to do this once, but if the Colab runtime disconnects, you will need to do it again!\n",
    "\n",
    "!pip uninstall scikit-learn -y\n",
    "!pip install scikit-learn==0.24.1"
   ]
  },
  {
   "cell_type": "markdown",
   "metadata": {
    "id": "V7e9DI9FPAAV"
   },
   "source": [
    "#### Verify we're using the correct version. (If it is not 0.24.1, restart the runtime, or try installing again.)"
   ]
  },
  {
   "cell_type": "code",
   "execution_count": 58,
   "metadata": {
    "colab": {
     "base_uri": "https://localhost:8080/"
    },
    "id": "m7rMPbq0PAAV",
    "outputId": "a9f5db19-5c1c-4a2b-872d-b628d619d54a"
   },
   "outputs": [
    {
     "name": "stdout",
     "output_type": "stream",
     "text": [
      "0.24.1\n"
     ]
    }
   ],
   "source": [
    "import sklearn\n",
    "print(sklearn.__version__)"
   ]
  },
  {
   "cell_type": "markdown",
   "metadata": {
    "id": "lKJSWMmUPAAV"
   },
   "source": [
    "#### Import the data and take a look at some samples."
   ]
  },
  {
   "cell_type": "code",
   "execution_count": 59,
   "metadata": {
    "colab": {
     "base_uri": "https://localhost:8080/",
     "height": 224
    },
    "id": "LCGF8ydRPAAW",
    "outputId": "ac174baa-a7e6-4dd3-abf2-d718a01bf69c"
   },
   "outputs": [
    {
     "data": {
      "text/html": [
       "<div>\n",
       "<style scoped>\n",
       "    .dataframe tbody tr th:only-of-type {\n",
       "        vertical-align: middle;\n",
       "    }\n",
       "\n",
       "    .dataframe tbody tr th {\n",
       "        vertical-align: top;\n",
       "    }\n",
       "\n",
       "    .dataframe thead th {\n",
       "        text-align: right;\n",
       "    }\n",
       "</style>\n",
       "<table border=\"1\" class=\"dataframe\">\n",
       "  <thead>\n",
       "    <tr style=\"text-align: right;\">\n",
       "      <th></th>\n",
       "      <th>pixel_0_0</th>\n",
       "      <th>pixel_0_1</th>\n",
       "      <th>pixel_0_2</th>\n",
       "      <th>pixel_0_3</th>\n",
       "      <th>pixel_0_4</th>\n",
       "      <th>pixel_0_5</th>\n",
       "      <th>pixel_0_6</th>\n",
       "      <th>pixel_0_7</th>\n",
       "      <th>pixel_1_0</th>\n",
       "      <th>pixel_1_1</th>\n",
       "      <th>pixel_1_2</th>\n",
       "      <th>pixel_1_3</th>\n",
       "      <th>pixel_1_4</th>\n",
       "      <th>pixel_1_5</th>\n",
       "      <th>pixel_1_6</th>\n",
       "      <th>pixel_1_7</th>\n",
       "      <th>pixel_2_0</th>\n",
       "      <th>pixel_2_1</th>\n",
       "      <th>pixel_2_2</th>\n",
       "      <th>pixel_2_3</th>\n",
       "      <th>pixel_2_4</th>\n",
       "      <th>pixel_2_5</th>\n",
       "      <th>pixel_2_6</th>\n",
       "      <th>pixel_2_7</th>\n",
       "      <th>pixel_3_0</th>\n",
       "      <th>pixel_3_1</th>\n",
       "      <th>pixel_3_2</th>\n",
       "      <th>pixel_3_3</th>\n",
       "      <th>pixel_3_4</th>\n",
       "      <th>pixel_3_5</th>\n",
       "      <th>pixel_3_6</th>\n",
       "      <th>pixel_3_7</th>\n",
       "      <th>pixel_4_0</th>\n",
       "      <th>pixel_4_1</th>\n",
       "      <th>pixel_4_2</th>\n",
       "      <th>pixel_4_3</th>\n",
       "      <th>pixel_4_4</th>\n",
       "      <th>pixel_4_5</th>\n",
       "      <th>pixel_4_6</th>\n",
       "      <th>pixel_4_7</th>\n",
       "      <th>pixel_5_0</th>\n",
       "      <th>pixel_5_1</th>\n",
       "      <th>pixel_5_2</th>\n",
       "      <th>pixel_5_3</th>\n",
       "      <th>pixel_5_4</th>\n",
       "      <th>pixel_5_5</th>\n",
       "      <th>pixel_5_6</th>\n",
       "      <th>pixel_5_7</th>\n",
       "      <th>pixel_6_0</th>\n",
       "      <th>pixel_6_1</th>\n",
       "      <th>pixel_6_2</th>\n",
       "      <th>pixel_6_3</th>\n",
       "      <th>pixel_6_4</th>\n",
       "      <th>pixel_6_5</th>\n",
       "      <th>pixel_6_6</th>\n",
       "      <th>pixel_6_7</th>\n",
       "      <th>pixel_7_0</th>\n",
       "      <th>pixel_7_1</th>\n",
       "      <th>pixel_7_2</th>\n",
       "      <th>pixel_7_3</th>\n",
       "      <th>pixel_7_4</th>\n",
       "      <th>pixel_7_5</th>\n",
       "      <th>pixel_7_6</th>\n",
       "      <th>pixel_7_7</th>\n",
       "    </tr>\n",
       "  </thead>\n",
       "  <tbody>\n",
       "    <tr>\n",
       "      <th>0</th>\n",
       "      <td>0.0</td>\n",
       "      <td>0.0</td>\n",
       "      <td>5.0</td>\n",
       "      <td>13.0</td>\n",
       "      <td>9.0</td>\n",
       "      <td>1.0</td>\n",
       "      <td>0.0</td>\n",
       "      <td>0.0</td>\n",
       "      <td>0.0</td>\n",
       "      <td>0.0</td>\n",
       "      <td>13.0</td>\n",
       "      <td>15.0</td>\n",
       "      <td>10.0</td>\n",
       "      <td>15.0</td>\n",
       "      <td>5.0</td>\n",
       "      <td>0.0</td>\n",
       "      <td>0.0</td>\n",
       "      <td>3.0</td>\n",
       "      <td>15.0</td>\n",
       "      <td>2.0</td>\n",
       "      <td>0.0</td>\n",
       "      <td>11.0</td>\n",
       "      <td>8.0</td>\n",
       "      <td>0.0</td>\n",
       "      <td>0.0</td>\n",
       "      <td>4.0</td>\n",
       "      <td>12.0</td>\n",
       "      <td>0.0</td>\n",
       "      <td>0.0</td>\n",
       "      <td>8.0</td>\n",
       "      <td>8.0</td>\n",
       "      <td>0.0</td>\n",
       "      <td>0.0</td>\n",
       "      <td>5.0</td>\n",
       "      <td>8.0</td>\n",
       "      <td>0.0</td>\n",
       "      <td>0.0</td>\n",
       "      <td>9.0</td>\n",
       "      <td>8.0</td>\n",
       "      <td>0.0</td>\n",
       "      <td>0.0</td>\n",
       "      <td>4.0</td>\n",
       "      <td>11.0</td>\n",
       "      <td>0.0</td>\n",
       "      <td>1.0</td>\n",
       "      <td>12.0</td>\n",
       "      <td>7.0</td>\n",
       "      <td>0.0</td>\n",
       "      <td>0.0</td>\n",
       "      <td>2.0</td>\n",
       "      <td>14.0</td>\n",
       "      <td>5.0</td>\n",
       "      <td>10.0</td>\n",
       "      <td>12.0</td>\n",
       "      <td>0.0</td>\n",
       "      <td>0.0</td>\n",
       "      <td>0.0</td>\n",
       "      <td>0.0</td>\n",
       "      <td>6.0</td>\n",
       "      <td>13.0</td>\n",
       "      <td>10.0</td>\n",
       "      <td>0.0</td>\n",
       "      <td>0.0</td>\n",
       "      <td>0.0</td>\n",
       "    </tr>\n",
       "    <tr>\n",
       "      <th>1</th>\n",
       "      <td>0.0</td>\n",
       "      <td>0.0</td>\n",
       "      <td>0.0</td>\n",
       "      <td>12.0</td>\n",
       "      <td>13.0</td>\n",
       "      <td>5.0</td>\n",
       "      <td>0.0</td>\n",
       "      <td>0.0</td>\n",
       "      <td>0.0</td>\n",
       "      <td>0.0</td>\n",
       "      <td>0.0</td>\n",
       "      <td>11.0</td>\n",
       "      <td>16.0</td>\n",
       "      <td>9.0</td>\n",
       "      <td>0.0</td>\n",
       "      <td>0.0</td>\n",
       "      <td>0.0</td>\n",
       "      <td>0.0</td>\n",
       "      <td>3.0</td>\n",
       "      <td>15.0</td>\n",
       "      <td>16.0</td>\n",
       "      <td>6.0</td>\n",
       "      <td>0.0</td>\n",
       "      <td>0.0</td>\n",
       "      <td>0.0</td>\n",
       "      <td>7.0</td>\n",
       "      <td>15.0</td>\n",
       "      <td>16.0</td>\n",
       "      <td>16.0</td>\n",
       "      <td>2.0</td>\n",
       "      <td>0.0</td>\n",
       "      <td>0.0</td>\n",
       "      <td>0.0</td>\n",
       "      <td>0.0</td>\n",
       "      <td>1.0</td>\n",
       "      <td>16.0</td>\n",
       "      <td>16.0</td>\n",
       "      <td>3.0</td>\n",
       "      <td>0.0</td>\n",
       "      <td>0.0</td>\n",
       "      <td>0.0</td>\n",
       "      <td>0.0</td>\n",
       "      <td>1.0</td>\n",
       "      <td>16.0</td>\n",
       "      <td>16.0</td>\n",
       "      <td>6.0</td>\n",
       "      <td>0.0</td>\n",
       "      <td>0.0</td>\n",
       "      <td>0.0</td>\n",
       "      <td>0.0</td>\n",
       "      <td>1.0</td>\n",
       "      <td>16.0</td>\n",
       "      <td>16.0</td>\n",
       "      <td>6.0</td>\n",
       "      <td>0.0</td>\n",
       "      <td>0.0</td>\n",
       "      <td>0.0</td>\n",
       "      <td>0.0</td>\n",
       "      <td>0.0</td>\n",
       "      <td>11.0</td>\n",
       "      <td>16.0</td>\n",
       "      <td>10.0</td>\n",
       "      <td>0.0</td>\n",
       "      <td>0.0</td>\n",
       "    </tr>\n",
       "    <tr>\n",
       "      <th>2</th>\n",
       "      <td>0.0</td>\n",
       "      <td>0.0</td>\n",
       "      <td>0.0</td>\n",
       "      <td>4.0</td>\n",
       "      <td>15.0</td>\n",
       "      <td>12.0</td>\n",
       "      <td>0.0</td>\n",
       "      <td>0.0</td>\n",
       "      <td>0.0</td>\n",
       "      <td>0.0</td>\n",
       "      <td>3.0</td>\n",
       "      <td>16.0</td>\n",
       "      <td>15.0</td>\n",
       "      <td>14.0</td>\n",
       "      <td>0.0</td>\n",
       "      <td>0.0</td>\n",
       "      <td>0.0</td>\n",
       "      <td>0.0</td>\n",
       "      <td>8.0</td>\n",
       "      <td>13.0</td>\n",
       "      <td>8.0</td>\n",
       "      <td>16.0</td>\n",
       "      <td>0.0</td>\n",
       "      <td>0.0</td>\n",
       "      <td>0.0</td>\n",
       "      <td>0.0</td>\n",
       "      <td>1.0</td>\n",
       "      <td>6.0</td>\n",
       "      <td>15.0</td>\n",
       "      <td>11.0</td>\n",
       "      <td>0.0</td>\n",
       "      <td>0.0</td>\n",
       "      <td>0.0</td>\n",
       "      <td>1.0</td>\n",
       "      <td>8.0</td>\n",
       "      <td>13.0</td>\n",
       "      <td>15.0</td>\n",
       "      <td>1.0</td>\n",
       "      <td>0.0</td>\n",
       "      <td>0.0</td>\n",
       "      <td>0.0</td>\n",
       "      <td>9.0</td>\n",
       "      <td>16.0</td>\n",
       "      <td>16.0</td>\n",
       "      <td>5.0</td>\n",
       "      <td>0.0</td>\n",
       "      <td>0.0</td>\n",
       "      <td>0.0</td>\n",
       "      <td>0.0</td>\n",
       "      <td>3.0</td>\n",
       "      <td>13.0</td>\n",
       "      <td>16.0</td>\n",
       "      <td>16.0</td>\n",
       "      <td>11.0</td>\n",
       "      <td>5.0</td>\n",
       "      <td>0.0</td>\n",
       "      <td>0.0</td>\n",
       "      <td>0.0</td>\n",
       "      <td>0.0</td>\n",
       "      <td>3.0</td>\n",
       "      <td>11.0</td>\n",
       "      <td>16.0</td>\n",
       "      <td>9.0</td>\n",
       "      <td>0.0</td>\n",
       "    </tr>\n",
       "    <tr>\n",
       "      <th>3</th>\n",
       "      <td>0.0</td>\n",
       "      <td>0.0</td>\n",
       "      <td>7.0</td>\n",
       "      <td>15.0</td>\n",
       "      <td>13.0</td>\n",
       "      <td>1.0</td>\n",
       "      <td>0.0</td>\n",
       "      <td>0.0</td>\n",
       "      <td>0.0</td>\n",
       "      <td>8.0</td>\n",
       "      <td>13.0</td>\n",
       "      <td>6.0</td>\n",
       "      <td>15.0</td>\n",
       "      <td>4.0</td>\n",
       "      <td>0.0</td>\n",
       "      <td>0.0</td>\n",
       "      <td>0.0</td>\n",
       "      <td>2.0</td>\n",
       "      <td>1.0</td>\n",
       "      <td>13.0</td>\n",
       "      <td>13.0</td>\n",
       "      <td>0.0</td>\n",
       "      <td>0.0</td>\n",
       "      <td>0.0</td>\n",
       "      <td>0.0</td>\n",
       "      <td>0.0</td>\n",
       "      <td>2.0</td>\n",
       "      <td>15.0</td>\n",
       "      <td>11.0</td>\n",
       "      <td>1.0</td>\n",
       "      <td>0.0</td>\n",
       "      <td>0.0</td>\n",
       "      <td>0.0</td>\n",
       "      <td>0.0</td>\n",
       "      <td>0.0</td>\n",
       "      <td>1.0</td>\n",
       "      <td>12.0</td>\n",
       "      <td>12.0</td>\n",
       "      <td>1.0</td>\n",
       "      <td>0.0</td>\n",
       "      <td>0.0</td>\n",
       "      <td>0.0</td>\n",
       "      <td>0.0</td>\n",
       "      <td>0.0</td>\n",
       "      <td>1.0</td>\n",
       "      <td>10.0</td>\n",
       "      <td>8.0</td>\n",
       "      <td>0.0</td>\n",
       "      <td>0.0</td>\n",
       "      <td>0.0</td>\n",
       "      <td>8.0</td>\n",
       "      <td>4.0</td>\n",
       "      <td>5.0</td>\n",
       "      <td>14.0</td>\n",
       "      <td>9.0</td>\n",
       "      <td>0.0</td>\n",
       "      <td>0.0</td>\n",
       "      <td>0.0</td>\n",
       "      <td>7.0</td>\n",
       "      <td>13.0</td>\n",
       "      <td>13.0</td>\n",
       "      <td>9.0</td>\n",
       "      <td>0.0</td>\n",
       "      <td>0.0</td>\n",
       "    </tr>\n",
       "    <tr>\n",
       "      <th>4</th>\n",
       "      <td>0.0</td>\n",
       "      <td>0.0</td>\n",
       "      <td>0.0</td>\n",
       "      <td>1.0</td>\n",
       "      <td>11.0</td>\n",
       "      <td>0.0</td>\n",
       "      <td>0.0</td>\n",
       "      <td>0.0</td>\n",
       "      <td>0.0</td>\n",
       "      <td>0.0</td>\n",
       "      <td>0.0</td>\n",
       "      <td>7.0</td>\n",
       "      <td>8.0</td>\n",
       "      <td>0.0</td>\n",
       "      <td>0.0</td>\n",
       "      <td>0.0</td>\n",
       "      <td>0.0</td>\n",
       "      <td>0.0</td>\n",
       "      <td>1.0</td>\n",
       "      <td>13.0</td>\n",
       "      <td>6.0</td>\n",
       "      <td>2.0</td>\n",
       "      <td>2.0</td>\n",
       "      <td>0.0</td>\n",
       "      <td>0.0</td>\n",
       "      <td>0.0</td>\n",
       "      <td>7.0</td>\n",
       "      <td>15.0</td>\n",
       "      <td>0.0</td>\n",
       "      <td>9.0</td>\n",
       "      <td>8.0</td>\n",
       "      <td>0.0</td>\n",
       "      <td>0.0</td>\n",
       "      <td>5.0</td>\n",
       "      <td>16.0</td>\n",
       "      <td>10.0</td>\n",
       "      <td>0.0</td>\n",
       "      <td>16.0</td>\n",
       "      <td>6.0</td>\n",
       "      <td>0.0</td>\n",
       "      <td>0.0</td>\n",
       "      <td>4.0</td>\n",
       "      <td>15.0</td>\n",
       "      <td>16.0</td>\n",
       "      <td>13.0</td>\n",
       "      <td>16.0</td>\n",
       "      <td>1.0</td>\n",
       "      <td>0.0</td>\n",
       "      <td>0.0</td>\n",
       "      <td>0.0</td>\n",
       "      <td>0.0</td>\n",
       "      <td>3.0</td>\n",
       "      <td>15.0</td>\n",
       "      <td>10.0</td>\n",
       "      <td>0.0</td>\n",
       "      <td>0.0</td>\n",
       "      <td>0.0</td>\n",
       "      <td>0.0</td>\n",
       "      <td>0.0</td>\n",
       "      <td>2.0</td>\n",
       "      <td>16.0</td>\n",
       "      <td>4.0</td>\n",
       "      <td>0.0</td>\n",
       "      <td>0.0</td>\n",
       "    </tr>\n",
       "  </tbody>\n",
       "</table>\n",
       "</div>"
      ],
      "text/plain": [
       "   pixel_0_0  pixel_0_1  pixel_0_2  ...  pixel_7_5  pixel_7_6  pixel_7_7\n",
       "0        0.0        0.0        5.0  ...        0.0        0.0        0.0\n",
       "1        0.0        0.0        0.0  ...       10.0        0.0        0.0\n",
       "2        0.0        0.0        0.0  ...       16.0        9.0        0.0\n",
       "3        0.0        0.0        7.0  ...        9.0        0.0        0.0\n",
       "4        0.0        0.0        0.0  ...        4.0        0.0        0.0\n",
       "\n",
       "[5 rows x 64 columns]"
      ]
     },
     "execution_count": 59,
     "metadata": {
      "tags": []
     },
     "output_type": "execute_result"
    }
   ],
   "source": [
    "import pandas as pd\n",
    "from sklearn.datasets import load_digits\n",
    "\n",
    "# Import the data into a pandas dataframe\n",
    "nist = load_digits()\n",
    "nist_df = pd.DataFrame(nist.data, columns = nist.feature_names)\n",
    "\n",
    "# Split data into features and labels\n",
    "X = nist.data\n",
    "y = nist.target\n",
    "\n",
    "# View the raw data\n",
    "nist_df.head()"
   ]
  },
  {
   "cell_type": "code",
   "execution_count": 60,
   "metadata": {
    "colab": {
     "base_uri": "https://localhost:8080/",
     "height": 149
    },
    "id": "EO0CYccDPAAX",
    "outputId": "8f6c5839-a5b1-4514-fff9-46c265c17030"
   },
   "outputs": [
    {
     "data": {
      "image/png": "[encoded data removed]",
      "text/plain": [
       "<Figure size 1440x432 with 10 Axes>"
      ]
     },
     "metadata": {
      "tags": []
     },
     "output_type": "display_data"
    }
   ],
   "source": [
    "# Visualize 10 random samples as 8x8 images\n",
    "from matplotlib import pyplot as plt\n",
    "fig = plt.figure(figsize=(20, 6))  # figure size in inches\n",
    "fig.subplots_adjust(left=0, right=1, bottom=0, top=1, hspace=0.05, wspace=0.05)\n",
    "\n",
    "for i in range(10):\n",
    "    ax = fig.add_subplot(1, 10, i + 1, xticks=[], yticks=[])\n",
    "    ax.imshow(nist.images[i*4], cmap=plt.cm.binary, interpolation='nearest')\n",
    "    # Label the image with the target value\n",
    "    ax.text(0, 7, str(nist.target[i*4]))"
   ]
  },
  {
   "cell_type": "markdown",
   "metadata": {
    "id": "NqQ2PWg9PAAY"
   },
   "source": [
    "#### 3.a. Split the data into train, test, and validation sets.\n",
    "\n",
    "Use a 60/20/20 split. Make sure to set `random_state=42` to shuffle the dataset in a consistent manner."
   ]
  },
  {
   "cell_type": "code",
   "execution_count": 61,
   "metadata": {
    "colab": {
     "base_uri": "https://localhost:8080/"
    },
    "id": "k12JT_YFPAAZ",
    "outputId": "91db43cb-c5e2-439f-f1a7-4de81696381c"
   },
   "outputs": [
    {
     "name": "stdout",
     "output_type": "stream",
     "text": [
      "X train: (1077, 64) \n",
      "y train (1077,) \n",
      "X test: (360, 64) \n",
      "y test (360,) \n",
      "X val: (360, 64) \n",
      "y test (360,)\n"
     ]
    }
   ],
   "source": [
    "from sklearn.model_selection import train_test_split\n",
    "testSize = 0.20\n",
    "xtrain, xtest, ytrain, ytest = train_test_split(nist.data, nist.target, test_size=testSize, random_state=42)# -- Code Required --\n",
    "testSize = 0.25\n",
    "xtrain, xval, ytrain, yval = train_test_split(xtrain, ytrain, test_size=testSize, random_state=42)# -- Code Required --\n",
    "print(\"X train:\", xtrain.shape,\"\\ny train\", ytrain.shape,\"\\nX test:\", xtest.shape,\"\\ny test\", ytest.shape,\"\\nX val:\", xval.shape,\"\\ny test\", yval.shape)\n",
    "### ADD CODE HERE:\n",
    "# Split the data into training, test, and validation sets, just like we did on HW 2\n",
    "# Make sure to set random_state=42!\n",
    "###"
   ]
  },
  {
   "cell_type": "markdown",
   "metadata": {
    "id": "9sJ6CTldPAAZ"
   },
   "source": [
    "#### 3.b. Implement a Euclidean distance function.\n",
    "We'll need to calculate the Euclidean distance between points of arbitrary dimensions, which you'll implement by filling in the function below. (*Hint: use [this](https://docs.scipy.org/doc/scipy/reference/spatial.distance.html).*)"
   ]
  },
  {
   "cell_type": "code",
   "execution_count": 62,
   "metadata": {
    "id": "4uKb1bFZPAAa"
   },
   "outputs": [],
   "source": [
    "from scipy.spatial import distance\n",
    "\n",
    "def euclidean_distance(a, b):\n",
    "    '''\n",
    "    A function that calculates and returns the Euclidean distance between vectors a and b.\n",
    "    '''\n",
    "    dist = distance.euclidean(a,b)\n",
    "    ### ADD CODE HERE: calculate dist, the Euclidean distance between a and b\n",
    "\n",
    "    return dist\n",
    "# vect1 = [0,0,0,0]\n",
    "# vect2 = [1,1,1,1]\n",
    "# dis = euclidean_distance(vect1,vect2)\n",
    "# print(dis)"
   ]
  },
  {
   "cell_type": "markdown",
   "metadata": {
    "id": "Jx19DUfuol7Z"
   },
   "source": []
  },
  {
   "cell_type": "markdown",
   "metadata": {
    "id": "B_I3e8sQPAAa"
   },
   "source": [
    "#### 3.c. Implement the K-nearest neighbors algorithm.\n",
    "The two functions below make up a skeleton of the KNN algorithm, which you will complete.\n",
    "\n",
    "The first, `compute_neighbors_and_classify()`:\n",
    "1. Computes the neighbors given `k` (the number of neighbors)\n",
    "2. Finds the `k` neighbors with the smallest Euclidean distance to the test point (using `euclidean_distance()` above)\n",
    "3. Returns the most common classification label among those `k` neighbors.\n",
    "\n",
    "The second, `compute_accuracy_on_dataset()`:\n",
    "1. Gets the KNN classification predictions for each test point using `compute_neighbors_and_classify()`.\n",
    "2. Compares the predictions to the real values.\n",
    "3. Returns the accuracy score (how many predictions the model got right divided by total number of samples)."
   ]
  },
  {
   "cell_type": "code",
   "execution_count": 63,
   "metadata": {
    "colab": {
     "base_uri": "https://localhost:8080/"
    },
    "id": "x6scJjGMPAAb",
    "outputId": "2252ceae-2ce1-46a6-f85b-87723c07fafc"
   },
   "outputs": [
    {
     "name": "stdout",
     "output_type": "stream",
     "text": [
      "6\n"
     ]
    }
   ],
   "source": [
    "from scipy.stats import mode\n",
    "\n",
    "def compute_neighbors_and_classify(X_train, y_train, test_point, k):\n",
    "    '''\n",
    "    A function that computes the k neighbors in X_train closest to one test point, \n",
    "    and returns the classification.\n",
    "    '''\n",
    "    # This is a list to hold all of the distances associated with the points and their labels\n",
    "    distances = []\n",
    "    # Loop over the training points\n",
    "    for i, train_point in enumerate(X_train):\n",
    "\n",
    "        dist = euclidean_distance(train_point,test_point)\n",
    "        # Add the distance, the point, and its label (as a tuple) value to our list\n",
    "        # We use a tuple so we can sort the list later while keeping each neighbor next to its distance\n",
    "        distances.append((dist, train_point, y_train[i]))\n",
    "\n",
    "    # Now that we have all the distances, we need to return the labels with the k smallest distances\n",
    "    # First, sort the list we made by distance\n",
    "    distances = sorted(distances, key=lambda x: x[0])\n",
    "    \n",
    "    # Now, pull out the labels associated with the first k neighbors and add them to a list\n",
    "    k_labels = []\n",
    "    for i in range(k):\n",
    "        k_labels.append(distances[i][2])\n",
    "    \n",
    "    classif = mode(k_labels)\n",
    "    classification = int(classif[0])\n",
    "    ### ADD CODE HERE:\n",
    "    # Get the label that appears the most times in k_labels using mode(). This is our `classification`.\n",
    "    # If there is no mode, just return any label within the k_labels list.\n",
    "    # Refer to the documentation of mode() to ensure you're getting the correct value:\n",
    "    # https://docs.scipy.org/doc/scipy/reference/generated/scipy.stats.mode.html\n",
    "    ###\n",
    "    \n",
    "    return classification\n",
    "k = compute_neighbors_and_classify(xtrain,ytrain,xtest[0],10)\n",
    "print(k)\n",
    "def compute_accuracy_on_dataset(X_train, y_train, data, labels, k):\n",
    "    '''\n",
    "    A function that computes the accuracy of KNN on a (test) dataset.\n",
    "    '''\n",
    "    accuracy_numerator = 0\n",
    "    # Loop over the dataset we'd like to get the accuracy on\n",
    "    for i, point in enumerate(data):\n",
    "        \n",
    "        ### ADD CODE HERE:\n",
    "        # Compute the neighbors and `classification` for this point with the training data\n",
    "        ###\n",
    "        classification = compute_neighbors_and_classify(X_train,y_train,point,k)\n",
    "        # Compare this classification to the real value in `labels`. \n",
    "        # If the model got it correct, add to a running sum of correct predictions.\n",
    "        accuracy_numerator += 1 if classification == labels[i] else 0\n",
    "    \n",
    "    ### ADD CODE HERE:\n",
    "    # Compute the accuracy: divide the count of correct predictions by the number of samples in the dataset\n",
    "    ###\n",
    "    accuracy = accuracy_numerator/float(len(data))\n",
    "    return accuracy"
   ]
  },
  {
   "cell_type": "markdown",
   "metadata": {
    "id": "wQAkOeLOPAAc"
   },
   "source": [
    "#### 3.d. Run KNN on the NIST dataset with k = 1, and report the accuracy on the test set."
   ]
  },
  {
   "cell_type": "code",
   "execution_count": 64,
   "metadata": {
    "colab": {
     "base_uri": "https://localhost:8080/"
    },
    "id": "e4sHVs05PAAd",
    "outputId": "6074fb56-0bc5-4ed4-bd27-1a36ba05cf52"
   },
   "outputs": [
    {
     "name": "stdout",
     "output_type": "stream",
     "text": [
      "Accuracy on test set with k = 1: 0.9777777777777777\n"
     ]
    }
   ],
   "source": [
    "### ADD CODE HERE:\n",
    "# Call compute_accuracy_on_dataset() to get the accuracy on the test set with k=1\n",
    "###\n",
    "k = 1\n",
    "knn_acc = compute_accuracy_on_dataset(xtrain, ytrain, xtest, ytest, k)\n",
    "print(\"Accuracy on test set with k = 1:\", knn_acc)"
   ]
  },
  {
   "cell_type": "markdown",
   "metadata": {
    "id": "Lrk5S1rQPAAe"
   },
   "source": [
    "#### 3.d. Find the best value of K by using the validation set.\n",
    "Ideally, we'd like to programmatically find the best value of `k` instead of just guessing what it is. Using the **validation set**, find the best value of `k` by running our KNN algorithm for `k = [1, 2, 3 ... 10]`, and saving the `k` with the best accuracy. \n",
    "\n",
    "Fill in the function below, and then call it to achieve this."
   ]
  },
  {
   "cell_type": "code",
   "execution_count": 65,
   "metadata": {
    "id": "1EA36f3KPAAe"
   },
   "outputs": [],
   "source": [
    "def validate_k_on_dataset(X_train, y_train, X_val, y_val):\n",
    "    '''\n",
    "    A function that finds the best K using a (validation) dataset.\n",
    "    '''\n",
    "    # Initialize the best accuracy and associated k\n",
    "    best_knn_acc = 0\n",
    "    best_k = 0\n",
    "    # In Python, range doesn't include the last element; this is the list [1,2,...10]\n",
    "    k_vec = list(range(1, 11))\n",
    "    # Loop through each k\n",
    "    for i in k_vec:\n",
    "        \n",
    "        ### ADD CODE HERE:\n",
    "        # Compute the accuracy on the validation set using the current k\n",
    "        ###\n",
    "        knn_acc = compute_accuracy_on_dataset(X_train, y_train, X_val, y_val, i)\n",
    "        # If this k is better, replace the current best accuracy and k\n",
    "        if knn_acc > best_knn_acc:\n",
    "            best_knn_acc = knn_acc\n",
    "            best_k = i\n",
    "            \n",
    "    return best_knn_acc, best_k"
   ]
  },
  {
   "cell_type": "code",
   "execution_count": 66,
   "metadata": {
    "colab": {
     "base_uri": "https://localhost:8080/"
    },
    "id": "CJNV7qUTPAAf",
    "outputId": "d4cbc26d-f909-4060-b77b-0214128d2cd9"
   },
   "outputs": [
    {
     "name": "stdout",
     "output_type": "stream",
     "text": [
      "Best accuracy on validation set was 0.9944444444444445 with k = 3\n"
     ]
    }
   ],
   "source": [
    "### ADD CODE HERE:\n",
    "# Call the above function and print the resulting accuracy and best k for the validation set\n",
    "###\n",
    "retval = validate_k_on_dataset(xtrain, ytrain, xval, yval)\n",
    "best_knn_acc = retval[0]\n",
    "best_k= retval[1]\n",
    "print(\"Best accuracy on validation set was\", best_knn_acc, \"with k =\", best_k)"
   ]
  },
  {
   "cell_type": "markdown",
   "metadata": {
    "id": "-_ZCW-cuPAAf"
   },
   "source": [
    "#### 3.e. Merge the training and validation sets, and report the new test accuracy using the best `k`.\n",
    "Since we've already used the validation set to obtain the best `k`, we can now merge the training set and the validation set and recompute KNN on the test set with the best `k`. \n",
    "\n",
    "Make sure to merge the data points in the same order that you merge the labels!\n",
    "\n",
    "##### Merge the training and validation sets. *(Hint*: Use [np.vstack](https://numpy.org/doc/stable/reference/generated/numpy.vstack.html) and [np.concatenate](https://numpy.org/doc/stable/reference/generated/numpy.concatenate.html).)"
   ]
  },
  {
   "cell_type": "code",
   "execution_count": 67,
   "metadata": {
    "colab": {
     "base_uri": "https://localhost:8080/"
    },
    "id": "vprYgr5cPAAg",
    "outputId": "0946b47b-a8b3-40dd-f52f-400fa0c862a9"
   },
   "outputs": [
    {
     "name": "stdout",
     "output_type": "stream",
     "text": [
      "(1437, 64) (1437,)\n"
     ]
    }
   ],
   "source": [
    "import numpy as np \n",
    "\n",
    "### ADD CODE HERE:\n",
    "# Use np.vstack to stack X_train and X_val\n",
    "###\n",
    "xtrainval = np.vstack((xtrain,xval))\n",
    "ytrainval = np.concatenate((ytrain,yval))\n",
    "print(xtrainval.shape, ytrainval.shape)\n",
    "### ADD CODE HERE:\n",
    "# Use np.concatenate to concatenate y_train and y_val\n",
    "###"
   ]
  },
  {
   "cell_type": "markdown",
   "metadata": {
    "id": "FldBznPlPAAg"
   },
   "source": [
    "###### Now, recompute the accuracy on the test set using this merged dataset (instead of just the training set) and the best `k` value."
   ]
  },
  {
   "cell_type": "code",
   "execution_count": 68,
   "metadata": {
    "colab": {
     "base_uri": "https://localhost:8080/"
    },
    "id": "mceNdPBVPAAh",
    "outputId": "66bab127-1a25-49df-9e6c-7ac05df4b9fd"
   },
   "outputs": [
    {
     "name": "stdout",
     "output_type": "stream",
     "text": [
      "KNN accuracy on test set using merged train and validation sets and best K value: 0.9833333333333333\n"
     ]
    }
   ],
   "source": [
    "### ADD CODE HERE:\n",
    "# Compute the accuracy on the test set using the merged train and validation set and the best k\n",
    "###\n",
    "knn_acc = compute_accuracy_on_dataset(xtrainval, ytrainval, xtest, ytest, best_k)\n",
    "print(\"KNN accuracy on test set using merged train and validation sets and best K value:\", knn_acc)"
   ]
  },
  {
   "cell_type": "markdown",
   "metadata": {
    "id": "I88eMIyWPAAh"
   },
   "source": [
    "### 4. Comparing Decision Trees and K-Nearest Neighbors on Raw Wine Data\n",
    "We're going to compare the performance of our KNN algorithm and the decision tree algorithm on a new dataset.\n",
    "\n",
    "The wine dataset is the result of a chemical analysis of wines grown in the same region in Italy by three different cultivators. There are 13 different measurements (features) taken for different constituents found in the three types of wine."
   ]
  },
  {
   "cell_type": "markdown",
   "metadata": {
    "id": "-kspMl6RPAAh"
   },
   "source": [
    "#### Import the wine dataset and view it."
   ]
  },
  {
   "cell_type": "code",
   "execution_count": 83,
   "metadata": {
    "colab": {
     "base_uri": "https://localhost:8080/",
     "height": 309
    },
    "id": "jANbVsMdPAAi",
    "outputId": "930dbf23-014b-4b72-f57e-35c7e496407e"
   },
   "outputs": [
    {
     "name": "stdout",
     "output_type": "stream",
     "text": [
      "[0 0 0 0 0 0 0 0 0 0 0 0 0 0 0 0 0 0 0 0 0 0 0 0 0 0 0 0 0 0 0 0 0 0 0 0 0\n",
      " 0 0 0 0 0 0 0 0 0 0 0 0 0 0 0 0 0 0 0 0 0 0 1 1 1 1 1 1 1 1 1 1 1 1 1 1 1\n",
      " 1 1 1 1 1 1 1 1 1 1 1 1 1 1 1 1 1 1 1 1 1 1 1 1 1 1 1 1 1 1 1 1 1 1 1 1 1\n",
      " 1 1 1 1 1 1 1 1 1 1 1 1 1 1 1 1 1 1 1 2 2 2 2 2 2 2 2 2 2 2 2 2 2 2 2 2 2\n",
      " 2 2 2 2 2 2 2 2 2 2 2 2 2 2 2 2 2 2 2 2 2 2 2 2 2 2 2 2 2 2]\n"
     ]
    },
    {
     "data": {
      "text/html": [
       "<div>\n",
       "<style scoped>\n",
       "    .dataframe tbody tr th:only-of-type {\n",
       "        vertical-align: middle;\n",
       "    }\n",
       "\n",
       "    .dataframe tbody tr th {\n",
       "        vertical-align: top;\n",
       "    }\n",
       "\n",
       "    .dataframe thead th {\n",
       "        text-align: right;\n",
       "    }\n",
       "</style>\n",
       "<table border=\"1\" class=\"dataframe\">\n",
       "  <thead>\n",
       "    <tr style=\"text-align: right;\">\n",
       "      <th></th>\n",
       "      <th>alcohol</th>\n",
       "      <th>malic_acid</th>\n",
       "      <th>ash</th>\n",
       "      <th>alcalinity_of_ash</th>\n",
       "      <th>magnesium</th>\n",
       "      <th>total_phenols</th>\n",
       "      <th>flavanoids</th>\n",
       "      <th>nonflavanoid_phenols</th>\n",
       "      <th>proanthocyanins</th>\n",
       "      <th>color_intensity</th>\n",
       "      <th>hue</th>\n",
       "      <th>od280/od315_of_diluted_wines</th>\n",
       "      <th>proline</th>\n",
       "    </tr>\n",
       "  </thead>\n",
       "  <tbody>\n",
       "    <tr>\n",
       "      <th>0</th>\n",
       "      <td>14.23</td>\n",
       "      <td>1.71</td>\n",
       "      <td>2.43</td>\n",
       "      <td>15.6</td>\n",
       "      <td>127.0</td>\n",
       "      <td>2.80</td>\n",
       "      <td>3.06</td>\n",
       "      <td>0.28</td>\n",
       "      <td>2.29</td>\n",
       "      <td>5.64</td>\n",
       "      <td>1.04</td>\n",
       "      <td>3.92</td>\n",
       "      <td>1065.0</td>\n",
       "    </tr>\n",
       "    <tr>\n",
       "      <th>1</th>\n",
       "      <td>13.20</td>\n",
       "      <td>1.78</td>\n",
       "      <td>2.14</td>\n",
       "      <td>11.2</td>\n",
       "      <td>100.0</td>\n",
       "      <td>2.65</td>\n",
       "      <td>2.76</td>\n",
       "      <td>0.26</td>\n",
       "      <td>1.28</td>\n",
       "      <td>4.38</td>\n",
       "      <td>1.05</td>\n",
       "      <td>3.40</td>\n",
       "      <td>1050.0</td>\n",
       "    </tr>\n",
       "    <tr>\n",
       "      <th>2</th>\n",
       "      <td>13.16</td>\n",
       "      <td>2.36</td>\n",
       "      <td>2.67</td>\n",
       "      <td>18.6</td>\n",
       "      <td>101.0</td>\n",
       "      <td>2.80</td>\n",
       "      <td>3.24</td>\n",
       "      <td>0.30</td>\n",
       "      <td>2.81</td>\n",
       "      <td>5.68</td>\n",
       "      <td>1.03</td>\n",
       "      <td>3.17</td>\n",
       "      <td>1185.0</td>\n",
       "    </tr>\n",
       "    <tr>\n",
       "      <th>3</th>\n",
       "      <td>14.37</td>\n",
       "      <td>1.95</td>\n",
       "      <td>2.50</td>\n",
       "      <td>16.8</td>\n",
       "      <td>113.0</td>\n",
       "      <td>3.85</td>\n",
       "      <td>3.49</td>\n",
       "      <td>0.24</td>\n",
       "      <td>2.18</td>\n",
       "      <td>7.80</td>\n",
       "      <td>0.86</td>\n",
       "      <td>3.45</td>\n",
       "      <td>1480.0</td>\n",
       "    </tr>\n",
       "    <tr>\n",
       "      <th>4</th>\n",
       "      <td>13.24</td>\n",
       "      <td>2.59</td>\n",
       "      <td>2.87</td>\n",
       "      <td>21.0</td>\n",
       "      <td>118.0</td>\n",
       "      <td>2.80</td>\n",
       "      <td>2.69</td>\n",
       "      <td>0.39</td>\n",
       "      <td>1.82</td>\n",
       "      <td>4.32</td>\n",
       "      <td>1.04</td>\n",
       "      <td>2.93</td>\n",
       "      <td>735.0</td>\n",
       "    </tr>\n",
       "  </tbody>\n",
       "</table>\n",
       "</div>"
      ],
      "text/plain": [
       "   alcohol  malic_acid   ash  ...   hue  od280/od315_of_diluted_wines  proline\n",
       "0    14.23        1.71  2.43  ...  1.04                          3.92   1065.0\n",
       "1    13.20        1.78  2.14  ...  1.05                          3.40   1050.0\n",
       "2    13.16        2.36  2.67  ...  1.03                          3.17   1185.0\n",
       "3    14.37        1.95  2.50  ...  0.86                          3.45   1480.0\n",
       "4    13.24        2.59  2.87  ...  1.04                          2.93    735.0\n",
       "\n",
       "[5 rows x 13 columns]"
      ]
     },
     "execution_count": 83,
     "metadata": {
      "tags": []
     },
     "output_type": "execute_result"
    }
   ],
   "source": [
    "from sklearn.datasets import load_wine\n",
    "\n",
    "# Import the data into a pandas dataframe\n",
    "wine = load_wine()\n",
    "wine_df = pd.DataFrame(wine.data, columns = wine.feature_names)\n",
    "\n",
    "# Split data into features and labels\n",
    "X_w = wine.data\n",
    "y_w = wine.target\n",
    "# View the raw data\n",
    "wine_df.head()"
   ]
  },
  {
   "cell_type": "code",
   "execution_count": null,
   "metadata": {
    "id": "v7mLo0NjzW19"
   },
   "outputs": [],
   "source": []
  },
  {
   "cell_type": "markdown",
   "metadata": {
    "id": "EGuqUvNQPAAi"
   },
   "source": [
    "#### 4.a. Split the data into train, test and validation sets.\n",
    "\n",
    "Use a 60/20/20 split. Make sure to set `random_state=42` to shuffle the dataset in a consistent manner."
   ]
  },
  {
   "cell_type": "code",
   "execution_count": 70,
   "metadata": {
    "colab": {
     "base_uri": "https://localhost:8080/"
    },
    "id": "QtiT4gQRPAAi",
    "outputId": "2b2a1cab-3290-46e4-f60b-a8ba8c268e03"
   },
   "outputs": [
    {
     "name": "stdout",
     "output_type": "stream",
     "text": [
      "X train: (106, 13) \n",
      "y train (106,) \n",
      "X test: (36, 13) \n",
      "y test (36,) \n",
      "X val: (36, 13) \n",
      "y test (36,)\n"
     ]
    }
   ],
   "source": [
    "### ADD CODE HERE:\n",
    "# Split the data into training, test, and validation sets, just like we did on HW 2\n",
    "# Make sure to set random_state=42!\n",
    "###\n",
    "testSize = 0.20\n",
    "xtrainw, xtestw, ytrainw, ytestw = train_test_split(X_w, y_w, test_size=testSize, random_state=42)# -- Code Required --\n",
    "testSize = 0.25\n",
    "xtrainw, xvalw, ytrainw, yvalw = train_test_split(xtrainw, ytrainw, test_size=testSize, random_state=42)# -- Code Required --\n",
    "print(\"X train:\", xtrainw.shape,\"\\ny train\", ytrainw.shape,\"\\nX test:\", xtestw.shape,\"\\ny test\", ytestw.shape,\"\\nX val:\", xvalw.shape,\"\\ny test\", yvalw.shape)"
   ]
  },
  {
   "cell_type": "markdown",
   "metadata": {
    "id": "HCy8sqLxPAAj"
   },
   "source": [
    "#### 4.b. KNN: Find the best `k` and accuracy for this dataset.\n",
    "Use the same process as in question 3 to:\n",
    "\n",
    "##### 1. Validate `k`."
   ]
  },
  {
   "cell_type": "code",
   "execution_count": 77,
   "metadata": {
    "colab": {
     "base_uri": "https://localhost:8080/"
    },
    "id": "xSXHOs0lPAAj",
    "outputId": "c4a5e9a7-d9ab-4d24-9338-c2ceb68c706b"
   },
   "outputs": [
    {
     "name": "stdout",
     "output_type": "stream",
     "text": [
      "Best accuracy on validation set was 0.8333333333333334 with k = 4\n"
     ]
    }
   ],
   "source": [
    "### ADD CODE HERE:\n",
    "# Call validate_k_on_dataset() and print the resulting accuracy and best k for the validation set\n",
    "###\n",
    "retval = validate_k_on_dataset(xtrainw, ytrainw, xvalw, yvalw)\n",
    "best_w_knn_acc = retval[0]\n",
    "best_w_k= retval[1]\n",
    "print(\"Best accuracy on validation set was\", best_w_knn_acc, \"with k =\", best_w_k)"
   ]
  },
  {
   "cell_type": "markdown",
   "metadata": {
    "id": "SVhxUm4VPAAj"
   },
   "source": [
    "##### 2. Merge the training and validation sets."
   ]
  },
  {
   "cell_type": "code",
   "execution_count": 78,
   "metadata": {
    "colab": {
     "base_uri": "https://localhost:8080/"
    },
    "id": "JyhZgd3_PAAk",
    "outputId": "0f1bc0db-b17b-47cc-e629-7018c50d3606"
   },
   "outputs": [
    {
     "name": "stdout",
     "output_type": "stream",
     "text": [
      "(142, 13) (142,)\n"
     ]
    }
   ],
   "source": [
    "### ADD CODE HERE:\n",
    "# Use np.vstack to stack X_train and X_val\n",
    "###\n",
    "\n",
    "### ADD CODE HERE:\n",
    "# Use np.concatenate to concatenate y_train and y_val\n",
    "###\n",
    "xtrainvalw = np.vstack((xtrainw,xvalw))\n",
    "ytrainvalw = np.concatenate((ytrainw,yvalw))\n",
    "print(xtrainvalw.shape, ytrainvalw.shape)"
   ]
  },
  {
   "cell_type": "markdown",
   "metadata": {
    "id": "c7vUSZUuPAAk"
   },
   "source": [
    "##### 3. Report the new accuracy on the test set; recompute KNN using the merged dataset and the best `k` value."
   ]
  },
  {
   "cell_type": "code",
   "execution_count": 79,
   "metadata": {
    "colab": {
     "base_uri": "https://localhost:8080/"
    },
    "id": "-F5K3D6ZPAAk",
    "outputId": "e00f3426-0258-484b-e8cd-176767c11de0"
   },
   "outputs": [
    {
     "name": "stdout",
     "output_type": "stream",
     "text": [
      "KNN accuracy on test set using merged train and validation sets and best K value: 0.75\n"
     ]
    }
   ],
   "source": [
    "### ADD CODE HERE:\n",
    "# Compute the accuracy on the test set using the merged train and validation set and the best k\n",
    "###\n",
    "w_knn_acc = compute_accuracy_on_dataset(xtrainvalw, ytrainvalw, xtestw, ytestw, best_w_k)\n",
    "print(\"KNN accuracy on test set using merged train and validation sets and best K value:\", w_knn_acc)"
   ]
  },
  {
   "cell_type": "markdown",
   "metadata": {
    "id": "4oS5J2kkPAAl"
   },
   "source": [
    "#### 4.c. Decision Trees: Use `sklearn`'s built-in decision tree on this dataset and report the accuracy.\n",
    "You can find the documentation for instantiating and fitting `sklearn`'s `DecisionTreeClassifier` [here](https://scikit-learn.org/stable/modules/generated/sklearn.tree.DecisionTreeClassifier.html).\n",
    "\n",
    "You can find the documentation for using `metrics.accuracy_score` to compute the accuracy given predictions and true labels [here](https://scikit-learn.org/stable/modules/generated/sklearn.metrics.accuracy_score.html).\n",
    "\n",
    "*Make sure to use the merged training and validation set to fit the decision tree (for a fair comparison to KNN)!*"
   ]
  },
  {
   "cell_type": "code",
   "execution_count": 81,
   "metadata": {
    "colab": {
     "base_uri": "https://localhost:8080/"
    },
    "id": "vvoxq0KmPAAl",
    "outputId": "7a7c3f2a-7436-4db6-f92a-c43458b54d2f"
   },
   "outputs": [
    {
     "name": "stdout",
     "output_type": "stream",
     "text": [
      "Decision tree accuracy on test set: 0.9444444444444444\n"
     ]
    }
   ],
   "source": [
    "from sklearn import tree\n",
    "from sklearn import metrics\n",
    "clf = tree.DecisionTreeClassifier(random_state=0)\n",
    "### ADD CODE HERE:\n",
    "# Instantiate the decision tree.\n",
    "###\n",
    "clf.fit(xtrainvalw,ytrainvalw)\n",
    "### ADD CODE HERE:\n",
    "# Fit the tree with the merged training and validation set.\n",
    "###\n",
    "yGuess = clf.predict(xtestw)\n",
    "### ADD CODE HERE:\n",
    "# Use the tree to predict on the test set.\n",
    "###\n",
    "tree_acc = metrics.accuracy_score(ytestw, yGuess)\n",
    "### ADD CODE HERE:\n",
    "# Use metrics.accuracy_score to get the accuracy of this decision tree on the test set.\n",
    "###\n",
    "\n",
    "print(\"Decision tree accuracy on test set:\", tree_acc)"
   ]
  },
  {
   "cell_type": "markdown",
   "metadata": {
    "id": "LjvfwzxoPAAl"
   },
   "source": [
    "#### 4.d. Explain the difference in performance between these two algorithms; why does one perform better than the other?"
   ]
  },
  {
   "cell_type": "markdown",
   "metadata": {
    "id": "qCVcQXhXPAAm"
   },
   "source": [
    "As you can see by the bellow graphs not all of the features are equally good at classifing the types of wine. While *proline* and  *od280/od315_of_diluted_wines* seem to be good features to work with because relitively few of their values of x overlap for different labels, features like *proanthocyanins* are bad because they have many overlapping x values for different values of y. In a decicion tree, the features that are good pradictors of labels get promoted and bad features are deprioritized. However in knn it is a wrote euclidan distance from one data point to another which equally weights all features. But while were on the topic of equally weighting all features. Because this data set has not been normalized the KNN estimate favors features with higher data values regardless of statistical signifigance. this also impacts is poor performance.\n",
    "\n"
   ]
  },
  {
   "cell_type": "code",
   "execution_count": 93,
   "metadata": {
    "colab": {
     "base_uri": "https://localhost:8080/",
     "height": 546
    },
    "id": "IAOFqeKszYxF",
    "outputId": "cbdeb794-9f24-4ea7-a01f-666215c8501c"
   },
   "outputs": [
    {
     "data": {
      "image/png": "[encoded data removed]",
      "text/plain": [
       "<Figure size 2016x864 with 12 Axes>"
      ]
     },
     "metadata": {
      "needs_background": "light",
      "tags": []
     },
     "output_type": "display_data"
    }
   ],
   "source": [
    "import matplotlib.pyplot as plt\n",
    "wine_features = ['malic_acid',\t'ash',\t'alcalinity_of_ash', 'magnesium','total_phenols','flavanoids','nonflavanoid_phenols', 'proanthocyanins',\t'color_intensity',\t'hue'\t,'od280/od315_of_diluted_wines',\t'proline']\n",
    "\n",
    "# Create a figure to hold our plots\n",
    "plt.figure(figsize=(28, len(wine_features)))\n",
    "for i, feature in enumerate(wine_features):\n",
    "    data_p = X_w[:,i]\n",
    "    \n",
    "    # Create subplots for each feature within this figure\n",
    "    plt.subplot(1, len(wine_features) , i+1)\n",
    "    color =[\"blue\",\"red\",\"green\",\"black\",\"orange\"]\n",
    " \n",
    "    plt.scatter(data_p, y_w, marker='.')\n",
    "    # plt.title(wine_features)\n",
    "    # plt.xlabel(wine_features)\n",
    "    # plt.ylabel(\"wine type\")"
   ]
  }
 ],
 "metadata": {
  "colab": {
   "collapsed_sections": [
    "js5teW_jPAAM"
   ],
   "name": "EC414_HW3.ipynb",
   "provenance": []
  },
  "kernelspec": {
   "display_name": "Python 3 (ipykernel)",
   "language": "python",
   "name": "python3"
  },
  "language_info": {
   "codemirror_mode": {
    "name": "ipython",
    "version": 3
   },
   "file_extension": ".py",
   "mimetype": "text/x-python",
   "name": "python",
   "nbconvert_exporter": "python",
   "pygments_lexer": "ipython3",
   "version": "3.9.7"
  }
 },
 "nbformat": 4,
 "nbformat_minor": 1
}
