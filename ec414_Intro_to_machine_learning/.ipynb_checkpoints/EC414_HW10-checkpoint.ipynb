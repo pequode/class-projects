{
 "cells": [
  {
   "cell_type": "markdown",
   "metadata": {
    "id": "FA3HgvMuLFa_"
   },
   "source": [
    "# Homework 10: Neural Networks\n",
    "by Yousif Khaireddin\n",
    "\n",
    "**Due date**: April 28, Wednesday by 11:59pm\n"
   ]
  },
  {
   "cell_type": "markdown",
   "metadata": {
    "id": "3lGwvIL2LWPq"
   },
   "source": [
    "## Setup"
   ]
  },
  {
   "cell_type": "markdown",
   "metadata": {
    "id": "aJca6HvbLYYA"
   },
   "source": [
    "To run and solve this assignment, you must have access to a working Jupyter Notebook installation. We recommend Google Colab. If you are already familiar with Jupyter and have your own installation, you may use it; however, you will have to tweak Colab-specific commands we've entered here (for example, file uploads).\n",
    "\n",
    "To use Google Colab:\n",
    "\n",
    "1. Download this `ipynb` file.\n",
    "2. Navigate to https://colab.research.google.com/ and select `Upload` in the pop-up window.\n",
    "3. Upload this file. It will then open in Colab.\n",
    "\n",
    "The below statements assume that you have already followed these instructions. If you need help with Python syntax, NumPy, or Matplotlib, you might find Week 1 discussion material useful.\n",
    "\n",
    "To run code in a cell or to render Markdown+LaTeX press Ctrl+Enter or \"`Run`\" button above. To edit any code or text cell, double-click on its content. Put your solution into boxes marked with **`[double click here to add a solution]`** and press Ctrl+Enter to render text. You can add cells via `+` sign at the top left corner.\n",
    "\n",
    "**Submission instructions**: please upload your completed solution file as well as a scan of any handwritten answers to Gradescope by **April 28th at midnight**.."
   ]
  },
  {
   "cell_type": "markdown",
   "metadata": {
    "id": "21L6Ct-yWkzB"
   },
   "source": [
    "## **Question 1:** Useful Functions and Setup\n"
   ]
  },
  {
   "cell_type": "code",
   "execution_count": null,
   "metadata": {
    "id": "GmPYFTaHWjqG"
   },
   "outputs": [],
   "source": [
    "import torch\n",
    "import torchvision\n",
    "from torchvision import transforms, datasets\n",
    "import torch.nn as nn\n",
    "import torch.nn.functional as F\n",
    "import torch.optim as optim\n",
    "from matplotlib import pyplot as plt\n",
    "\n",
    "device = torch.device(\"cuda:0\" if torch.cuda.is_available() else \"cpu\")"
   ]
  },
  {
   "cell_type": "markdown",
   "metadata": {
    "id": "qOKHdi56W9ba"
   },
   "source": [
    "### Loading Dataset"
   ]
  },
  {
   "cell_type": "markdown",
   "metadata": {
    "id": "QTJuvHbtXGam"
   },
   "source": [
    "Using the datasets module within torchvision, download the MNIST dataset.\n",
    "1. Download both the training dataset as well as the testing dataset.\n",
    "2. Using _torch.utils.data.random_split_ seperate the training dataset into 50000 training samples and 10000 validation samples "
   ]
  },
  {
   "cell_type": "code",
   "execution_count": null,
   "metadata": {
    "id": "sy0TPPOIW0NV"
   },
   "outputs": [],
   "source": [
    "# Training and validation data\n",
    "train_dataset = # CODE\n",
    "train_dataset, val_dataset = # CODE\n",
    "\n",
    "# Testing data\n",
    "test_dataset = # CODE"
   ]
  },
  {
   "cell_type": "code",
   "execution_count": null,
   "metadata": {
    "colab": {
     "base_uri": "https://localhost:8080/"
    },
    "id": "UHpxRhffW2S0",
    "outputId": "09c96154-456a-45fe-87dd-fab3b4a98f5a"
   },
   "outputs": [
    {
     "name": "stdout",
     "output_type": "stream",
     "text": [
      "Number of Training Samples:\t50000\n",
      "Number of Validation Samples:\t10000\n",
      "Number of Testing Samples:\t10000\n"
     ]
    }
   ],
   "source": [
    "print(\"Number of Training Samples:\", len(train_dataset), sep='\\t')\n",
    "print(\"Number of Validation Samples:\", len(val_dataset), sep='\\t')\n",
    "print(\"Number of Testing Samples:\", len(test_dataset), sep='\\t')"
   ]
  },
  {
   "cell_type": "markdown",
   "metadata": {
    "id": "bbdb_rMIXtnl"
   },
   "source": [
    "Build your dataloaders using the datasets above. Make sure to use a batchsize of 64 and to shuffle your dataset."
   ]
  },
  {
   "cell_type": "code",
   "execution_count": null,
   "metadata": {
    "colab": {
     "base_uri": "https://localhost:8080/"
    },
    "id": "BBb-AgXILscc",
    "outputId": "01c35c3f-42fd-4052-d903-57b83bb058e6"
   },
   "outputs": [
    {
     "name": "stdout",
     "output_type": "stream",
     "text": [
      "Number of Training Batches:\t782\n",
      "Number of Validation Batches:\t157\n",
      "Number of Testing Batches:\t157\n"
     ]
    }
   ],
   "source": [
    "# Creating Dataloaders\n",
    "trainloader = # CODE\n",
    "valloader = # CODE\n",
    "testloader = # CODE\n",
    "\n",
    "print(\"Number of Training Batches:\", len(trainloader), sep='\\t')\n",
    "print(\"Number of Validation Batches:\", len(valloader), sep='\\t')\n",
    "print(\"Number of Testing Batches:\", len(testloader), sep='\\t')"
   ]
  },
  {
   "cell_type": "markdown",
   "metadata": {
    "id": "i7wz8deJX--T"
   },
   "source": [
    "### Important functions"
   ]
  },
  {
   "cell_type": "markdown",
   "metadata": {
    "id": "uAOkWQCHYBo6"
   },
   "source": [
    "Complete the function `train(net, dataloader, criterion, optimizer)` which will train a given network for 1 whole epoch using a given dataloader.\n",
    "\n",
    "This function will iterate through the dataloader, compute the network outputs, the loss, backpropagage to update the networks weights, and return the accuracy and average loss across the dataloader\n",
    "\n",
    "Ensure to setup the network in training mode using the .train() attribute built by pytorch."
   ]
  },
  {
   "cell_type": "code",
   "execution_count": null,
   "metadata": {
    "id": "Hn5dfDohL_Yr"
   },
   "outputs": [],
   "source": [
    "def train(net, dataloader, criterion, optimizer):\n",
    "    net = net.train()\n",
    "    loss_tr, correct_count, n_samples = 0.0, 0.0, 0.0\n",
    "    \n",
    "    for i, data in enumerate(dataloader):\n",
    "        inputs, labels = data\n",
    "        inputs, labels = inputs.to(device), labels.to(device)\n",
    "\n",
    "        # zero the parameter gradients\n",
    "        # CODE\n",
    "        \n",
    "        # forward + backward + optimize\n",
    "        # CODE\n",
    "        \n",
    "        # store / calculate performance metrics (acc, loss)\n",
    "        # CODE\n",
    "        \n",
    "    acc = 100 * correct_count / n_samples\n",
    "    loss = loss_tr / n_samples\n",
    "\n",
    "    return acc, loss"
   ]
  },
  {
   "cell_type": "markdown",
   "metadata": {
    "id": "9w8IH2TgYtvA"
   },
   "source": [
    "Complete the function `evaluate(net, dataloader, criterion)` which will evauate a given network's performance across a given dataloader\n",
    "\n",
    "This function will iterate through the dataloader, compute the network outputs, the loss, and return the accuracy and average loss across the dataloader.\n",
    "\n",
    "Ensure to setup the network in validation mode using the .eval() attribute built by pytorch."
   ]
  },
  {
   "cell_type": "code",
   "execution_count": null,
   "metadata": {
    "id": "gmSATkk0MeyZ"
   },
   "outputs": [],
   "source": [
    "def evaluate(net, dataloader, criterion):\n",
    "    net = net.eval()\n",
    "    loss_tr, correct_count, n_samples = 0.0, 0.0, 0.0\n",
    "    \n",
    "    for data in dataloader:\n",
    "        inputs, labels = data\n",
    "        inputs, labels = inputs.to(device), labels.to(device)\n",
    "\n",
    "        # compute network predictions\n",
    "        # CODE\n",
    "\n",
    "        # calculate performance metrics (acc, loss)\n",
    "        # CODE\n",
    "\n",
    "    acc = 100 * correct_count / n_samples\n",
    "    loss = loss_tr / n_samples\n",
    "\n",
    "    return acc, loss"
   ]
  },
  {
   "cell_type": "markdown",
   "metadata": {
    "id": "Y_3JbqJdljba"
   },
   "source": [
    "Complete the function `count_parameters(model)` which should count the number of trainable parameters in a network."
   ]
  },
  {
   "cell_type": "code",
   "execution_count": null,
   "metadata": {
    "id": "Vfjqm98wliyq"
   },
   "outputs": [],
   "source": [
    "def count_parameters(model):\n",
    "\n",
    "    count = 0 # CODE\n",
    "\n",
    "    return count"
   ]
  },
  {
   "cell_type": "markdown",
   "metadata": {
    "id": "sHTlqg-ynxuw"
   },
   "source": [
    "The following function will be used to create plots of your performance metrics.\n"
   ]
  },
  {
   "cell_type": "code",
   "execution_count": null,
   "metadata": {
    "id": "GLrYdvYcnj_w"
   },
   "outputs": [],
   "source": [
    "def plot_metrics(train_acc, train_loss, val_acc, val_loss):\n",
    "    plt.figure()\n",
    "    plt.plot(train_acc, 'g', label='Training Acc')\n",
    "    plt.plot(val_acc, 'b', label='Validation Acc')\n",
    "    plt.title('Accuracy')\n",
    "    plt.xlabel('Epoch')\n",
    "    plt.ylabel('Acc')\n",
    "    plt.legend()\n",
    "    plt.grid()\n",
    "    plt.show()\n",
    "\n",
    "    plt.figure()\n",
    "    plt.plot(train_loss, 'g', label='Training Loss')\n",
    "    plt.plot(val_loss, 'b', label='Validation Loss')\n",
    "    plt.title('Loss')\n",
    "    plt.xlabel('Epoch')\n",
    "    plt.ylabel('Loss')\n",
    "    plt.legend()\n",
    "    plt.grid()\n",
    "    plt.show()"
   ]
  },
  {
   "cell_type": "markdown",
   "metadata": {
    "id": "KvMsX7ULLiZi"
   },
   "source": [
    "## **Question 2:** Dense Networks\n",
    "\n",
    "**Note:**\n",
    "In solving the following sections, it is possible very likely that your results do not match ours exactly. This is due to the randomization in initilizations. What is important is that they are within the margins we set when defining the problem. "
   ]
  },
  {
   "cell_type": "markdown",
   "metadata": {
    "id": "0QN0isnZalFE"
   },
   "source": [
    "### Initial Performance"
   ]
  },
  {
   "cell_type": "markdown",
   "metadata": {
    "id": "yAWgb_xhZL9p"
   },
   "source": [
    "Recall from the discussion session, we provided you with the following fully connected (dense) network.\n"
   ]
  },
  {
   "cell_type": "code",
   "execution_count": null,
   "metadata": {
    "colab": {
     "base_uri": "https://localhost:8080/"
    },
    "id": "jDORbAZ3Lycf",
    "outputId": "3e759367-c1ce-4b12-b7c5-af0a0669ff92"
   },
   "outputs": [
    {
     "name": "stdout",
     "output_type": "stream",
     "text": [
      "Model Architecture\n",
      "Dense(\n",
      "  (fc1): Linear(in_features=784, out_features=64, bias=True)\n",
      "  (fc2): Linear(in_features=64, out_features=64, bias=True)\n",
      "  (fc3): Linear(in_features=64, out_features=64, bias=True)\n",
      "  (fc4): Linear(in_features=64, out_features=10, bias=True)\n",
      ")\n",
      "Number of parameters: 59210\n"
     ]
    }
   ],
   "source": [
    "class Dense(nn.Module):\n",
    "    # What does your model contain\n",
    "    def __init__(self):\n",
    "        super().__init__()\n",
    "        self.fc1 = nn.Linear(28*28, 64)\n",
    "        self.fc2 = nn.Linear(64, 64)\n",
    "        self.fc3 = nn.Linear(64, 64)\n",
    "        self.fc4 = nn.Linear(64, 10)    # 10 classes\n",
    "    \n",
    "    # This is how data moves when passed to your model\n",
    "    def forward(self, x):\n",
    "        x = x.view(-1, 28*28)   # Flatten\n",
    "        x = F.relu(self.fc1(x)) # Pass through layers\n",
    "        x = F.relu(self.fc2(x))\n",
    "        x = F.relu(self.fc3(x))\n",
    "        x = F.log_softmax(self.fc4(x), dim=1)   # soft max \n",
    "        \n",
    "        return x\n",
    "\n",
    "dense = Dense().to(device)\n",
    "\n",
    "print(\"Model Architecture\")\n",
    "print(dense)\n",
    "print(\"Number of parameters:\", count_parameters(dense))"
   ]
  },
  {
   "cell_type": "markdown",
   "metadata": {
    "id": "xmhDgBUgZo1-"
   },
   "source": [
    "Complete the following code to train the network above for 3 epochs.\n",
    "1. For your optimizer, use stochatic gradient descent with a learning rate of 0.001\n",
    "2. For your criterion (loss function) use Cross Entropy Loss (the one built by pytorch)\n",
    "\n",
    "**Note:** We are expecting bad performance here using the above mentioned parameters."
   ]
  },
  {
   "cell_type": "code",
   "execution_count": null,
   "metadata": {
    "id": "LSTiaq2BL1Qg"
   },
   "outputs": [],
   "source": [
    "optimizer = # CODE\n",
    "criterion = # CODE\n",
    "\n",
    "train_acc, train_loss = [],[]\n",
    "val_acc, val_loss = [],[]\n",
    "\n",
    "print(\"Training on\", device)\n",
    "for epoch in range(3):\n",
    "    \n",
    "    acc_tr, loss_tr = train(dense, trainloader, criterion, optimizer)\n",
    "    train_loss.append(loss_tr)\n",
    "    train_acc.append(acc_tr)\n",
    "\n",
    "    acc_v, loss_v = evaluate(dense, valloader, criterion)\n",
    "    val_loss.append(loss_v)\n",
    "    val_acc.append(acc_v)\n",
    "\n",
    "    print('Epoch %2d' % (epoch + 1),\n",
    "            'Train Accuracy: %2.2f %%' % acc_tr,\n",
    "            'Val Accuracy: %2.2f' % acc_v,\n",
    "            sep='\\t\\t')"
   ]
  },
  {
   "cell_type": "markdown",
   "metadata": {
    "id": "GuulZlD3xGwD"
   },
   "source": [
    "Plot your peroformance using `plot_metrics` then evaluate your performance on the testloader / testset\n",
    "\n"
   ]
  },
  {
   "cell_type": "code",
   "execution_count": null,
   "metadata": {
    "id": "-p36C6a9atGE"
   },
   "outputs": [],
   "source": [
    "plot_metrics(train_acc, train_loss, val_acc, val_loss)\n",
    "\n",
    "acc_test, loss_test = # CODE\n",
    "print('Test Accuracy: %2.2f %%' % acc_test,\n",
    "        'Test Loss: %2.6f' % loss_test,\n",
    "        sep='\\t\\t')"
   ]
  },
  {
   "cell_type": "markdown",
   "metadata": {
    "id": "jtsiV2P7arfv"
   },
   "source": [
    "### Tuned Performance"
   ]
  },
  {
   "cell_type": "markdown",
   "metadata": {
    "id": "YPD5fh7TazWD"
   },
   "source": [
    "Vary any parameters you would like in the model's architecture (number of layers, hidden units, activation functions) or the training parameters (number of epochs, optimizer, learning rate, weight decay, momentum) to improve your initial performance. \n",
    "\n",
    "**Notes and requirements:** \n",
    "- The minimum acceptable test accuracy is 90%\n",
    "- If you run your network multiple times it is possible to get very different results with each run. This is due to the random initializations.\n",
    "- You are required to note down 5 significant changes you have experimented with and explain how these changes impacted your performance and your understanding as to why this is the case.\n",
    "- Keep your best performing model / training method and create the same plots and testing performance from above. "
   ]
  },
  {
   "cell_type": "code",
   "execution_count": null,
   "metadata": {
    "id": "XcembImnaxFl"
   },
   "outputs": [],
   "source": [
    "class TunedDense(nn.Module):\n",
    "    # What does your model contain\n",
    "    def __init__(self):\n",
    "        super().__init__()\n",
    "        # CODE\n",
    "    \n",
    "    # This is how data moves when passed to your model\n",
    "    def forward(self, x):\n",
    "        # CODE \n",
    "        \n",
    "        return x\n",
    "\n",
    "tuned_dense = TunedDense().to(device)\n",
    "\n",
    "print(\"Model Architecture\")\n",
    "print(tuned_dense)\n",
    "print(\"Number of parameters:\", count_parameters(tuned_dense))"
   ]
  },
  {
   "cell_type": "code",
   "execution_count": null,
   "metadata": {
    "id": "_Rsd082CbL0L"
   },
   "outputs": [],
   "source": [
    "optimizer = # CODE\n",
    "criterion = # CODE\n",
    "\n",
    "train_acc, train_loss = [],[]\n",
    "val_acc, val_loss = [],[]\n",
    "\n",
    "print(\"Training on\", device)\n",
    "for epoch in range(10):\n",
    "    \n",
    "    acc_tr, loss_tr = train(tuned_dense, trainloader, criterion, optimizer)\n",
    "    train_loss.append(loss_tr)\n",
    "    train_acc.append(acc_tr)\n",
    "\n",
    "    acc_v, loss_v = evaluate(tuned_dense, valloader, criterion)\n",
    "    val_loss.append(loss_v)\n",
    "    val_acc.append(acc_v)\n",
    "\n",
    "    print('Epoch %2d' % (epoch + 1),\n",
    "            'Train Accuracy: %2.2f %%' % acc_tr,\n",
    "            'Val Accuracy: %2.2f' % acc_v,\n",
    "            sep='\\t\\t')"
   ]
  },
  {
   "cell_type": "markdown",
   "metadata": {
    "id": "7Beo9PHUxUm1"
   },
   "source": [
    "Plot your peroformance using `plot_metrics` then evaluate your performance on the testloader / testset\n",
    "\n"
   ]
  },
  {
   "cell_type": "code",
   "execution_count": null,
   "metadata": {
    "colab": {
     "base_uri": "https://localhost:8080/",
     "height": 591
    },
    "id": "ZtQcDxKKL5xV",
    "outputId": "84bf06e5-7b70-41cd-ea1c-2d71cd54ceaa"
   },
   "outputs": [
    {
     "data": {
      "image/png": "[encoded data removed]",
      "text/plain": [
       "<Figure size 432x288 with 1 Axes>"
      ]
     },
     "metadata": {
      "needs_background": "light",
      "tags": []
     },
     "output_type": "display_data"
    },
    {
     "data": {
      "image/png": "[encoded data removed]",
      "text/plain": [
       "<Figure size 432x288 with 1 Axes>"
      ]
     },
     "metadata": {
      "needs_background": "light",
      "tags": []
     },
     "output_type": "display_data"
    },
    {
     "name": "stdout",
     "output_type": "stream",
     "text": [
      "Test Accuracy: 92.86 %\t\tTest Loss: 0.003801\n"
     ]
    }
   ],
   "source": [
    "plot_metrics(train_acc, train_loss, val_acc, val_loss)\n",
    "\n",
    "acc_test, loss_test = # CODE\n",
    "print('Test Accuracy: %2.2f %%' % acc_test,\n",
    "        'Test Loss: %2.6f' % loss_test,\n",
    "        sep='\\t\\t')"
   ]
  },
  {
   "cell_type": "markdown",
   "metadata": {
    "id": "SuaDzZtAqsh5"
   },
   "source": [
    "**Experiementations and explainations:**\n",
    "\n",
    "**`[double click here to add a solution]`**\n"
   ]
  },
  {
   "cell_type": "markdown",
   "metadata": {
    "id": "ZvJTJwPfiJuh"
   },
   "source": [
    "## **Question 3:** Convolutional  Neural Networks\n",
    "\n"
   ]
  },
  {
   "cell_type": "markdown",
   "metadata": {
    "id": "vGNq6kO9t5dO"
   },
   "source": [
    "Using pytorch, build a 2d convolutional neural network with the following architecture.\n",
    "\n",
    "1. 2D Convolution mapping the 1 x L x W input to 64 feature maps\n",
    "2. 2D Convolution mapping the 64 x L x W features to 32 feature maps\n",
    "\n",
    "3. Flatten the output\n",
    "3. A dense layer mapping the flattened output to 16 nodes\n",
    "4. A final dense layer mapping the 16 nodes to 10 classes\n",
    "\n",
    "Each convolutional layer should be followed by a relu activation function then a 2D maxpool of `kernel_size` 2 and `stride` of 2\n",
    "\n",
    "Each dense layer should be followed by a relu activation"
   ]
  },
  {
   "cell_type": "code",
   "execution_count": null,
   "metadata": {
    "id": "MEkXK7GWiqpB"
   },
   "outputs": [],
   "source": [
    "class CNN(nn.Module):\n",
    "    def __init__(self):\n",
    "        super(CNN, self).__init__()\n",
    "        # CODE\n",
    "\n",
    "    def forward(self, x):\n",
    "        # CODE\n",
    "        \n",
    "        return x\n",
    "\n",
    "cnn = CNN().to(device)\n",
    "\n",
    "print(\"Model Architecture\")\n",
    "print(cnn)\n",
    "print(\"Number of parameters:\", count_parameters(cnn))"
   ]
  },
  {
   "cell_type": "markdown",
   "metadata": {
    "id": "NYYFhhQku67Z"
   },
   "source": [
    "Complete the following code to train the network above for 10 epochs.\n",
    "1. For your optimizer, use stochatic gradient descent (you may change this later if you would like)\n",
    "\n",
    "2. For your criterion (loss function) use Cross Entropy Loss (the one built by pytorch)\n",
    "\n",
    "**Notes and requirements:** \n",
    "- The minimum acceptable test accuracy is 90%\n",
    "- If you run your network multiple times it is possible to get very different results with each run. This is due to the random initializations.\n",
    "- You are welcome to experiment with the CNN architecture and anything else you want. You are required to experiment with different values for `learning_rate`, `momentum`, and `weight_decay` in your optimizer to improve your performance.\n",
    "- Note down your experimentations and explain how these changes impacted your performance and your understanding as to why this is the case.\n",
    "- Keep your best performing model / training method and create the same plots and testing performance as before."
   ]
  },
  {
   "cell_type": "code",
   "execution_count": null,
   "metadata": {
    "id": "xSu0ahzmi5kX"
   },
   "outputs": [],
   "source": [
    "optimizer = # CODE\n",
    "criterion = # CODE\n",
    "\n",
    "train_acc, train_loss = [], []\n",
    "val_acc, val_loss = [], []\n",
    "\n",
    "print(\"Training on\", device)\n",
    "for epoch in range(10):\n",
    "    \n",
    "    acc_tr, loss_tr = train(cnn, trainloader, criterion, optimizer)\n",
    "    train_loss.append(loss_tr)\n",
    "    train_acc.append(acc_tr)\n",
    "\n",
    "    acc_v, loss_v = evaluate(cnn, valloader, criterion)\n",
    "    val_loss.append(loss_v)\n",
    "    val_acc.append(acc_v)\n",
    "\n",
    "    print('Epoch %2d' % (epoch + 1),\n",
    "            'Train Accuracy: %2.2f %%' % acc_tr,\n",
    "            'Val Accuracy: %2.2f' % acc_v,\n",
    "            sep='\\t\\t')"
   ]
  },
  {
   "cell_type": "markdown",
   "metadata": {
    "id": "7OqvBcilxaKG"
   },
   "source": [
    "Plot your peroformance using `plot_metrics` then evaluate your performance on the testloader / testset"
   ]
  },
  {
   "cell_type": "code",
   "execution_count": null,
   "metadata": {
    "id": "j6csYiqqjjMi"
   },
   "outputs": [],
   "source": [
    "plot_metrics(train_acc, train_loss, val_acc, val_loss)\n",
    "\n",
    "acc_test, loss_test = # CODE\n",
    "print('Test Accuracy: %2.2f %%' % acc_test,\n",
    "        'Test Loss: %2.6f' % loss_test,\n",
    "        sep='\\t\\t')"
   ]
  },
  {
   "cell_type": "markdown",
   "metadata": {
    "id": "vLuI_jUTv1Cf"
   },
   "source": [
    "**Experiementations and explainations:**\n",
    "\n",
    "**`[double click here to add a solution]`**\n"
   ]
  },
  {
   "cell_type": "markdown",
   "metadata": {
    "id": "H2qU-xmXrCod"
   },
   "source": [
    "## **Question 4:** Compare your results\n"
   ]
  },
  {
   "cell_type": "markdown",
   "metadata": {
    "id": "5FcfTx67rI3u"
   },
   "source": [
    "Compare the cnn and dense networks your have built in terms of performance, runtime, accuracy, and any other factors you think are note worthy."
   ]
  },
  {
   "cell_type": "markdown",
   "metadata": {
    "id": "_re4mYVIrb_e"
   },
   "source": [
    "**Answer:**\n",
    "\n",
    "**`[double click here to add a solution]`**\n"
   ]
  }
 ],
 "metadata": {
  "accelerator": "GPU",
  "colab": {
   "collapsed_sections": [],
   "name": "EC414_HW10.ipynb",
   "provenance": []
  },
  "kernelspec": {
   "display_name": "Python 3 (ipykernel)",
   "language": "python",
   "name": "python3"
  },
  "language_info": {
   "codemirror_mode": {
    "name": "ipython",
    "version": 3
   },
   "file_extension": ".py",
   "mimetype": "text/x-python",
   "name": "python",
   "nbconvert_exporter": "python",
   "pygments_lexer": "ipython3",
   "version": "3.9.7"
  }
 },
 "nbformat": 4,
 "nbformat_minor": 1
}
