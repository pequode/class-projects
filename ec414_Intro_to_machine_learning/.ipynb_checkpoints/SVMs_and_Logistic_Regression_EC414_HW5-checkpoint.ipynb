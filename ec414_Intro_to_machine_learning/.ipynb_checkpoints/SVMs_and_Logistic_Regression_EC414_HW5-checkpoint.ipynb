{
 "cells": [
  {
   "cell_type": "markdown",
   "metadata": {
    "id": "q3Ja9AxKp0D1"
   },
   "source": [
    "# Homework 5: SVMs and Logistic Regression\n",
    "by Sadie Allen and Yousif Khaireddin\n",
    "\n",
    "**Due date**: March 17, Wednesday by 11:59pm\n"
   ]
  },
  {
   "cell_type": "markdown",
   "metadata": {
    "id": "-ZhutmoHqDgu"
   },
   "source": [
    "## Setup"
   ]
  },
  {
   "cell_type": "markdown",
   "metadata": {
    "id": "LK_jmezqqFK0"
   },
   "source": [
    "To run and solve this assignment, you must have access to a working Jupyter Notebook installation. We recommend Google Colab. If you are already familiar with Jupyter and have your own installation, you may use it; however, you will have to tweak Colab-specific commands we've entered here (for example, file uploads).\n",
    "\n",
    "To use Google Colab:\n",
    "\n",
    "1. Download this `ipynb` file.\n",
    "2. Navigate to https://colab.research.google.com/ and select `Upload` in the pop-up window.\n",
    "3. Upload this file. It will then open in Colab.\n",
    "\n",
    "The below statements assume that you have already followed these instructions. If you need help with Python syntax, NumPy, or Matplotlib, you might find Week 1 discussion material useful.\n",
    "\n",
    "To run code in a cell or to render Markdown+LaTeX press Ctrl+Enter or \"`Run`\" button above. To edit any code or text cell, double-click on its content. Put your solution into boxes marked with **`[double click here to add a solution]`** and press Ctrl+Enter to render text. You can add cells via `+` sign at the top left corner.\n",
    "\n",
    "**Submission instructions**: please upload your completed solution file as well as a scan of any handwritten answers to Gradescope by **March 17th at midnight**.."
   ]
  },
  {
   "cell_type": "markdown",
   "metadata": {
    "id": "LT67fqvXqTyW"
   },
   "source": [
    "## **Question 1:** Binary Classification with SVMs (40pts)\n",
    "\n",
    "In this problem, you will gain intuition surrounding Support Vector Machines by solving a simple 2D case by hand. \n",
    "\n",
    "Suppose you have the following dataset:\n",
    "\n",
    "$ \\vec{x_P} = (2,0)^T, \\vec{x_Q} = (0,4)^T$ With label $y=-1$\n",
    "\n",
    "$ \\vec{x_R} = (3,3)^T, \\vec{x_S} = (7,4)^T$ With label $y=+1$\n",
    "\n",
    "\n"
   ]
  },
  {
   "cell_type": "markdown",
   "metadata": {
    "id": "lgP7eP7PCGKz"
   },
   "source": [
    "### **1.1**\n",
    "Sketch the points in the x1-x2 plane. "
   ]
  },
  {
   "cell_type": "code",
   "execution_count": 139,
   "metadata": {
    "colab": {
     "base_uri": "https://localhost:8080/",
     "height": 296
    },
    "id": "AS32Jnbwe217",
    "outputId": "6df15fd1-9770-44ad-f30a-73ef7d6024b7"
   },
   "outputs": [
    {
     "data": {
      "text/plain": [
       "Text(0, 0.5, 'x2')"
      ]
     },
     "execution_count": 139,
     "metadata": {
      "tags": []
     },
     "output_type": "execute_result"
    },
    {
     "data": {
      "image/png": "[encoded data removed]",
      "text/plain": [
       "<Figure size 432x288 with 1 Axes>"
      ]
     },
     "metadata": {
      "needs_background": "light",
      "tags": []
     },
     "output_type": "display_data"
    }
   ],
   "source": [
    "import matplotlib.pyplot as plt\n",
    "x1N = [2,0]\n",
    "x2N = [0,4]\n",
    "x1p = [3,7]\n",
    "x2p = [3,4]\n",
    "plt.scatter(x1N,x2N,color=\"red\")\n",
    "plt.scatter(x1p,x2p,color=\"blue\")\n",
    "plt.xlabel(\"x1\")\n",
    "plt.ylabel(\"x2\")"
   ]
  },
  {
   "cell_type": "markdown",
   "metadata": {
    "id": "QaZMXnVhoUdQ"
   },
   "source": [
    "**Solution**:"
   ]
  },
  {
   "cell_type": "markdown",
   "metadata": {
    "id": "SdDSQczWCSGL"
   },
   "source": [
    "### **1.2** \n",
    "Given the hyperplane parameterized by $\\vec{w}=(3,0)^T, b=-3$, sketch it and compute the parameters in canonical form. \n",
    "\n",
    "Let the hyperplane parameterized by $(\\vec{w}, b)$ linearly separate the dataset $D$. We say $(\\vec{w}, b)$ is in **canonical form** if:\n",
    "\n",
    "$min_j y_j(\\vec{w}^T\\vec{x_i}+b) = min_j|\\vec{w}^T\\vec{x_i}+b| = 1 $"
   ]
  },
  {
   "cell_type": "markdown",
   "metadata": {
    "id": "RzTKnQUOCqkE"
   },
   "source": []
  },
  {
   "cell_type": "code",
   "execution_count": 140,
   "metadata": {
    "colab": {
     "base_uri": "https://localhost:8080/",
     "height": 296
    },
    "id": "dNL_i75Puqdg",
    "outputId": "640e906e-f556-4cad-c338-082bce3abd5c"
   },
   "outputs": [
    {
     "data": {
      "text/plain": [
       "Text(0, 0.5, 'x2')"
      ]
     },
     "execution_count": 140,
     "metadata": {
      "tags": []
     },
     "output_type": "execute_result"
    },
    {
     "data": {
      "image/png": "[encoded data removed]",
      "text/plain": [
       "<Figure size 432x288 with 1 Axes>"
      ]
     },
     "metadata": {
      "needs_background": "light",
      "tags": []
     },
     "output_type": "display_data"
    }
   ],
   "source": [
    "import numpy as np\n",
    "\n",
    "rannge = range(7)\n",
    "\n",
    "L1 = np.array(list(rannge))\n",
    "L2 = 3*L1 - 3\n",
    "plt.plot(L1,L2,color=\"black\")\n",
    "plt.scatter(x1N,x2N,color=\"red\")\n",
    "plt.scatter(x1p,x2p,color=\"blue\")\n",
    "plt.xlabel(\"x1\")\n",
    "plt.ylabel(\"x2\")"
   ]
  },
  {
   "cell_type": "markdown",
   "metadata": {
    "id": "b-wn_7oUCtkW"
   },
   "source": [
    "### **1.3**\n",
    "Compute the parameters of the hyperplane passing through $\\vec{x_P}$ and $\\vec{x_Q}$ and add it to your picture. "
   ]
  },
  {
   "cell_type": "markdown",
   "metadata": {
    "id": "Wphd8e5fCw3N"
   },
   "source": [
    "**Solution**:\n",
    "* $Xp <2,0>|Xq<0,4>$  \n",
    "* $a(x-x_2) + b(y-x_1) + x_0 =0$  \n",
    "* $x_1=y_p-y_q $  \n",
    "* $x_1=0-4 $  \n",
    "* $x_1=-4 $  \n",
    "* $x_2=2 $  \n",
    "* $a(x_2-2) + b(x_1+4) + x_0=0$  \n",
    "* $(2-2) + (0+4)  =-x_0$ \n",
    "* $-4=-x_0$   \n",
    "* $W<2,4> b = -4$   "
   ]
  },
  {
   "cell_type": "code",
   "execution_count": 141,
   "metadata": {
    "colab": {
     "base_uri": "https://localhost:8080/",
     "height": 296
    },
    "id": "nu5xz0wF9rzF",
    "outputId": "2749f5eb-0ef3-4a0d-88e3-2e0b2ad0b6d5"
   },
   "outputs": [
    {
     "data": {
      "text/plain": [
       "Text(0, 0.5, 'x2')"
      ]
     },
     "execution_count": 141,
     "metadata": {
      "tags": []
     },
     "output_type": "execute_result"
    },
    {
     "data": {
      "image/png": "[encoded data removed]",
      "text/plain": [
       "<Figure size 432x288 with 1 Axes>"
      ]
     },
     "metadata": {
      "needs_background": "light",
      "tags": []
     },
     "output_type": "display_data"
    }
   ],
   "source": [
    "L3 = np.array(list(rannge))\n",
    "L4 = -(2*L3 - 4)\n",
    "plt.plot(L1,L2,color=\"black\")\n",
    "plt.plot(L3,L4,color=\"purple\")\n",
    "plt.scatter(x1N,x2N,color=\"red\")\n",
    "plt.scatter(x1p,x2p,color=\"blue\")\n",
    "plt.xlabel(\"x1\")\n",
    "plt.ylabel(\"x2\")"
   ]
  },
  {
   "cell_type": "markdown",
   "metadata": {
    "id": "Jic4zmg_Czqh"
   },
   "source": [
    "### **1.4**\n",
    "Compute the orthogonal projection of $\\vec{x_R}$ onto the hyperplane in question 1.3"
   ]
  },
  {
   "cell_type": "markdown",
   "metadata": {
    "id": "T4G9gdbhC3Rw"
   },
   "source": [
    "**Solution**:\n",
    "\n",
    "* $W<2,4>b=−4$\n",
    "* projection of a point **b** onto a hyperplane yields $\\vec x$ from $\\vec x = (A^TA)^{-1}A^tb$ \n",
    "*$\\vec x = (<2,4>^T<2,4>)^{-1}<2,4>^t<3,3>$\n",
    "*$\\vec x = (20)^{-1}<18>$\n",
    "* somthing went wrong in my math here this should be a vector\n",
    "\n"
   ]
  },
  {
   "cell_type": "code",
   "execution_count": 142,
   "metadata": {
    "colab": {
     "base_uri": "https://localhost:8080/",
     "height": 296
    },
    "id": "XVXvQuTYCxKW",
    "outputId": "2373ff10-fdc4-45e8-fb5b-6febf5ca7e59"
   },
   "outputs": [
    {
     "data": {
      "text/plain": [
       "Text(0, 0.5, 'x2')"
      ]
     },
     "execution_count": 142,
     "metadata": {
      "tags": []
     },
     "output_type": "execute_result"
    },
    {
     "data": {
      "image/png": "[encoded data removed]",
      "text/plain": [
       "<Figure size 432x288 with 1 Axes>"
      ]
     },
     "metadata": {
      "needs_background": "light",
      "tags": []
     },
     "output_type": "display_data"
    }
   ],
   "source": [
    "L3 = np.array(list(rannge))\n",
    "L4 = -(2*L3 - 4)\n",
    "L5 = np.array(list(rannge))\n",
    "L6 = (2*L5)\n",
    "plt.plot(L1,L2,color=\"black\")\n",
    "plt.plot(L3,L4,color=\"purple\")\n",
    "plt.plot(L5,L6,color=\"green\")\n",
    "plt.scatter(x1N,x2N,color=\"red\")\n",
    "plt.scatter(x1p,x2p,color=\"blue\")\n",
    "plt.xlabel(\"x1\")\n",
    "plt.ylabel(\"x2\")"
   ]
  },
  {
   "cell_type": "markdown",
   "metadata": {
    "id": "KpXfEaPgC6OB"
   },
   "source": [
    "### **1.5**\n",
    "Compute the parameters of the maximum margin linearly separating hyperplane (SVM hyperplane) in canonical form. Sketch the hyperplane. "
   ]
  },
  {
   "cell_type": "markdown",
   "metadata": {
    "id": "TSePYpg2DDf5"
   },
   "source": [
    "**Solution**\n",
    "\n",
    "This would be the same line as before just shifted up by half the x2 component of the same vector "
   ]
  },
  {
   "cell_type": "code",
   "execution_count": 144,
   "metadata": {
    "colab": {
     "base_uri": "https://localhost:8080/",
     "height": 296
    },
    "id": "_5M0vJLBoXcw",
    "outputId": "06910239-cde5-4541-e42f-cd13a63d391e"
   },
   "outputs": [
    {
     "data": {
      "text/plain": [
       "Text(0, 0.5, 'x2')"
      ]
     },
     "execution_count": 144,
     "metadata": {
      "tags": []
     },
     "output_type": "execute_result"
    },
    {
     "data": {
      "image/png": "[encoded data removed]",
      "text/plain": [
       "<Figure size 432x288 with 1 Axes>"
      ]
     },
     "metadata": {
      "needs_background": "light",
      "tags": []
     },
     "output_type": "display_data"
    }
   ],
   "source": [
    "L3 = np.array(list(rannge))\n",
    "L4 = -(2*L3 - 4)\n",
    "L6 = np.array(list(rannge))\n",
    "L7 = -(2*L3 - 6)\n",
    "plt.plot(L6,L7,color=\"black\")\n",
    "plt.plot(L3,L4,color=\"purple\")\n",
    "plt.scatter(x1N,x2N,color=\"red\")\n",
    "plt.scatter(x1p,x2p,color=\"blue\")\n",
    "plt.xlabel(\"x1\")\n",
    "plt.ylabel(\"x2\")"
   ]
  },
  {
   "cell_type": "markdown",
   "metadata": {
    "id": "MCDf7M9lDGTV"
   },
   "source": [
    "### **1.6**\n",
    "Let $\\vec{w_{SVM}} = -\\alpha_{P}\\vec{x_P} - \\alpha_{Q}\\vec{x_Q} + \\alpha_{R}\\vec{x_R} + \\alpha_{S}\\vec{x_S}$. Hand compute the $\\alpha$ values. Are they unique?"
   ]
  },
  {
   "cell_type": "markdown",
   "metadata": {
    "id": "E-NA7gweDLAj"
   },
   "source": [
    "**Solution:**\n",
    "Dont underatnd how to compute alpha values\n"
   ]
  },
  {
   "cell_type": "markdown",
   "metadata": {
    "id": "vlBs7Hmdq4dQ"
   },
   "source": [
    "## **Question 2:** Logistic Regression (60pts)\n",
    "\n"
   ]
  },
  {
   "cell_type": "markdown",
   "metadata": {
    "id": "9LmAoDlZ9KUE"
   },
   "source": [
    "In this problem, we will use an alternate but equivalent formulation of logistic regression than what you have seen in class. Suppose we have a binary classification data set:\n",
    "\n",
    "$D = \\{(\\vec{x_1}, y_1), (\\vec{x_2}, y_2), .... ,(\\vec{x_n}, y_n)\\}$, where $\\vec{x_i} \\in \\mathbb{R}^d$ and $y_i \\in \\{0,1\\}$. \n",
    "\n",
    "Recall that the hypothesis/decision rule in a logistic regression model is given by:\n",
    "\n",
    "$\\hat{y}_w = h_w(\\vec{x}) = \\sigma(\\vec{w}^T\\vec{x})$, where $\\sigma$  is the sigmoid function  $\\sigma(z) = \\frac{1}{1+e^{-z}} = \\frac{e^z}{e^z+1}$\n",
    "\n",
    "This is a model of $p(y_i=1|\\vec{x_i})$, so we estimate $p(y_i=1|\\vec{x_i})=h_w(\\vec{x_i})$. We classify $\\vec{x_i}$ as 1 if $h_w(\\vec{x_i}) \\geq 0.5$ and $\\vec{x_i}$ as 0 if $h_w(\\vec{x_i}) < 0.5$. Since our dataset is binary, this makes sense because $p(y_i=0|\\vec{x_i}) = 1 - p(y_i=1|\\vec{x_i}) = 1 - h_w(\\vec{x_i})$. (This will come in handy when you write your prediction function.) \n",
    "\n",
    "The loss function we will use for our 0-1 logistic regression formulation is: \n",
    "\n",
    "$$l(\\vec{w}) = NLL(\\vec{w}) + \\frac{\\lambda}{2}||\\vec{w}||^2$$\n",
    "\n",
    "$$\\text{where } NLL(\\vec{w}) = -\\frac{1}{n} \\sum_{i=1}^{n} y_i\\log(h_w(\\vec{x_i})) + (1 - y_i)\\log(1 - h_w(\\vec{x_i}))$$\n",
    "\n",
    "Thus, we attempt to minimize the negative log likelihood (NLL) with respect to $\\vec{w}$ with L2 normalization to prevent $\\vec{w}$ from becoming very large. \n",
    "\n",
    "The intuition behind this loss function is as follows: if $y_i=0$, the first term inside the sum is $0$, so the only term contributing the the loss is the second term. Remember that $1-h_w(\\vec{x_i}) = p(y_i=0|\\vec{x_i})$. Thus, the larger $p(y_i=0|\\vec{x_i})$ is, the smaller the contribution to the loss will be. The intuition is similar for $y_i=0$. \n",
    "\n",
    "For more on this loss function and its formulation, see the following resources:\n",
    "\n",
    "* https://medium.com/30-days-of-machine-learning/day-4-logistic-regression-df9a7a2220cd\n",
    "* https://medium.com/@bhardwajprakarsh/negative-log-likelihood-loss-why-do-we-use-it-for-binary-classification-7625f9e3c944\n",
    "\n",
    "All that is really important for us is to note that like the other formulation of the NLL, this loss function has no closed form solution for minimization with respect to $\\vec{w}$. However, we can solve for the optimal parameter vector $\\vec{w}$ using gradient descent. This is what we will do in this problem. \n",
    "\n",
    "\n"
   ]
  },
  {
   "cell_type": "markdown",
   "metadata": {
    "id": "q83J_Ri89xHV"
   },
   "source": [
    "### **2.1**\n",
    "\n",
    "In order to perform gradient descent, we must first determine the gradient vector $\\nabla_w l(w)$ as a function of $\\vec{w}$. Compute the derivate $\\nabla_w l(w)$ here. \n",
    "\n",
    "**Hints:** \n",
    "- if $h(x) = f(x) + g(x)$, then $\\nabla_x h(x)$ = $\\nabla_x f(x)$ + $\\nabla_x g(x)$\n",
    "\n",
    "- $[\\frac{f(x)}{g(x)}]'$ = $\\frac{g(x)f'(x) - f(x)g'(x)}{(g(x))^2}$\n",
    "\n",
    "- $[f(g(x)]'$ = $f'(g(x))$ * $g(x)'$ \n",
    "\n"
   ]
  },
  {
   "cell_type": "markdown",
   "metadata": {
    "id": "dcuCBKzp-IFI"
   },
   "source": [
    "**Answer**\n",
    "* $\\nabla σ(z) =  σ(z)(1−σ(z))$  from google\n",
    "* $l(w⃗ )=NLL(w⃗ )+λ2||w⃗ ||2$\n",
    "* $ l(w) = NLL(w)+K(w)$\n",
    "*  $K(w) = λ2||w⃗ ||^2$\n",
    "*  $NLL(w) = -\\frac{1}{n} \\sum_{i=1}^{n} y_i\\log(σ(w)) + (1 - y_i)\\log(1 - σ(w)))$\n",
    "* $ W(w) =-\\frac{1}{n} \\sum_{i=1}^{n} (c(w)+v(w))$\n",
    "* $ c(w) = y_i\\log(σ({w^Tx_i}))$\n",
    "* $ \\nabla c(w) = y_i * \\frac{1}{\\sigma(w^Tx_i)} *(σ(w^Tx_i)(1−σ(w^Tx_i)) * x_i $\n",
    "* $ \\nabla c(w) = y_i * (1−σ(w^Tx_i)) * x_i $\n",
    "* $ v(w) =  (1 - y_i)\\log(1 - σ({w^Tx_i}))$\n",
    "* $ \\nabla v(w) =  (1 - y_i)\\log(1 - σ({w^Tx_i}))$\n",
    "* $ \\nabla v(w) =  (1 - y_i)(\\frac{1}{(1 - σ({w^Tx_i})})(- σ({w^Tx_i})((1−σ(w^Tx_i))* x_i $)\n",
    "* $ \\nabla v(w) =  (1 - y_i)(- σ({w^Tx_i})x_i)$\n",
    "* $ \\nabla W(w) =-\\frac{1}{n} \\sum_{i=1}^{n}(y_i * (1−σ(w^Tx_i)) * x_i+(1 - y_i)(- σ({w^Tx_i})x_i))$\n",
    "*$ \\nabla W(w) =-\\frac{1}{n} \\sum_{i=1}^{n}x_i(y_i * (1−σ(w^Tx_i))+(1 - y_i)(- σ({w^Tx_i})))$\n",
    "*$ \\nabla W(w) =-\\frac{1}{n} \\sum_{i=1}^{n}x_i(y_i−y_iσ(w^Tx_i)- σ(w^Tx_i)+ y_iσ({w^Tx_i}))$\n",
    "*$ \\nabla W(w) =-\\frac{1}{n} \\sum_{i=1}^{n}x_i(y_i- σ(w^Tx_i))$\n",
    "*$ \\nabla W(w) =-\\frac{1}{n} \\sum_{i=1}^{n} x_iy_i- x_iσ(w^Tx_i)$\n",
    "*  $K(w) = \\frac{λ}{2}||w⃗ ||^2$\n",
    "*  $\\nabla  K(w) = \\frac{λ}{2} \\frac{w}{||w⃗ ||}$ also from google\n",
    "*  $\\nabla  l(w) =[-\\frac{1}{n} \\sum_{i=1}^{n} x_iy_i- x_iσ(w^Tx_i)]+\\frac{λ}{2} \\frac{w}{||w⃗ ||}$ \n"
   ]
  },
  {
   "cell_type": "markdown",
   "metadata": {
    "id": "RQ-ELFdqRu1h"
   },
   "source": []
  },
  {
   "cell_type": "markdown",
   "metadata": {
    "id": "Syi0bDEEWaFh"
   },
   "source": [
    "### **2.2**\n",
    "In this problem, you will implement logistic regression using gradient descent with the gradient you calculated in 2.1\n",
    "\n",
    "**Data Loading and Scaling**:\n",
    "\n",
    "In this problem, we will use a logistic regression model to classify wether or not some patients have breast cancer based on data in a study by  Dr. William H. Wolberg, General Surgery Dept at University of Wisconsin. \n",
    "\n",
    "Luckily this dataset is already found in sklearn and all we have to do is import it"
   ]
  },
  {
   "cell_type": "code",
   "execution_count": 23,
   "metadata": {
    "colab": {
     "base_uri": "https://localhost:8080/"
    },
    "id": "Tu5YmGee7zG4",
    "outputId": "de78a646-9dc1-482b-b573-9a082c5a31aa"
   },
   "outputs": [
    {
     "name": "stdout",
     "output_type": "stream",
     "text": [
      "X shape\t(569, 30)\n",
      "Y shape\t(569,)\n"
     ]
    }
   ],
   "source": [
    "import pandas as pd\n",
    "import numpy as np\n",
    "from numpy import log, dot, e,linalg\n",
    "from numpy.random import rand\n",
    "import matplotlib.pyplot as plt\n",
    "from sklearn.metrics import confusion_matrix, classification_report\n",
    "from sklearn.datasets import load_breast_cancer\n",
    "import math\n",
    "from sklearn.model_selection import train_test_split\n",
    "from sklearn.datasets import load_breast_cancer\n",
    "\n",
    "data = load_breast_cancer()\n",
    "\n",
    "X = data['data']\n",
    "Y = data['target']\n",
    "#Y[Y == 0] = -1\n",
    "\n",
    "print(\"X shape\", X.shape, sep='\\t')\n",
    "\n",
    "print(\"Y shape\", Y.shape, sep='\\t')"
   ]
  },
  {
   "cell_type": "markdown",
   "metadata": {
    "id": "skcgR9ZSXIY5"
   },
   "source": [
    "If we take a look at the features, X, we will notice that all the features vary within ranges that are extremely far from each other. \n",
    "\n",
    "Some of these features are in the other of 10s, 100s while other are around 0.01 or 0.1.\n",
    "\n",
    "To correct this, use sklearn's MinMaxScaler to rescale all features between -1 and 1. "
   ]
  },
  {
   "cell_type": "code",
   "execution_count": 4,
   "metadata": {
    "id": "P_IoVAZ6XEB5"
   },
   "outputs": [],
   "source": [
    "from sklearn.preprocessing import MinMaxScaler\n",
    "\n",
    "scaler = MinMaxScaler(feature_range=(-1, 1))\n",
    "X = scaler.fit_transform(X)"
   ]
  },
  {
   "cell_type": "markdown",
   "metadata": {
    "id": "r9BIcBSTEi4z"
   },
   "source": [
    "#### a. Why is rescaling important for logistic regression models?"
   ]
  },
  {
   "cell_type": "markdown",
   "metadata": {
    "id": "bbqJ20zRE8wj"
   },
   "source": [
    "**Solution**:\n",
    "\n",
    "Logistic Regression makes use of the sigmoid function. This function compresses an input function between between 0 and 1. However it has no way to tell the variation in the ranges that the origal functions different axies had. This means that features that have small ranges or even small values will be overshadowed by larger amplitude features after the compression takes place. This will make larger amlitude features affect the model more than they should be doing.  "
   ]
  },
  {
   "cell_type": "markdown",
   "metadata": {
    "id": "1W35me4DX6gR"
   },
   "source": [
    "#### b. Using **train_test_split** from sklearn, seperate the data using a 80, 20 split.\n",
    "\n",
    "* Make sure to shuffle the dataset using a **random_state** of 42\n"
   ]
  },
  {
   "cell_type": "code",
   "execution_count": 6,
   "metadata": {
    "colab": {
     "base_uri": "https://localhost:8080/"
    },
    "id": "VpCjkIvyvyhn",
    "outputId": "e9c31f05-23b6-4928-80d7-02116419b6df"
   },
   "outputs": [
    {
     "name": "stdout",
     "output_type": "stream",
     "text": [
      "xtrain shape:\t(455, 30)\n",
      "xtest shape:\t(114, 30)\t\n",
      "\n",
      "ytrain shape:\t(455,)\n",
      "ytest shape:\t(114,)\n"
     ]
    }
   ],
   "source": [
    "from sklearn.model_selection import train_test_split\n",
    "testSize = 0.20\n",
    "xtrain, xtest, ytrain, ytest = train_test_split(X, Y, test_size=testSize, random_state=42)\n",
    "\n",
    "print(\"xtrain shape:\", xtrain.shape, sep='\\t')\n",
    "print(\"xtest shape:\", xtest.shape, '\\n', sep='\\t')\n",
    "\n",
    "print(\"ytrain shape:\", ytrain.shape, sep='\\t')\n",
    "print(\"ytest shape:\", ytest.shape, sep='\\t')"
   ]
  },
  {
   "cell_type": "markdown",
   "metadata": {
    "id": "x9W2g-rYYHOq"
   },
   "source": [
    "#### c. Model Implementation"
   ]
  },
  {
   "cell_type": "markdown",
   "metadata": {
    "id": "hWxNwakxYOwH"
   },
   "source": [
    "Build the following functions:\n",
    "\n",
    "* `sigmoid(z)`: This is the sigmoid function described in the problem above.\n",
    "* `loss(X, y, w, lmda=0.001)`: Loss function that takes X, y, w, and $\\lambda$ and returns the value of $l(\\vec{w})$. Note that this function should return a **scalar**.\n",
    "* `predict(X, w)`: Predict function that takes data X and parameter vector $\\vec{w}$ and returns the predictions for each data point in X, either 0 or 1. \n",
    "* `gradient(X, y, w, lmda=0.001)`: The gradient function that calculates $\\nabla_{\\vec{w}} l(\\vec{w})$ and returns it (make sure this returns a dx1 vector).\n",
    "* `fit(X, y, epochs, lr, lmda)`: This function will perform gradient descent for the given number of epochs and return the optimal parameter vector $\\vec{w}$ and the loss values after each step.\n",
    "\n"
   ]
  },
  {
   "cell_type": "code",
   "execution_count": 102,
   "metadata": {
    "id": "UZO7rFpoYOVX"
   },
   "outputs": [],
   "source": [
    "def sigmoid(z): \n",
    "    denom = 1 + e**(-z)\n",
    "    sig = float(1)/denom\n",
    "    if sig[0] == 1:\n",
    "      sig[0] = .99999\n",
    "    elif sig[0] ==0:\n",
    "      sig[0] = 0.00001\n",
    "    return sig[0]"
   ]
  },
  {
   "cell_type": "code",
   "execution_count": 103,
   "metadata": {
    "colab": {
     "base_uri": "https://localhost:8080/"
    },
    "id": "Y5Q3dmj5YXQa",
    "outputId": "7f93b77c-5983-4224-db8c-6874d59a093a"
   },
   "outputs": [
    {
     "name": "stdout",
     "output_type": "stream",
     "text": [
      "()\n"
     ]
    }
   ],
   "source": [
    "def loss(X, y, w, lmda=0.001):\n",
    "    sum = 0\n",
    "    count = 0\n",
    "    for i,element in enumerate(X):# your code here - average * sum of yilog(hw(xi→))+(1−yi)log(1−hw(xi→))\n",
    "      wTx = w.T@element\n",
    "      sig = sigmoid(wTx)\n",
    "      p1 = y[i]*log(sig)\n",
    "      p2 = (1-y[i])*log(1-sig)\n",
    "      nlli =p1+p2\n",
    "      sum = sum +nlli\n",
    "      count = count +1\n",
    "    \n",
    "\n",
    "    \n",
    "    nll =-((1/float(count))*sum)\n",
    "    normw=linalg.norm(w)\n",
    "    reg =lmda/2*normw*normw# your code here \n",
    "    \n",
    "    return nll + reg\n",
    "\n",
    "w = rand(xtrain.shape[1], 1)\n",
    "#print(xtrain.shape, w.shape)\n",
    "temp = loss(xtrain, ytrain, w)\n",
    "\n",
    "print(temp.shape)"
   ]
  },
  {
   "cell_type": "code",
   "execution_count": 43,
   "metadata": {
    "id": "2FQPGcP6YmwW"
   },
   "outputs": [],
   "source": [
    "def predict(X, w):\n",
    "    prediction= []\n",
    "    for i,elem in enumerate(X):\n",
    "       wTx = w.T@elem\n",
    "       sig = sigmoid(wTx)\n",
    "       guess =  0 if ( (1-sig) >= 0.5) else 1 \n",
    "       prediction.append(guess)       \n",
    "    predictions = np.array(prediction)\n",
    "    return predictions"
   ]
  },
  {
   "cell_type": "code",
   "execution_count": 131,
   "metadata": {
    "colab": {
     "base_uri": "https://localhost:8080/"
    },
    "id": "zGCpq6L5l0k8",
    "outputId": "c06ae7c6-0479-4a3d-e459-09ec9243e791"
   },
   "outputs": [
    {
     "name": "stdout",
     "output_type": "stream",
     "text": [
      "(30, 1)\n"
     ]
    }
   ],
   "source": [
    "def gradient(X, y, w, lmda=0.001):\n",
    "    n, d = X.shape\n",
    "    y_hat = 0# your code here \n",
    "    sum = 0\n",
    "    count = 0 \n",
    "    for i, ell in enumerate(X):\n",
    "      input = w.T@ell\n",
    "      sig = sigmoid(input)\n",
    "      beg = (y[i]-sig)\n",
    "      currterm = ell *beg\n",
    "      sum = sum + currterm.T\n",
    "      count = count +1\n",
    "\n",
    "    gradNLL =(-1/float(count))*sum \n",
    "    normw = linalg.norm(w)\n",
    "    \n",
    "    GradReg = w*(lmda/(2*normw))\n",
    "    #k = np.reshape(gradNLL,(gradNLL.shape[0],1))\n",
    "    #print(GradReg.shape,gradNLL.shape)\n",
    "    \n",
    "    lisofGrads = []\n",
    "    for i in range(len(GradReg)):\n",
    "      lisofGrads.append(GradReg[i]+gradNLL[i])\n",
    "    grad = np.array(lisofGrads)\n",
    "    return grad\n",
    "\n",
    "w = rand(xtrain.shape[1], 1)\n",
    "temp = gradient(xtrain, ytrain, w)\n",
    "print(temp.shape)"
   ]
  },
  {
   "cell_type": "code",
   "execution_count": 111,
   "metadata": {
    "id": "aOx97sD3yPzy"
   },
   "outputs": [],
   "source": [
    "def fit(X, y, epochs=200, lr=0.001, lmda=0.001): # default arguments     \n",
    "    loss_arr = []\n",
    "    w = rand(X.shape[1], 1)\n",
    "    #print(w.shape, \"W\")\n",
    "                \n",
    "    for _ in range(epochs):        \n",
    "        # Gradient Descent!\n",
    "        z = w.T@X[0]\n",
    "        curr_loss =loss(X, y, w, lmda)# calculate current loss value \n",
    "        loss_arr.append(curr_loss) \n",
    "\n",
    "        grad =gradient(X, y, w, lmda) # calculate gradient =\n",
    "        print(\"ws:\",w.shape,\"grds:\",grad.shape)\n",
    "        w = w -lr*grad# perform update step\n",
    "        print(\"ws:\",w.shape)\n",
    "    \n",
    "    return w, loss_arr"
   ]
  },
  {
   "cell_type": "markdown",
   "metadata": {
    "id": "RiqYHOk5YKgj"
   },
   "source": [
    "#### e. Model Evaluation\n",
    "\n",
    "Call your `fit` function to obtain the optimal $\\vec{w}$ and loss values throughout training. Use hyperparameters `epochs=500`, `lr=0.1` and `lmda=0.01`. Plot the loss values against the number of epochs. Then, call the `predict` function on `xtest` with your optimal $\\vec{w}$ and calculate the CCR on the test set."
   ]
  },
  {
   "cell_type": "code",
   "execution_count": 133,
   "metadata": {
    "colab": {
     "base_uri": "https://localhost:8080/",
     "height": 282
    },
    "id": "PFM_A7aCzrZZ",
    "outputId": "4ae686f7-d04e-49b8-f378-22dccbc22687"
   },
   "outputs": [
    {
     "data": {
      "text/plain": [
       "[<matplotlib.lines.Line2D at 0x7f37de74a2d0>]"
      ]
     },
     "execution_count": 133,
     "metadata": {
      "tags": []
     },
     "output_type": "execute_result"
    },
    {
     "data": {
      "image/png": "[encoded data removed]",
      "text/plain": [
       "<Figure size 432x288 with 1 Axes>"
      ]
     },
     "metadata": {
      "needs_background": "light",
      "tags": []
     },
     "output_type": "display_data"
    }
   ],
   "source": [
    "#w, loss_arr = fit(xtrain, ytrain, epochs=500, lr=0.1, lmda=0.01)# fit your model \n",
    "# CODE HERE: Plot the loss values vs epoch number\n",
    "\n",
    "plt.plot(loss_arr,color=\"blue\")"
   ]
  },
  {
   "cell_type": "code",
   "execution_count": 134,
   "metadata": {
    "colab": {
     "base_uri": "https://localhost:8080/"
    },
    "id": "mQAhElPRoYYt",
    "outputId": "2627ff63-cc4c-4768-bc7f-d11512bb79bc"
   },
   "outputs": [
    {
     "name": "stdout",
     "output_type": "stream",
     "text": [
      "0.9385964912280702 I think my gradient was wrong\n"
     ]
    }
   ],
   "source": [
    "correctanswers = 0 \n",
    "for i,ell in enumerate(xtest):\n",
    "  yguess = predict(xtest,w)\n",
    "  addamt = 1 if (ytest[i] == yguess[i]) else 0 \n",
    "  correctanswers = correctanswers + addamt\n",
    "CCR = correctanswers/float(xtest.shape[0])# calculate CCR with your predict function \n",
    "print(CCR)\n"
   ]
  }
 ],
 "metadata": {
  "colab": {
   "collapsed_sections": [
    "-ZhutmoHqDgu"
   ],
   "name": "EC414_HW5.ipynb",
   "provenance": []
  },
  "kernelspec": {
   "display_name": "Python 3 (ipykernel)",
   "language": "python",
   "name": "python3"
  },
  "language_info": {
   "codemirror_mode": {
    "name": "ipython",
    "version": 3
   },
   "file_extension": ".py",
   "mimetype": "text/x-python",
   "name": "python",
   "nbconvert_exporter": "python",
   "pygments_lexer": "ipython3",
   "version": "3.9.7"
  }
 },
 "nbformat": 4,
 "nbformat_minor": 1
}
