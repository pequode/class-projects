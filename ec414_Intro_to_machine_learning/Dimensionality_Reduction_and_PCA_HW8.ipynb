{
  "nbformat": 4,
  "nbformat_minor": 0,
  "metadata": {
    "kernelspec": {
      "display_name": "Python 3",
      "language": "python",
      "name": "python3"
    },
    "language_info": {
      "codemirror_mode": {
        "name": "ipython",
        "version": 3
      },
      "file_extension": ".py",
      "mimetype": "text/x-python",
      "name": "python",
      "nbconvert_exporter": "python",
      "pygments_lexer": "ipython3",
      "version": "3.6.8"
    },
    "colab": {
      "name": "Homework_8_Dimensionality_Reduction_and_PCA.ipynb",
      "provenance": [],
      "collapsed_sections": [],
      "toc_visible": true
    }
  },
  "cells": [
    {
      "cell_type": "markdown",
      "metadata": {
        "id": "roXM4OyFJ3gy"
      },
      "source": [
        "# Homework 8: Dimensionality Reduction and PCA\n",
        "by Karanraj Chauhan with help from B. Kulis, N. Frumkin and R. Manzelli, and A. Tsiligkardis, adapted for 2021 by Sadie Allen"
      ]
    },
    {
      "cell_type": "markdown",
      "metadata": {
        "id": "X-CtX8ndJ3g8"
      },
      "source": [
        "## Problem 1: Eigenvectors and Eigenvalues\n",
        "\n",
        "Compute the eigenvectors and eigenvalues for the following matrices **by hand**. Note: you do not need to simplify square roots, irrational fractions, etc., in case you have any in your answers.\n",
        "\n",
        "a.\n",
        "\\begin{bmatrix}\n",
        "  0 & 2 \\\\\n",
        "  2 & -3     \n",
        "\\end{bmatrix}\n",
        "\n",
        "b.\n",
        "\\begin{bmatrix}\n",
        "  -6 & 3 \\\\\n",
        "  4 & 5     \n",
        "\\end{bmatrix}"
      ]
    },
    {
      "cell_type": "markdown",
      "metadata": {
        "id": "jqjMY2eW-Awc"
      },
      "source": [
        "**SOLUTION:**\n",
        "\n",
        "A.)\n",
        "\n",
        "1.)\\begin{bmatrix}\n",
        "  0-\\lambda & 2 \\\\\n",
        "  2 & -3-\\lambda     \n",
        "\\end{bmatrix}\n",
        "$2.)0 = (- \\lambda)(-3-\\lambda)-(4)$\n",
        "\n",
        "3.) $ 0 = \\lambda^2+3\\lambda-4$\n",
        "\n",
        "4.) $ 0 = (\\lambda -1)(\\lambda+4)$\n",
        "\n",
        "5.) $ (\\lambda_1 =1),(\\lambda_2 = -4)$\n",
        "\n",
        "6.)-ev1\\begin{bmatrix}\n",
        "  0-1 & 2 \\\\\n",
        "  2 & -3-1     \n",
        "\\end{bmatrix}\n",
        "7.)-ev1\\begin{bmatrix}\n",
        "  -1 & 2 \\\\\n",
        "  2 & -4     \n",
        "\\end{bmatrix}\n",
        "\n",
        "8.) \n",
        "   - -1x + 2y = 0  \n",
        "   -  2x -4y = 0 \n",
        "\n",
        "9.) \n",
        "   -  2y = x  \n",
        "   -  x = 2y\n",
        "   - x = 2\n",
        "   - y = 1 \n",
        "   ev1 =  \\begin{bmatrix}\n",
        "  2\\\\\n",
        "  1    \n",
        "\\end{bmatrix}\n",
        "\n",
        "10.) \n",
        "||ev1|| = $\\sqrt{1+4}$=$\\sqrt{5} $\n",
        "   Normev1 =  \\begin{bmatrix}\n",
        "  \\frac{2}{\\sqrt{5}}\\\\\n",
        "  \\frac{1}{\\sqrt{5}}  \n",
        "\\end{bmatrix}\n",
        "11.)-ev2\\begin{bmatrix}\n",
        "  0--4 & 2 \\\\\n",
        "  2 & -3--4     \n",
        "\\end{bmatrix}\n",
        "12.)-ev2\\begin{bmatrix}\n",
        "  4 & 2 \\\\\n",
        "  2 & 1    \n",
        "\\end{bmatrix}\n",
        "\n",
        "13.) \n",
        "   - 4x + 2y = 0  \n",
        "   -  2x + y = 0 \n",
        "\n",
        "14.) \n",
        "   -  y = -2x  \n",
        "   -  y = -2x\n",
        "   - x = 1 \n",
        "   - y = -2 \n",
        "   ev1 =  \\begin{bmatrix}\n",
        "  1\\\\\n",
        "  -2    \n",
        "\\end{bmatrix}\n",
        "\n",
        "15.) \n",
        "||ev2|| = $\\sqrt{1+4}$=$\\sqrt{5} $\n",
        "   Normev2 =  \\begin{bmatrix}\n",
        "  \\frac{1}{\\sqrt{5}}\\\\\n",
        "  \\frac{-2}{\\sqrt{5}}  \n",
        "\\end{bmatrix}\n",
        "\n",
        "B.)\n",
        "1.)\\begin{bmatrix}\n",
        "  -6-\\lambda & 3 \\\\\n",
        "  4 & 5-\\lambda     \n",
        "\\end{bmatrix}\n",
        "$2.)0 = (-6- \\lambda)(5-\\lambda)-(12)$\n",
        "\n",
        "3.) $ 0 = \\lambda^2+\\lambda-42$\n",
        "\n",
        "4.) $ 0 = (\\lambda+7)(\\lambda-6)$\n",
        "\n",
        "5.) $ (\\lambda_1 =-7),(\\lambda_2 = 6)$\n",
        "\n",
        "6.)-ev1\\begin{bmatrix}\n",
        "  -6--7 & 3 \\\\\n",
        "  4 & 5--7     \n",
        "\\end{bmatrix}\n",
        "7.)-ev1\\begin{bmatrix}\n",
        "  1 & 3 \\\\\n",
        "  4 & 12     \n",
        "\\end{bmatrix}\n",
        "\n",
        "8.) \n",
        "   - 1x + 3y = 0  \n",
        "   -  4x+12y = 0 \n",
        "\n",
        "9.) \n",
        "   -  -3y = x  \n",
        "   - y = 1 \n",
        "   - x = -3\n",
        "   ev1 =  \\begin{bmatrix}\n",
        "  -3\\\\\n",
        "  1    \n",
        "\\end{bmatrix}\n",
        "\n",
        "10.) \n",
        "||ev1|| = $\\sqrt{1+9}$=$\\sqrt{10} $\n",
        "   Normev1 =  \\begin{bmatrix}\n",
        "  \\frac{-3}{\\sqrt{10}}\\\\\n",
        "  \\frac{1}{\\sqrt{10}}  \n",
        "\\end{bmatrix}\n",
        "11.)-ev2\\begin{bmatrix}\n",
        "  -6-6 & 3 \\\\\n",
        "  4 & 5-6     \n",
        "\\end{bmatrix}\n",
        "12.)-ev2\\begin{bmatrix}\n",
        "  -12 & 3 \\\\\n",
        "  4 & -1    \n",
        "\\end{bmatrix}\n",
        "\n",
        "13.) \n",
        "   - -12x + 3y = 0  \n",
        "   -  4x + -y = 0 \n",
        "\n",
        "14.) \n",
        "   -  y = 4x  \n",
        "   - x = 1 \n",
        "   - y = 4\n",
        "   ev2 =  \\begin{bmatrix}\n",
        "  1\\\\\n",
        "  4   \n",
        "\\end{bmatrix}\n",
        "\n",
        "15.) \n",
        "||ev2|| = $\\sqrt{1+16}$=$\\sqrt{17} $\n",
        "   Normev2 =  \\begin{bmatrix}\n",
        "  \\frac{1}{\\sqrt{17}}\\\\\n",
        "  \\frac{4}{\\sqrt{17}}  \n",
        "\\end{bmatrix}\n"
      ]
    },
    {
      "cell_type": "markdown",
      "metadata": {
        "id": "oxnrli0-68SG"
      },
      "source": [
        "## Problem 2: PCA by Hand\n",
        "PCA is a dimensionality reduction problem. We will work through a simple numerical example where we translate a 2-dimensional dataset to a 1-dimensional dataset by hand to get a feel for what is going on mathematically. In practice, this would be use for much larger dimensions, but for the sake of easy calculations and data visualization, we have kept the dimensions small. \n",
        "\n",
        "Suppose you have the following dataset:\n",
        "\n",
        "$$X = \\begin{bmatrix}\n",
        "  -1 & -1 \\\\\n",
        "  0 & -2 \\\\\n",
        "  -2 & 2 \\\\\n",
        "  3 & -1     \n",
        "\\end{bmatrix}$$\n",
        "\n",
        "**a.** Center the dataset and plot it. Call this centered data matrix $\\tilde{X}$.\n",
        "\n"
      ]
    },
    {
      "cell_type": "markdown",
      "metadata": {
        "id": "sAkbdMSk-Sr7"
      },
      "source": [
        "**SOLUTION:**\n"
      ]
    },
    {
      "cell_type": "code",
      "metadata": {
        "id": "W8ZrKefF-k06",
        "colab": {
          "base_uri": "https://localhost:8080/",
          "height": 350
        },
        "outputId": "11015e1f-903b-4852-88ab-3decb08fd4a0"
      },
      "source": [
        "from matplotlib import pyplot as plt\n",
        "import numpy as np\n",
        "L = [[-1,-1],[0,-2],[-2,2],[3,-1]]\n",
        "l = np.array(L)\n",
        "m = np.zeros((2,1))\n",
        "for i in range(4):\n",
        "  m[0] = (l[i,0]/4)+m[0]\n",
        "  m[1] = (l[i,1]/4)+m[1]\n",
        "for i in range(4):\n",
        "  l[i,0] = l[i,0]-m[0]\n",
        "  l[i,1] = l[i,1]-m[1]\n",
        "print(m,l)\n",
        "x1 =l[:,0] # Column 1 of centered dataset \n",
        "x2 =l[:,1]# Column 2 of centered dataset\n",
        "colors = ['r', 'g', 'b', 'k']\n",
        "\n",
        "\n",
        "for i in range(4):\n",
        "  plt.scatter(x1[i],x2[i], color=colors[i])"
      ],
      "execution_count": 55,
      "outputs": [
        {
          "output_type": "stream",
          "text": [
            "[[ 0. ]\n",
            " [-0.5]] [[-1  0]\n",
            " [ 0 -1]\n",
            " [-2  2]\n",
            " [ 3  0]]\n"
          ],
          "name": "stdout"
        },
        {
          "output_type": "display_data",
          "data": {
            "image/png": "[encoded data removed]",
            "text/plain": [
              "<Figure size 432x288 with 1 Axes>"
            ]
          },
          "metadata": {
            "tags": [],
            "needs_background": "light"
          }
        }
      ]
    },
    {
      "cell_type": "markdown",
      "metadata": {
        "id": "nyH_oirfFwDC"
      },
      "source": [
        "**b.** Compute the covariance matrix of the data.\n",
        "\n",
        "E(a,b) =[0,-0.5]\n",
        "\n",
        "cov(a,b) = E(a*b)-E(A)*E(b)\n",
        "\n",
        "cov(x1,x1) = 0.25*(-1*-1 + 0*0+-2*-2+ 3*3)-(0*0) = 0.25+1+2.25 =3.50\n",
        "\n",
        "cov(x1,x2) = 0.25*(-1*-1 + 0*-2+-2*2+ 3*-1)-(0*-0.5) = 0.25(1-4-3)-0= 0.25*-6= -1.5\n",
        "\n",
        "cov(x2,x2) = 0.25*(-1*-1 + -2*-2+2*2+ -1*-1)-(-0.5*-0.5) = 0.25(1+4+4+1)-(0.25) = 2.5-0.25 =2.25\n",
        "\n",
        "$$X = \\begin{bmatrix}\n",
        "  3.5 & -1.5 \\\\\n",
        "  -1.5 & 2.25  \n",
        "\\end{bmatrix}$$"
      ]
    },
    {
      "cell_type": "markdown",
      "metadata": {
        "id": "swk1Bi5H-so4"
      },
      "source": [
        "**SOLUTION:**"
      ]
    },
    {
      "cell_type": "markdown",
      "metadata": {
        "id": "BOiRr-Bq-oyl"
      },
      "source": [
        "**c.** Calculate the eigenvalues and eigenvectors of the covariance matrix. (Approximate values are fine). Make sure your eigenvectors are unit length. Plot the eigenvectors on the dataset (you may have to scale them up slightly).  "
      ]
    },
    {
      "cell_type": "markdown",
      "metadata": {
        "id": "UCb5d49z-6fr"
      },
      "source": [
        "**SOLUTION:**\n",
        "1.)\\begin{bmatrix}\n",
        "  3.5-\\lambda & -1.5 \\\\\n",
        "  -1.5 & 2.25-\\lambda     \n",
        "\\end{bmatrix}\n",
        "\n",
        "$2.)0 = (3.5 - \\lambda)(2.25-\\lambda)-(2.25) = \\lambda^2-5.$\n",
        "75\\lambda + 5.625\n",
        "\n",
        "3.)  quadractic solve$(1,-5.75,5.625)$\n",
        "\n",
        "4.) $ (\\lambda_1 =4.5),(\\lambda_2 = 1.25)$\n",
        "\n",
        "5.)-ev1\\begin{bmatrix}\n",
        "  3.5-4.5 & -1.5 \\\\\n",
        "  -1.5 & 2.25-4.5     \n",
        "\\end{bmatrix}\n",
        "6.)-ev1\\begin{bmatrix}\n",
        "  -1 & -1.5 \\\\\n",
        "  -1.5 & -2.25    \n",
        "\\end{bmatrix}\n",
        "\n",
        "7.) \n",
        "   - -1x + -1.5y = 0  \n",
        "   -  -1.5x -2.25y = 0 \n",
        "\n",
        "8.) \n",
        "   -  -1.5y = x  \n",
        "   - x = -1.5\n",
        "   - y = 1 \n",
        "   ev1 =  \\begin{bmatrix}\n",
        "  -1.5\\\\\n",
        "  1    \n",
        "\\end{bmatrix}\n",
        "\n",
        "9.) \n",
        "||ev1|| = $\\sqrt{1+2.25}$=$\\sqrt{3.25} = 1.803 $\n",
        "   Normev1 =  \\begin{bmatrix}\n",
        "    0.832 \\\\\n",
        "    0.555\n",
        "\\end{bmatrix}\n",
        "10.)-ev2\\begin{bmatrix}\n",
        "  3.5-1.25 & -1.5 \\\\\n",
        "  -1.5 & 2.25-1.25     \n",
        "\\end{bmatrix}\n",
        "11.)-ev2\\begin{bmatrix}\n",
        "   2.25 & -1.5 \\\\\n",
        "  -1.5 & 1    \n",
        "\\end{bmatrix}\n",
        "\n",
        "12.) \n",
        "   - 2.25x + -1.5y = 0  \n",
        "   -  -1.5x 1y = 0 \n",
        "\n",
        "13.) \n",
        "   -  y = 1.5x  \n",
        "   - x = 1.5\n",
        "   - y = 1 \n",
        "   ev2 =  \\begin{bmatrix}\n",
        "  1.5\\\\\n",
        "  1    \n",
        "\\end{bmatrix}\n",
        "\n",
        "14.) \n",
        "||ev2|| = $\\sqrt{1+2.25}$=$\\sqrt{3.25} = 1.803 $\n",
        "   Normev2 =  \\begin{bmatrix}\n",
        "    0.832 \\\\\n",
        "    0.555\n",
        "\\end{bmatrix}\n",
        "\n"
      ]
    },
    {
      "cell_type": "code",
      "metadata": {
        "id": "mW1AWNRA_OxU",
        "colab": {
          "base_uri": "https://localhost:8080/",
          "height": 312
        },
        "outputId": "1058c985-e680-4a6e-8969-ff0f0bcfe160"
      },
      "source": [
        "from matplotlib import pyplot as plt\n",
        "x1 =l[:,0]  # Column 1 of centered dataset\n",
        "x2 = l[:,1] # Column 2 of centered dataset\n",
        "colors = ['r', 'g', 'b', 'k']\n",
        "v = [[-0.832,0.832],[0.555,0.555]]\n",
        "V =np.array(v)# array of eigenvectors\n",
        "origin = np.array([[0,0],[0,0]])\n",
        "\n",
        "plt.title(\"Centered Dataset with Eigenvectors\")\n",
        "plt.xlabel(\"x1\")\n",
        "plt.ylabel(\"x2\")\n",
        "for i in range(4):\n",
        "  plt.scatter(x1[i],x2[i], color=colors[i])\n",
        "plt.quiver(*origin, 5*V[:,0], 5*V[:,1], color=['r', 'b'], scale=20)"
      ],
      "execution_count": 56,
      "outputs": [
        {
          "output_type": "execute_result",
          "data": {
            "text/plain": [
              "<matplotlib.quiver.Quiver at 0x7fd6e7f67610>"
            ]
          },
          "metadata": {
            "tags": []
          },
          "execution_count": 56
        },
        {
          "output_type": "display_data",
          "data": {
            "image/png": "[encoded data removed]",
            "text/plain": [
              "<Figure size 432x288 with 1 Axes>"
            ]
          },
          "metadata": {
            "tags": [],
            "needs_background": "light"
          }
        }
      ]
    },
    {
      "cell_type": "markdown",
      "metadata": {
        "id": "Y6XWEqdCQQfY"
      },
      "source": [
        "**d.** Pick the k=1 largest eigenvalues and form a matrix of eigenvectors, C.\n"
      ]
    },
    {
      "cell_type": "markdown",
      "metadata": {
        "id": "PfkeNh7F_W4d"
      },
      "source": [
        "**SOLUTION:**\n",
        "\n",
        "The largest Eigen is 4.5\n",
        "the corisponding eigenvector mat is [0.832,-0.832].T"
      ]
    },
    {
      "cell_type": "markdown",
      "metadata": {
        "id": "68xOSY8-_XDZ"
      },
      "source": [
        "\n",
        "**e.** Transform the standardized data matrix with your matrix of eigenvectors and plot it. Call the transformed data matrix $Y$. "
      ]
    },
    {
      "cell_type": "markdown",
      "metadata": {
        "id": "X1EVpXBp_cIK"
      },
      "source": [
        "**SOLUTION:**"
      ]
    },
    {
      "cell_type": "code",
      "metadata": {
        "id": "Tk45TB2v_vst",
        "colab": {
          "base_uri": "https://localhost:8080/",
          "height": 298
        },
        "outputId": "4891156f-29f5-4825-e8a9-09036b70dc7c"
      },
      "source": [
        "import math\n",
        "from matplotlib import pyplot as plt\n",
        "Y =l@V# your transformed dataset \n",
        "print(Y.shape)\n",
        "y1 = Y[:,0]\n",
        "y2 = Y[:,1]\n",
        "dim = [0, 0, 0, 0]\n",
        "colors = ['r', 'g', 'b', 'k']\n",
        "\n",
        "plt.title(\"Dataset projected along the first eigenvector\")\n",
        "for i in range(4):\n",
        "  plt.scatter(y1,y2, color=colors[i])"
      ],
      "execution_count": 57,
      "outputs": [
        {
          "output_type": "stream",
          "text": [
            "(4, 2)\n"
          ],
          "name": "stdout"
        },
        {
          "output_type": "display_data",
          "data": {
            "image/png": "[encoded data removed]",
            "text/plain": [
              "<Figure size 432x288 with 1 Axes>"
            ]
          },
          "metadata": {
            "tags": [],
            "needs_background": "light"
          }
        }
      ]
    },
    {
      "cell_type": "markdown",
      "metadata": {
        "id": "-uD0mcnrJ3g_"
      },
      "source": [
        "## Problem 3: Eigenfaces\n",
        "\n",
        "[Eigenfaces](https://en.wikipedia.org/wiki/Eigenface) is the name given to a set of eigenvectors (principal components) when they are used in the computer vision problem of human face recognition. These eigenvectors/principal components can be derived from the covariance matrix of $X$, where $X$ is a $d$ x $n$ matrix such that each column of $X$ represents an image. (Recall: in lecture, we discussed that one of the ways of interpreting PCA is projecting data onto the $k$ leading eigenvectors of the sample covariance matrix)"
      ]
    },
    {
      "cell_type": "markdown",
      "metadata": {
        "id": "aHsBEZcPJ3g_"
      },
      "source": [
        "**a. Load Image Data(sub)set** Load the numpy array `lfw_funneled_subset.npy` using the [load](https://docs.scipy.org/doc/numpy/reference/generated/numpy.load.html) function from numpy. This numpy array represents a subset of the [LFW Face Database](http://vis-www.cs.umass.edu/lfw/)\\[1\\]. It is of shape 75 x 250 x 250, representing 75 images of faces of celebrities. Using this, calculate the mean face, i.e. the average of the 75 images. Display this mean face image using the [imshow](https://matplotlib.org/api/_as_gen/matplotlib.pyplot.imshow.html) function from matplotlib."
      ]
    },
    {
      "cell_type": "code",
      "metadata": {
        "id": "o2YdmmCMJ3hB"
      },
      "source": [
        "import pdb\n",
        "import os\n",
        "import numpy as np\n",
        "from PIL import Image\n",
        "from glob import glob\n",
        "from matplotlib import pyplot as plt"
      ],
      "execution_count": 58,
      "outputs": []
    },
    {
      "cell_type": "code",
      "metadata": {
        "id": "Aga460PuJ3hC",
        "colab": {
          "base_uri": "https://localhost:8080/",
          "height": 269
        },
        "outputId": "e10bf897-c174-4b5a-c319-31449a0a94a3"
      },
      "source": [
        "# read in the dataset\n",
        "imagesorg = np.load('lfw_funneled_subset.npy')\n",
        "\n",
        "# height and width of each image\n",
        "img_height, img_width = imagesorg[0, ...].shape\n",
        "\n",
        "\n",
        "# calculate mean image and display\n",
        "l = np.reshape(imagesorg,(75,img_height*img_width))\n",
        "mean_im =np.mean(l, axis=0) # YOUR CODE HERE \n",
        "mean_im = np.reshape(mean_im,(1,img_height,img_width))\n",
        "\n",
        "plt.imshow(mean_im[0], cmap=\"gray\")\n",
        "plt.show()"
      ],
      "execution_count": 59,
      "outputs": [
        {
          "output_type": "display_data",
          "data": {
            "image/png": "[encoded data removed]",
            "text/plain": [
              "<Figure size 432x288 with 1 Axes>"
            ]
          },
          "metadata": {
            "tags": [],
            "needs_background": "light"
          }
        }
      ]
    },
    {
      "cell_type": "markdown",
      "metadata": {
        "id": "xwjtvC6xJ3hG"
      },
      "source": [
        "**b. Reshaping** Reshape the matrix to shape 62500 x 75 so that each column is a \"flattened\" representation of an image. This is your $X$ matrix as described above."
      ]
    },
    {
      "cell_type": "code",
      "metadata": {
        "id": "HUbVXMYVJ3hH",
        "colab": {
          "base_uri": "https://localhost:8080/"
        },
        "outputId": "485e3603-a49a-4ebc-848a-b4ae5b18c2ce"
      },
      "source": [
        "# reshape so that each image is a column vector\n",
        "images = np.reshape(imagesorg,(75,img_height*img_width)).T # YOUR CODE HERE!\n",
        "print(images.shape)"
      ],
      "execution_count": 60,
      "outputs": [
        {
          "output_type": "stream",
          "text": [
            "(62500, 75)\n"
          ],
          "name": "stdout"
        }
      ]
    },
    {
      "cell_type": "markdown",
      "metadata": {
        "id": "mjqm0QyPJ3hI"
      },
      "source": [
        "**c. Eigenface Calculation** One way of finding principal components/eigenfaces is by finding top eigenvectors of the sample covariance matrix of $X$. However, this is often computationally infeasible because of the large size of the covariance matrix. Therefore, the following [math trick](https://en.wikipedia.org/wiki/Eigenface#Computing_the_eigenvectors) is used to compute the eigenvectors and eigenvalues : the eigenvectors and eigenvalues of $X \\cdot X^T$ can be obtained by finding eigenvectors and eigenvalues of $X^T \\cdot X$ first, and then pre-multiply these eigenvectors by $X$. This is more \"doable\" since $X^T \\cdot X$ has dimensions 75 x 75 whereas $X \\cdot X^T$ had dimensions 62500 x 62500. Using this trick, calculate the top 60 eigenfaces for the given data."
      ]
    },
    {
      "cell_type": "code",
      "metadata": {
        "id": "KgFm_vNAJ3hJ"
      },
      "source": [
        "def solve_eigenfaces(A, num_vecs, eigenvalue_thresh=0.00001):\n",
        "    # number of images in dataset\n",
        "    At = A.T\n",
        "    num_samples =At.shape[0] # CODE HERE\n",
        "\n",
        "    # mean vector\n",
        "    psi = np.mean(At, axis=0) # CODE HERE \n",
        "\n",
        "    # mean center the dataset\n",
        "    Ac = At - psi# CODE HERE\n",
        "\n",
        "    \"\"\"\n",
        "    I really dont understand this step. Like isnt the whole issue with eigen Faces that you cant directly calculate this \n",
        "    mat? The linked wikipeidia says you should take the eigen of xTx and then do Xu to get the eigen vectors.\n",
        "    its possible that.... wait fuck I just realizied that xTx is the non scaled cov mat and that the normed eigen values \n",
        "    will be the same for both ways... I really with I had been taught how to generate cov mats in either my lin alg class \n",
        "    or in my stats class in a lin alg context...\n",
        "    \"\"\"\n",
        "    # calculate patternwise covariance matrix\n",
        "    L =np.cov(Ac)# CODE HERE \n",
        "\n",
        "    # get eigenvalues and eigenvectors for L\n",
        "    eigenvalues, eigenvectors = np.linalg.eig(L)# CODE HERE! Hint: np.linalg.eig\n",
        "    \n",
        "    eigenvectors = eigenvectors.T\n",
        "    # sort eigenvectors according to corresponding eigenvalues (in decreasing order)\n",
        "    decr_sorted_eval_idx = np.argsort(eigenvalues)[::-1]\n",
        "    eigenvalues = eigenvalues[decr_sorted_eval_idx]\n",
        "    eigenvectors = eigenvectors[:, decr_sorted_eval_idx]\n",
        "    \n",
        "\n",
        "    # convert the eigenvectors of A' * A into eigenvectors of A * A'\n",
        "    eigenvectors = Ac.T@eigenvectors # CODE HERE\n",
        "    print(\"eigen vecs big mat= \",eigenvectors.shape)\n",
        "    \n",
        "    # # normalize eigenvalues they are specifically for cov(A), not A * A'\n",
        "    # this is the broken part but idk what to do \n",
        "    norms = np.linalg.norm(eigenvectors,axis=0)\n",
        "    #eigenvalues = (1/num_samples)*(np.sqrt(eigenvalues)*np.sqrt(eigenvalues))# CODE HERE\n",
        "    eigenvalues =(1/num_samples)*eigenvalues*np.linalg.norm(eigenvalues)\n",
        "    # normalize vectors to unit length\n",
        "    eigenvectors =eigenvectors/norms # CODE HERE \n",
        "    eigenvalues.shape =(num_samples,1) \n",
        "    print(\"normed eignens= \",eigenvectors.shape,eigenvalues.shape)\n",
        "\n",
        "    \n",
        "    # kill eigenvectors corresponding to tiny eigenvalues\n",
        "    small_eigenvals_idx = eigenvalues < eigenvalue_thresh\n",
        "    print(\"ids for small = \", small_eigenvals_idx.shape)\n",
        "    eigenvalues[small_eigenvals_idx] = 0\n",
        "    eigenvectors[:, small_eigenvals_idx[:,0]] = 0\n",
        "    \n",
        "    # warn if too many  eigenvectors killed\n",
        "    num_good = len(small_eigenvals_idx) - sum(small_eigenvals_idx)\n",
        "    if num_vecs > num_good:\n",
        "        print('WARNING: {} principal components required but only {} are good'.format(num_vecs, num_good))\n",
        "    \n",
        "    # # return top num_vecs eigenvalues and eigenvectors, as well as the mean vector\n",
        "    return eigenvalues[:num_vecs], eigenvectors[:, :num_vecs], psi"
      ],
      "execution_count": 61,
      "outputs": []
    },
    {
      "cell_type": "code",
      "metadata": {
        "id": "9C8DVhypJ3hK",
        "colab": {
          "base_uri": "https://localhost:8080/"
        },
        "outputId": "72e0bc93-db34-4c42-f5a5-481c7134daf1"
      },
      "source": [
        "# get top num_components principal components\n",
        "num_components = 60\n",
        "\n",
        "evals, evecs, mean_vec = solve_eigenfaces(images, num_components)"
      ],
      "execution_count": 62,
      "outputs": [
        {
          "output_type": "stream",
          "text": [
            "eigen vecs big mat=  (62500, 75)\n",
            "normed eignens=  (62500, 75) (75, 1)\n",
            "ids for small =  (75, 1)\n"
          ],
          "name": "stdout"
        }
      ]
    },
    {
      "cell_type": "markdown",
      "metadata": {
        "id": "q71mX9DtJ3hK"
      },
      "source": [
        "**d. Eigenvalue Visualization** Plot the 60 eigenvalues computed corresponding to the 60 eigenfaces. (eigenvalue # on x-axis, eigenvalue on y-axis)"
      ]
    },
    {
      "cell_type": "code",
      "metadata": {
        "id": "eOl0NGvCJ3hL",
        "colab": {
          "base_uri": "https://localhost:8080/",
          "height": 293
        },
        "outputId": "8b1c00d2-3b92-4239-ab6f-c37f599fe66b"
      },
      "source": [
        "# plot eigenvalues\n",
        "# CODE HERE\n",
        "plt.plot(evals,color =\"b\")"
      ],
      "execution_count": 63,
      "outputs": [
        {
          "output_type": "execute_result",
          "data": {
            "text/plain": [
              "[<matplotlib.lines.Line2D at 0x7fd6d13fb890>]"
            ]
          },
          "metadata": {
            "tags": []
          },
          "execution_count": 63
        },
        {
          "output_type": "display_data",
          "data": {
            "image/png": "[encoded data removed]",
            "text/plain": [
              "<Figure size 432x288 with 1 Axes>"
            ]
          },
          "metadata": {
            "tags": [],
            "needs_background": "light"
          }
        }
      ]
    },
    {
      "cell_type": "markdown",
      "metadata": {
        "id": "2-qIhO4jJ3hL"
      },
      "source": [
        "**e. Projection and Reconstruction** An image $A$ can be represented in the space spanned by the top $k$ eigenvectors/principal components as follows:\n",
        "$$P = C^T \\cdot (A - \\mu) \\\\ \\text{where } P \\text{ is } k \\text{ x } 1 \\text{ projection}\n",
        "\\\\ \\mu \\text{ is } d \\text{ x } 1 \\text{ mean image vector}\n",
        "\\\\ C \\text{ is } d \\text{ x } k \\text{ matrix of k eigenvectors}$$\n",
        "\n",
        "The projection $P$ can be used to reconstruct $A$ using the top $k$ eigenvectors/principal components follows:\n",
        "$$R = C \\cdot P + \\mu \\\\ \\text{where } R \\text{ is } d \\text{ x } 1 \\text{ reconstruction}\n",
        "\\\\ P \\text{ is } k \\text{ x } 1 \\text{ projection}\n",
        "\\\\ \\mu \\text{ is } d \\text{ x } 1 \\text{ mean image vector}\n",
        "\\\\ C \\text{ is } d \\text{ x } k \\text{ matrix of k eigenvectors}$$\n",
        "\n",
        "Randomly select three images from the $X$ matrix. For each image, calculate its representation/projection in the space spanned by\n",
        "1. top 10 eigenfaces\n",
        "2. top 20 eigenfaces\n",
        "3. top 30 eigenfaces\n",
        "4. top 40 eigenfaces\n",
        "5. top 50 eigenfaces\n",
        "6. top 60 eigenfaces\n",
        "\n",
        "In total, you should have computed 18 projections, 6 for each image.\n",
        "\n",
        "Finally, from each projection, reconstruct the original image. Display the original images and the reconstructed images (you do not need to display the projections) using the [imshow](https://matplotlib.org/api/_as_gen/matplotlib.pyplot.imshow.html) function from matplotlib.\n",
        "\n",
        "In total, you should have computed 18 reconstructions, 1 from each projection."
      ]
    },
    {
      "cell_type": "code",
      "metadata": {
        "id": "qntwlE_XqTGC"
      },
      "source": [
        "# number of images to project and reconstruct (i.e. \"test\")\n",
        "num_imgs = 3\n",
        "\n",
        "# indices in dataset of the images to test\n",
        "imgs_idx =np.random.randint(75, size=(num_imgs, 1))# GET RANDOM INDICES\n",
        "\n",
        "# figure for plotting the 1 original + 6 reconstructions for num_imgs images\n",
        "mean_vec.shape = (mean_vec.shape[0],1)\n",
        "projection = evecs.T@(images-mean_vec)# CALCULATE PROJECTION "
      ],
      "execution_count": 64,
      "outputs": []
    },
    {
      "cell_type": "code",
      "metadata": {
        "id": "9zuflUZKJ3hM",
        "colab": {
          "base_uri": "https://localhost:8080/",
          "height": 829
        },
        "outputId": "d7be6bf6-60d9-47dc-f58b-5d7d07f25f65"
      },
      "source": [
        "fig, ax = plt.subplots(7, num_imgs, figsize=(5, 15))\n",
        "for ii, idx in enumerate(imgs_idx):\n",
        "    # get original image and its reconstruction using 10, 20, 30, 40, 50, 60 eigenfaces\n",
        "    im = images[:, idx]\n",
        "    im = im.reshape(-1, 1)\n",
        "\n",
        "    # add original image to figure\n",
        "    ax[0][ii].imshow(im.reshape(img_height, img_width), cmap=\"gray\")\n",
        "    ax[0][ii].axis('off')\n",
        "    \n",
        "    # project and reconstruct, adding the reconstructed image to axes for plotting\n",
        "    for ci, num_comps in enumerate(range(10, 61, 10)):\n",
        "        n = num_comps\n",
        "        projDes = projection[0:n,idx]\n",
        "        \n",
        "        projDes.shape = (projDes.shape[0],1)\n",
        "        evecCoris = evecs[:,0:n]\n",
        "        reconstruction =(evecCoris@projDes)+mean_vec # CALCULATE RECONSTRUCTION \n",
        "        \n",
        "        reconstruction =np.reshape(reconstruction,(img_height,img_width)) # RESHAPE RECONSTRUCTION\n",
        "\n",
        "        ax[ci+1][ii].imshow(reconstruction, cmap=\"gray\")\n",
        "        ax[ci+1][ii].axis('off')\n",
        "\n",
        "plt.show()"
      ],
      "execution_count": 65,
      "outputs": [
        {
          "output_type": "display_data",
          "data": {
            "image/png": "[encoded data removed]",
            "text/plain": [
              "<Figure size 360x1080 with 21 Axes>"
            ]
          },
          "metadata": {
            "tags": [],
            "needs_background": "light"
          }
        }
      ]
    },
    {
      "cell_type": "markdown",
      "metadata": {
        "id": "SgYePSJZJ3hN"
      },
      "source": [
        "## Problem 4: Predicting Parkinson's"
      ]
    },
    {
      "cell_type": "markdown",
      "metadata": {
        "id": "HK22HeIpJ3hO"
      },
      "source": [
        "In this problem, we will be applying PCA to the [Parkinson's Disease Classification dataset](http://archive.ics.uci.edu/ml/datasets/Parkinson%27s+Disease+Classification)\\[2\\] and then performing classification using the k nearest neighbors algorithm. For this problem, please use functions from the scikit-learn library ([PCA](https://scikit-learn.org/stable/modules/generated/sklearn.decomposition.PCA.html), [KNearestNeighbors](http://scikit-learn.org/stable/modules/generated/sklearn.neighbors.KNeighborsClassifier.html), [train_test_split](https://scikit-learn.org/stable/modules/generated/sklearn.model_selection.train_test_split.html), etc) "
      ]
    },
    {
      "cell_type": "code",
      "metadata": {
        "id": "f68-2mYSJ3hO"
      },
      "source": [
        "import numpy as np\n",
        "import pandas as pd\n",
        "from matplotlib import pyplot as plt\n",
        "\n",
        "from sklearn.decomposition import PCA\n",
        "from sklearn.metrics import confusion_matrix\n",
        "from sklearn.neighbors import KNeighborsClassifier\n",
        "from sklearn.model_selection import train_test_split"
      ],
      "execution_count": 66,
      "outputs": []
    },
    {
      "cell_type": "markdown",
      "metadata": {
        "id": "zNmTjvf1J3hP"
      },
      "source": [
        "**a. Prepare and Pre-process** Load the data `pd_speech_X.csv` and corresponding labels `pd_speech_Y.csv`. Normalize the data by subtracting mean and dividing by variance for each attribute/feature. Split the data and labels into training and testing sets using train/test ratio of 0.8/0.2. Set the random state to be 10. "
      ]
    },
    {
      "cell_type": "code",
      "metadata": {
        "id": "wlFvVMY_J3hR",
        "colab": {
          "base_uri": "https://localhost:8080/",
          "height": 253
        },
        "outputId": "9c38cdff-a570-4fb9-959a-22ed64390e36"
      },
      "source": [
        "# load data\n",
        "X = pd.read_csv('pd_speech_X.csv')\n",
        "Y = pd.read_csv('pd_speech_Y.csv')\n",
        "X.head()"
      ],
      "execution_count": 67,
      "outputs": [
        {
          "output_type": "execute_result",
          "data": {
            "text/html": [
              "<div>\n",
              "<style scoped>\n",
              "    .dataframe tbody tr th:only-of-type {\n",
              "        vertical-align: middle;\n",
              "    }\n",
              "\n",
              "    .dataframe tbody tr th {\n",
              "        vertical-align: top;\n",
              "    }\n",
              "\n",
              "    .dataframe thead th {\n",
              "        text-align: right;\n",
              "    }\n",
              "</style>\n",
              "<table border=\"1\" class=\"dataframe\">\n",
              "  <thead>\n",
              "    <tr style=\"text-align: right;\">\n",
              "      <th></th>\n",
              "      <th>gender</th>\n",
              "      <th>PPE</th>\n",
              "      <th>DFA</th>\n",
              "      <th>RPDE</th>\n",
              "      <th>numPulses</th>\n",
              "      <th>numPeriodsPulses</th>\n",
              "      <th>meanPeriodPulses</th>\n",
              "      <th>stdDevPeriodPulses</th>\n",
              "      <th>locPctJitter</th>\n",
              "      <th>locAbsJitter</th>\n",
              "      <th>rapJitter</th>\n",
              "      <th>ppq5Jitter</th>\n",
              "      <th>ddpJitter</th>\n",
              "      <th>locShimmer</th>\n",
              "      <th>locDbShimmer</th>\n",
              "      <th>apq3Shimmer</th>\n",
              "      <th>apq5Shimmer</th>\n",
              "      <th>apq11Shimmer</th>\n",
              "      <th>ddaShimmer</th>\n",
              "      <th>meanAutoCorrHarmonicity</th>\n",
              "      <th>meanNoiseToHarmHarmonicity</th>\n",
              "      <th>meanHarmToNoiseHarmonicity</th>\n",
              "      <th>minIntensity</th>\n",
              "      <th>maxIntensity</th>\n",
              "      <th>meanIntensity</th>\n",
              "      <th>f1</th>\n",
              "      <th>f2</th>\n",
              "      <th>f3</th>\n",
              "      <th>f4</th>\n",
              "      <th>b1</th>\n",
              "      <th>b2</th>\n",
              "      <th>b3</th>\n",
              "      <th>b4</th>\n",
              "      <th>GQ_prc5_95</th>\n",
              "      <th>GQ_std_cycle_open</th>\n",
              "      <th>GQ_std_cycle_closed</th>\n",
              "      <th>GNE_mean</th>\n",
              "      <th>GNE_std</th>\n",
              "      <th>GNE_SNR_TKEO</th>\n",
              "      <th>GNE_SNR_SEO</th>\n",
              "      <th>...</th>\n",
              "      <th>tqwt_skewnessValue_dec_33</th>\n",
              "      <th>tqwt_skewnessValue_dec_34</th>\n",
              "      <th>tqwt_skewnessValue_dec_35</th>\n",
              "      <th>tqwt_skewnessValue_dec_36</th>\n",
              "      <th>tqwt_kurtosisValue_dec_1</th>\n",
              "      <th>tqwt_kurtosisValue_dec_2</th>\n",
              "      <th>tqwt_kurtosisValue_dec_3</th>\n",
              "      <th>tqwt_kurtosisValue_dec_4</th>\n",
              "      <th>tqwt_kurtosisValue_dec_5</th>\n",
              "      <th>tqwt_kurtosisValue_dec_6</th>\n",
              "      <th>tqwt_kurtosisValue_dec_7</th>\n",
              "      <th>tqwt_kurtosisValue_dec_8</th>\n",
              "      <th>tqwt_kurtosisValue_dec_9</th>\n",
              "      <th>tqwt_kurtosisValue_dec_10</th>\n",
              "      <th>tqwt_kurtosisValue_dec_11</th>\n",
              "      <th>tqwt_kurtosisValue_dec_12</th>\n",
              "      <th>tqwt_kurtosisValue_dec_13</th>\n",
              "      <th>tqwt_kurtosisValue_dec_14</th>\n",
              "      <th>tqwt_kurtosisValue_dec_15</th>\n",
              "      <th>tqwt_kurtosisValue_dec_16</th>\n",
              "      <th>tqwt_kurtosisValue_dec_17</th>\n",
              "      <th>tqwt_kurtosisValue_dec_18</th>\n",
              "      <th>tqwt_kurtosisValue_dec_19</th>\n",
              "      <th>tqwt_kurtosisValue_dec_20</th>\n",
              "      <th>tqwt_kurtosisValue_dec_21</th>\n",
              "      <th>tqwt_kurtosisValue_dec_22</th>\n",
              "      <th>tqwt_kurtosisValue_dec_23</th>\n",
              "      <th>tqwt_kurtosisValue_dec_24</th>\n",
              "      <th>tqwt_kurtosisValue_dec_25</th>\n",
              "      <th>tqwt_kurtosisValue_dec_26</th>\n",
              "      <th>tqwt_kurtosisValue_dec_27</th>\n",
              "      <th>tqwt_kurtosisValue_dec_28</th>\n",
              "      <th>tqwt_kurtosisValue_dec_29</th>\n",
              "      <th>tqwt_kurtosisValue_dec_30</th>\n",
              "      <th>tqwt_kurtosisValue_dec_31</th>\n",
              "      <th>tqwt_kurtosisValue_dec_32</th>\n",
              "      <th>tqwt_kurtosisValue_dec_33</th>\n",
              "      <th>tqwt_kurtosisValue_dec_34</th>\n",
              "      <th>tqwt_kurtosisValue_dec_35</th>\n",
              "      <th>tqwt_kurtosisValue_dec_36</th>\n",
              "    </tr>\n",
              "  </thead>\n",
              "  <tbody>\n",
              "    <tr>\n",
              "      <th>0</th>\n",
              "      <td>1</td>\n",
              "      <td>0.85247</td>\n",
              "      <td>0.71826</td>\n",
              "      <td>0.57227</td>\n",
              "      <td>240</td>\n",
              "      <td>239</td>\n",
              "      <td>0.008064</td>\n",
              "      <td>0.000087</td>\n",
              "      <td>0.00218</td>\n",
              "      <td>0.000018</td>\n",
              "      <td>0.00067</td>\n",
              "      <td>0.00129</td>\n",
              "      <td>0.00200</td>\n",
              "      <td>0.05883</td>\n",
              "      <td>0.517</td>\n",
              "      <td>0.03011</td>\n",
              "      <td>0.03496</td>\n",
              "      <td>0.04828</td>\n",
              "      <td>0.09034</td>\n",
              "      <td>0.970805</td>\n",
              "      <td>0.036223</td>\n",
              "      <td>18.995</td>\n",
              "      <td>69.997496</td>\n",
              "      <td>76.088046</td>\n",
              "      <td>72.465512</td>\n",
              "      <td>539.342735</td>\n",
              "      <td>1031.849040</td>\n",
              "      <td>2447.162183</td>\n",
              "      <td>3655.054806</td>\n",
              "      <td>101.092218</td>\n",
              "      <td>83.147440</td>\n",
              "      <td>255.214830</td>\n",
              "      <td>396.643631</td>\n",
              "      <td>0.77778</td>\n",
              "      <td>11.7245</td>\n",
              "      <td>2.8277</td>\n",
              "      <td>1.17300</td>\n",
              "      <td>0.26512</td>\n",
              "      <td>0.083127</td>\n",
              "      <td>1200445.612</td>\n",
              "      <td>...</td>\n",
              "      <td>-0.173620</td>\n",
              "      <td>0.071728</td>\n",
              "      <td>0.010352</td>\n",
              "      <td>-2.73030</td>\n",
              "      <td>66.5007</td>\n",
              "      <td>36.9934</td>\n",
              "      <td>26.3508</td>\n",
              "      <td>51.9577</td>\n",
              "      <td>21.5451</td>\n",
              "      <td>8.2488</td>\n",
              "      <td>8.0024</td>\n",
              "      <td>6.9635</td>\n",
              "      <td>6.9189</td>\n",
              "      <td>5.0622</td>\n",
              "      <td>4.6068</td>\n",
              "      <td>7.7218</td>\n",
              "      <td>2.7224</td>\n",
              "      <td>2.4171</td>\n",
              "      <td>2.9383</td>\n",
              "      <td>4.2077</td>\n",
              "      <td>3.1541</td>\n",
              "      <td>2.8531</td>\n",
              "      <td>2.7496</td>\n",
              "      <td>2.1550</td>\n",
              "      <td>2.9457</td>\n",
              "      <td>2.1993</td>\n",
              "      <td>1.9830</td>\n",
              "      <td>1.8314</td>\n",
              "      <td>2.0062</td>\n",
              "      <td>1.6058</td>\n",
              "      <td>1.5466</td>\n",
              "      <td>1.5620</td>\n",
              "      <td>2.6445</td>\n",
              "      <td>3.8686</td>\n",
              "      <td>4.2105</td>\n",
              "      <td>5.1221</td>\n",
              "      <td>4.4625</td>\n",
              "      <td>2.6202</td>\n",
              "      <td>3.0004</td>\n",
              "      <td>18.9405</td>\n",
              "    </tr>\n",
              "    <tr>\n",
              "      <th>1</th>\n",
              "      <td>1</td>\n",
              "      <td>0.76686</td>\n",
              "      <td>0.69481</td>\n",
              "      <td>0.53966</td>\n",
              "      <td>234</td>\n",
              "      <td>233</td>\n",
              "      <td>0.008258</td>\n",
              "      <td>0.000073</td>\n",
              "      <td>0.00195</td>\n",
              "      <td>0.000016</td>\n",
              "      <td>0.00052</td>\n",
              "      <td>0.00112</td>\n",
              "      <td>0.00157</td>\n",
              "      <td>0.05516</td>\n",
              "      <td>0.502</td>\n",
              "      <td>0.02320</td>\n",
              "      <td>0.03675</td>\n",
              "      <td>0.06195</td>\n",
              "      <td>0.06961</td>\n",
              "      <td>0.984322</td>\n",
              "      <td>0.017974</td>\n",
              "      <td>21.497</td>\n",
              "      <td>67.415903</td>\n",
              "      <td>73.046374</td>\n",
              "      <td>71.528945</td>\n",
              "      <td>564.363614</td>\n",
              "      <td>1016.367294</td>\n",
              "      <td>2383.565201</td>\n",
              "      <td>3498.681572</td>\n",
              "      <td>58.465428</td>\n",
              "      <td>86.487292</td>\n",
              "      <td>248.357127</td>\n",
              "      <td>218.229722</td>\n",
              "      <td>0.81250</td>\n",
              "      <td>13.8284</td>\n",
              "      <td>2.8908</td>\n",
              "      <td>1.02210</td>\n",
              "      <td>0.22004</td>\n",
              "      <td>0.127410</td>\n",
              "      <td>1298455.445</td>\n",
              "      <td>...</td>\n",
              "      <td>0.684220</td>\n",
              "      <td>0.729330</td>\n",
              "      <td>0.780410</td>\n",
              "      <td>5.22940</td>\n",
              "      <td>8643.9860</td>\n",
              "      <td>3962.0554</td>\n",
              "      <td>2976.2411</td>\n",
              "      <td>4329.0607</td>\n",
              "      <td>4005.1329</td>\n",
              "      <td>1127.6762</td>\n",
              "      <td>116.5331</td>\n",
              "      <td>20.2332</td>\n",
              "      <td>13.6395</td>\n",
              "      <td>12.5514</td>\n",
              "      <td>13.6965</td>\n",
              "      <td>60.8974</td>\n",
              "      <td>6.2958</td>\n",
              "      <td>3.0323</td>\n",
              "      <td>3.4039</td>\n",
              "      <td>4.3794</td>\n",
              "      <td>2.4329</td>\n",
              "      <td>2.0585</td>\n",
              "      <td>2.1839</td>\n",
              "      <td>2.2061</td>\n",
              "      <td>3.0999</td>\n",
              "      <td>1.9824</td>\n",
              "      <td>1.6227</td>\n",
              "      <td>1.5783</td>\n",
              "      <td>2.0470</td>\n",
              "      <td>1.5772</td>\n",
              "      <td>1.5530</td>\n",
              "      <td>1.5589</td>\n",
              "      <td>3.6107</td>\n",
              "      <td>23.5155</td>\n",
              "      <td>14.1962</td>\n",
              "      <td>11.0261</td>\n",
              "      <td>9.5082</td>\n",
              "      <td>6.5245</td>\n",
              "      <td>6.3431</td>\n",
              "      <td>45.1780</td>\n",
              "    </tr>\n",
              "    <tr>\n",
              "      <th>2</th>\n",
              "      <td>1</td>\n",
              "      <td>0.85083</td>\n",
              "      <td>0.67604</td>\n",
              "      <td>0.58982</td>\n",
              "      <td>232</td>\n",
              "      <td>231</td>\n",
              "      <td>0.008340</td>\n",
              "      <td>0.000060</td>\n",
              "      <td>0.00176</td>\n",
              "      <td>0.000015</td>\n",
              "      <td>0.00057</td>\n",
              "      <td>0.00111</td>\n",
              "      <td>0.00171</td>\n",
              "      <td>0.09902</td>\n",
              "      <td>0.897</td>\n",
              "      <td>0.05094</td>\n",
              "      <td>0.06497</td>\n",
              "      <td>0.07772</td>\n",
              "      <td>0.15282</td>\n",
              "      <td>0.974846</td>\n",
              "      <td>0.026313</td>\n",
              "      <td>17.651</td>\n",
              "      <td>62.661706</td>\n",
              "      <td>71.633549</td>\n",
              "      <td>68.086583</td>\n",
              "      <td>548.444604</td>\n",
              "      <td>1032.406341</td>\n",
              "      <td>2357.826954</td>\n",
              "      <td>3678.128717</td>\n",
              "      <td>160.387771</td>\n",
              "      <td>54.685168</td>\n",
              "      <td>151.694847</td>\n",
              "      <td>84.240339</td>\n",
              "      <td>0.81818</td>\n",
              "      <td>26.9273</td>\n",
              "      <td>2.6975</td>\n",
              "      <td>0.84951</td>\n",
              "      <td>0.15756</td>\n",
              "      <td>0.116890</td>\n",
              "      <td>1272869.841</td>\n",
              "      <td>...</td>\n",
              "      <td>-0.060885</td>\n",
              "      <td>0.269510</td>\n",
              "      <td>-0.005522</td>\n",
              "      <td>0.35054</td>\n",
              "      <td>29.2717</td>\n",
              "      <td>32.4971</td>\n",
              "      <td>38.9453</td>\n",
              "      <td>85.1480</td>\n",
              "      <td>62.5132</td>\n",
              "      <td>9.7308</td>\n",
              "      <td>6.8890</td>\n",
              "      <td>6.1357</td>\n",
              "      <td>5.4926</td>\n",
              "      <td>3.9078</td>\n",
              "      <td>4.0864</td>\n",
              "      <td>6.9828</td>\n",
              "      <td>3.4411</td>\n",
              "      <td>3.5173</td>\n",
              "      <td>3.7204</td>\n",
              "      <td>4.2212</td>\n",
              "      <td>3.4881</td>\n",
              "      <td>3.4851</td>\n",
              "      <td>3.3007</td>\n",
              "      <td>2.0427</td>\n",
              "      <td>3.1436</td>\n",
              "      <td>2.1203</td>\n",
              "      <td>1.6627</td>\n",
              "      <td>1.6731</td>\n",
              "      <td>3.2597</td>\n",
              "      <td>1.5921</td>\n",
              "      <td>1.5399</td>\n",
              "      <td>1.5643</td>\n",
              "      <td>2.3308</td>\n",
              "      <td>9.4959</td>\n",
              "      <td>10.7458</td>\n",
              "      <td>11.0177</td>\n",
              "      <td>4.8066</td>\n",
              "      <td>2.9199</td>\n",
              "      <td>3.1495</td>\n",
              "      <td>4.7666</td>\n",
              "    </tr>\n",
              "    <tr>\n",
              "      <th>3</th>\n",
              "      <td>0</td>\n",
              "      <td>0.41121</td>\n",
              "      <td>0.79672</td>\n",
              "      <td>0.59257</td>\n",
              "      <td>178</td>\n",
              "      <td>177</td>\n",
              "      <td>0.010858</td>\n",
              "      <td>0.000183</td>\n",
              "      <td>0.00419</td>\n",
              "      <td>0.000046</td>\n",
              "      <td>0.00149</td>\n",
              "      <td>0.00268</td>\n",
              "      <td>0.00446</td>\n",
              "      <td>0.05451</td>\n",
              "      <td>0.527</td>\n",
              "      <td>0.02395</td>\n",
              "      <td>0.02857</td>\n",
              "      <td>0.04462</td>\n",
              "      <td>0.07185</td>\n",
              "      <td>0.968343</td>\n",
              "      <td>0.042003</td>\n",
              "      <td>19.865</td>\n",
              "      <td>76.306989</td>\n",
              "      <td>81.000749</td>\n",
              "      <td>79.190593</td>\n",
              "      <td>819.529588</td>\n",
              "      <td>1201.813897</td>\n",
              "      <td>3154.035654</td>\n",
              "      <td>4122.163933</td>\n",
              "      <td>238.667052</td>\n",
              "      <td>191.984916</td>\n",
              "      <td>573.752909</td>\n",
              "      <td>526.147599</td>\n",
              "      <td>0.98548</td>\n",
              "      <td>139.5744</td>\n",
              "      <td>1.6961</td>\n",
              "      <td>0.83405</td>\n",
              "      <td>0.17295</td>\n",
              "      <td>0.147370</td>\n",
              "      <td>1932289.206</td>\n",
              "      <td>...</td>\n",
              "      <td>-0.367170</td>\n",
              "      <td>0.366920</td>\n",
              "      <td>-0.492650</td>\n",
              "      <td>0.19164</td>\n",
              "      <td>591.0116</td>\n",
              "      <td>65.3827</td>\n",
              "      <td>53.9852</td>\n",
              "      <td>45.4458</td>\n",
              "      <td>34.6650</td>\n",
              "      <td>88.3259</td>\n",
              "      <td>46.6869</td>\n",
              "      <td>23.2911</td>\n",
              "      <td>19.2022</td>\n",
              "      <td>42.3957</td>\n",
              "      <td>100.3649</td>\n",
              "      <td>7.1967</td>\n",
              "      <td>6.3892</td>\n",
              "      <td>6.5496</td>\n",
              "      <td>6.0264</td>\n",
              "      <td>4.7656</td>\n",
              "      <td>4.8909</td>\n",
              "      <td>4.2531</td>\n",
              "      <td>3.0295</td>\n",
              "      <td>2.0362</td>\n",
              "      <td>1.8478</td>\n",
              "      <td>2.5776</td>\n",
              "      <td>2.2064</td>\n",
              "      <td>1.9491</td>\n",
              "      <td>1.9120</td>\n",
              "      <td>1.8829</td>\n",
              "      <td>6.9761</td>\n",
              "      <td>3.7805</td>\n",
              "      <td>3.5664</td>\n",
              "      <td>5.2558</td>\n",
              "      <td>14.0403</td>\n",
              "      <td>4.2235</td>\n",
              "      <td>4.6857</td>\n",
              "      <td>4.8460</td>\n",
              "      <td>6.2650</td>\n",
              "      <td>4.0603</td>\n",
              "    </tr>\n",
              "    <tr>\n",
              "      <th>4</th>\n",
              "      <td>0</td>\n",
              "      <td>0.32790</td>\n",
              "      <td>0.79782</td>\n",
              "      <td>0.53028</td>\n",
              "      <td>236</td>\n",
              "      <td>235</td>\n",
              "      <td>0.008162</td>\n",
              "      <td>0.002669</td>\n",
              "      <td>0.00535</td>\n",
              "      <td>0.000044</td>\n",
              "      <td>0.00166</td>\n",
              "      <td>0.00227</td>\n",
              "      <td>0.00499</td>\n",
              "      <td>0.05610</td>\n",
              "      <td>0.497</td>\n",
              "      <td>0.02909</td>\n",
              "      <td>0.03327</td>\n",
              "      <td>0.05278</td>\n",
              "      <td>0.08728</td>\n",
              "      <td>0.975754</td>\n",
              "      <td>0.027139</td>\n",
              "      <td>19.557</td>\n",
              "      <td>76.645686</td>\n",
              "      <td>80.937258</td>\n",
              "      <td>79.183495</td>\n",
              "      <td>846.796144</td>\n",
              "      <td>1215.346469</td>\n",
              "      <td>3201.513132</td>\n",
              "      <td>4085.456839</td>\n",
              "      <td>402.216738</td>\n",
              "      <td>210.061394</td>\n",
              "      <td>203.637106</td>\n",
              "      <td>384.611697</td>\n",
              "      <td>0.97847</td>\n",
              "      <td>102.0549</td>\n",
              "      <td>15.4045</td>\n",
              "      <td>0.83556</td>\n",
              "      <td>0.16210</td>\n",
              "      <td>0.151990</td>\n",
              "      <td>1861807.802</td>\n",
              "      <td>...</td>\n",
              "      <td>-0.071687</td>\n",
              "      <td>-0.378360</td>\n",
              "      <td>-0.035805</td>\n",
              "      <td>0.26596</td>\n",
              "      <td>32.0393</td>\n",
              "      <td>7.2343</td>\n",
              "      <td>6.5540</td>\n",
              "      <td>6.4520</td>\n",
              "      <td>6.9274</td>\n",
              "      <td>10.2265</td>\n",
              "      <td>14.2579</td>\n",
              "      <td>10.6181</td>\n",
              "      <td>8.6143</td>\n",
              "      <td>9.5822</td>\n",
              "      <td>34.0835</td>\n",
              "      <td>4.1139</td>\n",
              "      <td>3.6718</td>\n",
              "      <td>4.4360</td>\n",
              "      <td>4.5793</td>\n",
              "      <td>3.9447</td>\n",
              "      <td>4.1253</td>\n",
              "      <td>3.4869</td>\n",
              "      <td>2.4627</td>\n",
              "      <td>2.1073</td>\n",
              "      <td>1.9056</td>\n",
              "      <td>2.2214</td>\n",
              "      <td>2.0588</td>\n",
              "      <td>1.8157</td>\n",
              "      <td>1.7577</td>\n",
              "      <td>1.8821</td>\n",
              "      <td>7.8832</td>\n",
              "      <td>6.1727</td>\n",
              "      <td>5.8416</td>\n",
              "      <td>6.0805</td>\n",
              "      <td>5.7621</td>\n",
              "      <td>7.7817</td>\n",
              "      <td>11.6891</td>\n",
              "      <td>8.2103</td>\n",
              "      <td>5.0559</td>\n",
              "      <td>6.1164</td>\n",
              "    </tr>\n",
              "  </tbody>\n",
              "</table>\n",
              "<p>5 rows × 753 columns</p>\n",
              "</div>"
            ],
            "text/plain": [
              "   gender      PPE  ...  tqwt_kurtosisValue_dec_35  tqwt_kurtosisValue_dec_36\n",
              "0       1  0.85247  ...                     3.0004                    18.9405\n",
              "1       1  0.76686  ...                     6.3431                    45.1780\n",
              "2       1  0.85083  ...                     3.1495                     4.7666\n",
              "3       0  0.41121  ...                     6.2650                     4.0603\n",
              "4       0  0.32790  ...                     5.0559                     6.1164\n",
              "\n",
              "[5 rows x 753 columns]"
            ]
          },
          "metadata": {
            "tags": []
          },
          "execution_count": 67
        }
      ]
    },
    {
      "cell_type": "code",
      "metadata": {
        "id": "FjnCJNmlJ3hS"
      },
      "source": [
        "# preprocess\n",
        "# X = pd.read_csv('pd_speech_X.csv')\n",
        "# Y = pd.read_csv('pd_speech_Y.csv')\n",
        "\n",
        "meanX = np.mean(X,axis =0)\n",
        "varX = np.var(X, axis=0)\n",
        "X = (X-meanX)/varX # NORMALIZE X "
      ],
      "execution_count": 68,
      "outputs": []
    },
    {
      "cell_type": "code",
      "metadata": {
        "id": "H785H9ubJ3hT"
      },
      "source": [
        "# split into train and test set. seed rng for consistency\n",
        "randomState=42\n",
        "testSize=0.20\n",
        "X_train, X_test, y_train, y_test =train_test_split(X, Y, test_size=testSize, random_state=randomState)# -- Code Required --# YOUR CODE HERE "
      ],
      "execution_count": 69,
      "outputs": []
    },
    {
      "cell_type": "markdown",
      "metadata": {
        "id": "V0cGp94DJ3hT"
      },
      "source": [
        "**b.** Using the train data and labels, train a k nearest neighbors model with k=3. Report the correct classification rate."
      ]
    },
    {
      "cell_type": "code",
      "metadata": {
        "id": "_1_6X7MvJ3hU",
        "colab": {
          "base_uri": "https://localhost:8080/"
        },
        "outputId": "aab76167-c455-4872-d784-53698e28c908"
      },
      "source": [
        "# apply knn\n",
        "k =3\n",
        "knn3_full =KNeighborsClassifier(n_neighbors=k) # YOUR CODE \n",
        "knn3_full.fit(X_train, y_train['class'])\n",
        "\n",
        "# test the model\n",
        "y_test_preds_full = knn3_full.predict(X_test) # YOUR CODE \n",
        "n = y_test.shape[0]\n",
        "y_test_preds_full.shape = (y_test_preds_full.shape[0],1)\n",
        "equals = y_test==y_test_preds_full\n",
        "\n",
        "CCR = np.sum(equals)[0]/n# YOUR CODE HERE \n",
        "print('Test CCR = {}'.format(CCR))"
      ],
      "execution_count": 70,
      "outputs": [
        {
          "output_type": "stream",
          "text": [
            "Test CCR = 0.7368421052631579\n"
          ],
          "name": "stdout"
        }
      ]
    },
    {
      "cell_type": "markdown",
      "metadata": {
        "id": "V7mvLcDDJ3hU"
      },
      "source": [
        "**b.** Apply PCA (use number of components = 7) to the train data. Next, transform the train data to its representation in the lower dimensional space learned by the PCA model. Using this representation, train a k nearest neighbors classifier with k=3. Report the correct classification rate on the test data."
      ]
    },
    {
      "cell_type": "code",
      "metadata": {
        "id": "uOAP2TsAJ3hV",
        "colab": {
          "base_uri": "https://localhost:8080/"
        },
        "outputId": "bdb8a3c2-9498-43b2-ca4d-62e7145e8eeb"
      },
      "source": [
        "# pca using 5 components\n",
        "nc = 7\n",
        "pca = PCA(n_components=nc) # YOUR CODE \n",
        "pca.fit(X_train)"
      ],
      "execution_count": 71,
      "outputs": [
        {
          "output_type": "execute_result",
          "data": {
            "text/plain": [
              "PCA(copy=True, iterated_power='auto', n_components=7, random_state=None,\n",
              "    svd_solver='auto', tol=0.0, whiten=False)"
            ]
          },
          "metadata": {
            "tags": []
          },
          "execution_count": 71
        }
      ]
    },
    {
      "cell_type": "code",
      "metadata": {
        "id": "NzO1OWyAJ3hV",
        "colab": {
          "base_uri": "https://localhost:8080/"
        },
        "outputId": "93ec0804-238f-4031-ac96-aab11f76a80f"
      },
      "source": [
        "# apply knn on transformed data\n",
        "knn3e = KNeighborsClassifier(n_neighbors=k)# YOUR CODE \n",
        "knn3e.fit(pca.transform(X_train), y_train['class'])\n",
        "\n",
        "y_test_preds = knn3e.predict(pca.transform(X_test)) # YOUR CODE \n",
        "n1 = y_test.shape[0]\n",
        "y_test_preds.shape = (y_test_preds.shape[0],1)\n",
        "equals = y_test==y_test_preds\n",
        "CCR = np.sum(equals)[0]/n1# YOUR CODE HERE \n",
        "print('Test CCR = ',CCR)"
      ],
      "execution_count": 72,
      "outputs": [
        {
          "output_type": "stream",
          "text": [
            "Test CCR =  0.7631578947368421\n"
          ],
          "name": "stdout"
        }
      ]
    },
    {
      "cell_type": "markdown",
      "metadata": {
        "id": "uDlpv-szJ3hW"
      },
      "source": [
        "## Citations\n",
        "1. Gary B. Huang, Vidit Jain, and Erik Learned-Miller. Unsupervised joint alignment of complex images. International Conference on Computer Vision (ICCV), 2007.\n",
        "2. Sakar, C.O., Serbes, G., Gunduz, A., Tunc, H.C., Nizam, H., Sakar, B.E., Tutuncu, M., Aydin, T., Isenkul, M.E. and Apaydin, H., 2018. A comparative analysis of speech signal processing algorithms for Parkinsonâ€™s disease classification and the use of the tunable Q-factor wavelet transform. Applied Soft Computing, DOI"
      ]
    }
  ]
}