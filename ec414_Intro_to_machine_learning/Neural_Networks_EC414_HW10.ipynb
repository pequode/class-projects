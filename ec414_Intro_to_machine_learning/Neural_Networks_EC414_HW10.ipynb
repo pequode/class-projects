{
 "cells": [
  {
   "cell_type": "markdown",
   "metadata": {
    "id": "FA3HgvMuLFa_"
   },
   "source": [
    "# Homework 10: Neural Networks\n",
    "by Yousif Khaireddin\n",
    "\n",
    "**Due date**: April 28, Wednesday by 11:59pm\n"
   ]
  },
  {
   "cell_type": "markdown",
   "metadata": {
    "id": "3lGwvIL2LWPq"
   },
   "source": [
    "## Setup"
   ]
  },
  {
   "cell_type": "markdown",
   "metadata": {
    "id": "aJca6HvbLYYA"
   },
   "source": [
    "To run and solve this assignment, you must have access to a working Jupyter Notebook installation. We recommend Google Colab. If you are already familiar with Jupyter and have your own installation, you may use it; however, you will have to tweak Colab-specific commands we've entered here (for example, file uploads).\n",
    "\n",
    "To use Google Colab:\n",
    "\n",
    "1. Download this `ipynb` file.\n",
    "2. Navigate to https://colab.research.google.com/ and select `Upload` in the pop-up window.\n",
    "3. Upload this file. It will then open in Colab.\n",
    "\n",
    "The below statements assume that you have already followed these instructions. If you need help with Python syntax, NumPy, or Matplotlib, you might find Week 1 discussion material useful.\n",
    "\n",
    "To run code in a cell or to render Markdown+LaTeX press Ctrl+Enter or \"`Run`\" button above. To edit any code or text cell, double-click on its content. Put your solution into boxes marked with **`[double click here to add a solution]`** and press Ctrl+Enter to render text. You can add cells via `+` sign at the top left corner.\n",
    "\n",
    "**Submission instructions**: please upload your completed solution file as well as a scan of any handwritten answers to Gradescope by **April 28th at midnight**.."
   ]
  },
  {
   "cell_type": "markdown",
   "metadata": {
    "id": "21L6Ct-yWkzB"
   },
   "source": [
    "## **Question 1:** Useful Functions and Setup\n"
   ]
  },
  {
   "cell_type": "code",
   "execution_count": 2,
   "metadata": {
    "id": "GmPYFTaHWjqG"
   },
   "outputs": [],
   "source": [
    "import torch\n",
    "import torchvision\n",
    "from torchvision import transforms, datasets\n",
    "import torch.nn as nn\n",
    "import torch.nn.functional as F\n",
    "import torch.optim as optim\n",
    "from matplotlib import pyplot as plt\n",
    "\n",
    "device = torch.device(\"cuda:0\" if torch.cuda.is_available() else \"cpu\")"
   ]
  },
  {
   "cell_type": "markdown",
   "metadata": {
    "id": "qOKHdi56W9ba"
   },
   "source": [
    "### Loading Dataset"
   ]
  },
  {
   "cell_type": "markdown",
   "metadata": {
    "id": "QTJuvHbtXGam"
   },
   "source": [
    "Using the datasets module within torchvision, download the MNIST dataset.\n",
    "1. Download both the training dataset as well as the testing dataset.\n",
    "2. Using _torch.utils.data.random_split_ seperate the training dataset into 50000 training samples and 10000 validation samples "
   ]
  },
  {
   "cell_type": "code",
   "execution_count": 3,
   "metadata": {
    "colab": {
     "base_uri": "https://localhost:8080/",
     "height": 692,
     "referenced_widgets": [
      "cfdf64fbf1fe4471bbfc0a72ba202644",
      "a57df46fddb14f73a04d71fa5a6ed26a",
      "d2c7b9f1512b49c0a54edac11c479b58",
      "396f2c777b7a488caf5abad1d0d79f26",
      "27a29a9b8aeb4c31b0a025e6c8eb68e0",
      "ffd79a88784840efb3f99781fe44b6dc",
      "7c3529b874f54d66b5f5b0faf53d398a",
      "1297dee5882f424689ec983b1fa4dc8e",
      "2eb7cea118a04a569120c17af8e777ee",
      "9ce0ccdaddaf406b9020ea8226552854",
      "3a346cc0bfdd4880a0711bf4364182de",
      "2a2139b862624c669459d11b04543d1c",
      "7dd0fb88575c4b7db036ed3156f74388",
      "9657bc57640645dab05a80e8cdebb578",
      "032ad9f10ad04b04a5ffdfaac9a35425",
      "f021ab9b123e44538daebc9083869da0",
      "8a9af1ac26474911ae3b81e60cf10c96",
      "593639e55ee745c7ad79c77998552b45",
      "935c550cc7aa42f1b2e86aed4758fd50",
      "e020ac4198ff42e9ac19d7977cf02087",
      "36dc0f07f83d4655a059be88b9b401e4",
      "2e822f77960c457299fa32c8fc7f8983",
      "5234e683b7944b028335b4342329b623",
      "91fb242f552b44f2b323e3ce58254a16",
      "967336e8179642f3b3a8c06b71afb083",
      "4d0547bfe717437fa2cc9fe89b3af856",
      "6020d0693e1541578c85429faa5a9758",
      "48add6cdba8e443eae1f78d0328396f5",
      "04492a3f6ca84ad28dcd76dea22465bc",
      "aa656338435b471193eedd2e410c5ca4",
      "f4b8b4e0ab024768bf5e2f47496c8183",
      "88e1030a32d146ee9ee7c5d4e916bf36"
     ]
    },
    "id": "sy0TPPOIW0NV",
    "outputId": "84ce43a1-fa74-489e-c570-80ad41463ae8"
   },
   "outputs": [
    {
     "name": "stdout",
     "output_type": "stream",
     "text": [
      "Downloading http://yann.lecun.com/exdb/mnist/train-images-idx3-ubyte.gz\n",
      "Downloading http://yann.lecun.com/exdb/mnist/train-images-idx3-ubyte.gz to data/MNIST/raw/train-images-idx3-ubyte.gz\n"
     ]
    },
    {
     "data": {
      "application/vnd.jupyter.widget-view+json": {
       "model_id": "cfdf64fbf1fe4471bbfc0a72ba202644",
       "version_major": 2,
       "version_minor": 0
      },
      "text/plain": [
       "HBox(children=(FloatProgress(value=0.0, max=9912422.0), HTML(value='')))"
      ]
     },
     "metadata": {
      "tags": []
     },
     "output_type": "display_data"
    },
    {
     "name": "stdout",
     "output_type": "stream",
     "text": [
      "\n",
      "Extracting data/MNIST/raw/train-images-idx3-ubyte.gz to data/MNIST/raw\n",
      "\n",
      "Downloading http://yann.lecun.com/exdb/mnist/train-labels-idx1-ubyte.gz\n",
      "Downloading http://yann.lecun.com/exdb/mnist/train-labels-idx1-ubyte.gz to data/MNIST/raw/train-labels-idx1-ubyte.gz\n"
     ]
    },
    {
     "data": {
      "application/vnd.jupyter.widget-view+json": {
       "model_id": "2eb7cea118a04a569120c17af8e777ee",
       "version_major": 2,
       "version_minor": 0
      },
      "text/plain": [
       "HBox(children=(FloatProgress(value=0.0, max=28881.0), HTML(value='')))"
      ]
     },
     "metadata": {
      "tags": []
     },
     "output_type": "display_data"
    },
    {
     "name": "stdout",
     "output_type": "stream",
     "text": [
      "\n",
      "Extracting data/MNIST/raw/train-labels-idx1-ubyte.gz to data/MNIST/raw\n",
      "\n",
      "Downloading http://yann.lecun.com/exdb/mnist/t10k-images-idx3-ubyte.gz\n",
      "Downloading http://yann.lecun.com/exdb/mnist/t10k-images-idx3-ubyte.gz to data/MNIST/raw/t10k-images-idx3-ubyte.gz\n"
     ]
    },
    {
     "data": {
      "application/vnd.jupyter.widget-view+json": {
       "model_id": "8a9af1ac26474911ae3b81e60cf10c96",
       "version_major": 2,
       "version_minor": 0
      },
      "text/plain": [
       "HBox(children=(FloatProgress(value=0.0, max=1648877.0), HTML(value='')))"
      ]
     },
     "metadata": {
      "tags": []
     },
     "output_type": "display_data"
    },
    {
     "name": "stdout",
     "output_type": "stream",
     "text": [
      "\n",
      "Extracting data/MNIST/raw/t10k-images-idx3-ubyte.gz to data/MNIST/raw\n",
      "\n",
      "Downloading http://yann.lecun.com/exdb/mnist/t10k-labels-idx1-ubyte.gz\n",
      "Downloading http://yann.lecun.com/exdb/mnist/t10k-labels-idx1-ubyte.gz to data/MNIST/raw/t10k-labels-idx1-ubyte.gz\n"
     ]
    },
    {
     "data": {
      "application/vnd.jupyter.widget-view+json": {
       "model_id": "967336e8179642f3b3a8c06b71afb083",
       "version_major": 2,
       "version_minor": 0
      },
      "text/plain": [
       "HBox(children=(FloatProgress(value=0.0, max=4542.0), HTML(value='')))"
      ]
     },
     "metadata": {
      "tags": []
     },
     "output_type": "display_data"
    },
    {
     "name": "stdout",
     "output_type": "stream",
     "text": [
      "\n",
      "Extracting data/MNIST/raw/t10k-labels-idx1-ubyte.gz to data/MNIST/raw\n",
      "\n",
      "Processing...\n",
      "Done!\n",
      "Dataset MNIST\n",
      "    Number of datapoints: 60000\n",
      "    Root location: data\n",
      "    Split: Train\n",
      "    StandardTransform\n",
      "Transform: ToTensor()\n",
      "<torch.utils.data.dataset.Subset object at 0x7f84846be490>\n"
     ]
    },
    {
     "name": "stderr",
     "output_type": "stream",
     "text": [
      "/usr/local/lib/python3.7/dist-packages/torchvision/datasets/mnist.py:502: UserWarning: The given NumPy array is not writeable, and PyTorch does not support non-writeable tensors. This means you can write to the underlying (supposedly non-writeable) NumPy array using the tensor. You may want to copy the array to protect its data or make it writeable before converting it to a tensor. This type of warning will be suppressed for the rest of this program. (Triggered internally at  /pytorch/torch/csrc/utils/tensor_numpy.cpp:143.)\n",
      "  return torch.from_numpy(parsed.astype(m[2], copy=False)).view(*s)\n"
     ]
    }
   ],
   "source": [
    "# Training and validation data\n",
    "train_dataset = datasets.MNIST(\n",
    "    root=\"data\",\n",
    "    train=True,\n",
    "    download=True,\n",
    "    transform=torchvision.transforms.ToTensor()\n",
    ")\n",
    "print(train_dataset)\n",
    "train_dataset, val_dataset = torch.utils.data.random_split(train_dataset, [50000, 10000], generator=torch.Generator().manual_seed(42))# CODE\n",
    "print(train_dataset)\n",
    "# Testing data\n",
    "test_dataset = datasets.MNIST(\n",
    "    root=\"data\",\n",
    "    train=False,\n",
    "    download=True,\n",
    "    transform=torchvision.transforms.ToTensor()\n",
    ")"
   ]
  },
  {
   "cell_type": "code",
   "execution_count": 4,
   "metadata": {
    "colab": {
     "base_uri": "https://localhost:8080/"
    },
    "id": "UHpxRhffW2S0",
    "outputId": "f4b3439a-46d9-4dcc-aa28-f07afd6a9451"
   },
   "outputs": [
    {
     "name": "stdout",
     "output_type": "stream",
     "text": [
      "Number of Training Samples:\t50000\n",
      "Number of Validation Samples:\t10000\n",
      "Number of Testing Samples:\t10000\n"
     ]
    }
   ],
   "source": [
    "print(\"Number of Training Samples:\", len(train_dataset), sep='\\t')\n",
    "print(\"Number of Validation Samples:\", len(val_dataset), sep='\\t')\n",
    "print(\"Number of Testing Samples:\", len(test_dataset), sep='\\t')"
   ]
  },
  {
   "cell_type": "markdown",
   "metadata": {
    "id": "bbdb_rMIXtnl"
   },
   "source": [
    "Build your dataloaders using the datasets above. Make sure to use a batchsize of 64 and to shuffle your dataset."
   ]
  },
  {
   "cell_type": "code",
   "execution_count": 5,
   "metadata": {
    "colab": {
     "base_uri": "https://localhost:8080/"
    },
    "id": "BBb-AgXILscc",
    "outputId": "61e7fe6d-f63b-4e4e-985a-5bfe17fe21c2"
   },
   "outputs": [
    {
     "name": "stdout",
     "output_type": "stream",
     "text": [
      "Number of Training Batches:\t782\n",
      "Number of Validation Batches:\t157\n",
      "Number of Testing Batches:\t157\n"
     ]
    }
   ],
   "source": [
    "# Creating Dataloaders\n",
    "trainloader = torch.utils.data.DataLoader(train_dataset, batch_size=64, shuffle=True) # CODE\n",
    "valloader = torch.utils.data.DataLoader(val_dataset, batch_size=64, shuffle=True)# CODE\n",
    "testloader = torch.utils.data.DataLoader(test_dataset, batch_size=64, shuffle=True)# CODE\n",
    "\n",
    "print(\"Number of Training Batches:\", len(trainloader), sep='\\t')\n",
    "print(\"Number of Validation Batches:\", len(valloader), sep='\\t')\n",
    "print(\"Number of Testing Batches:\", len(testloader), sep='\\t')"
   ]
  },
  {
   "cell_type": "markdown",
   "metadata": {
    "id": "i7wz8deJX--T"
   },
   "source": [
    "### Important functions"
   ]
  },
  {
   "cell_type": "markdown",
   "metadata": {
    "id": "uAOkWQCHYBo6"
   },
   "source": [
    "Complete the function `train(net, dataloader, criterion, optimizer)` which will train a given network for 1 whole epoch using a given dataloader.\n",
    "\n",
    "This function will iterate through the dataloader, compute the network outputs, the loss, backpropagage to update the networks weights, and return the accuracy and average loss across the dataloader\n",
    "\n",
    "Ensure to setup the network in training mode using the .train() attribute built by pytorch."
   ]
  },
  {
   "cell_type": "code",
   "execution_count": 6,
   "metadata": {
    "id": "Hn5dfDohL_Yr"
   },
   "outputs": [],
   "source": [
    "def train(net, dataloader, criterion, optimizer):\n",
    "    net = net.train()\n",
    "    loss_tr, correct_count, n_samples = 0.0, 0.0, 0.0\n",
    "    \n",
    "    for i, data in enumerate(dataloader):\n",
    "        inputs, labels = data\n",
    "        inputs, labels = inputs.to(device), labels.to(device)\n",
    "\n",
    "        # zero the parameter gradients\n",
    "        # CODE\n",
    "        optimizer.zero_grad()\n",
    "        \n",
    "        # forward + backward + optimize\n",
    "        # CODE\n",
    "        output = net.forward(inputs)\n",
    "        L= criterion(output, labels)\n",
    "        L.backward()\n",
    "        optimizer.step()\n",
    "        # store / calculate performance metrics (acc, loss)\n",
    "        # CODE\n",
    "        #straight from the tutorial \n",
    "        _, predicted = torch.max(output.data, 1)\n",
    "        n_samples += labels.size(0)\n",
    "        correct_count += (predicted == labels).sum().item()\n",
    "        loss_tr = loss_tr + L.item()\n",
    "        \n",
    "    acc = 100 * correct_count / n_samples\n",
    "    loss = loss_tr / n_samples\n",
    "\n",
    "    return acc, loss"
   ]
  },
  {
   "cell_type": "markdown",
   "metadata": {
    "id": "9w8IH2TgYtvA"
   },
   "source": [
    "Complete the function `evaluate(net, dataloader, criterion)` which will evauate a given network's performance across a given dataloader\n",
    "\n",
    "This function will iterate through the dataloader, compute the network outputs, the loss, and return the accuracy and average loss across the dataloader.\n",
    "\n",
    "Ensure to setup the network in validation mode using the .eval() attribute built by pytorch."
   ]
  },
  {
   "cell_type": "code",
   "execution_count": 7,
   "metadata": {
    "id": "gmSATkk0MeyZ"
   },
   "outputs": [],
   "source": [
    "def evaluate(net, dataloader, criterion):\n",
    "    net = net.eval()\n",
    "    loss_tr, correct_count, n_samples = 0.0, 0.0, 0.0\n",
    "    \n",
    "    for data in dataloader:\n",
    "        inputs, labels = data\n",
    "        inputs, labels = inputs.to(device), labels.to(device)\n",
    "\n",
    "        # compute network predictions\n",
    "        # CODE\n",
    "        output = net.forward(inputs)\n",
    "        L= criterion(output, labels)\n",
    "        \n",
    "        # calculate performance metrics (acc, loss)\n",
    "        # CODE\n",
    "        _, predicted = torch.max(output.data, 1)\n",
    "        n_samples += labels.size(0)\n",
    "        correct_count += (predicted == labels).sum().item()\n",
    "        loss_tr = loss_tr + L.item()\n",
    "        \n",
    "    acc = 100 * correct_count / n_samples\n",
    "    loss = loss_tr / n_samples\n",
    "\n",
    "    return acc, loss"
   ]
  },
  {
   "cell_type": "markdown",
   "metadata": {
    "id": "Y_3JbqJdljba"
   },
   "source": [
    "Complete the function `count_parameters(model)` which should count the number of trainable parameters in a network."
   ]
  },
  {
   "cell_type": "code",
   "execution_count": 8,
   "metadata": {
    "id": "Vfjqm98wliyq"
   },
   "outputs": [],
   "source": [
    "def count_parameters(model):\n",
    "    sumof = 0.0\n",
    "    for i in model.parameters():\n",
    "      if(i.requires_grad):\n",
    "        sumof +=i.numel()\n",
    "    count = sumof\n",
    "    return count"
   ]
  },
  {
   "cell_type": "markdown",
   "metadata": {
    "id": "sHTlqg-ynxuw"
   },
   "source": [
    "The following function will be used to create plots of your performance metrics.\n"
   ]
  },
  {
   "cell_type": "code",
   "execution_count": 9,
   "metadata": {
    "id": "GLrYdvYcnj_w"
   },
   "outputs": [],
   "source": [
    "def plot_metrics(train_acc, train_loss, val_acc, val_loss):\n",
    "    plt.figure()\n",
    "    plt.plot(train_acc, 'g', label='Training Acc')\n",
    "    plt.plot(val_acc, 'b', label='Validation Acc')\n",
    "    plt.title('Accuracy')\n",
    "    plt.xlabel('Epoch')\n",
    "    plt.ylabel('Acc')\n",
    "    plt.legend()\n",
    "    plt.grid()\n",
    "    plt.show()\n",
    "\n",
    "    plt.figure()\n",
    "    plt.plot(train_loss, 'g', label='Training Loss')\n",
    "    plt.plot(val_loss, 'b', label='Validation Loss')\n",
    "    plt.title('Loss')\n",
    "    plt.xlabel('Epoch')\n",
    "    plt.ylabel('Loss')\n",
    "    plt.legend()\n",
    "    plt.grid()\n",
    "    plt.show()"
   ]
  },
  {
   "cell_type": "markdown",
   "metadata": {
    "id": "KvMsX7ULLiZi"
   },
   "source": [
    "## **Question 2:** Dense Networks\n",
    "\n",
    "**Note:**\n",
    "In solving the following sections, it is possible very likely that your results do not match ours exactly. This is due to the randomization in initilizations. What is important is that they are within the margins we set when defining the problem. "
   ]
  },
  {
   "cell_type": "markdown",
   "metadata": {
    "id": "0QN0isnZalFE"
   },
   "source": [
    "### Initial Performance"
   ]
  },
  {
   "cell_type": "markdown",
   "metadata": {
    "id": "yAWgb_xhZL9p"
   },
   "source": [
    "Recall from the discussion session, we provided you with the following fully connected (dense) network.\n"
   ]
  },
  {
   "cell_type": "code",
   "execution_count": 10,
   "metadata": {
    "colab": {
     "base_uri": "https://localhost:8080/"
    },
    "id": "jDORbAZ3Lycf",
    "outputId": "c077aaf4-db4e-49f7-cbe2-3b5fef76cc07"
   },
   "outputs": [
    {
     "name": "stdout",
     "output_type": "stream",
     "text": [
      "Model Architecture\n",
      "Number of parameters: 59210.0\n"
     ]
    }
   ],
   "source": [
    "class Dense(nn.Module):\n",
    "    # What does your model contain\n",
    "    def __init__(self):\n",
    "        super().__init__()\n",
    "        self.fc1 = nn.Linear(28*28, 64)\n",
    "        self.fc2 = nn.Linear(64, 64)\n",
    "        self.fc3 = nn.Linear(64, 64)\n",
    "        \n",
    "        self.fc4 = nn.Linear(64, 10)    # 10 classes\n",
    "    \n",
    "    # This is how data moves when passed to your model\n",
    "    def forward(self, x):\n",
    "        x = x.view(-1, 28*28)   # Flatten\n",
    "        x = F.relu(self.fc1(x)) # Pass through layers\n",
    "        x = F.relu(self.fc2(x))\n",
    "        x = F.relu(self.fc3(x))\n",
    "\n",
    "        x = F.log_softmax(self.fc4(x), dim=1)   # soft max \n",
    "      \n",
    "        return x\n",
    "\n",
    "dense = Dense().to(device)\n",
    "\n",
    "print(\"Model Architecture\")\n",
    "print(\"Number of parameters:\", count_parameters(dense))"
   ]
  },
  {
   "cell_type": "markdown",
   "metadata": {
    "id": "xmhDgBUgZo1-"
   },
   "source": [
    "Complete the following code to train the network above for 3 epochs.\n",
    "1. For your optimizer, use stochatic gradient descent with a learning rate of 0.001\n",
    "2. For your criterion (loss function) use Cross Entropy Loss (the one built by pytorch)\n",
    "\n",
    "**Note:** We are expecting bad performance here using the above mentioned parameters."
   ]
  },
  {
   "cell_type": "code",
   "execution_count": 11,
   "metadata": {
    "colab": {
     "base_uri": "https://localhost:8080/"
    },
    "id": "LSTiaq2BL1Qg",
    "outputId": "539d8439-de9f-45cf-8573-2789a9067c39"
   },
   "outputs": [
    {
     "name": "stdout",
     "output_type": "stream",
     "text": [
      "Training on cuda:0\n",
      "Epoch  1\t\tTrain Accuracy: 9.64 %\t\tVal Accuracy: 10.12\n",
      "Epoch  2\t\tTrain Accuracy: 10.63 %\t\tVal Accuracy: 11.73\n",
      "Epoch  3\t\tTrain Accuracy: 13.17 %\t\tVal Accuracy: 16.42\n"
     ]
    }
   ],
   "source": [
    "optimizer =optim.SGD(dense.parameters(), lr=0.001) # CODE\n",
    "criterion = nn.CrossEntropyLoss() # CODE\n",
    "\n",
    "train_acc, train_loss = [],[]\n",
    "val_acc, val_loss = [],[]\n",
    "\n",
    "print(\"Training on\", device)\n",
    "for epoch in range(3):\n",
    "    \n",
    "    acc_tr, loss_tr = train(dense, trainloader, criterion, optimizer)\n",
    "    train_loss.append(loss_tr)\n",
    "    train_acc.append(acc_tr)\n",
    "\n",
    "    acc_v, loss_v = evaluate(dense, valloader, criterion)\n",
    "    val_loss.append(loss_v)\n",
    "    val_acc.append(acc_v)\n",
    "\n",
    "    print('Epoch %2d' % (epoch + 1),\n",
    "            'Train Accuracy: %2.2f %%' % acc_tr,\n",
    "            'Val Accuracy: %2.2f' % acc_v,\n",
    "            sep='\\t\\t')"
   ]
  },
  {
   "cell_type": "markdown",
   "metadata": {
    "id": "GuulZlD3xGwD"
   },
   "source": [
    "Plot your peroformance using `plot_metrics` then evaluate your performance on the testloader / testset\n",
    "\n"
   ]
  },
  {
   "cell_type": "code",
   "execution_count": 12,
   "metadata": {
    "colab": {
     "base_uri": "https://localhost:8080/",
     "height": 590
    },
    "id": "-p36C6a9atGE",
    "outputId": "af794746-d3d9-402b-f93e-2ee76bcaa50d"
   },
   "outputs": [
    {
     "data": {
      "image/png": "[encoded data removed]",
      "text/plain": [
       "<Figure size 432x288 with 1 Axes>"
      ]
     },
     "metadata": {
      "needs_background": "light",
      "tags": []
     },
     "output_type": "display_data"
    },
    {
     "data": {
      "image/png": "[encoded data removed]",
      "text/plain": [
       "<Figure size 432x288 with 1 Axes>"
      ]
     },
     "metadata": {
      "needs_background": "light",
      "tags": []
     },
     "output_type": "display_data"
    },
    {
     "name": "stdout",
     "output_type": "stream",
     "text": [
      "Test Accuracy: 16.20 %\t\tTest Loss: 0.035952\n"
     ]
    }
   ],
   "source": [
    "plot_metrics(train_acc, train_loss, val_acc, val_loss)\n",
    "\n",
    "acc_test, loss_test =  evaluate(dense, testloader, criterion)# CODE\n",
    "print('Test Accuracy: %2.2f %%' % acc_test,\n",
    "        'Test Loss: %2.6f' % loss_test,\n",
    "        sep='\\t\\t')"
   ]
  },
  {
   "cell_type": "markdown",
   "metadata": {
    "id": "jtsiV2P7arfv"
   },
   "source": [
    "### Tuned Performance"
   ]
  },
  {
   "cell_type": "markdown",
   "metadata": {
    "id": "YPD5fh7TazWD"
   },
   "source": [
    "Vary any parameters you would like in the model's architecture (number of layers, hidden units, activation functions) or the training parameters (number of epochs, optimizer, learning rate, weight decay, momentum) to improve your initial performance. \n",
    "\n",
    "**Notes and requirements:** \n",
    "- The minimum acceptable test accuracy is 90%\n",
    "- If you run your network multiple times it is possible to get very different results with each run. This is due to the random initializations.\n",
    "- You are required to note down 5 significant changes you have experimented with and explain how these changes impacted your performance and your understanding as to why this is the case.\n",
    "- Keep your best performing model / training method and create the same plots and testing performance from above. "
   ]
  },
  {
   "cell_type": "code",
   "execution_count": 13,
   "metadata": {
    "colab": {
     "base_uri": "https://localhost:8080/"
    },
    "id": "XcembImnaxFl",
    "outputId": "c9cd062a-ef2c-451b-c90e-de3012a3ecf2"
   },
   "outputs": [
    {
     "name": "stdout",
     "output_type": "stream",
     "text": [
      "Model Architecture\n",
      "TunedDense(\n",
      "  (fc1): Linear(in_features=784, out_features=64, bias=True)\n",
      "  (fc2): Linear(in_features=64, out_features=64, bias=True)\n",
      "  (fc3): Linear(in_features=64, out_features=64, bias=True)\n",
      "  (fc5): Linear(in_features=64, out_features=64, bias=True)\n",
      "  (fc6): Linear(in_features=64, out_features=64, bias=True)\n",
      "  (fc4): Linear(in_features=64, out_features=10, bias=True)\n",
      ")\n",
      "Number of parameters: 67530.0\n"
     ]
    }
   ],
   "source": [
    "class TunedDense(nn.Module):\n",
    "    # What does your model contain\n",
    "    def __init__(self):\n",
    "        # CODE\n",
    "        super().__init__()\n",
    "        self.fc1 = nn.Linear(28*28, 64)\n",
    "        self.fc2 = nn.Linear(64, 64)\n",
    "        self.fc3 = nn.Linear(64, 64)\n",
    "        self.fc5 = nn.Linear(64, 64)\n",
    "        self.fc6 = nn.Linear(64, 64)\n",
    "        self.fc4 = nn.Linear(64, 10)   \n",
    "    # This is how data moves when passed to your model\n",
    "    def forward(self, x):\n",
    "        # CODE \n",
    "        x = x.view(-1, 28*28)   # Flatten\n",
    "        x = F.relu(self.fc1(x)) # Pass through layers\n",
    "        x = F.relu(self.fc2(x)) \n",
    "        x = F.relu(self.fc3(x))\n",
    "        x = F.relu(self.fc5(x))\n",
    "        x = F.relu(self.fc6(x)) \n",
    "\n",
    "        x = F.log_softmax(self.fc4(x), dim=1) \n",
    "        return x\n",
    "\n",
    "tuned_dense = TunedDense().to(device)\n",
    "\n",
    "print(\"Model Architecture\")\n",
    "print(tuned_dense)\n",
    "print(\"Number of parameters:\", count_parameters(tuned_dense))"
   ]
  },
  {
   "cell_type": "code",
   "execution_count": 14,
   "metadata": {
    "colab": {
     "base_uri": "https://localhost:8080/"
    },
    "id": "_Rsd082CbL0L",
    "outputId": "5b0f61c6-c7ee-48b6-f2ad-7007b62f8127"
   },
   "outputs": [
    {
     "name": "stdout",
     "output_type": "stream",
     "text": [
      "Training on cuda:0\n",
      "Epoch  1\t\tTrain Accuracy: 11.03 %\t\tVal Accuracy: 11.29\n",
      "Epoch  2\t\tTrain Accuracy: 11.64 %\t\tVal Accuracy: 16.47\n",
      "Epoch  3\t\tTrain Accuracy: 28.74 %\t\tVal Accuracy: 51.72\n",
      "Epoch  4\t\tTrain Accuracy: 68.02 %\t\tVal Accuracy: 80.35\n",
      "Epoch  5\t\tTrain Accuracy: 85.97 %\t\tVal Accuracy: 88.01\n",
      "Epoch  6\t\tTrain Accuracy: 90.08 %\t\tVal Accuracy: 90.92\n",
      "Epoch  7\t\tTrain Accuracy: 92.29 %\t\tVal Accuracy: 92.17\n",
      "Epoch  8\t\tTrain Accuracy: 93.74 %\t\tVal Accuracy: 93.11\n",
      "Epoch  9\t\tTrain Accuracy: 94.63 %\t\tVal Accuracy: 94.08\n",
      "Epoch 10\t\tTrain Accuracy: 95.27 %\t\tVal Accuracy: 93.84\n",
      "Epoch 11\t\tTrain Accuracy: 95.73 %\t\tVal Accuracy: 94.11\n"
     ]
    }
   ],
   "source": [
    "optimizer =optim.SGD(tuned_dense.parameters(), lr=0.01, momentum=0.4) # CODE \n",
    "criterion = nn.CrossEntropyLoss() # CODE\n",
    "\n",
    "train_acc, train_loss = [],[]\n",
    "val_acc, val_loss = [],[]\n",
    "\n",
    "print(\"Training on\", device)\n",
    "for epoch in range(11):\n",
    "    \n",
    "    acc_tr, loss_tr = train(tuned_dense, trainloader, criterion, optimizer)\n",
    "    train_loss.append(loss_tr)\n",
    "    train_acc.append(acc_tr)\n",
    "\n",
    "    acc_v, loss_v = evaluate(tuned_dense, valloader, criterion)\n",
    "    val_loss.append(loss_v)\n",
    "    val_acc.append(acc_v)\n",
    "\n",
    "    print('Epoch %2d' % (epoch + 1),\n",
    "            'Train Accuracy: %2.2f %%' % acc_tr,\n",
    "            'Val Accuracy: %2.2f' % acc_v,\n",
    "            sep='\\t\\t')"
   ]
  },
  {
   "cell_type": "markdown",
   "metadata": {
    "id": "7Beo9PHUxUm1"
   },
   "source": [
    "Plot your peroformance using `plot_metrics` then evaluate your performance on the testloader / testset\n",
    "\n"
   ]
  },
  {
   "cell_type": "code",
   "execution_count": 15,
   "metadata": {
    "colab": {
     "base_uri": "https://localhost:8080/",
     "height": 590
    },
    "id": "ZtQcDxKKL5xV",
    "outputId": "e57df703-786c-44dc-c506-1a44b2aac092"
   },
   "outputs": [
    {
     "data": {
      "image/png": "[encoded data removed]",
      "text/plain": [
       "<Figure size 432x288 with 1 Axes>"
      ]
     },
     "metadata": {
      "needs_background": "light",
      "tags": []
     },
     "output_type": "display_data"
    },
    {
     "data": {
      "image/png": "[encoded data removed]",
      "text/plain": [
       "<Figure size 432x288 with 1 Axes>"
      ]
     },
     "metadata": {
      "needs_background": "light",
      "tags": []
     },
     "output_type": "display_data"
    },
    {
     "name": "stdout",
     "output_type": "stream",
     "text": [
      "Test Accuracy: 94.32 %\t\tTest Loss: 0.003002\n"
     ]
    }
   ],
   "source": [
    "plot_metrics(train_acc, train_loss, val_acc, val_loss)\n",
    "\n",
    "acc_test, loss_test = evaluate(tuned_dense, testloader, criterion)# CODE\n",
    "print('Test Accuracy: %2.2f %%' % acc_test,\n",
    "        'Test Loss: %2.6f' % loss_test,\n",
    "        sep='\\t\\t')"
   ]
  },
  {
   "cell_type": "markdown",
   "metadata": {
    "id": "SuaDzZtAqsh5"
   },
   "source": [
    "**Experiementations and explainations:**\n",
    "\n",
    "*   Fiddled with the learning rate\n",
    "*   added mommentum param to sgd \n",
    "*   added more layers \n",
    "*   increased the number of epocs \n",
    "*   changed the momentum. \n",
    "*   a non linear activation function would have been cool but most of this came because I went deep and found a better learning rate.  \n",
    "\n",
    "\n"
   ]
  },
  {
   "cell_type": "markdown",
   "metadata": {
    "id": "ZvJTJwPfiJuh"
   },
   "source": [
    "## **Question 3:** Convolutional  Neural Networks\n",
    "\n"
   ]
  },
  {
   "cell_type": "markdown",
   "metadata": {
    "id": "vGNq6kO9t5dO"
   },
   "source": [
    "Using pytorch, build a 2d convolutional neural network with the following architecture.\n",
    "\n",
    "1. 2D Convolution mapping the 1 x L x W input to 64 feature maps\n",
    "2. 2D Convolution mapping the 64 x L x W features to 32 feature maps\n",
    "\n",
    "3. Flatten the output\n",
    "3. A dense layer mapping the flattened output to 16 nodes\n",
    "4. A final dense layer mapping the 16 nodes to 10 classes\n",
    "\n",
    "Each convolutional layer should be followed by a relu activation function then a 2D maxpool of `kernel_size` 2 and `stride` of 2\n",
    "\n",
    "Each dense layer should be followed by a relu activation"
   ]
  },
  {
   "cell_type": "code",
   "execution_count": 16,
   "metadata": {
    "colab": {
     "base_uri": "https://localhost:8080/"
    },
    "id": "MEkXK7GWiqpB",
    "outputId": "7fae54f1-b582-4745-d576-35445fc53613"
   },
   "outputs": [
    {
     "name": "stdout",
     "output_type": "stream",
     "text": [
      "Model Architecture\n",
      "CNN(\n",
      "  (conv1): Conv2d(1, 64, kernel_size=(3, 3), stride=(1, 1))\n",
      "  (pool1): MaxPool2d(kernel_size=2, stride=2, padding=0, dilation=1, ceil_mode=False)\n",
      "  (conv2): Conv2d(64, 32, kernel_size=(3, 3), stride=(1, 1))\n",
      "  (pool2): MaxPool2d(kernel_size=2, stride=2, padding=0, dilation=1, ceil_mode=False)\n",
      "  (fc1): Linear(in_features=800, out_features=84, bias=True)\n",
      "  (fc3): Linear(in_features=84, out_features=16, bias=True)\n",
      "  (fc2): Linear(in_features=16, out_features=10, bias=True)\n",
      ")\n",
      "Number of parameters: 87918.0\n"
     ]
    }
   ],
   "source": [
    "class CNN(nn.Module):\n",
    "    def __init__(self):\n",
    "        super(CNN, self).__init__()\n",
    "        # # CODE\n",
    "        # self.conv1 = nn.Conv2d(1, 64, 2) use k 3 and padding 1 because it wont change the size of image\n",
    "\n",
    "        # self.fc1 = nn.Linear((32 *2 * 2), 16)  # 28*28 from image dimension\n",
    "    \n",
    "        self.conv1 = nn.Conv2d(1, 64, 3)\n",
    "        self.pool1 = nn.MaxPool2d(2, stride=2)\n",
    "        self.conv2 = nn.Conv2d(64, 32, 3)\n",
    "        self.pool2 = nn.MaxPool2d(2, stride=2)\n",
    "        self.fc1 = nn.Linear(800, 84)\n",
    "        self.fc3 = nn.Linear(84, 16)\n",
    "        self.fc2 = nn.Linear(16, 10)\n",
    "        # an affine operation: y = Wx + b check max mpooling doc \n",
    "\n",
    "        \n",
    "        \n",
    "    def forward(self, x):\n",
    "        # CODE\n",
    "        x = self.pool1(F.relu(self.conv1(x)))\n",
    "\n",
    "        x = self.pool2(F.relu(self.conv2(x)))\n",
    "\n",
    "\n",
    "\n",
    "        x = x.view(-1, 800)\n",
    "\n",
    "        \n",
    "        x = F.relu(self.fc1(x))\n",
    "        x = F.relu(self.fc3(x))\n",
    "        x = F.relu(self.fc2(x))\n",
    "\n",
    "        x = F.log_softmax(x, dim=1)\n",
    "\n",
    "        return x\n",
    "  \n",
    "cnn = CNN().to(device)\n",
    "\n",
    "print(\"Model Architecture\")\n",
    "print(cnn)\n",
    "print(\"Number of parameters:\", count_parameters(cnn))"
   ]
  },
  {
   "cell_type": "markdown",
   "metadata": {
    "id": "NYYFhhQku67Z"
   },
   "source": [
    "Complete the following code to train the network above for 10 epochs.\n",
    "1. For your optimizer, use stochatic gradient descent (you may change this later if you would like)\n",
    "\n",
    "2. For your criterion (loss function) use Cross Entropy Loss (the one built by pytorch)\n",
    "\n",
    "**Notes and requirements:** \n",
    "- The minimum acceptable test accuracy is 90%\n",
    "- If you run your network multiple times it is possible to get very different results with each run. This is due to the random initializations.\n",
    "- You are welcome to experiment with the CNN architecture and anything else you want. You are required to experiment with different values for `learning_rate`, `momentum`, and `weight_decay` in your optimizer to improve your performance.\n",
    "- Note down your experimentations and explain how these changes impacted your performance and your understanding as to why this is the case.\n",
    "- Keep your best performing model / training method and create the same plots and testing performance as before."
   ]
  },
  {
   "cell_type": "code",
   "execution_count": 17,
   "metadata": {
    "colab": {
     "base_uri": "https://localhost:8080/"
    },
    "id": "xSu0ahzmi5kX",
    "outputId": "5403f6d1-87c1-4b4f-900b-3d27bd302456"
   },
   "outputs": [
    {
     "name": "stdout",
     "output_type": "stream",
     "text": [
      "Training on cuda:0\n",
      "Epoch  1\t\tTrain Accuracy: 87.40 %\t\tVal Accuracy: 97.39\n",
      "Epoch  2\t\tTrain Accuracy: 98.17 %\t\tVal Accuracy: 96.55\n",
      "Epoch  3\t\tTrain Accuracy: 98.68 %\t\tVal Accuracy: 98.11\n",
      "Epoch  4\t\tTrain Accuracy: 99.05 %\t\tVal Accuracy: 98.60\n",
      "Epoch  5\t\tTrain Accuracy: 99.24 %\t\tVal Accuracy: 98.89\n",
      "Epoch  6\t\tTrain Accuracy: 99.41 %\t\tVal Accuracy: 98.22\n",
      "Epoch  7\t\tTrain Accuracy: 99.53 %\t\tVal Accuracy: 98.69\n",
      "Epoch  8\t\tTrain Accuracy: 99.61 %\t\tVal Accuracy: 98.82\n",
      "Epoch  9\t\tTrain Accuracy: 99.63 %\t\tVal Accuracy: 98.93\n",
      "Epoch 10\t\tTrain Accuracy: 99.73 %\t\tVal Accuracy: 98.79\n"
     ]
    }
   ],
   "source": [
    "optimizer = optim.SGD(cnn.parameters(), lr=0.15, momentum=0.5)# CODE\n",
    "criterion = nn.CrossEntropyLoss()# CODE\n",
    "\n",
    "train_acc, train_loss = [], []\n",
    "val_acc, val_loss = [], []\n",
    "\n",
    "print(\"Training on\", device)\n",
    "for epoch in range(10):\n",
    "    \n",
    "    acc_tr, loss_tr = train(cnn, trainloader, criterion, optimizer)\n",
    "    train_loss.append(loss_tr)\n",
    "    train_acc.append(acc_tr)\n",
    "\n",
    "    acc_v, loss_v = evaluate(cnn, valloader, criterion)\n",
    "    val_loss.append(loss_v)\n",
    "    val_acc.append(acc_v)\n",
    "\n",
    "    print('Epoch %2d' % (epoch + 1),\n",
    "            'Train Accuracy: %2.2f %%' % acc_tr,\n",
    "            'Val Accuracy: %2.2f' % acc_v,\n",
    "            sep='\\t\\t')"
   ]
  },
  {
   "cell_type": "markdown",
   "metadata": {
    "id": "7OqvBcilxaKG"
   },
   "source": [
    "Plot your peroformance using `plot_metrics` then evaluate your performance on the testloader / testset"
   ]
  },
  {
   "cell_type": "code",
   "execution_count": 18,
   "metadata": {
    "colab": {
     "base_uri": "https://localhost:8080/",
     "height": 590
    },
    "id": "j6csYiqqjjMi",
    "outputId": "79f8b289-f8fe-4ff0-b79f-adb19d2e7a31"
   },
   "outputs": [
    {
     "data": {
      "image/png": "[encoded data removed]",
      "text/plain": [
       "<Figure size 432x288 with 1 Axes>"
      ]
     },
     "metadata": {
      "needs_background": "light",
      "tags": []
     },
     "output_type": "display_data"
    },
    {
     "data": {
      "image/png": "[encoded data removed]",
      "text/plain": [
       "<Figure size 432x288 with 1 Axes>"
      ]
     },
     "metadata": {
      "needs_background": "light",
      "tags": []
     },
     "output_type": "display_data"
    },
    {
     "name": "stdout",
     "output_type": "stream",
     "text": [
      "Test Accuracy: 98.79 %\t\tTest Loss: 0.000792\n"
     ]
    }
   ],
   "source": [
    "plot_metrics(train_acc, train_loss, val_acc, val_loss)\n",
    "\n",
    "acc_test, loss_test = evaluate(cnn, valloader, criterion) # CODE\n",
    "print('Test Accuracy: %2.2f %%' % acc_test,\n",
    "        'Test Loss: %2.6f' % loss_test,\n",
    "        sep='\\t\\t')"
   ]
  },
  {
   "cell_type": "code",
   "execution_count": 18,
   "metadata": {
    "id": "xxdWAliYrwL3"
   },
   "outputs": [],
   "source": []
  },
  {
   "cell_type": "markdown",
   "metadata": {
    "id": "vLuI_jUTv1Cf"
   },
   "source": [
    "**Experiementations and explainations:**\n",
    "\n",
    "I tried a lot to get this  to work. \n",
    " * I tried changing the convultional layers kernal size.\n",
    " * I tried adjusting the linear layers a bit but there wasnt a tone of diff.\n",
    " * I tried messing with the max pooling kernal size, but I would always break it. (honestly I can still never figure out the correct dimentions of the image im working with so I just do the error missmach value /64 to get my desired result. hmm maybe I could have just done (64, -1) ehh)\n",
    " * I made the learning rate more agressive, honestly only positive things have come from that in this hw \n",
    " * I added some weight decay but for any value I tried it would bring down accuracy  \n",
    " * I increased momentum. \n"
   ]
  },
  {
   "cell_type": "markdown",
   "metadata": {
    "id": "H2qU-xmXrCod"
   },
   "source": [
    "## **Question 4:** Compare your results\n"
   ]
  },
  {
   "cell_type": "markdown",
   "metadata": {
    "id": "5FcfTx67rI3u"
   },
   "source": [
    "Compare the cnn and dense networks your have built in terms of performance, runtime, accuracy, and any other factors you think are note worthy."
   ]
  },
  {
   "cell_type": "markdown",
   "metadata": {
    "id": "_re4mYVIrb_e"
   },
   "source": [
    "\n",
    "\n",
    "```\n",
    "# This is formatted as code\n",
    "```\n",
    "\n",
    "**Answer:**\n",
    "\n",
    "Based on what we learned in class im pretty sure that the convolutional NN did bettter, however, I think that my example of a CNN benefited from me doing so much testing. In general it seems like my CNN is slower at each layer but it is faster i terms of epochs it also the CNN's accuracy was consistently higher than any of the other NN I have made with pytorch. I if I had to guess I would say that the CNN was more computationally intesive. This is mostly because of the image parsing which seems like its diffucult to optomize and the large matrix that are used in the linear step. \n",
    "  \n"
   ]
  }
 ],
 "metadata": {
  "accelerator": "GPU",
  "colab": {
   "collapsed_sections": [
    "3lGwvIL2LWPq"
   ],
   "name": "EC414_HW10.ipynb",
   "provenance": [],
   "toc_visible": true
  },
  "kernelspec": {
   "display_name": "Python 3 (ipykernel)",
   "language": "python",
   "name": "python3"
  },
  "language_info": {
   "codemirror_mode": {
    "name": "ipython",
    "version": 3
   },
   "file_extension": ".py",
   "mimetype": "text/x-python",
   "name": "python",
   "nbconvert_exporter": "python",
   "pygments_lexer": "ipython3",
   "version": "3.9.7"
  },
  "widgets": {
   "application/vnd.jupyter.widget-state+json": {
    "032ad9f10ad04b04a5ffdfaac9a35425": {
     "model_module": "@jupyter-widgets/controls",
     "model_name": "DescriptionStyleModel",
     "state": {
      "_model_module": "@jupyter-widgets/controls",
      "_model_module_version": "1.5.0",
      "_model_name": "DescriptionStyleModel",
      "_view_count": null,
      "_view_module": "@jupyter-widgets/base",
      "_view_module_version": "1.2.0",
      "_view_name": "StyleView",
      "description_width": ""
     }
    },
    "04492a3f6ca84ad28dcd76dea22465bc": {
     "model_module": "@jupyter-widgets/controls",
     "model_name": "ProgressStyleModel",
     "state": {
      "_model_module": "@jupyter-widgets/controls",
      "_model_module_version": "1.5.0",
      "_model_name": "ProgressStyleModel",
      "_view_count": null,
      "_view_module": "@jupyter-widgets/base",
      "_view_module_version": "1.2.0",
      "_view_name": "StyleView",
      "bar_color": null,
      "description_width": "initial"
     }
    },
    "1297dee5882f424689ec983b1fa4dc8e": {
     "model_module": "@jupyter-widgets/base",
     "model_name": "LayoutModel",
     "state": {
      "_model_module": "@jupyter-widgets/base",
      "_model_module_version": "1.2.0",
      "_model_name": "LayoutModel",
      "_view_count": null,
      "_view_module": "@jupyter-widgets/base",
      "_view_module_version": "1.2.0",
      "_view_name": "LayoutView",
      "align_content": null,
      "align_items": null,
      "align_self": null,
      "border": null,
      "bottom": null,
      "display": null,
      "flex": null,
      "flex_flow": null,
      "grid_area": null,
      "grid_auto_columns": null,
      "grid_auto_flow": null,
      "grid_auto_rows": null,
      "grid_column": null,
      "grid_gap": null,
      "grid_row": null,
      "grid_template_areas": null,
      "grid_template_columns": null,
      "grid_template_rows": null,
      "height": null,
      "justify_content": null,
      "justify_items": null,
      "left": null,
      "margin": null,
      "max_height": null,
      "max_width": null,
      "min_height": null,
      "min_width": null,
      "object_fit": null,
      "object_position": null,
      "order": null,
      "overflow": null,
      "overflow_x": null,
      "overflow_y": null,
      "padding": null,
      "right": null,
      "top": null,
      "visibility": null,
      "width": null
     }
    },
    "27a29a9b8aeb4c31b0a025e6c8eb68e0": {
     "model_module": "@jupyter-widgets/controls",
     "model_name": "ProgressStyleModel",
     "state": {
      "_model_module": "@jupyter-widgets/controls",
      "_model_module_version": "1.5.0",
      "_model_name": "ProgressStyleModel",
      "_view_count": null,
      "_view_module": "@jupyter-widgets/base",
      "_view_module_version": "1.2.0",
      "_view_name": "StyleView",
      "bar_color": null,
      "description_width": "initial"
     }
    },
    "2a2139b862624c669459d11b04543d1c": {
     "model_module": "@jupyter-widgets/controls",
     "model_name": "HTMLModel",
     "state": {
      "_dom_classes": [],
      "_model_module": "@jupyter-widgets/controls",
      "_model_module_version": "1.5.0",
      "_model_name": "HTMLModel",
      "_view_count": null,
      "_view_module": "@jupyter-widgets/controls",
      "_view_module_version": "1.5.0",
      "_view_name": "HTMLView",
      "description": "",
      "description_tooltip": null,
      "layout": "IPY_MODEL_f021ab9b123e44538daebc9083869da0",
      "placeholder": "​",
      "style": "IPY_MODEL_032ad9f10ad04b04a5ffdfaac9a35425",
      "value": " 29696/? [00:00&lt;00:00, 180874.61it/s]"
     }
    },
    "2e822f77960c457299fa32c8fc7f8983": {
     "model_module": "@jupyter-widgets/base",
     "model_name": "LayoutModel",
     "state": {
      "_model_module": "@jupyter-widgets/base",
      "_model_module_version": "1.2.0",
      "_model_name": "LayoutModel",
      "_view_count": null,
      "_view_module": "@jupyter-widgets/base",
      "_view_module_version": "1.2.0",
      "_view_name": "LayoutView",
      "align_content": null,
      "align_items": null,
      "align_self": null,
      "border": null,
      "bottom": null,
      "display": null,
      "flex": null,
      "flex_flow": null,
      "grid_area": null,
      "grid_auto_columns": null,
      "grid_auto_flow": null,
      "grid_auto_rows": null,
      "grid_column": null,
      "grid_gap": null,
      "grid_row": null,
      "grid_template_areas": null,
      "grid_template_columns": null,
      "grid_template_rows": null,
      "height": null,
      "justify_content": null,
      "justify_items": null,
      "left": null,
      "margin": null,
      "max_height": null,
      "max_width": null,
      "min_height": null,
      "min_width": null,
      "object_fit": null,
      "object_position": null,
      "order": null,
      "overflow": null,
      "overflow_x": null,
      "overflow_y": null,
      "padding": null,
      "right": null,
      "top": null,
      "visibility": null,
      "width": null
     }
    },
    "2eb7cea118a04a569120c17af8e777ee": {
     "model_module": "@jupyter-widgets/controls",
     "model_name": "HBoxModel",
     "state": {
      "_dom_classes": [],
      "_model_module": "@jupyter-widgets/controls",
      "_model_module_version": "1.5.0",
      "_model_name": "HBoxModel",
      "_view_count": null,
      "_view_module": "@jupyter-widgets/controls",
      "_view_module_version": "1.5.0",
      "_view_name": "HBoxView",
      "box_style": "",
      "children": [
       "IPY_MODEL_3a346cc0bfdd4880a0711bf4364182de",
       "IPY_MODEL_2a2139b862624c669459d11b04543d1c"
      ],
      "layout": "IPY_MODEL_9ce0ccdaddaf406b9020ea8226552854"
     }
    },
    "36dc0f07f83d4655a059be88b9b401e4": {
     "model_module": "@jupyter-widgets/controls",
     "model_name": "ProgressStyleModel",
     "state": {
      "_model_module": "@jupyter-widgets/controls",
      "_model_module_version": "1.5.0",
      "_model_name": "ProgressStyleModel",
      "_view_count": null,
      "_view_module": "@jupyter-widgets/base",
      "_view_module_version": "1.2.0",
      "_view_name": "StyleView",
      "bar_color": null,
      "description_width": "initial"
     }
    },
    "396f2c777b7a488caf5abad1d0d79f26": {
     "model_module": "@jupyter-widgets/controls",
     "model_name": "HTMLModel",
     "state": {
      "_dom_classes": [],
      "_model_module": "@jupyter-widgets/controls",
      "_model_module_version": "1.5.0",
      "_model_name": "HTMLModel",
      "_view_count": null,
      "_view_module": "@jupyter-widgets/controls",
      "_view_module_version": "1.5.0",
      "_view_name": "HTMLView",
      "description": "",
      "description_tooltip": null,
      "layout": "IPY_MODEL_1297dee5882f424689ec983b1fa4dc8e",
      "placeholder": "​",
      "style": "IPY_MODEL_7c3529b874f54d66b5f5b0faf53d398a",
      "value": " 9913344/? [06:43&lt;00:00, 24553.05it/s]"
     }
    },
    "3a346cc0bfdd4880a0711bf4364182de": {
     "model_module": "@jupyter-widgets/controls",
     "model_name": "FloatProgressModel",
     "state": {
      "_dom_classes": [],
      "_model_module": "@jupyter-widgets/controls",
      "_model_module_version": "1.5.0",
      "_model_name": "FloatProgressModel",
      "_view_count": null,
      "_view_module": "@jupyter-widgets/controls",
      "_view_module_version": "1.5.0",
      "_view_name": "ProgressView",
      "bar_style": "success",
      "description": "",
      "description_tooltip": null,
      "layout": "IPY_MODEL_9657bc57640645dab05a80e8cdebb578",
      "max": 28881,
      "min": 0,
      "orientation": "horizontal",
      "style": "IPY_MODEL_7dd0fb88575c4b7db036ed3156f74388",
      "value": 28881
     }
    },
    "48add6cdba8e443eae1f78d0328396f5": {
     "model_module": "@jupyter-widgets/controls",
     "model_name": "HTMLModel",
     "state": {
      "_dom_classes": [],
      "_model_module": "@jupyter-widgets/controls",
      "_model_module_version": "1.5.0",
      "_model_name": "HTMLModel",
      "_view_count": null,
      "_view_module": "@jupyter-widgets/controls",
      "_view_module_version": "1.5.0",
      "_view_name": "HTMLView",
      "description": "",
      "description_tooltip": null,
      "layout": "IPY_MODEL_88e1030a32d146ee9ee7c5d4e916bf36",
      "placeholder": "​",
      "style": "IPY_MODEL_f4b8b4e0ab024768bf5e2f47496c8183",
      "value": " 5120/? [00:00&lt;00:00, 19183.84it/s]"
     }
    },
    "4d0547bfe717437fa2cc9fe89b3af856": {
     "model_module": "@jupyter-widgets/base",
     "model_name": "LayoutModel",
     "state": {
      "_model_module": "@jupyter-widgets/base",
      "_model_module_version": "1.2.0",
      "_model_name": "LayoutModel",
      "_view_count": null,
      "_view_module": "@jupyter-widgets/base",
      "_view_module_version": "1.2.0",
      "_view_name": "LayoutView",
      "align_content": null,
      "align_items": null,
      "align_self": null,
      "border": null,
      "bottom": null,
      "display": null,
      "flex": null,
      "flex_flow": null,
      "grid_area": null,
      "grid_auto_columns": null,
      "grid_auto_flow": null,
      "grid_auto_rows": null,
      "grid_column": null,
      "grid_gap": null,
      "grid_row": null,
      "grid_template_areas": null,
      "grid_template_columns": null,
      "grid_template_rows": null,
      "height": null,
      "justify_content": null,
      "justify_items": null,
      "left": null,
      "margin": null,
      "max_height": null,
      "max_width": null,
      "min_height": null,
      "min_width": null,
      "object_fit": null,
      "object_position": null,
      "order": null,
      "overflow": null,
      "overflow_x": null,
      "overflow_y": null,
      "padding": null,
      "right": null,
      "top": null,
      "visibility": null,
      "width": null
     }
    },
    "5234e683b7944b028335b4342329b623": {
     "model_module": "@jupyter-widgets/controls",
     "model_name": "DescriptionStyleModel",
     "state": {
      "_model_module": "@jupyter-widgets/controls",
      "_model_module_version": "1.5.0",
      "_model_name": "DescriptionStyleModel",
      "_view_count": null,
      "_view_module": "@jupyter-widgets/base",
      "_view_module_version": "1.2.0",
      "_view_name": "StyleView",
      "description_width": ""
     }
    },
    "593639e55ee745c7ad79c77998552b45": {
     "model_module": "@jupyter-widgets/base",
     "model_name": "LayoutModel",
     "state": {
      "_model_module": "@jupyter-widgets/base",
      "_model_module_version": "1.2.0",
      "_model_name": "LayoutModel",
      "_view_count": null,
      "_view_module": "@jupyter-widgets/base",
      "_view_module_version": "1.2.0",
      "_view_name": "LayoutView",
      "align_content": null,
      "align_items": null,
      "align_self": null,
      "border": null,
      "bottom": null,
      "display": null,
      "flex": null,
      "flex_flow": null,
      "grid_area": null,
      "grid_auto_columns": null,
      "grid_auto_flow": null,
      "grid_auto_rows": null,
      "grid_column": null,
      "grid_gap": null,
      "grid_row": null,
      "grid_template_areas": null,
      "grid_template_columns": null,
      "grid_template_rows": null,
      "height": null,
      "justify_content": null,
      "justify_items": null,
      "left": null,
      "margin": null,
      "max_height": null,
      "max_width": null,
      "min_height": null,
      "min_width": null,
      "object_fit": null,
      "object_position": null,
      "order": null,
      "overflow": null,
      "overflow_x": null,
      "overflow_y": null,
      "padding": null,
      "right": null,
      "top": null,
      "visibility": null,
      "width": null
     }
    },
    "6020d0693e1541578c85429faa5a9758": {
     "model_module": "@jupyter-widgets/controls",
     "model_name": "FloatProgressModel",
     "state": {
      "_dom_classes": [],
      "_model_module": "@jupyter-widgets/controls",
      "_model_module_version": "1.5.0",
      "_model_name": "FloatProgressModel",
      "_view_count": null,
      "_view_module": "@jupyter-widgets/controls",
      "_view_module_version": "1.5.0",
      "_view_name": "ProgressView",
      "bar_style": "success",
      "description": "",
      "description_tooltip": null,
      "layout": "IPY_MODEL_aa656338435b471193eedd2e410c5ca4",
      "max": 4542,
      "min": 0,
      "orientation": "horizontal",
      "style": "IPY_MODEL_04492a3f6ca84ad28dcd76dea22465bc",
      "value": 4542
     }
    },
    "7c3529b874f54d66b5f5b0faf53d398a": {
     "model_module": "@jupyter-widgets/controls",
     "model_name": "DescriptionStyleModel",
     "state": {
      "_model_module": "@jupyter-widgets/controls",
      "_model_module_version": "1.5.0",
      "_model_name": "DescriptionStyleModel",
      "_view_count": null,
      "_view_module": "@jupyter-widgets/base",
      "_view_module_version": "1.2.0",
      "_view_name": "StyleView",
      "description_width": ""
     }
    },
    "7dd0fb88575c4b7db036ed3156f74388": {
     "model_module": "@jupyter-widgets/controls",
     "model_name": "ProgressStyleModel",
     "state": {
      "_model_module": "@jupyter-widgets/controls",
      "_model_module_version": "1.5.0",
      "_model_name": "ProgressStyleModel",
      "_view_count": null,
      "_view_module": "@jupyter-widgets/base",
      "_view_module_version": "1.2.0",
      "_view_name": "StyleView",
      "bar_color": null,
      "description_width": "initial"
     }
    },
    "88e1030a32d146ee9ee7c5d4e916bf36": {
     "model_module": "@jupyter-widgets/base",
     "model_name": "LayoutModel",
     "state": {
      "_model_module": "@jupyter-widgets/base",
      "_model_module_version": "1.2.0",
      "_model_name": "LayoutModel",
      "_view_count": null,
      "_view_module": "@jupyter-widgets/base",
      "_view_module_version": "1.2.0",
      "_view_name": "LayoutView",
      "align_content": null,
      "align_items": null,
      "align_self": null,
      "border": null,
      "bottom": null,
      "display": null,
      "flex": null,
      "flex_flow": null,
      "grid_area": null,
      "grid_auto_columns": null,
      "grid_auto_flow": null,
      "grid_auto_rows": null,
      "grid_column": null,
      "grid_gap": null,
      "grid_row": null,
      "grid_template_areas": null,
      "grid_template_columns": null,
      "grid_template_rows": null,
      "height": null,
      "justify_content": null,
      "justify_items": null,
      "left": null,
      "margin": null,
      "max_height": null,
      "max_width": null,
      "min_height": null,
      "min_width": null,
      "object_fit": null,
      "object_position": null,
      "order": null,
      "overflow": null,
      "overflow_x": null,
      "overflow_y": null,
      "padding": null,
      "right": null,
      "top": null,
      "visibility": null,
      "width": null
     }
    },
    "8a9af1ac26474911ae3b81e60cf10c96": {
     "model_module": "@jupyter-widgets/controls",
     "model_name": "HBoxModel",
     "state": {
      "_dom_classes": [],
      "_model_module": "@jupyter-widgets/controls",
      "_model_module_version": "1.5.0",
      "_model_name": "HBoxModel",
      "_view_count": null,
      "_view_module": "@jupyter-widgets/controls",
      "_view_module_version": "1.5.0",
      "_view_name": "HBoxView",
      "box_style": "",
      "children": [
       "IPY_MODEL_935c550cc7aa42f1b2e86aed4758fd50",
       "IPY_MODEL_e020ac4198ff42e9ac19d7977cf02087"
      ],
      "layout": "IPY_MODEL_593639e55ee745c7ad79c77998552b45"
     }
    },
    "91fb242f552b44f2b323e3ce58254a16": {
     "model_module": "@jupyter-widgets/base",
     "model_name": "LayoutModel",
     "state": {
      "_model_module": "@jupyter-widgets/base",
      "_model_module_version": "1.2.0",
      "_model_name": "LayoutModel",
      "_view_count": null,
      "_view_module": "@jupyter-widgets/base",
      "_view_module_version": "1.2.0",
      "_view_name": "LayoutView",
      "align_content": null,
      "align_items": null,
      "align_self": null,
      "border": null,
      "bottom": null,
      "display": null,
      "flex": null,
      "flex_flow": null,
      "grid_area": null,
      "grid_auto_columns": null,
      "grid_auto_flow": null,
      "grid_auto_rows": null,
      "grid_column": null,
      "grid_gap": null,
      "grid_row": null,
      "grid_template_areas": null,
      "grid_template_columns": null,
      "grid_template_rows": null,
      "height": null,
      "justify_content": null,
      "justify_items": null,
      "left": null,
      "margin": null,
      "max_height": null,
      "max_width": null,
      "min_height": null,
      "min_width": null,
      "object_fit": null,
      "object_position": null,
      "order": null,
      "overflow": null,
      "overflow_x": null,
      "overflow_y": null,
      "padding": null,
      "right": null,
      "top": null,
      "visibility": null,
      "width": null
     }
    },
    "935c550cc7aa42f1b2e86aed4758fd50": {
     "model_module": "@jupyter-widgets/controls",
     "model_name": "FloatProgressModel",
     "state": {
      "_dom_classes": [],
      "_model_module": "@jupyter-widgets/controls",
      "_model_module_version": "1.5.0",
      "_model_name": "FloatProgressModel",
      "_view_count": null,
      "_view_module": "@jupyter-widgets/controls",
      "_view_module_version": "1.5.0",
      "_view_name": "ProgressView",
      "bar_style": "success",
      "description": "",
      "description_tooltip": null,
      "layout": "IPY_MODEL_2e822f77960c457299fa32c8fc7f8983",
      "max": 1648877,
      "min": 0,
      "orientation": "horizontal",
      "style": "IPY_MODEL_36dc0f07f83d4655a059be88b9b401e4",
      "value": 1648877
     }
    },
    "9657bc57640645dab05a80e8cdebb578": {
     "model_module": "@jupyter-widgets/base",
     "model_name": "LayoutModel",
     "state": {
      "_model_module": "@jupyter-widgets/base",
      "_model_module_version": "1.2.0",
      "_model_name": "LayoutModel",
      "_view_count": null,
      "_view_module": "@jupyter-widgets/base",
      "_view_module_version": "1.2.0",
      "_view_name": "LayoutView",
      "align_content": null,
      "align_items": null,
      "align_self": null,
      "border": null,
      "bottom": null,
      "display": null,
      "flex": null,
      "flex_flow": null,
      "grid_area": null,
      "grid_auto_columns": null,
      "grid_auto_flow": null,
      "grid_auto_rows": null,
      "grid_column": null,
      "grid_gap": null,
      "grid_row": null,
      "grid_template_areas": null,
      "grid_template_columns": null,
      "grid_template_rows": null,
      "height": null,
      "justify_content": null,
      "justify_items": null,
      "left": null,
      "margin": null,
      "max_height": null,
      "max_width": null,
      "min_height": null,
      "min_width": null,
      "object_fit": null,
      "object_position": null,
      "order": null,
      "overflow": null,
      "overflow_x": null,
      "overflow_y": null,
      "padding": null,
      "right": null,
      "top": null,
      "visibility": null,
      "width": null
     }
    },
    "967336e8179642f3b3a8c06b71afb083": {
     "model_module": "@jupyter-widgets/controls",
     "model_name": "HBoxModel",
     "state": {
      "_dom_classes": [],
      "_model_module": "@jupyter-widgets/controls",
      "_model_module_version": "1.5.0",
      "_model_name": "HBoxModel",
      "_view_count": null,
      "_view_module": "@jupyter-widgets/controls",
      "_view_module_version": "1.5.0",
      "_view_name": "HBoxView",
      "box_style": "",
      "children": [
       "IPY_MODEL_6020d0693e1541578c85429faa5a9758",
       "IPY_MODEL_48add6cdba8e443eae1f78d0328396f5"
      ],
      "layout": "IPY_MODEL_4d0547bfe717437fa2cc9fe89b3af856"
     }
    },
    "9ce0ccdaddaf406b9020ea8226552854": {
     "model_module": "@jupyter-widgets/base",
     "model_name": "LayoutModel",
     "state": {
      "_model_module": "@jupyter-widgets/base",
      "_model_module_version": "1.2.0",
      "_model_name": "LayoutModel",
      "_view_count": null,
      "_view_module": "@jupyter-widgets/base",
      "_view_module_version": "1.2.0",
      "_view_name": "LayoutView",
      "align_content": null,
      "align_items": null,
      "align_self": null,
      "border": null,
      "bottom": null,
      "display": null,
      "flex": null,
      "flex_flow": null,
      "grid_area": null,
      "grid_auto_columns": null,
      "grid_auto_flow": null,
      "grid_auto_rows": null,
      "grid_column": null,
      "grid_gap": null,
      "grid_row": null,
      "grid_template_areas": null,
      "grid_template_columns": null,
      "grid_template_rows": null,
      "height": null,
      "justify_content": null,
      "justify_items": null,
      "left": null,
      "margin": null,
      "max_height": null,
      "max_width": null,
      "min_height": null,
      "min_width": null,
      "object_fit": null,
      "object_position": null,
      "order": null,
      "overflow": null,
      "overflow_x": null,
      "overflow_y": null,
      "padding": null,
      "right": null,
      "top": null,
      "visibility": null,
      "width": null
     }
    },
    "a57df46fddb14f73a04d71fa5a6ed26a": {
     "model_module": "@jupyter-widgets/base",
     "model_name": "LayoutModel",
     "state": {
      "_model_module": "@jupyter-widgets/base",
      "_model_module_version": "1.2.0",
      "_model_name": "LayoutModel",
      "_view_count": null,
      "_view_module": "@jupyter-widgets/base",
      "_view_module_version": "1.2.0",
      "_view_name": "LayoutView",
      "align_content": null,
      "align_items": null,
      "align_self": null,
      "border": null,
      "bottom": null,
      "display": null,
      "flex": null,
      "flex_flow": null,
      "grid_area": null,
      "grid_auto_columns": null,
      "grid_auto_flow": null,
      "grid_auto_rows": null,
      "grid_column": null,
      "grid_gap": null,
      "grid_row": null,
      "grid_template_areas": null,
      "grid_template_columns": null,
      "grid_template_rows": null,
      "height": null,
      "justify_content": null,
      "justify_items": null,
      "left": null,
      "margin": null,
      "max_height": null,
      "max_width": null,
      "min_height": null,
      "min_width": null,
      "object_fit": null,
      "object_position": null,
      "order": null,
      "overflow": null,
      "overflow_x": null,
      "overflow_y": null,
      "padding": null,
      "right": null,
      "top": null,
      "visibility": null,
      "width": null
     }
    },
    "aa656338435b471193eedd2e410c5ca4": {
     "model_module": "@jupyter-widgets/base",
     "model_name": "LayoutModel",
     "state": {
      "_model_module": "@jupyter-widgets/base",
      "_model_module_version": "1.2.0",
      "_model_name": "LayoutModel",
      "_view_count": null,
      "_view_module": "@jupyter-widgets/base",
      "_view_module_version": "1.2.0",
      "_view_name": "LayoutView",
      "align_content": null,
      "align_items": null,
      "align_self": null,
      "border": null,
      "bottom": null,
      "display": null,
      "flex": null,
      "flex_flow": null,
      "grid_area": null,
      "grid_auto_columns": null,
      "grid_auto_flow": null,
      "grid_auto_rows": null,
      "grid_column": null,
      "grid_gap": null,
      "grid_row": null,
      "grid_template_areas": null,
      "grid_template_columns": null,
      "grid_template_rows": null,
      "height": null,
      "justify_content": null,
      "justify_items": null,
      "left": null,
      "margin": null,
      "max_height": null,
      "max_width": null,
      "min_height": null,
      "min_width": null,
      "object_fit": null,
      "object_position": null,
      "order": null,
      "overflow": null,
      "overflow_x": null,
      "overflow_y": null,
      "padding": null,
      "right": null,
      "top": null,
      "visibility": null,
      "width": null
     }
    },
    "cfdf64fbf1fe4471bbfc0a72ba202644": {
     "model_module": "@jupyter-widgets/controls",
     "model_name": "HBoxModel",
     "state": {
      "_dom_classes": [],
      "_model_module": "@jupyter-widgets/controls",
      "_model_module_version": "1.5.0",
      "_model_name": "HBoxModel",
      "_view_count": null,
      "_view_module": "@jupyter-widgets/controls",
      "_view_module_version": "1.5.0",
      "_view_name": "HBoxView",
      "box_style": "",
      "children": [
       "IPY_MODEL_d2c7b9f1512b49c0a54edac11c479b58",
       "IPY_MODEL_396f2c777b7a488caf5abad1d0d79f26"
      ],
      "layout": "IPY_MODEL_a57df46fddb14f73a04d71fa5a6ed26a"
     }
    },
    "d2c7b9f1512b49c0a54edac11c479b58": {
     "model_module": "@jupyter-widgets/controls",
     "model_name": "FloatProgressModel",
     "state": {
      "_dom_classes": [],
      "_model_module": "@jupyter-widgets/controls",
      "_model_module_version": "1.5.0",
      "_model_name": "FloatProgressModel",
      "_view_count": null,
      "_view_module": "@jupyter-widgets/controls",
      "_view_module_version": "1.5.0",
      "_view_name": "ProgressView",
      "bar_style": "success",
      "description": "",
      "description_tooltip": null,
      "layout": "IPY_MODEL_ffd79a88784840efb3f99781fe44b6dc",
      "max": 9912422,
      "min": 0,
      "orientation": "horizontal",
      "style": "IPY_MODEL_27a29a9b8aeb4c31b0a025e6c8eb68e0",
      "value": 9912422
     }
    },
    "e020ac4198ff42e9ac19d7977cf02087": {
     "model_module": "@jupyter-widgets/controls",
     "model_name": "HTMLModel",
     "state": {
      "_dom_classes": [],
      "_model_module": "@jupyter-widgets/controls",
      "_model_module_version": "1.5.0",
      "_model_name": "HTMLModel",
      "_view_count": null,
      "_view_module": "@jupyter-widgets/controls",
      "_view_module_version": "1.5.0",
      "_view_name": "HTMLView",
      "description": "",
      "description_tooltip": null,
      "layout": "IPY_MODEL_91fb242f552b44f2b323e3ce58254a16",
      "placeholder": "​",
      "style": "IPY_MODEL_5234e683b7944b028335b4342329b623",
      "value": " 1649664/? [01:14&lt;00:00, 22290.34it/s]"
     }
    },
    "f021ab9b123e44538daebc9083869da0": {
     "model_module": "@jupyter-widgets/base",
     "model_name": "LayoutModel",
     "state": {
      "_model_module": "@jupyter-widgets/base",
      "_model_module_version": "1.2.0",
      "_model_name": "LayoutModel",
      "_view_count": null,
      "_view_module": "@jupyter-widgets/base",
      "_view_module_version": "1.2.0",
      "_view_name": "LayoutView",
      "align_content": null,
      "align_items": null,
      "align_self": null,
      "border": null,
      "bottom": null,
      "display": null,
      "flex": null,
      "flex_flow": null,
      "grid_area": null,
      "grid_auto_columns": null,
      "grid_auto_flow": null,
      "grid_auto_rows": null,
      "grid_column": null,
      "grid_gap": null,
      "grid_row": null,
      "grid_template_areas": null,
      "grid_template_columns": null,
      "grid_template_rows": null,
      "height": null,
      "justify_content": null,
      "justify_items": null,
      "left": null,
      "margin": null,
      "max_height": null,
      "max_width": null,
      "min_height": null,
      "min_width": null,
      "object_fit": null,
      "object_position": null,
      "order": null,
      "overflow": null,
      "overflow_x": null,
      "overflow_y": null,
      "padding": null,
      "right": null,
      "top": null,
      "visibility": null,
      "width": null
     }
    },
    "f4b8b4e0ab024768bf5e2f47496c8183": {
     "model_module": "@jupyter-widgets/controls",
     "model_name": "DescriptionStyleModel",
     "state": {
      "_model_module": "@jupyter-widgets/controls",
      "_model_module_version": "1.5.0",
      "_model_name": "DescriptionStyleModel",
      "_view_count": null,
      "_view_module": "@jupyter-widgets/base",
      "_view_module_version": "1.2.0",
      "_view_name": "StyleView",
      "description_width": ""
     }
    },
    "ffd79a88784840efb3f99781fe44b6dc": {
     "model_module": "@jupyter-widgets/base",
     "model_name": "LayoutModel",
     "state": {
      "_model_module": "@jupyter-widgets/base",
      "_model_module_version": "1.2.0",
      "_model_name": "LayoutModel",
      "_view_count": null,
      "_view_module": "@jupyter-widgets/base",
      "_view_module_version": "1.2.0",
      "_view_name": "LayoutView",
      "align_content": null,
      "align_items": null,
      "align_self": null,
      "border": null,
      "bottom": null,
      "display": null,
      "flex": null,
      "flex_flow": null,
      "grid_area": null,
      "grid_auto_columns": null,
      "grid_auto_flow": null,
      "grid_auto_rows": null,
      "grid_column": null,
      "grid_gap": null,
      "grid_row": null,
      "grid_template_areas": null,
      "grid_template_columns": null,
      "grid_template_rows": null,
      "height": null,
      "justify_content": null,
      "justify_items": null,
      "left": null,
      "margin": null,
      "max_height": null,
      "max_width": null,
      "min_height": null,
      "min_width": null,
      "object_fit": null,
      "object_position": null,
      "order": null,
      "overflow": null,
      "overflow_x": null,
      "overflow_y": null,
      "padding": null,
      "right": null,
      "top": null,
      "visibility": null,
      "width": null
     }
    }
   }
  }
 },
 "nbformat": 4,
 "nbformat_minor": 1
}
