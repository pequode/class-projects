{
 "cells": [
  {
   "cell_type": "code",
   "execution_count": 43,
   "metadata": {},
   "outputs": [
    {
     "name": "stdout",
     "output_type": "stream",
     "text": [
      "Your Computer IP Address is:127.0.1.1\n"
     ]
    }
   ],
   "source": [
    "import scipy\n",
    "import numpy\n",
    "import matplotlib\n",
    "import ipaddress\n",
    "import socket    \n",
    "hostname = socket.gethostname()    \n",
    "IPAddr = socket.gethostbyname(hostname)    \n",
    "\n",
    "print(\"Your Computer IP Address is:\" + IPAddr)    "
   ]
  },
  {
   "cell_type": "code",
   "execution_count": 18,
   "metadata": {},
   "outputs": [],
   "source": [
    "def iptobinary(ip):\n",
    "    temp = ip.split(\".\",-1)\n",
    "    decimalNum = [int(i) for i in temp]\n",
    "    for i in decimalNum:\n",
    "        print(bin(i))\n",
    "    return decimalNum\n",
    "def networkType(ip):\n",
    "    temp = ip.split(\".\",-1)\n",
    "    decimalNum = [int(i) for i in temp]\n",
    "    NetClass = \"-f\"\n",
    "    subnet = \"2.2.2.2\"\n",
    "    bollcheck = True\n",
    "    if(decimalNum[0]<128):\n",
    "        bollcheck =False\n",
    "        NetClass =\"A\"\n",
    "        subnet = \"255.0.0.0\"#/8\n",
    "    if(decimalNum[0]<192 and bollcheck):\n",
    "        bollcheck =False\n",
    "        NetClass =\"B\"\n",
    "        subnet = \"255.255.0.0\"#/16\n",
    "    if(decimalNum[0]<224 and bollcheck):\n",
    "        bollcheck =False\n",
    "        NetClass =\"C\"\n",
    "        subnet = \"255.255.255.0\"#/24\n",
    "    if(decimalNum[0]<240 and bollcheck):\n",
    "        bollcheck =False\n",
    "        NetClass =\"D\"\n",
    "        subnet = \"multicast\"\n",
    "    if(decimalNum[0]<256 and bollcheck):\n",
    "        bollcheck =False\n",
    "        NetClass =\"E\"\n",
    "        subnet = \"experimental\"\n",
    "    print (NetClass,subnet)"
   ]
  },
  {
   "cell_type": "code",
   "execution_count": 26,
   "metadata": {},
   "outputs": [
    {
     "name": "stdout",
     "output_type": "stream",
     "text": [
      "0b10010111\n",
      "0b11001111\n",
      "0b1011011\n",
      "0b0\n",
      "A 255.0.0.0\n"
     ]
    }
   ],
   "source": [
    "\n",
    "iptobinary(\"151.207.91.0\")\n",
    "networkType(\"75.68.178.132\")"
   ]
  },
  {
   "cell_type": "code",
   "execution_count": null,
   "metadata": {},
   "outputs": [],
   "source": [
    "#error codes\n",
    "#Parity Bit code make an even number of ones happen given k \n",
    "\n",
    "codewordN = 1 \n",
    "dataK = 1\n",
    "efficencyrate =  dataK/codewordN"
   ]
  },
  {
   "cell_type": "code",
   "execution_count": 41,
   "metadata": {},
   "outputs": [
    {
     "data": {
      "text/plain": [
       "4.0"
      ]
     },
     "execution_count": 41,
     "metadata": {},
     "output_type": "execute_result"
    }
   ],
   "source": [
    "#exam math\n",
    "#p2\n",
    "32-24 #256\n",
    "32-20\n",
    "2**8\n",
    "2**12\n",
    "4096/256\n",
    "\n",
    "32-26\n",
    "32-27\n",
    "10+256+12\n",
    "2**9\n",
    "32-9\n",
    "124/32\n",
    "2**7/32\n"
   ]
  },
  {
   "cell_type": "code",
   "execution_count": 42,
   "metadata": {},
   "outputs": [
    {
     "data": {
      "text/plain": [
       "96"
      ]
     },
     "execution_count": 42,
     "metadata": {},
     "output_type": "execute_result"
    }
   ],
   "source": [
    "64+32"
   ]
  },
  {
   "cell_type": "code",
   "execution_count": null,
   "metadata": {},
   "outputs": [],
   "source": []
  }
 ],
 "metadata": {
  "kernelspec": {
   "display_name": "Python 3 (ipykernel)",
   "language": "python",
   "name": "python3"
  },
  "language_info": {
   "codemirror_mode": {
    "name": "ipython",
    "version": 3
   },
   "file_extension": ".py",
   "mimetype": "text/x-python",
   "name": "python",
   "nbconvert_exporter": "python",
   "pygments_lexer": "ipython3",
   "version": "3.9.7"
  }
 },
 "nbformat": 4,
 "nbformat_minor": 4
}
