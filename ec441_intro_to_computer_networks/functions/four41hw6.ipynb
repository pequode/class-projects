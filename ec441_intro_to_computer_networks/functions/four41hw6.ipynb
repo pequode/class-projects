{
 "cells": [
  {
   "cell_type": "code",
   "execution_count": 20,
   "metadata": {},
   "outputs": [
    {
     "name": "stdout",
     "output_type": "stream",
     "text": [
      "0.00891073890752081\n",
      "1.0028499352122834e-09\n"
     ]
    }
   ],
   "source": [
    "#q 1\n",
    "p1e = 0.01\n",
    "Z =  0.99**10 + p1e\n",
    "pe = -((Z**(10**-1)) -1)\n",
    "print(pe)\n",
    "print ((2*10**-6.3 + 3 * 10**-9.8)/1000)"
   ]
  },
  {
   "cell_type": "code",
   "execution_count": 12,
   "metadata": {},
   "outputs": [
    {
     "name": "stdout",
     "output_type": "stream",
     "text": [
      "000\n"
     ]
    }
   ],
   "source": [
    "#q 2\n",
    "#000\n",
    "print (\"000\")"
   ]
  },
  {
   "cell_type": "code",
   "execution_count": null,
   "metadata": {},
   "outputs": [],
   "source": [
    "#q 3 \n",
    "#9.83\n",
    "#0.5\n",
    "print(\"8.94\")"
   ]
  },
  {
   "cell_type": "code",
   "execution_count": 11,
   "metadata": {},
   "outputs": [
    {
     "name": "stdout",
     "output_type": "stream",
     "text": [
      "14\n"
     ]
    }
   ],
   "source": [
    "#q 4 \n",
    "octets = 1500 \n",
    "bits = octets *8\n",
    "k = 0 #number of bits without redundancy \n",
    "n = bits# ber of total bits \n",
    "left = (2**k)*(1+n)\n",
    "right = 2**n\n",
    "for i in range(bits):\n",
    "    left = (2**k)*(1+n)\n",
    "    right = 2**n\n",
    "    if left > right:\n",
    "        k= k-1\n",
    "        break\n",
    "    else: \n",
    "        k= k+1\n",
    "print (n-k)"
   ]
  },
  {
   "cell_type": "code",
   "execution_count": 10,
   "metadata": {},
   "outputs": [
    {
     "name": "stdout",
     "output_type": "stream",
     "text": [
      "7\n"
     ]
    }
   ],
   "source": [
    "#q 5\n",
    "dmin = 9 \n",
    "ec = 1 \n",
    "print(dmin-1-ec)"
   ]
  },
  {
   "cell_type": "code",
   "execution_count": null,
   "metadata": {},
   "outputs": [],
   "source": []
  }
 ],
 "metadata": {
  "kernelspec": {
   "display_name": "Python 3 (ipykernel)",
   "language": "python",
   "name": "python3"
  },
  "language_info": {
   "codemirror_mode": {
    "name": "ipython",
    "version": 3
   },
   "file_extension": ".py",
   "mimetype": "text/x-python",
   "name": "python",
   "nbconvert_exporter": "python",
   "pygments_lexer": "ipython3",
   "version": "3.9.7"
  }
 },
 "nbformat": 4,
 "nbformat_minor": 4
}
